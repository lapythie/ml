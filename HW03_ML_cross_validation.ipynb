{
  "nbformat": 4,
  "nbformat_minor": 0,
  "metadata": {
    "colab": {
      "name": "HW03_ML.ipynb",
      "provenance": [],
      "collapsed_sections": [
        "vAv315zRUToD",
        "KdCrCKrYVo4L",
        "yXm4NUb_7ReW"
      ],
      "authorship_tag": "ABX9TyO9BoBpP9XrzOVCprFLX3P3",
      "include_colab_link": true
    },
    "kernelspec": {
      "name": "python3",
      "display_name": "Python 3"
    }
  },
  "cells": [
    {
      "cell_type": "markdown",
      "metadata": {
        "id": "view-in-github",
        "colab_type": "text"
      },
      "source": [
        "<a href=\"https://colab.research.google.com/github/lapythie/ml/blob/master/HW03_ML.ipynb\" target=\"_parent\"><img src=\"https://colab.research.google.com/assets/colab-badge.svg\" alt=\"Open In Colab\"/></a>"
      ]
    },
    {
      "cell_type": "markdown",
      "metadata": {
        "id": "In1r5iX1ysk6",
        "colab_type": "text"
      },
      "source": [
        "# Домашка № 3.\n"
      ]
    },
    {
      "cell_type": "code",
      "metadata": {
        "id": "4Y_1jcFii0sW",
        "colab_type": "code",
        "colab": {
          "base_uri": "https://localhost:8080/",
          "height": 71
        },
        "outputId": "86d17051-681a-4962-af50-47c618449df4"
      },
      "source": [
        "import numpy as np\n",
        "import pandas as pd\n",
        "from sklearn.metrics import * # roc_auc_score, roc_curve\n",
        "from matplotlib import pyplot\n",
        "\n",
        "from sklearn.datasets import fetch_20newsgroups\n",
        "from sklearn.feature_extraction.text import CountVectorizer\n",
        "\n",
        "import seaborn as sns\n",
        "import matplotlib.pyplot as plt\n",
        "%matplotlib inline\n",
        "\n",
        "from warnings import filterwarnings\n",
        "filterwarnings('ignore')"
      ],
      "execution_count": 1,
      "outputs": [
        {
          "output_type": "stream",
          "text": [
            "/usr/local/lib/python3.6/dist-packages/statsmodels/tools/_testing.py:19: FutureWarning: pandas.util.testing is deprecated. Use the functions in the public API at pandas.testing instead.\n",
            "  import pandas.util.testing as tm\n"
          ],
          "name": "stderr"
        }
      ]
    },
    {
      "cell_type": "code",
      "metadata": {
        "id": "zuefNqx9Z16O",
        "colab_type": "code",
        "colab": {}
      },
      "source": [
        "from sklearn.model_selection import train_test_split, RepeatedStratifiedKFold, StratifiedKFold, KFold, cross_val_score, GridSearchCV\n",
        "from sklearn.linear_model import LogisticRegression\n",
        "from sklearn.svm import LinearSVC\n",
        "from sklearn.naive_bayes import MultinomialNB\n",
        "from sklearn.linear_model import SGDClassifier"
      ],
      "execution_count": 0,
      "outputs": []
    },
    {
      "cell_type": "code",
      "metadata": {
        "id": "8WswdSAlUew_",
        "colab_type": "code",
        "colab": {}
      },
      "source": [
        "def metrics_func(y_true, y_predicted, average):\n",
        "    acc = accuracy_score(y_true, y_predicted)\n",
        "    macro_f1 = f1_score(y_true, y_predicted, average = average)\n",
        "    macro_p = precision_score(y_true, y_predicted, average = average)\n",
        "    macro_r = recall_score(y_true, y_predicted, average = average)\n",
        "    # print('acc={0:1.4f}'.format(acc))\n",
        "    print('macro F1={0:1.4f}, macro P={1:1.4f}, macro R={2:1.4f}\\\n",
        "    '.format(macro_f1, macro_p, macro_r))\n",
        "    # return acc, macro_f1, macro_p, macro_r\n",
        "\n",
        "def heatmap_func(y_true, y_predicted, categories):\n",
        "    sns.heatmap(data=confusion_matrix(y_true, y_predicted), \n",
        "                annot=True, fmt=\"d\", cbar=False, xticklabels=categories, \n",
        "                yticklabels=categories)\n",
        "    plt.title(\"Confusion matrix\")\n",
        "    return plt.show()"
      ],
      "execution_count": 0,
      "outputs": []
    },
    {
      "cell_type": "markdown",
      "metadata": {
        "id": "42WaFHuzy70P",
        "colab_type": "text"
      },
      "source": [
        "Возьмите четыре любые темы из корпуса 20newsgroups\n",
        "\n",
        "(постарайтесть брать не слишком похожие, и не слишком разные темы)."
      ]
    },
    {
      "cell_type": "code",
      "metadata": {
        "colab_type": "code",
        "nbpresent": {
          "id": "b9ad985b-3687-465e-b5f1-5e5a8b0028a4"
        },
        "id": "1z_qD6NdcSu9",
        "colab": {
          "base_uri": "https://localhost:8080/",
          "height": 51
        },
        "outputId": "fd59076f-4494-402e-cf32-85d90d8ac812"
      },
      "source": [
        "categories = ['sci.crypt', 'sci.electronics', 'sci.med', 'sci.space']\n",
        "twenty_train = fetch_20newsgroups(subset='train', categories=categories,\n",
        "                                  shuffle=True, random_state=0)\n",
        "twenty_test = fetch_20newsgroups(subset='test', categories=categories, \n",
        "                                 shuffle=True, random_state=0)"
      ],
      "execution_count": 7,
      "outputs": [
        {
          "output_type": "stream",
          "text": [
            "Downloading 20news dataset. This may take a few minutes.\n",
            "Downloading dataset from https://ndownloader.figshare.com/files/5975967 (14 MB)\n"
          ],
          "name": "stderr"
        }
      ]
    },
    {
      "cell_type": "markdown",
      "metadata": {
        "id": "IUkcMxenzCf-",
        "colab_type": "text"
      },
      "source": [
        "Векторизуйте датасет с помощью CountVectorizer."
      ]
    },
    {
      "cell_type": "code",
      "metadata": {
        "id": "wzE58BFSWvvq",
        "colab_type": "code",
        "colab": {}
      },
      "source": [
        "def vectorize(max_doc_freq=1.0, min_doc_freq=1, \n",
        "              no_accents=None, st_words=None, ngrams=(1,1),\n",
        "              x_train_data=twenty_train.data, \n",
        "              x_test_data=twenty_test.data):\n",
        "    count_vect = CountVectorizer(strip_accents=no_accents, \n",
        "                                 ngram_range=ngrams, stop_words=st_words, \n",
        "                                 max_df=max_doc_freq, min_df=min_doc_freq)\n",
        "    X_train_c = count_vect.fit_transform(twenty_train.data)\n",
        "    print('X_train_counts.shape', X_train_c.shape)\n",
        "    X_test_c = count_vect.transform(twenty_test.data)\n",
        "    print('X_test.shape', X_test_c.shape)\n",
        "    return X_train_c, X_test_c"
      ],
      "execution_count": 0,
      "outputs": []
    },
    {
      "cell_type": "code",
      "metadata": {
        "colab_type": "code",
        "id": "fl3eW8nNtBT1",
        "nbpresent": {
          "id": "c61eae59-38c2-43dc-8b1a-03c2661a8aea"
        },
        "outputId": "da69911d-19f7-49e4-f06a-0e4472afa92a",
        "colab": {
          "base_uri": "https://localhost:8080/",
          "height": 51
        }
      },
      "source": [
        "X_train_counts, X_test = vectorize(x_train_data=twenty_train.data, \n",
        "                                   x_test_data=twenty_test.data)"
      ],
      "execution_count": 12,
      "outputs": [
        {
          "output_type": "stream",
          "text": [
            "X_train_counts.shape (2373, 38683)\n",
            "X_test.shape (1579, 38683)\n"
          ],
          "name": "stdout"
        }
      ]
    },
    {
      "cell_type": "markdown",
      "metadata": {
        "id": "zAbrXHw1a7op",
        "colab_type": "text"
      },
      "source": [
        "##Grid search"
      ]
    },
    {
      "cell_type": "markdown",
      "metadata": {
        "id": "6vhHEcSwzIZv",
        "colab_type": "text"
      },
      "source": [
        "Выберите три любых классификатора.\n",
        "Используя кроссвалидацию (любой вариант из KFold, StratifiedKFold, RepeatedStratifiedKFold), подберите оптимальные параметры моделей с помощью grid_search.\n",
        "\n",
        "Обучите классификаторы с оптимальными параметрами.\n",
        "Оцените полученные классификаторы на тесте, мера качества - macro_f1.\n",
        "Посмотрите, насколько полученные результаты на тесте отличаются от результатов предсказания на трейне? - 3 балла"
      ]
    },
    {
      "cell_type": "code",
      "metadata": {
        "id": "InFSpuMXkuWX",
        "colab_type": "code",
        "colab": {}
      },
      "source": [
        "repeated_folds = fold(nfolds=3)[2]\n",
        "#important"
      ],
      "execution_count": 0,
      "outputs": []
    },
    {
      "cell_type": "code",
      "metadata": {
        "id": "fhVypYorWgNh",
        "colab_type": "code",
        "colab": {}
      },
      "source": [
        "def gs_func(clf, parameter_grid, cv, scoring='f1_macro'):\n",
        "    grid_search = GridSearchCV(clf, parameter_grid, scoring, cv=cv)\n",
        "    grid_search.fit(X_train_counts, twenty_train.target)\n",
        "\n",
        "    predicted_test = grid_search.predict(X_test)\n",
        "    f1_best_estimator_test = f1_score(twenty_test.target, \n",
        "                                        predicted_test, average = 'macro')\n",
        "\n",
        "    print('Best parameters: {}'.format(grid_search.best_params_))  \n",
        "    print('Mean cross-validated score of the best_estimator: {}\\\n",
        "    '.format(grid_search.best_score_))\n",
        "    print('Результаты на тесте. Score:\\t\\t\\t {}\\\n",
        "    '.format(f1_best_estimator_test))\n",
        "    \n",
        "    return grid_search\n",
        "\n",
        "def fold(nfolds=3, random_st=0, nrepeats=20, if_shuffle=True):\n",
        "    folds = KFold(n_splits=nfolds, shuffle=if_shuffle, \n",
        "                  random_state=random_st)\n",
        "    stratified_folds = StratifiedKFold(n_splits=nfolds, \n",
        "                                       shuffle=if_shuffle, \n",
        "                                       random_state=random_st)\n",
        "    repeated_folds = RepeatedStratifiedKFold(\n",
        "        n_splits=nfolds, n_repeats=nrepeats, random_state=random_st)\n",
        "    return folds, stratified_folds, repeated_folds\n",
        "\n",
        "def best_results(classifier, folds_type, \n",
        "                 params, train_counts=X_train_counts, \n",
        "                 train_target=twenty_train.target):\n",
        "    lsvc_gs = gs_func(clf=classifier, parameter_grid=params, \n",
        "                      cv=folds_type, scoring='f1_macro')\n",
        "    predicted_train = lsvc_gs.predict(train_counts)\n",
        "    print ('\\nРезультаты на трейне:')\n",
        "    metrics_func(train_target, predicted_train, 'macro')"
      ],
      "execution_count": 0,
      "outputs": []
    },
    {
      "cell_type": "markdown",
      "metadata": {
        "id": "xagXYFw00jxW",
        "colab_type": "text"
      },
      "source": [
        "## LogisticRegression"
      ]
    },
    {
      "cell_type": "code",
      "metadata": {
        "colab_type": "code",
        "id": "-wAmHq1MtBUW",
        "nbpresent": {
          "id": "df977cc2-ab45-4767-9ed7-d00bf9a37d21"
        },
        "outputId": "701d57c6-09a8-4502-86a5-566d669118aa",
        "colab": {
          "base_uri": "https://localhost:8080/",
          "height": 332
        }
      },
      "source": [
        "clf = LogisticRegression(max_iter=1000, multi_class='ovr').fit(X_train_counts, twenty_train.target)\n",
        "predicted = clf.predict(X_test)\n",
        "metrics_func(twenty_test.target, predicted, 'macro')\n",
        "heatmap_func(twenty_test.target, predicted, categories)"
      ],
      "execution_count": 0,
      "outputs": [
        {
          "output_type": "stream",
          "text": [
            "acc=0.9025\n",
            "macro F1=0.9036, macro P=0.9084,     macro R=0.9025\n",
            "\n"
          ],
          "name": "stdout"
        },
        {
          "output_type": "display_data",
          "data": {
            "image/png": "[encoded data removed]",
            "text/plain": [
              "<Figure size 432x288 with 1 Axes>"
            ]
          },
          "metadata": {
            "tags": [],
            "needs_background": "light"
          }
        }
      ]
    },
    {
      "cell_type": "code",
      "metadata": {
        "id": "mlZVJhf1h8KI",
        "colab_type": "code",
        "outputId": "d9b52951-3b8b-452c-afcf-4bd5e88efcfc",
        "colab": {
          "base_uri": "https://localhost:8080/",
          "height": 122
        }
      },
      "source": [
        "%%time\n",
        "parameter_grid = {\n",
        "    'C' : [4.5, 5, 5.5], #or more\n",
        "    'class_weight' : [None], \n",
        "    'fit_intercept' : [True], \n",
        "    # 'intercept_scaling', \n",
        "    # 'l1_ratio' : [x/10 for x in range (0,11)], #only elasticnet\n",
        "    'max_iter' : [50, 300], #or less\n",
        "    'penalty' : [\n",
        "                 'l1', \n",
        "                 'l2', \n",
        "                 ], \n",
        "    'random_state' : [0],\n",
        "    'solver' : [ \n",
        "                'liblinear'],\n",
        "    'warm_start' : [False]\n",
        "}\n",
        "lr_gs = gs_func(LogisticRegression(), parameter_grid, cv=repeated_folds, scoring='f1_macro')"
      ],
      "execution_count": 0,
      "outputs": [
        {
          "output_type": "stream",
          "text": [
            "Best parameters: {'C': 5, 'class_weight': None, 'fit_intercept': True, 'max_iter': 50, 'penalty': 'l2', 'random_state': 0, 'solver': 'liblinear', 'warm_start': False}\n",
            "Результаты на трейне.     Best score: 0.9474940019911847\n",
            "Результаты на тесте. Score: 0.9074864666157714\n",
            "CPU times: user 15min 53s, sys: 4min 1s, total: 19min 54s\n",
            "Wall time: 15min 1s\n"
          ],
          "name": "stdout"
        }
      ]
    },
    {
      "cell_type": "code",
      "metadata": {
        "id": "f_T7fUZo9esy",
        "colab_type": "code",
        "outputId": "eb7fe256-721c-40c4-ecdc-93e044c8d4d3",
        "colab": {
          "base_uri": "https://localhost:8080/",
          "height": 68
        }
      },
      "source": [
        "predicted_train = lr_gs.predict(X_train_counts)\n",
        "metrics_func(twenty_train.target, predicted_train, 'macro')"
      ],
      "execution_count": 0,
      "outputs": [
        {
          "output_type": "stream",
          "text": [
            "acc=1.0000\n",
            "macro F1=1.0000, macro P=1.0000,     macro R=1.0000\n",
            "\n"
          ],
          "name": "stdout"
        }
      ]
    },
    {
      "cell_type": "markdown",
      "metadata": {
        "id": "QuhCA0jM98sF",
        "colab_type": "text"
      },
      "source": [
        "Переобучение!"
      ]
    },
    {
      "cell_type": "markdown",
      "metadata": {
        "id": "yXm4NUb_7ReW",
        "colab_type": "text"
      },
      "source": [
        "## LinearSVC"
      ]
    },
    {
      "cell_type": "code",
      "metadata": {
        "colab_type": "code",
        "nbpresent": {
          "id": "df977cc2-ab45-4767-9ed7-d00bf9a37d21"
        },
        "id": "TidwN_157o81",
        "outputId": "abd30442-950d-4031-e5d4-610ef7972560",
        "colab": {
          "base_uri": "https://localhost:8080/",
          "height": 298
        }
      },
      "source": [
        "clf = LinearSVC().fit(X_train_counts, twenty_train.target)\n",
        "predicted = clf.predict(X_test)\n",
        "metrics_func(twenty_test.target, predicted, 'macro')\n",
        "heatmap_func(twenty_test.target, predicted, categories)"
      ],
      "execution_count": 15,
      "outputs": [
        {
          "output_type": "stream",
          "text": [
            "macro F1=0.9002, macro P=0.9039, macro R=0.8994    \n"
          ],
          "name": "stdout"
        },
        {
          "output_type": "display_data",
          "data": {
            "image/png": "[encoded data removed]",
            "text/plain": [
              "<Figure size 432x288 with 1 Axes>"
            ]
          },
          "metadata": {
            "tags": [],
            "needs_background": "light"
          }
        }
      ]
    },
    {
      "cell_type": "code",
      "metadata": {
        "id": "ZdU_tOF7eRmf",
        "colab_type": "code",
        "colab": {
          "base_uri": "https://localhost:8080/",
          "height": 173
        },
        "outputId": "9ee8a18b-865b-42bb-e24d-ae2bfee77b53"
      },
      "source": [
        "%%time\n",
        "parameter_grid = {\n",
        "    'C' : [0.001, 0.01, 0.08], \n",
        "    'loss' : ['hinge', 'squared_hinge'], \n",
        "    'max_iter' : [x for x in range(10,101) if x%10==0],\n",
        "    'penalty' : ['l2'], \n",
        "    'random_state' : [0], \n",
        "    'verbose' : [False]\n",
        "}\n",
        "\n",
        "best_results(classifier=LinearSVC(), folds_type=repeated_folds,\n",
        "             params=parameter_grid)"
      ],
      "execution_count": 16,
      "outputs": [
        {
          "output_type": "stream",
          "text": [
            "Best parameters: {'C': 0.01, 'loss': 'squared_hinge', 'max_iter': 30, 'penalty': 'l2', 'random_state': 0, 'verbose': False}\n",
            "Mean cross-validated score of the best_estimator: 0.9484625026173632    \n",
            "Результаты на тесте. Score:\t\t\t\\s0.9061068831213123    \n",
            "\n",
            "Результаты на трейне:\n",
            "macro F1=1.0000, macro P=1.0000, macro R=1.0000    \n",
            "CPU times: user 4min 49s, sys: 2.99 s, total: 4min 52s\n",
            "Wall time: 4min 53s\n"
          ],
          "name": "stdout"
        }
      ]
    },
    {
      "cell_type": "markdown",
      "metadata": {
        "id": "C9UGNCjGrqKv",
        "colab_type": "text"
      },
      "source": [
        "## MultinomialNB"
      ]
    },
    {
      "cell_type": "code",
      "metadata": {
        "colab_type": "code",
        "id": "tvksPrcZtBUJ",
        "nbpresent": {
          "id": "46282963-7130-438d-8098-6acffc43198c"
        },
        "outputId": "b5eca166-1077-43e1-c754-89312d2ca499",
        "colab": {
          "base_uri": "https://localhost:8080/",
          "height": 298
        }
      },
      "source": [
        "clf = MultinomialNB().fit(X_train_counts, twenty_train.target)\n",
        "predicted = clf.predict(X_test)\n",
        "metrics_func(twenty_test.target, predicted, 'macro')\n",
        "heatmap_func(twenty_test.target, predicted, categories)"
      ],
      "execution_count": 0,
      "outputs": [
        {
          "output_type": "stream",
          "text": [
            "macro F1=0.9353, macro P=0.9365, macro R=0.9353    \n"
          ],
          "name": "stdout"
        },
        {
          "output_type": "display_data",
          "data": {
            "image/png": "[encoded data removed]",
            "text/plain": [
              "<Figure size 432x288 with 1 Axes>"
            ]
          },
          "metadata": {
            "tags": [],
            "needs_background": "light"
          }
        }
      ]
    },
    {
      "cell_type": "code",
      "metadata": {
        "id": "2TSCNvdnUs-L",
        "colab_type": "code",
        "outputId": "05c375c6-4542-40be-a8cf-9dcfa2b6ec72",
        "colab": {
          "base_uri": "https://localhost:8080/",
          "height": 153
        }
      },
      "source": [
        "%%time\n",
        "parameter_grid = {\n",
        "    'alpha' : [x/10 for x in range(0,11)], \n",
        "    'class_prior' : [None], 'fit_prior' : [True]\n",
        "}\n",
        "\n",
        "best_results(classifier=MultinomialNB(), folds_type=repeated_folds,\n",
        "             params=parameter_grid)"
      ],
      "execution_count": 0,
      "outputs": [
        {
          "output_type": "stream",
          "text": [
            "Best parameters: {'alpha': 0.3, 'class_prior': None, 'fit_prior': True}\n",
            "Mean cross-validated score of the best_estimator:\t0.9749229402596413    \n",
            "Результаты на тесте. Score:\t\t\t\t0.9416926925272344    \n",
            "\n",
            "Результаты на трейне:\n",
            "macro F1=0.9992, macro P=0.9992, macro R=0.9992    \n",
            "CPU times: user 9.56 s, sys: 163 ms, total: 9.73 s\n",
            "Wall time: 9.74 s\n"
          ],
          "name": "stdout"
        }
      ]
    },
    {
      "cell_type": "markdown",
      "metadata": {
        "id": "axqfGmUvm4SA",
        "colab_type": "text"
      },
      "source": [
        "## Анализируем фичи"
      ]
    },
    {
      "cell_type": "markdown",
      "metadata": {
        "id": "dKhnjWPnztzn",
        "colab_type": "text"
      },
      "source": [
        "Постройте функцию analyze_features(model, n), которая бы для каждой модели выводила самые значимые признаки по каждому из четырех классов. \n",
        "Для этого вам понадобится словарь, связывающий номер \n",
        "признака с самим признаком, он может быть таким:\n",
        "index_to_word = {v:k for k,v in count_vect.vocabulary_.items()}\n",
        "\n",
        "Обращаться к весам модели можно либо через eli5, как мы делали на лекции, либо напрямую: через clf.coef_ - матрица размера (n_classes, n_features), то есть для получения признаков с наибольшим весом для класса n вам нужно сортировать веса внутри n-ной строки.\n",
        "если вы используете деревья решений, то можно воспользоваться методом  model.feature_importances - 4 балла\n",
        "\n",
        "Примените функцию к вашим классификаторам, видны ли по отобранным словам очевидные ошибки?"
      ]
    },
    {
      "cell_type": "code",
      "metadata": {
        "id": "PaNJSbsLHEG-",
        "colab_type": "code",
        "colab": {}
      },
      "source": [
        "def analyze_features(model, vectorizer, n=10, \n",
        "                     categories=categories, verbose=True):\n",
        "    # вроде можно было обойтись без него, но пусть будет\n",
        "    id2word = {v:k for k,v in vectorizer.vocabulary_.items()}\n",
        "    weights_df = pd.DataFrame({\n",
        "        categories[x]:model.coef_[x] for x in range(0,len(categories))})\n",
        "    weights_df['feature'] = [id2word[x] \n",
        "                             for x in range(0,len(id2word))]\n",
        "    for cat in categories:\n",
        "        nfeats = weights_df.sort_values(\n",
        "            by=[cat], ascending=False\n",
        "            )['feature'].head(n).values\n",
        "        if verbose:\n",
        "            print('Category: {}.'.format(cat))\n",
        "            print('{} most important features: {}.'.format(n, ', '.join(nfeats)))\n",
        "        else:\n",
        "            return weights_df"
      ],
      "execution_count": 0,
      "outputs": []
    },
    {
      "cell_type": "markdown",
      "metadata": {
        "id": "lACr2WQGX6S2",
        "colab_type": "text"
      },
      "source": [
        "LogisticRegression:"
      ]
    },
    {
      "cell_type": "code",
      "metadata": {
        "id": "lrWBN8NsmFum",
        "colab_type": "code",
        "outputId": "6e72531a-e744-4d06-ef9b-036506c421b0",
        "colab": {
          "base_uri": "https://localhost:8080/",
          "height": 153
        }
      },
      "source": [
        "analyze_features(model=lr_gs.best_estimator_, vectorizer=count_vect, n=10) #LogisticRegression"
      ],
      "execution_count": 0,
      "outputs": [
        {
          "output_type": "stream",
          "text": [
            "Category :sci.crypt.\n",
            "10 most important features: clipper, encryption, key, code, security, pgp, gtoal, dos, chip, nsa.\n",
            "Category :sci.electronics.\n",
            "10 most important features: power, electronics, radar, circuit, motorola, tv, out, usa, line, used.\n",
            "Category :sci.med.\n",
            "10 most important features: doctor, msg, pitt, disease, information, medical, photography, treatment, cancer, health.\n",
            "Category :sci.space.\n",
            "10 most important features: space, orbit, moon, launch, planets, dc, jennise, dgi, rockets, earth.\n"
          ],
          "name": "stdout"
        }
      ]
    },
    {
      "cell_type": "markdown",
      "metadata": {
        "id": "qu-TnCS-Xs6J",
        "colab_type": "text"
      },
      "source": [
        "В категории sci.electronics слово out похоже на стоп-слово, ну и used не очень информативное.\n",
        "\n",
        "В категории sci.med видимо попалось имя - pitt.\n",
        "\n",
        "То же самое с jennise в категории sci.space."
      ]
    },
    {
      "cell_type": "code",
      "metadata": {
        "id": "gb6nWvh8YfF0",
        "colab_type": "code",
        "colab": {}
      },
      "source": [
        ""
      ],
      "execution_count": 0,
      "outputs": []
    },
    {
      "cell_type": "markdown",
      "metadata": {
        "id": "MKgDA4kUYEdY",
        "colab_type": "text"
      },
      "source": [
        "LinearSVC: опять out и pitt. Плюс ещё странные ee и pat."
      ]
    },
    {
      "cell_type": "code",
      "metadata": {
        "id": "V7UrLKnSnZwn",
        "colab_type": "code",
        "outputId": "0dcaed0e-6530-461a-aad7-9f08adb99163",
        "colab": {
          "base_uri": "https://localhost:8080/",
          "height": 153
        }
      },
      "source": [
        "analyze_features(model=lsvc_gs.best_estimator_, vectorizer=count_vect, n=10) #LinearSVC"
      ],
      "execution_count": 0,
      "outputs": [
        {
          "output_type": "stream",
          "text": [
            "Category :sci.crypt.\n",
            "10 most important features: clipper, encryption, key, code, security, chip, pgp, gtoal, dos, nsa.\n",
            "Category :sci.electronics.\n",
            "10 most important features: power, electronics, circuit, radar, motorola, tv, out, line, usa, ee.\n",
            "Category :sci.med.\n",
            "10 most important features: doctor, msg, pitt, disease, medical, treatment, information, cancer, health, photography.\n",
            "Category :sci.space.\n",
            "10 most important features: space, orbit, moon, launch, dc, planets, prb, earth, solar, pat.\n"
          ],
          "name": "stdout"
        }
      ]
    },
    {
      "cell_type": "markdown",
      "metadata": {
        "id": "JbOVllkIYTgr",
        "colab_type": "text"
      },
      "source": [
        "MultinomialNB: тут вообще жесть. Но ниже это исправляется подбором параметров векторайзера."
      ]
    },
    {
      "cell_type": "code",
      "metadata": {
        "id": "5BPw9802nE4k",
        "colab_type": "code",
        "outputId": "693b8374-20ea-4154-d44b-134211cd4992",
        "colab": {
          "base_uri": "https://localhost:8080/",
          "height": 173
        }
      },
      "source": [
        "analyze_features(model=nb_gs.best_estimator_, vectorizer=count_vect, n=50) #MultinomialNB"
      ],
      "execution_count": 0,
      "outputs": [
        {
          "output_type": "stream",
          "text": [
            "Category :sci.crypt.\n",
            "50 most important features: the, to, of, and, is, in, that, it, for, be, this, on, from, you, are, key, as, with, not, or, they, have, will, can, com, if, by, edu, encryption, what, clipper, at, but, an, chip, would, re, your, subject, one, we, lines, organization, all, has, do, about, no, government, db.\n",
            "Category :sci.electronics.\n",
            "50 most important features: the, to, of, and, is, in, it, for, you, that, from, edu, on, are, be, this, with, or, have, subject, lines, if, organization, com, can, at, as, but, not, re, an, one, there, what, they, use, do, would, my, any, was, about, by, some, writes, will, so, host, article, out.\n",
            "Category :sci.med.\n",
            "50 most important features: the, of, to, and, in, is, that, it, for, edu, this, from, you, are, be, not, with, have, or, as, com, on, but, my, was, if, can, subject, organization, lines, at, re, by, there, an, one, they, about, what, article, has, some, any, writes, your, would, do, will, no, me.\n",
            "Category :sci.space.\n",
            "50 most important features: the, of, to, and, in, is, that, for, it, space, on, from, edu, be, you, this, are, as, was, at, have, with, nasa, not, by, or, subject, but, organization, lines, they, if, will, re, would, com, an, can, about, there, writes, article, we, one, all, some, what, has, gov, do.\n"
          ],
          "name": "stdout"
        }
      ]
    },
    {
      "cell_type": "markdown",
      "metadata": {
        "id": "MSqzyAvNDfKF",
        "colab_type": "text"
      },
      "source": [
        "## Параметры CountVectorizer"
      ]
    },
    {
      "cell_type": "markdown",
      "metadata": {
        "id": "9BVP73BBzOeO",
        "colab_type": "text"
      },
      "source": [
        "\n",
        "Используйте параметры CountVectorizer, для того, чтобы уменьшить количество признаков и убрать нерелевантные (например числа, токены слишком низкой или высокой документной частотой, и т.д.), постарайтесь добиться улучшения результатов работы моделей (снова выводите результаты модели на трейне и на тесте, чтобы видеть, уменьшается ли переобучение) - 3 балла"
      ]
    },
    {
      "cell_type": "markdown",
      "metadata": {
        "id": "zF5E_VIx_n7q",
        "colab_type": "text"
      },
      "source": [
        "1"
      ]
    },
    {
      "cell_type": "code",
      "metadata": {
        "id": "mf-Fga_bIX3C",
        "colab_type": "code",
        "outputId": "8306b539-17a2-412a-eacb-70a5f871fdd9",
        "colab": {
          "base_uri": "https://localhost:8080/",
          "height": 51
        }
      },
      "source": [
        "count_vect = CountVectorizer(\n",
        "                             strip_accents='unicode',\n",
        "                             stop_words='english',\n",
        "                             ngram_range=(1,2),\n",
        "                             max_df=0.35,\n",
        "                             min_df=0.15\n",
        "                             )\n",
        "\n",
        "X_train_counts = count_vect.fit_transform(twenty_train.data) \n",
        "#Learn the vocabulary dictionary and return term-document matrix.\n",
        "print(X_train_counts.shape)\n",
        "X_test = count_vect.transform(twenty_test.data)\n",
        "print(X_test.shape)"
      ],
      "execution_count": 0,
      "outputs": [
        {
          "output_type": "stream",
          "text": [
            "(2373, 28)\n",
            "(1579, 28)\n"
          ],
          "name": "stdout"
        }
      ]
    },
    {
      "cell_type": "code",
      "metadata": {
        "colab_type": "code",
        "outputId": "2c13fa41-51e4-4ce0-9ec1-4e0fc5dce0d6",
        "id": "RAjpyZKDMJnA",
        "colab": {
          "base_uri": "https://localhost:8080/",
          "height": 173
        }
      },
      "source": [
        "%%time\n",
        "parameter_grid = {\n",
        "    'C' : [4.5, 5, 5.5], #or more\n",
        "    'class_weight' : [None], \n",
        "    'fit_intercept' : [True], \n",
        "    # 'intercept_scaling', \n",
        "    # 'l1_ratio' : [x/10 for x in range (0,11)], #only elasticnet\n",
        "    'max_iter' : [50, 300], #or less\n",
        "    'penalty' : [\n",
        "                 'l1', \n",
        "                 'l2', \n",
        "                 ], \n",
        "    'random_state' : [0], \n",
        "    'solver' : [ \n",
        "                'liblinear'],\n",
        "    'warm_start' : [False]\n",
        "}\n",
        "lr_gs = gs_func(LogisticRegression(), parameter_grid, \n",
        "                cv=repeated_folds, scoring='f1_macro')\n",
        "# accuracy и f1-macro с лучшими параметрами на трейне\n",
        "predicted_train = lr_gs.predict(X_train_counts)\n",
        "metrics_func(twenty_train.target, predicted_train, 'macro')\n",
        "# не очень хорошо"
      ],
      "execution_count": 0,
      "outputs": [
        {
          "output_type": "stream",
          "text": [
            "Best parameters: {'C': 5.5, 'class_weight': None, 'fit_intercept': True, 'max_iter': 50, 'penalty': 'l1', 'random_state': 0, 'solver': 'liblinear', 'warm_start': False}\n",
            "Результаты на трейне.     Best score: 0.6096475505759907\n",
            "Результаты на тесте. Score: 0.5281002285284604\n",
            "acc=0.6228\n",
            "macro F1=0.6293, macro P=0.6570,     macro R=0.6229\n",
            "\n",
            "CPU times: user 12.9 s, sys: 16.6 ms, total: 12.9 s\n",
            "Wall time: 12.9 s\n"
          ],
          "name": "stdout"
        }
      ]
    },
    {
      "cell_type": "code",
      "metadata": {
        "colab_type": "code",
        "outputId": "ded461f9-5b3b-4c08-8b46-8d8370d68a1d",
        "id": "ly8OXrYDItj9",
        "colab": {
          "base_uri": "https://localhost:8080/",
          "height": 102
        }
      },
      "source": [
        "%%time\n",
        "parameter_grid = {\n",
        "    'alpha' : [x/10 for x in range(0,11)], \n",
        "    'class_prior' : [None], 'fit_prior' : [True]\n",
        "}\n",
        "nb_gs = gs_func(MultinomialNB(), parameter_grid, \n",
        "                cv=repeated_folds, scoring='f1_macro')\n",
        "# не очень хорошо"
      ],
      "execution_count": 0,
      "outputs": [
        {
          "output_type": "stream",
          "text": [
            "Best parameters: {'alpha': 0.0, 'class_prior': None, 'fit_prior': True}\n",
            "Результаты на трейне.     Best score: 0.5809865914342013\n",
            "Результаты на тесте. Score: 0.5051597808523347\n",
            "CPU times: user 1.87 s, sys: 3.14 ms, total: 1.87 s\n",
            "Wall time: 1.88 s\n"
          ],
          "name": "stdout"
        }
      ]
    },
    {
      "cell_type": "code",
      "metadata": {
        "colab_type": "code",
        "outputId": "89b11274-65ce-418d-9793-af32aea233dd",
        "id": "tokYeu1dItkF",
        "colab": {
          "base_uri": "https://localhost:8080/",
          "height": 68
        }
      },
      "source": [
        "# accuracy и f1-macro с лучшими параметрами на трейне\n",
        "predicted_train = nb_gs.predict(X_train_counts)\n",
        "metrics_func(twenty_train.target, predicted_train, 'macro')"
      ],
      "execution_count": 0,
      "outputs": [
        {
          "output_type": "stream",
          "text": [
            "acc=0.5807\n",
            "macro F1=0.5888, macro P=0.6428,     macro R=0.5808\n",
            "\n"
          ],
          "name": "stdout"
        }
      ]
    },
    {
      "cell_type": "markdown",
      "metadata": {
        "id": "_EBtmmA_rZ9d",
        "colab_type": "text"
      },
      "source": [
        "2"
      ]
    },
    {
      "cell_type": "code",
      "metadata": {
        "colab_type": "code",
        "id": "f9Kzkqc3BIOB",
        "outputId": "8db60875-09b3-42c5-d089-9213ec51ef7e",
        "colab": {
          "base_uri": "https://localhost:8080/",
          "height": 51
        }
      },
      "source": [
        "count_vect = CountVectorizer(strip_accents='unicode',\n",
        "                             stop_words='english',\n",
        "                             ngram_range=(1,2),\n",
        "                             max_df=0.5,\n",
        "                             min_df=0.05\n",
        "                             )\n",
        "\n",
        "X_train_counts = count_vect.fit_transform(twenty_train.data)\n",
        "print(X_train_counts.shape)\n",
        "\n",
        "X_test = count_vect.transform(twenty_test.data)\n",
        "print(X_test.shape)"
      ],
      "execution_count": 18,
      "outputs": [
        {
          "output_type": "stream",
          "text": [
            "(2373, 308)\n",
            "(1579, 308)\n"
          ],
          "name": "stdout"
        }
      ]
    },
    {
      "cell_type": "code",
      "metadata": {
        "colab_type": "code",
        "id": "Ily_-33ENMVK",
        "colab": {
          "base_uri": "https://localhost:8080/",
          "height": 139
        },
        "outputId": "7a2edf25-1114-4506-9487-ef498748d80a"
      },
      "source": [
        "%%time\n",
        "parameter_grid = {\n",
        "    'C' : [0.0001, 0.001, 0.01, 0.08, 0.1, 0.15], \n",
        "    'loss' : ['hinge', 'squared_hinge'], \n",
        "    # 'max_iter' : [x for x in range(10,101) if x%10==0],\n",
        "    'max_iter' : [x for x in range(20,51) if x%10==0],\n",
        "    'penalty' : ['l2'], \n",
        "    'random_state' : [0], \n",
        "    'verbose' : [False]\n",
        "}\n",
        "lsvc_gs = gs_func(LinearSVC(), parameter_grid, cv=repeated_folds, scoring='f1_macro')\n",
        "# f1-macro с лучшими параметрами на трейне\n",
        "predicted_train = lsvc_gs.predict(X_train_counts)\n",
        "metrics_func(twenty_train.target, predicted_train, 'macro')"
      ],
      "execution_count": 19,
      "outputs": [
        {
          "output_type": "stream",
          "text": [
            "Best parameters: {'C': 0.01, 'loss': 'squared_hinge', 'max_iter': 30, 'penalty': 'l2', 'random_state': 0, 'verbose': False}\n",
            "Mean cross-validated score of the best_estimator: 0.8339718614503339    \n",
            "Результаты на тесте. Score:\t\t\t\\s0.7388107797030874    \n",
            "macro F1=0.9070, macro P=0.9098, macro R=0.9060    \n",
            "CPU times: user 45.3 s, sys: 99.9 ms, total: 45.4 s\n",
            "Wall time: 45.5 s\n"
          ],
          "name": "stdout"
        }
      ]
    },
    {
      "cell_type": "code",
      "metadata": {
        "colab_type": "code",
        "outputId": "3ceb3e43-9b8a-46ee-8d71-e5433456b0a2",
        "id": "IAeFViEAMSmF",
        "colab": {
          "base_uri": "https://localhost:8080/",
          "height": 173
        }
      },
      "source": [
        "%%time\n",
        "parameter_grid = {\n",
        "    'C' : [4.5, 5, 5.5], #or more\n",
        "    'class_weight' : [None], \n",
        "    'fit_intercept' : [True], \n",
        "    # 'intercept_scaling', \n",
        "    # 'l1_ratio' : [x/10 for x in range (0,11)], #only elasticnet\n",
        "    'max_iter' : [50, 300], #or less\n",
        "    'penalty' : [\n",
        "                 'l1', \n",
        "                 'l2', \n",
        "                 ], \n",
        "    'random_state' : [0], \n",
        "    'solver' : [ \n",
        "                'liblinear'],\n",
        "    'warm_start' : [False]\n",
        "}\n",
        "lr_gs = gs_func(LogisticRegression(), parameter_grid, \n",
        "                cv=repeated_folds, scoring='f1_macro')\n",
        "# accuracy и f1-macro с лучшими параметрами на трейне\n",
        "predicted_train = lr_gs.predict(X_train_counts)\n",
        "metrics_func(twenty_train.target, predicted_train, 'macro')"
      ],
      "execution_count": 0,
      "outputs": [
        {
          "output_type": "stream",
          "text": [
            "Best parameters: {'C': 4.5, 'class_weight': None, 'fit_intercept': True, 'max_iter': 50, 'penalty': 'l2', 'random_state': 0, 'solver': 'liblinear', 'warm_start': False}\n",
            "Результаты на трейне.     Best score: 0.8176514625124793\n",
            "Результаты на тесте. Score: 0.7257700771689992\n",
            "acc=0.9595\n",
            "macro F1=0.9596, macro P=0.9598,     macro R=0.9595\n",
            "\n",
            "CPU times: user 30min 33s, sys: 1.08 s, total: 30min 35s\n",
            "Wall time: 30min 38s\n"
          ],
          "name": "stdout"
        }
      ]
    },
    {
      "cell_type": "code",
      "metadata": {
        "colab_type": "code",
        "outputId": "23d0851e-ba23-423a-af28-db8bb2c5380b",
        "id": "iCI_TjHxrdTW",
        "colab": {
          "base_uri": "https://localhost:8080/",
          "height": 102
        }
      },
      "source": [
        "%%time\n",
        "parameter_grid = {\n",
        "    'alpha' : [x/10 for x in range(0,11)], \n",
        "    'class_prior' : [None], 'fit_prior' : [False, True]\n",
        "}\n",
        "nb_gs = gs_func(MultinomialNB(), parameter_grid,\n",
        "                cv=repeated_folds, scoring='f1_macro')"
      ],
      "execution_count": 0,
      "outputs": [
        {
          "output_type": "stream",
          "text": [
            "Best parameters: {'alpha': 0.0, 'class_prior': None, 'fit_prior': False}\n",
            "Результаты на трейне.     Best score: 0.8213341814150952\n",
            "Результаты на тесте. Score: 0.7395286837329855\n",
            "CPU times: user 4.56 s, sys: 18.5 ms, total: 4.58 s\n",
            "Wall time: 4.59 s\n"
          ],
          "name": "stdout"
        }
      ]
    },
    {
      "cell_type": "code",
      "metadata": {
        "colab_type": "code",
        "outputId": "ccfe6844-88a0-43c6-8e6f-1a4e120787f8",
        "id": "MvQhGfVordTb",
        "colab": {
          "base_uri": "https://localhost:8080/",
          "height": 68
        }
      },
      "source": [
        "# accuracy и f1-macro с лучшими параметрами на трейне\n",
        "predicted_train = nb_gs.predict(X_train_counts)\n",
        "metrics_func(twenty_train.target, predicted_train, 'macro')"
      ],
      "execution_count": 0,
      "outputs": [
        {
          "output_type": "stream",
          "text": [
            "acc=0.8449\n",
            "macro F1=0.8461, macro P=0.8537,     macro R=0.8449\n",
            "\n"
          ],
          "name": "stdout"
        }
      ]
    },
    {
      "cell_type": "markdown",
      "metadata": {
        "id": "0t0OJob2tdAt",
        "colab_type": "text"
      },
      "source": [
        "3"
      ]
    },
    {
      "cell_type": "code",
      "metadata": {
        "colab_type": "code",
        "id": "8D7FP5G8BYk2",
        "outputId": "a5991b59-74f4-4824-b208-8b8f19a0c17f",
        "colab": {
          "base_uri": "https://localhost:8080/",
          "height": 51
        }
      },
      "source": [
        "count_vect = CountVectorizer(\n",
        "                             strip_accents='unicode',\n",
        "                             stop_words='english',\n",
        "                             ngram_range=(1,2),\n",
        "                             max_df=0.5,\n",
        "                             min_df=0.025\n",
        "                             )\n",
        "\n",
        "X_train_counts = count_vect.fit_transform(twenty_train.data)\n",
        "print(X_train_counts.shape)\n",
        "\n",
        "X_test = count_vect.transform(twenty_test.data)\n",
        "print(X_test.shape)"
      ],
      "execution_count": 21,
      "outputs": [
        {
          "output_type": "stream",
          "text": [
            "(2373, 877)\n",
            "(1579, 877)\n"
          ],
          "name": "stdout"
        }
      ]
    },
    {
      "cell_type": "code",
      "metadata": {
        "colab_type": "code",
        "id": "kV08q7Y7PXcI",
        "colab": {
          "base_uri": "https://localhost:8080/",
          "height": 139
        },
        "outputId": "068941d2-75a3-411a-c1c1-0eb230431231"
      },
      "source": [
        "#todo\n",
        "%%time\n",
        "parameter_grid = {\n",
        "    'C' : [0.0001, 0.001, 0.01, 0.08, 0.1, 0.15], \n",
        "    'loss' : ['hinge', 'squared_hinge'], \n",
        "    # 'max_iter' : [x for x in range(10,101) if x%10==0],\n",
        "    'max_iter' : [x for x in range(20,51) if x%10==0],\n",
        "    'penalty' : ['l2'], \n",
        "    'random_state' : [0], \n",
        "    'verbose' : [False]\n",
        "}\n",
        "lsvc_gs = gs_func(LinearSVC(), parameter_grid, cv=repeated_folds, scoring='f1_macro')\n",
        "# f1-macro с лучшими параметрами на трейне\n",
        "predicted_train = lsvc_gs.predict(X_train_counts)\n",
        "metrics_func(twenty_train.target, predicted_train, 'macro')"
      ],
      "execution_count": 22,
      "outputs": [
        {
          "output_type": "stream",
          "text": [
            "Best parameters: {'C': 0.01, 'loss': 'squared_hinge', 'max_iter': 50, 'penalty': 'l2', 'random_state': 0, 'verbose': False}\n",
            "Mean cross-validated score of the best_estimator: 0.9058171402067869    \n",
            "Результаты на тесте. Score:\t\t\t\\s0.8499853607773504    \n",
            "macro F1=0.9803, macro P=0.9808, macro R=0.9802    \n",
            "CPU times: user 57.8 s, sys: 191 ms, total: 58 s\n",
            "Wall time: 58 s\n"
          ],
          "name": "stdout"
        }
      ]
    },
    {
      "cell_type": "code",
      "metadata": {
        "colab_type": "code",
        "outputId": "95605dcc-d4b9-411e-bf4c-5a77e681381c",
        "id": "I_7hinZvMcuv",
        "colab": {
          "base_uri": "https://localhost:8080/",
          "height": 173
        }
      },
      "source": [
        "%%time\n",
        "parameter_grid = {\n",
        "    'C' : [4.5, 5, 5.5], #or more\n",
        "    'class_weight' : [None], \n",
        "    'fit_intercept' : [True], \n",
        "    # 'intercept_scaling', \n",
        "    # 'l1_ratio' : [x/10 for x in range (0,11)], #only elasticnet\n",
        "    'max_iter' : [50, 300], #or less\n",
        "    'penalty' : [\n",
        "                 'l1', \n",
        "                 'l2', \n",
        "                 ], \n",
        "    'random_state' : [0], \n",
        "    'solver' : [ \n",
        "                'liblinear'],\n",
        "    'warm_start' : [False]\n",
        "}\n",
        "lr_gs = gs_func(LogisticRegression(), parameter_grid, \n",
        "                cv=repeated_folds, scoring='f1_macro')\n",
        "# accuracy и f1-macro с лучшими параметрами на трейне\n",
        "predicted_train = lr_gs.predict(X_train_counts)\n",
        "metrics_func(twenty_train.target, predicted_train, 'macro')"
      ],
      "execution_count": 0,
      "outputs": [
        {
          "output_type": "stream",
          "text": [
            "Best parameters: {'C': 4.5, 'class_weight': None, 'fit_intercept': True, 'max_iter': 50, 'penalty': 'l1', 'random_state': 0, 'solver': 'liblinear', 'warm_start': False}\n",
            "Результаты на трейне.     Best score: 0.8972538609526325\n",
            "Результаты на тесте. Score: 0.8291476737534362\n",
            "acc=1.0000\n",
            "macro F1=1.0000, macro P=1.0000,     macro R=1.0000\n",
            "\n",
            "CPU times: user 1h 5min 20s, sys: 1.59 s, total: 1h 5min 21s\n",
            "Wall time: 1h 5min 30s\n"
          ],
          "name": "stdout"
        }
      ]
    },
    {
      "cell_type": "code",
      "metadata": {
        "colab_type": "code",
        "outputId": "11191772-4bbe-4e51-a35e-c6457f478660",
        "id": "7PU42RJptipm",
        "colab": {
          "base_uri": "https://localhost:8080/",
          "height": 102
        }
      },
      "source": [
        "%%time\n",
        "parameter_grid = {\n",
        "    'alpha' : [x/10 for x in range(0,11)], \n",
        "    'class_prior' : [None], 'fit_prior' : [False, \n",
        "                                        #    True\n",
        "                                           ]\n",
        "}\n",
        "nb_gs = gs_func(MultinomialNB(), parameter_grid, \n",
        "                cv=repeated_folds, scoring='f1_macro')"
      ],
      "execution_count": 0,
      "outputs": [
        {
          "output_type": "stream",
          "text": [
            "Best parameters: {'alpha': 0.0, 'class_prior': None, 'fit_prior': False}\n",
            "Результаты на трейне.     Best score: 0.8980295878607994\n",
            "Результаты на тесте. Score: 0.8323112593760045\n",
            "CPU times: user 2.75 s, sys: 13.1 ms, total: 2.76 s\n",
            "Wall time: 2.76 s\n"
          ],
          "name": "stdout"
        }
      ]
    },
    {
      "cell_type": "code",
      "metadata": {
        "colab_type": "code",
        "outputId": "ee645047-0b37-467b-9a09-24af98a33a00",
        "id": "Hae44tjZtipp",
        "colab": {
          "base_uri": "https://localhost:8080/",
          "height": 68
        }
      },
      "source": [
        "predicted_train = nb_gs.predict(X_train_counts)\n",
        "metrics_func(twenty_train.target, predicted_train, 'macro')\n",
        "# accuracy и f1-macro с лучшими параметрами на трейне"
      ],
      "execution_count": 0,
      "outputs": [
        {
          "output_type": "stream",
          "text": [
            "acc=0.9182\n",
            "macro F1=0.9187, macro P=0.9238,     macro R=0.9183\n",
            "\n"
          ],
          "name": "stdout"
        }
      ]
    },
    {
      "cell_type": "markdown",
      "metadata": {
        "id": "vYqlMrjKuQzN",
        "colab_type": "text"
      },
      "source": [
        "4"
      ]
    },
    {
      "cell_type": "markdown",
      "metadata": {
        "id": "Uki2Dhd2audm",
        "colab_type": "text"
      },
      "source": [
        "Пыталась добавить побольше стоп-слов, но вроде это не особо повлияло на качество."
      ]
    },
    {
      "cell_type": "code",
      "metadata": {
        "id": "euKgjuYywjIL",
        "colab_type": "code",
        "colab": {}
      },
      "source": [
        "%%capture\n",
        "!pip install stop_words\n",
        "import nltk\n",
        "nltk.download('punkt')\n",
        "nltk.download('stopwords')\n",
        "from nltk.corpus import stopwords\n",
        "from stop_words import get_stop_words\n",
        "stop_words_list = list(set(stopwords.words('english')) | set(get_stop_words('en'))) "
      ],
      "execution_count": 0,
      "outputs": []
    },
    {
      "cell_type": "code",
      "metadata": {
        "id": "Jj3v5RtNxo8C",
        "colab_type": "code",
        "colab": {}
      },
      "source": [
        "from sklearn.feature_extraction import text \n",
        "stop_words_list = text.ENGLISH_STOP_WORDS.union(stop_words_list)"
      ],
      "execution_count": 0,
      "outputs": []
    },
    {
      "cell_type": "code",
      "metadata": {
        "colab_type": "code",
        "id": "cakkN5zRvIMJ",
        "outputId": "d0adb93f-14a8-4682-f15e-e0e41ccd7172",
        "colab": {
          "base_uri": "https://localhost:8080/",
          "height": 51
        }
      },
      "source": [
        "count_vect = CountVectorizer(\n",
        "                             strip_accents='unicode',\n",
        "                            #  stop_words='english',\n",
        "                             stop_words=stop_words_list,\n",
        "                             ngram_range=(1,3),\n",
        "                             max_df=0.195,\n",
        "                             min_df=0.0675\n",
        "                             )\n",
        "categories = ['sci.crypt', 'sci.electronics', 'sci.med', 'sci.space']\n",
        "X_train_counts = count_vect.fit_transform(twenty_train.data)\n",
        "print(X_train_counts.shape)\n",
        "X_test = count_vect.transform(twenty_test.data)\n",
        "print(X_test.shape)"
      ],
      "execution_count": 25,
      "outputs": [
        {
          "output_type": "stream",
          "text": [
            "(2373, 149)\n",
            "(1579, 149)\n"
          ],
          "name": "stdout"
        }
      ]
    },
    {
      "cell_type": "code",
      "metadata": {
        "colab_type": "code",
        "id": "D8ZI40EtPcYi",
        "colab": {
          "base_uri": "https://localhost:8080/",
          "height": 139
        },
        "outputId": "63955daf-a225-4ee6-8d89-31b0d847c65e"
      },
      "source": [
        "%%time\n",
        "parameter_grid = {\n",
        "    'C' : [0.0001, 0.001, 0.01, 0.08, 0.1, 0.15], \n",
        "    'loss' : ['hinge', 'squared_hinge'], \n",
        "    # 'max_iter' : [x for x in range(10,101) if x%10==0],\n",
        "    'max_iter' : [x for x in range(20,51) if x%10==0],\n",
        "    'penalty' : ['l2'], \n",
        "    'random_state' : [0], \n",
        "    'verbose' : [False]\n",
        "}\n",
        "lsvc_gs = gs_func(LinearSVC(), parameter_grid, cv=repeated_folds, scoring='f1_macro')\n",
        "# f1-macro с лучшими параметрами на трейне\n",
        "predicted_train = lsvc_gs.predict(X_train_counts)\n",
        "metrics_func(twenty_train.target, predicted_train, 'macro')"
      ],
      "execution_count": 28,
      "outputs": [
        {
          "output_type": "stream",
          "text": [
            "Best parameters: {'C': 0.1, 'loss': 'squared_hinge', 'max_iter': 20, 'penalty': 'l2', 'random_state': 0, 'verbose': False}\n",
            "Mean cross-validated score of the best_estimator: 0.7527976381250584    \n",
            "Результаты на тесте. Score:\t\t\t 0.6732926167158615    \n",
            "macro F1=0.8163, macro P=0.8207, macro R=0.8145    \n",
            "CPU times: user 32.1 s, sys: 38.9 ms, total: 32.2 s\n",
            "Wall time: 32.2 s\n"
          ],
          "name": "stdout"
        }
      ]
    },
    {
      "cell_type": "code",
      "metadata": {
        "colab_type": "code",
        "outputId": "91d529c4-34e6-4adb-b044-266b1dbf519c",
        "id": "m87BJNNrMgrC",
        "colab": {
          "base_uri": "https://localhost:8080/",
          "height": 173
        }
      },
      "source": [
        "%%time\n",
        "parameter_grid = {\n",
        "    'C' : [4.5, 5, 5.5], #or more\n",
        "    'class_weight' : [None], \n",
        "    'fit_intercept' : [True], \n",
        "    # 'intercept_scaling', \n",
        "    # 'l1_ratio' : [x/10 for x in range (0,11)], #only elasticnet\n",
        "    'max_iter' : [50, 300], #or less\n",
        "    'penalty' : [\n",
        "                 'l1', \n",
        "                 'l2', \n",
        "                 ], \n",
        "    'random_state' : [0], \n",
        "    'solver' : [ \n",
        "                'liblinear'],\n",
        "    'warm_start' : [False]\n",
        "}\n",
        "lr_gs = gs_func(LogisticRegression(), parameter_grid, \n",
        "                cv=repeated_folds, scoring='f1_macro')\n",
        "# accuracy и f1-macro с лучшими параметрами на трейне\n",
        "predicted_train = lr_gs.predict(X_train_counts)\n",
        "metrics_func(twenty_train.target, predicted_train, 'macro')"
      ],
      "execution_count": 0,
      "outputs": [
        {
          "output_type": "stream",
          "text": [
            "Best parameters: {'C': 4.5, 'class_weight': None, 'fit_intercept': True, 'max_iter': 50, 'penalty': 'l1', 'random_state': 0, 'solver': 'liblinear', 'warm_start': False}\n",
            "Результаты на трейне.     Best score: 0.7472570348263929\n",
            "Результаты на тесте. Score: 0.6652729999561743\n",
            "acc=0.8213\n",
            "macro F1=0.8228, macro P=0.8260,     macro R=0.8212\n",
            "\n",
            "CPU times: user 5min 42s, sys: 148 ms, total: 5min 42s\n",
            "Wall time: 5min 43s\n"
          ],
          "name": "stdout"
        }
      ]
    },
    {
      "cell_type": "code",
      "metadata": {
        "colab_type": "code",
        "outputId": "787bd0e2-263c-4242-c10a-344c8d952dc1",
        "id": "9-B4Ay4duYqw",
        "colab": {
          "base_uri": "https://localhost:8080/",
          "height": 153
        }
      },
      "source": [
        "%%time\n",
        "parameter_grid = {\n",
        "    'alpha' : [x/10 for x in range(0,11)], \n",
        "    'class_prior' : [None], 'fit_prior' : [False]\n",
        "}\n",
        "nb_gs = gs_func(MultinomialNB(), parameter_grid, \n",
        "                cv=repeated_folds, scoring='f1_macro')\n",
        "# accuracy и f1-macro с лучшими параметрами на трейне\n",
        "predicted_train = nb_gs.predict(X_train_counts)\n",
        "metrics_func(twenty_train.target, predicted_train, 'macro')"
      ],
      "execution_count": 0,
      "outputs": [
        {
          "output_type": "stream",
          "text": [
            "Best parameters: {'alpha': 0.0, 'class_prior': None, 'fit_prior': False}\n",
            "Результаты на трейне.     Best score: 0.7348168936342893\n",
            "Результаты на тесте. Score: 0.6727333753390045\n",
            "acc=0.7556\n",
            "macro F1=0.7575, macro P=0.7645,     macro R=0.7555\n",
            "\n",
            "CPU times: user 2.11 s, sys: 3.38 ms, total: 2.11 s\n",
            "Wall time: 2.12 s\n"
          ],
          "name": "stdout"
        }
      ]
    },
    {
      "cell_type": "code",
      "metadata": {
        "id": "qZE6a_vsbAmL",
        "colab_type": "code",
        "colab": {}
      },
      "source": [
        ""
      ],
      "execution_count": 0,
      "outputs": []
    },
    {
      "cell_type": "markdown",
      "metadata": {
        "id": "Lub97DE3bJZN",
        "colab_type": "text"
      },
      "source": [
        "Починились важные фичи MultinomialNB:"
      ]
    },
    {
      "cell_type": "code",
      "metadata": {
        "colab_type": "code",
        "outputId": "54000eb5-0c44-4aea-da1c-573ea7ed1a20",
        "id": "ThuNAyWjsCTz",
        "colab": {
          "base_uri": "https://localhost:8080/",
          "height": 173
        }
      },
      "source": [
        "analyze_features(model=nb_gs.best_estimator_, \n",
        "                 vectorizer=count_vect, n=20) #MultinomialNB"
      ],
      "execution_count": 0,
      "outputs": [
        {
          "output_type": "stream",
          "text": [
            "Category :sci.crypt.\n",
            "20 most important features: key, encryption, clipper, chip, government, keys, public, information, clipper chip, data, used, right, bit, cs, technology, mail, computer, access, available, number.\n",
            "Category :sci.electronics.\n",
            "20 most important features: power, ca, need, used, work, want, current, help, line, thanks, phone, 10, using, high, way, computer, chip, make, question, number.\n",
            "Category :sci.med.\n",
            "20 most important features: cs, science, information, research, years, ca, 10, computer, help, world, work, 1993, david, problem, day, used, 20, way, long, case.\n",
            "Category :sci.space.\n",
            "20 most important features: space, nasa, gov, nasa gov, access, data, year, research, cs, program, ca, world, sci, science, work, news, 10, high, years, net.\n"
          ],
          "name": "stdout"
        }
      ]
    },
    {
      "cell_type": "code",
      "metadata": {
        "colab_type": "code",
        "outputId": "1c2680cc-9bc8-474b-ea84-6898990d182f",
        "id": "SY6TRMD2H-6F",
        "colab": {
          "base_uri": "https://localhost:8080/",
          "height": 139
        }
      },
      "source": [
        "%%time\n",
        "parameter_grid = {\n",
        "    'C' : [4.5, 5, 5.5], #or more\n",
        "    'class_weight' : [None], \n",
        "    'fit_intercept' : [True], \n",
        "    # 'intercept_scaling', \n",
        "    # 'l1_ratio' : [x/10 for x in range (0,11)], #only elasticnet\n",
        "    'max_iter' : [50, 300], #or less\n",
        "    'penalty' : [\n",
        "                 'l1', \n",
        "                 'l2', \n",
        "                 ], \n",
        "    'random_state' : [0], \n",
        "    'solver' : [ \n",
        "                'liblinear'],\n",
        "    'warm_start' : [False]\n",
        "}\n",
        "lr_gs = gs_func(LogisticRegression(), parameter_grid, \n",
        "                cv=repeated_folds, scoring='f1_macro')\n",
        "# f1-macro с лучшими параметрами на трейне\n",
        "predicted_train = lr_gs.predict(X_train_counts)\n",
        "metrics_func(twenty_train.target, predicted_train, 'macro')"
      ],
      "execution_count": 29,
      "outputs": [
        {
          "output_type": "stream",
          "text": [
            "Best parameters: {'C': 4.5, 'class_weight': None, 'fit_intercept': True, 'max_iter': 50, 'penalty': 'l1', 'random_state': 0, 'solver': 'liblinear', 'warm_start': False}\n",
            "Mean cross-validated score of the best_estimator: 0.7472570348263929    \n",
            "Результаты на тесте. Score:\t\t\t 0.6652729999561743    \n",
            "macro F1=0.8228, macro P=0.8260, macro R=0.8212    \n",
            "CPU times: user 5min 36s, sys: 53.7 ms, total: 5min 36s\n",
            "Wall time: 5min 37s\n"
          ],
          "name": "stdout"
        }
      ]
    },
    {
      "cell_type": "markdown",
      "metadata": {
        "id": "AbCIDE0ebboY",
        "colab_type": "text"
      },
      "source": [
        "Выводы\n",
        "\n",
        "Что помогло уменьшить переобучение:\n",
        "- выкинуть низкочастотные слова,\n",
        "- выкинуть высокочастотные слова,\n",
        "- выкинуть стоп-слова,\n",
        "- добавить нграмы.\n",
        "\n",
        "Полностью от переобучения, однако, это не спасло."
      ]
    },
    {
      "cell_type": "markdown",
      "metadata": {
        "id": "-8VOvRGZzYq4",
        "colab_type": "text"
      },
      "source": [
        "# Trash"
      ]
    },
    {
      "cell_type": "markdown",
      "metadata": {
        "colab_type": "text",
        "id": "vAv315zRUToD"
      },
      "source": [
        "## SGD"
      ]
    },
    {
      "cell_type": "code",
      "metadata": {
        "colab_type": "code",
        "nbpresent": {
          "id": "46282963-7130-438d-8098-6acffc43198c"
        },
        "id": "VkW5wGHiUToN",
        "colab": {}
      },
      "source": [
        "clf = SGDClassifier().fit(X_train_counts, twenty_train.target)\n",
        "predicted = clf.predict(X_test)"
      ],
      "execution_count": 0,
      "outputs": []
    },
    {
      "cell_type": "code",
      "metadata": {
        "colab_type": "code",
        "nbpresent": {
          "id": "37e726e5-36e8-40ec-ba41-74fe6e3613d2"
        },
        "outputId": "89752937-a83b-49fe-92dc-ad4e4c260839",
        "id": "06ZQKKbSUToT",
        "colab": {
          "base_uri": "https://localhost:8080/",
          "height": 68
        }
      },
      "source": [
        "metrics_func(twenty_test.target, predicted, 'macro')"
      ],
      "execution_count": 0,
      "outputs": [
        {
          "output_type": "stream",
          "text": [
            "acc=0.8923\n",
            "macro F1=0.8926, macro P=0.8935,     macro R=0.8923\n",
            "\n"
          ],
          "name": "stdout"
        }
      ]
    },
    {
      "cell_type": "code",
      "metadata": {
        "colab_type": "code",
        "outputId": "623ffd9e-5d05-4588-a566-4319878a437d",
        "id": "BW23CQ9NUToY",
        "colab": {
          "base_uri": "https://localhost:8080/",
          "height": 281
        }
      },
      "source": [
        "heatmap_func(twenty_test.target, predicted, categories)"
      ],
      "execution_count": 0,
      "outputs": [
        {
          "output_type": "display_data",
          "data": {
            "image/png": "[encoded data removed]",
            "text/plain": [
              "<Figure size 432x288 with 1 Axes>"
            ]
          },
          "metadata": {
            "tags": [],
            "needs_background": "light"
          }
        }
      ]
    },
    {
      "cell_type": "code",
      "metadata": {
        "colab_type": "code",
        "outputId": "6349c28b-d12b-4c22-a9ee-dba1fd19d593",
        "id": "BXqjyUnF2KB-",
        "colab": {
          "base_uri": "https://localhost:8080/",
          "height": 122
        }
      },
      "source": [
        "%%time\n",
        "parameter_grid = {\n",
        "    'loss' : [\n",
        "              'hinge', 'modified_huber', \n",
        "              'squared_hinge', 'perceptron',\n",
        "            #   'squared_loss', 'huber', 'epsilon_insensitive', \n",
        "            #   'squared_epsilon_insensitive'\n",
        "              ], \n",
        "    'max_iter' : [x for x in range(10,101) if x%10==0],\n",
        "    'alpha' : [x/10 for x in range(0,11) if x > 0], \n",
        "    'penalty' : ['l2'], \n",
        "    'random_state' : [0], \n",
        "    'verbose' : [False],\n",
        "    'n_jobs' : [-1],\n",
        "    'learning_rate' : ['optimal'],\n",
        "    'early_stopping' : [True]\n",
        "}\n",
        "sgd_gs = gs_func(SGDClassifier(), parameter_grid, \n",
        "                 cv=repeated_folds, \n",
        "                #  cv=folds, \n",
        "                 scoring='f1_macro')"
      ],
      "execution_count": 0,
      "outputs": [
        {
          "output_type": "stream",
          "text": [
            "Best parameters: {'alpha': 0.3, 'early_stopping': True, 'learning_rate': 'optimal', 'loss': 'modified_huber', 'max_iter': 20, 'n_jobs': -1, 'penalty': 'l2', 'random_state': 0, 'verbose': False}\n",
            "Результаты на трейне.     Best score: 0.9341196789884832\n",
            "Результаты на тесте. Score: 0.8885144165526528\n",
            "CPU times: user 43min 35s, sys: 39min 23s, total: 1h 22min 58s\n",
            "Wall time: 47min 36s\n"
          ],
          "name": "stdout"
        }
      ]
    },
    {
      "cell_type": "code",
      "metadata": {
        "colab_type": "code",
        "outputId": "30f754fc-aa30-4e81-abb6-e820e0786ed6",
        "id": "VVlkttpo2KCD",
        "colab": {
          "base_uri": "https://localhost:8080/",
          "height": 68
        }
      },
      "source": [
        "predicted_train = sgd_gs.predict(X_train_counts)\n",
        "metrics_func(twenty_train.target, predicted_train, 'macro')"
      ],
      "execution_count": 0,
      "outputs": [
        {
          "output_type": "stream",
          "text": [
            "acc=0.9907\n",
            "macro F1=0.9907, macro P=0.9908,     macro R=0.9907\n",
            "\n"
          ],
          "name": "stdout"
        }
      ]
    },
    {
      "cell_type": "code",
      "metadata": {
        "id": "nvWfcTVX_glO",
        "colab_type": "code",
        "outputId": "719dd9a5-91e4-4c3b-c0bf-3cc76f66ac1e",
        "colab": {
          "base_uri": "https://localhost:8080/",
          "height": 153
        }
      },
      "source": [
        "analyze_features(model=sgd_gs.best_estimator_, \n",
        "                 vectorizer=count_vect, n=10) #SGDClassifier"
      ],
      "execution_count": 0,
      "outputs": [
        {
          "output_type": "stream",
          "text": [
            "Category :sci.crypt.\n",
            "10 most important features: db, key, clipper, encryption, mov, government, anonymous, bh, chip, security.\n",
            "Category :sci.electronics.\n",
            "10 most important features: power, electronics, circuit, use, tv, company, amp, audio, hp, radar.\n",
            "Category :sci.med.\n",
            "10 most important features: msg, medical, health, disease, keyboard, pitt, doctor, hiv, treatment, my.\n",
            "Category :sci.space.\n",
            "10 most important features: space, launch, orbit, moon, earth, satellite, nasa, dc, flight, lunar.\n"
          ],
          "name": "stdout"
        }
      ]
    },
    {
      "cell_type": "code",
      "metadata": {
        "colab_type": "code",
        "id": "rriSvTc1pn8R",
        "colab": {}
      },
      "source": [
        "# clf.predict(count_vect.transform(['']))\n",
        "# clf.classes_"
      ],
      "execution_count": 0,
      "outputs": []
    },
    {
      "cell_type": "markdown",
      "metadata": {
        "colab_type": "text",
        "id": "Utj5HMKtZ5bn"
      },
      "source": [
        "##Decision tree"
      ]
    },
    {
      "cell_type": "code",
      "metadata": {
        "colab_type": "code",
        "nbpresent": {
          "id": "94e77975-2978-4bdc-a96b-2715d4c83194"
        },
        "id": "qCS7I5USZ5bX",
        "colab": {}
      },
      "source": [
        "from sklearn.tree import DecisionTreeClassifier\n",
        "clf = DecisionTreeClassifier().fit(X_train_counts, twenty_train.target)\n",
        "predicted = clf.predict(X_test)"
      ],
      "execution_count": 0,
      "outputs": []
    },
    {
      "cell_type": "code",
      "metadata": {
        "colab_type": "code",
        "nbpresent": {
          "id": "37e726e5-36e8-40ec-ba41-74fe6e3613d2"
        },
        "outputId": "9bf121bb-cb2f-4290-ae18-af45dd053ed0",
        "id": "PsoOLJF_Z5bK",
        "colab": {
          "base_uri": "https://localhost:8080/",
          "height": 68
        }
      },
      "source": [
        "metrics_func(twenty_test.target, predicted, 'macro')"
      ],
      "execution_count": 0,
      "outputs": [
        {
          "output_type": "stream",
          "text": [
            "acc=0.7473\n",
            "macro F1=0.7498, macro P=0.7599, macro R=0.7474\n",
            "\n"
          ],
          "name": "stdout"
        }
      ]
    },
    {
      "cell_type": "code",
      "metadata": {
        "colab_type": "code",
        "outputId": "1852685c-44c8-44eb-a120-4c1167fe3823",
        "id": "aTSdA3TJZ5a0",
        "colab": {
          "base_uri": "https://localhost:8080/",
          "height": 281
        }
      },
      "source": [
        "heatmap_func(twenty_test.target, predicted, categories)"
      ],
      "execution_count": 0,
      "outputs": [
        {
          "output_type": "display_data",
          "data": {
            "image/png": "[encoded data removed]",
            "text/plain": [
              "<Figure size 432x288 with 1 Axes>"
            ]
          },
          "metadata": {
            "tags": []
          }
        }
      ]
    },
    {
      "cell_type": "markdown",
      "metadata": {
        "colab_type": "text",
        "id": "KdCrCKrYVo4L"
      },
      "source": [
        "## Random Forest"
      ]
    },
    {
      "cell_type": "code",
      "metadata": {
        "colab_type": "code",
        "nbpresent": {
          "id": "46282963-7130-438d-8098-6acffc43198c"
        },
        "id": "e5efQ-y-Vo4P",
        "colab": {}
      },
      "source": [
        "from sklearn.ensemble import RandomForestClassifier\n",
        "clf = RandomForestClassifier().fit(X_train_counts, twenty_train.target)\n",
        "predicted = clf.predict(X_test)"
      ],
      "execution_count": 0,
      "outputs": []
    },
    {
      "cell_type": "code",
      "metadata": {
        "colab_type": "code",
        "nbpresent": {
          "id": "37e726e5-36e8-40ec-ba41-74fe6e3613d2"
        },
        "outputId": "0de617b6-3bdc-43bc-f6dd-36c417c7764e",
        "id": "RFgPG6ORVo4V",
        "colab": {
          "base_uri": "https://localhost:8080/"
        }
      },
      "source": [
        "metrics_func(twenty_test.target, predicted, 'macro')"
      ],
      "execution_count": 0,
      "outputs": [
        {
          "output_type": "stream",
          "text": [
            "acc=0.8486\n",
            "macro F1=0.8522, macro P=0.8754, macro R=0.8488\n",
            "\n"
          ],
          "name": "stdout"
        }
      ]
    },
    {
      "cell_type": "code",
      "metadata": {
        "colab_type": "code",
        "outputId": "a2753320-54f3-43fe-fcae-27fc379f94d5",
        "id": "X869etoqVo4Z",
        "colab": {
          "base_uri": "https://localhost:8080/"
        }
      },
      "source": [
        "heatmap_func(twenty_test.target, predicted, categories)"
      ],
      "execution_count": 0,
      "outputs": [
        {
          "output_type": "display_data",
          "data": {
            "image/png": "[encoded data removed]",
            "text/plain": [
              "<Figure size 432x288 with 1 Axes>"
            ]
          },
          "metadata": {
            "tags": []
          }
        }
      ]
    },
    {
      "cell_type": "code",
      "metadata": {
        "id": "YG534elSDx63",
        "colab_type": "code",
        "colab": {}
      },
      "source": [
        "# for line in twenty_train.DESCR.split('\\n'):\n",
        "#     print (line)"
      ],
      "execution_count": 0,
      "outputs": []
    }
  ]
}
