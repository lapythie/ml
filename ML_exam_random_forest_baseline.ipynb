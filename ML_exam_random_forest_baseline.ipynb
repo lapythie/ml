{
  "nbformat": 4,
  "nbformat_minor": 0,
  "metadata": {
    "kernelspec": {
      "display_name": "Python 3",
      "language": "python",
      "name": "python3"
    },
    "language_info": {
      "codemirror_mode": {
        "name": "ipython",
        "version": 3
      },
      "file_extension": ".py",
      "mimetype": "text/x-python",
      "name": "python",
      "nbconvert_exporter": "python",
      "pygments_lexer": "ipython3",
      "version": "3.7.4"
    },
    "colab": {
      "name": "ML_exam_random_forest_baseline.ipynb",
      "provenance": [],
      "collapsed_sections": [
        "LlZ8TB2do3mH",
        "cLAK_niUo3mp",
        "7niOtELPo3nD",
        "YY6UsMwZo3p1",
        "E8IqXK_uo3qG",
        "6IvAZxayW_MX",
        "E6Q0I9lGo3pG",
        "lQ6KixxQo3p8"
      ],
      "include_colab_link": true
    }
  },
  "cells": [
    {
      "cell_type": "markdown",
      "metadata": {
        "id": "view-in-github",
        "colab_type": "text"
      },
      "source": [
        "<a href=\"https://colab.research.google.com/github/lapythie/ml/blob/master/ML_exam_random_forest_baseline.ipynb\" target=\"_parent\"><img src=\"https://colab.research.google.com/assets/colab-badge.svg\" alt=\"Open In Colab\"/></a>"
      ]
    },
    {
      "cell_type": "markdown",
      "metadata": {
        "id": "YLVKqTukTmDW",
        "colab_type": "text"
      },
      "source": [
        "[Ссылка на папку экзамена](https://drive.google.com/drive/folders/1t3buUL5uddhLHjPHUo18sIlr1XxQ-141?usp=sharing), куда сохраняла всякие эмбеддинги, модели и пр."
      ]
    },
    {
      "cell_type": "code",
      "metadata": {
        "id": "EGDq-dH-o3ka",
        "colab_type": "code",
        "colab": {
          "base_uri": "https://localhost:8080/",
          "height": 118
        },
        "outputId": "ec85d94f-8f70-4afd-d075-9ac164366d1c"
      },
      "source": [
        "!pip install youtokentome\n",
        "import youtokentome as yttm"
      ],
      "execution_count": null,
      "outputs": [
        {
          "output_type": "stream",
          "text": [
            "Collecting youtokentome\n",
            "\u001b[?25l  Downloading https://files.pythonhosted.org/packages/a3/65/4a86cf99da3f680497ae132329025b291e2fda22327e8da6a9476e51acb1/youtokentome-1.0.6-cp36-cp36m-manylinux2010_x86_64.whl (1.7MB)\n",
            "\u001b[K     |████████████████████████████████| 1.7MB 2.8MB/s \n",
            "\u001b[?25hRequirement already satisfied: Click>=7.0 in /usr/local/lib/python3.6/dist-packages (from youtokentome) (7.1.2)\n",
            "Installing collected packages: youtokentome\n",
            "Successfully installed youtokentome-1.0.6\n"
          ],
          "name": "stdout"
        }
      ]
    },
    {
      "cell_type": "code",
      "metadata": {
        "id": "r9BI_WOio3kj",
        "colab_type": "code",
        "colab": {
          "base_uri": "https://localhost:8080/",
          "height": 70
        },
        "outputId": "d67b2e50-8e96-46fa-f292-44bc447525ef"
      },
      "source": [
        "import pandas as pd\n",
        "import numpy as np\n",
        "import tensorflow as tf\n",
        "import gensim\n",
        "\n",
        "from sklearn.model_selection import train_test_split, RepeatedStratifiedKFold, StratifiedKFold, KFold, GridSearchCV\n",
        "from sklearn.linear_model import LogisticRegression\n",
        "from sklearn.ensemble import RandomForestClassifier\n",
        "from sklearn.ensemble import AdaBoostClassifier, BaggingClassifier, ExtraTreesClassifier, \\\n",
        "GradientBoostingClassifier, StackingClassifier, VotingClassifier\n",
        "from sklearn.metrics import *\n",
        "\n",
        "from string import punctuation\n",
        "punctuation += '«»—–…“”‘•'\n",
        "from collections import Counter\n",
        "\n",
        "import seaborn as sns\n",
        "import matplotlib.pyplot as plt\n",
        "%matplotlib inline"
      ],
      "execution_count": null,
      "outputs": [
        {
          "output_type": "stream",
          "text": [
            "/usr/local/lib/python3.6/dist-packages/statsmodels/tools/_testing.py:19: FutureWarning: pandas.util.testing is deprecated. Use the functions in the public API at pandas.testing instead.\n",
            "  import pandas.util.testing as tm\n"
          ],
          "name": "stderr"
        }
      ]
    },
    {
      "cell_type": "code",
      "metadata": {
        "id": "G8aFDztjo3kr",
        "colab_type": "code",
        "colab": {}
      },
      "source": [
        "tc = pd.read_csv('jigsaw-toxic-comment-train.csv')\n",
        "val = pd.read_csv('validation.csv')"
      ],
      "execution_count": null,
      "outputs": []
    },
    {
      "cell_type": "code",
      "metadata": {
        "id": "hxxxMHkdo3kw",
        "colab_type": "code",
        "colab": {}
      },
      "source": [
        "pd.set_option(\"display.max_columns\", 100)\n",
        "pd.set_option(\"display.max_rows\", 100)\n",
        "pd.set_option(\"display.min_rows\", 100)\n",
        "pd.set_option(\"display.max_colwidth\", 100)"
      ],
      "execution_count": null,
      "outputs": []
    },
    {
      "cell_type": "markdown",
      "metadata": {
        "id": "Xa8IWeMlo3k3",
        "colab_type": "text"
      },
      "source": [
        "# *1) Анализ всех дополнительных колонок тональности (как проявляется тот или иной тип токсичности, как в данных это представлено, какие есть пограничные случаи) - 2.5 балла*"
      ]
    },
    {
      "cell_type": "markdown",
      "metadata": {
        "id": "pWSXkuymo3k5",
        "colab_type": "text"
      },
      "source": [
        "Анализ колонок"
      ]
    },
    {
      "cell_type": "code",
      "metadata": {
        "scrolled": true,
        "id": "s5NlDuiJo3k6",
        "colab_type": "code",
        "colab": {},
        "outputId": "bc4a0d1e-7c05-4df9-925a-40acf1020b9d"
      },
      "source": [
        "for column in tc.columns:\n",
        "    print(column, tc[column].nunique())\n",
        "#     тут всё ожидаемо"
      ],
      "execution_count": null,
      "outputs": [
        {
          "output_type": "stream",
          "text": [
            "id 223549\n",
            "comment_text 223549\n",
            "toxic 2\n",
            "severe_toxic 2\n",
            "obscene 2\n",
            "threat 2\n",
            "insult 2\n",
            "identity_hate 2\n"
          ],
          "name": "stdout"
        }
      ]
    },
    {
      "cell_type": "code",
      "metadata": {
        "id": "H6PJYuKho3lB",
        "colab_type": "code",
        "colab": {},
        "outputId": "63e59369-23bf-4bf0-9e66-bd47d478db33"
      },
      "source": [
        "tc.describe()\n",
        "# по строчке mean: среди токсичных\n",
        "# больше всего обсценных комментариев и оскорблений\n",
        "# реже всего попадаются угрозы"
      ],
      "execution_count": null,
      "outputs": [
        {
          "output_type": "execute_result",
          "data": {
            "text/html": [
              "<div>\n",
              "<style scoped>\n",
              "    .dataframe tbody tr th:only-of-type {\n",
              "        vertical-align: middle;\n",
              "    }\n",
              "\n",
              "    .dataframe tbody tr th {\n",
              "        vertical-align: top;\n",
              "    }\n",
              "\n",
              "    .dataframe thead th {\n",
              "        text-align: right;\n",
              "    }\n",
              "</style>\n",
              "<table border=\"1\" class=\"dataframe\">\n",
              "  <thead>\n",
              "    <tr style=\"text-align: right;\">\n",
              "      <th></th>\n",
              "      <th>toxic</th>\n",
              "      <th>severe_toxic</th>\n",
              "      <th>obscene</th>\n",
              "      <th>threat</th>\n",
              "      <th>insult</th>\n",
              "      <th>identity_hate</th>\n",
              "    </tr>\n",
              "  </thead>\n",
              "  <tbody>\n",
              "    <tr>\n",
              "      <th>count</th>\n",
              "      <td>223549.000000</td>\n",
              "      <td>223549.000000</td>\n",
              "      <td>223549.000000</td>\n",
              "      <td>223549.000000</td>\n",
              "      <td>223549.000000</td>\n",
              "      <td>223549.000000</td>\n",
              "    </tr>\n",
              "    <tr>\n",
              "      <th>mean</th>\n",
              "      <td>0.095657</td>\n",
              "      <td>0.008777</td>\n",
              "      <td>0.054306</td>\n",
              "      <td>0.003082</td>\n",
              "      <td>0.050566</td>\n",
              "      <td>0.009470</td>\n",
              "    </tr>\n",
              "    <tr>\n",
              "      <th>std</th>\n",
              "      <td>0.294121</td>\n",
              "      <td>0.093272</td>\n",
              "      <td>0.226621</td>\n",
              "      <td>0.055431</td>\n",
              "      <td>0.219110</td>\n",
              "      <td>0.096852</td>\n",
              "    </tr>\n",
              "    <tr>\n",
              "      <th>min</th>\n",
              "      <td>0.000000</td>\n",
              "      <td>0.000000</td>\n",
              "      <td>0.000000</td>\n",
              "      <td>0.000000</td>\n",
              "      <td>0.000000</td>\n",
              "      <td>0.000000</td>\n",
              "    </tr>\n",
              "    <tr>\n",
              "      <th>25%</th>\n",
              "      <td>0.000000</td>\n",
              "      <td>0.000000</td>\n",
              "      <td>0.000000</td>\n",
              "      <td>0.000000</td>\n",
              "      <td>0.000000</td>\n",
              "      <td>0.000000</td>\n",
              "    </tr>\n",
              "    <tr>\n",
              "      <th>50%</th>\n",
              "      <td>0.000000</td>\n",
              "      <td>0.000000</td>\n",
              "      <td>0.000000</td>\n",
              "      <td>0.000000</td>\n",
              "      <td>0.000000</td>\n",
              "      <td>0.000000</td>\n",
              "    </tr>\n",
              "    <tr>\n",
              "      <th>75%</th>\n",
              "      <td>0.000000</td>\n",
              "      <td>0.000000</td>\n",
              "      <td>0.000000</td>\n",
              "      <td>0.000000</td>\n",
              "      <td>0.000000</td>\n",
              "      <td>0.000000</td>\n",
              "    </tr>\n",
              "    <tr>\n",
              "      <th>max</th>\n",
              "      <td>1.000000</td>\n",
              "      <td>1.000000</td>\n",
              "      <td>1.000000</td>\n",
              "      <td>1.000000</td>\n",
              "      <td>1.000000</td>\n",
              "      <td>1.000000</td>\n",
              "    </tr>\n",
              "  </tbody>\n",
              "</table>\n",
              "</div>"
            ],
            "text/plain": [
              "               toxic   severe_toxic        obscene         threat  \\\n",
              "count  223549.000000  223549.000000  223549.000000  223549.000000   \n",
              "mean        0.095657       0.008777       0.054306       0.003082   \n",
              "std         0.294121       0.093272       0.226621       0.055431   \n",
              "min         0.000000       0.000000       0.000000       0.000000   \n",
              "25%         0.000000       0.000000       0.000000       0.000000   \n",
              "50%         0.000000       0.000000       0.000000       0.000000   \n",
              "75%         0.000000       0.000000       0.000000       0.000000   \n",
              "max         1.000000       1.000000       1.000000       1.000000   \n",
              "\n",
              "              insult  identity_hate  \n",
              "count  223549.000000  223549.000000  \n",
              "mean        0.050566       0.009470  \n",
              "std         0.219110       0.096852  \n",
              "min         0.000000       0.000000  \n",
              "25%         0.000000       0.000000  \n",
              "50%         0.000000       0.000000  \n",
              "75%         0.000000       0.000000  \n",
              "max         1.000000       1.000000  "
            ]
          },
          "metadata": {
            "tags": []
          },
          "execution_count": 38
        }
      ]
    },
    {
      "cell_type": "code",
      "metadata": {
        "scrolled": true,
        "id": "ynWxnHpso3lc",
        "colab_type": "code",
        "colab": {},
        "outputId": "4f10ddf2-a1c2-41a6-eafc-83c62a98aff1"
      },
      "source": [
        "fig, ax = plt.subplots(figsize=(10,5))\n",
        "sns.heatmap(data=tc.corr(), \n",
        "            annot=True, ax=ax)\n",
        "plt.title(\"Корреляция\")\n",
        "plt.show()\n",
        "\n",
        "# как мы уже заметили,\n",
        "# с токсичностью больше всего коррелируют оскорбления и мат\n",
        "\n",
        "# ещё оскорбления и мат немного коррелируют с severe_toxic"
      ],
      "execution_count": null,
      "outputs": [
        {
          "output_type": "display_data",
          "data": {
            "image/png": "[encoded data removed]",
            "text/plain": [
              "<Figure size 720x360 with 2 Axes>"
            ]
          },
          "metadata": {
            "tags": [],
            "needs_background": "light"
          }
        }
      ]
    },
    {
      "cell_type": "code",
      "metadata": {
        "id": "EZWRFDPio3lg",
        "colab_type": "code",
        "colab": {
          "base_uri": "https://localhost:8080/",
          "height": 407
        },
        "outputId": "e94643ff-8124-4b8f-d084-6eb8697e0256"
      },
      "source": [
        "for column in tc.columns[2:]:\n",
        "    print(tc[column].value_counts())\n",
        "    print('============')"
      ],
      "execution_count": null,
      "outputs": [
        {
          "output_type": "stream",
          "text": [
            "0    202165\n",
            "1     21384\n",
            "Name: toxic, dtype: int64\n",
            "============\n",
            "0    221587\n",
            "1      1962\n",
            "Name: severe_toxic, dtype: int64\n",
            "============\n",
            "0    211409\n",
            "1     12140\n",
            "Name: obscene, dtype: int64\n",
            "============\n",
            "0    222860\n",
            "1       689\n",
            "Name: threat, dtype: int64\n",
            "============\n",
            "0    212245\n",
            "1     11304\n",
            "Name: insult, dtype: int64\n",
            "============\n",
            "0    221432\n",
            "1      2117\n",
            "Name: identity_hate, dtype: int64\n",
            "============\n"
          ],
          "name": "stdout"
        }
      ]
    },
    {
      "cell_type": "code",
      "metadata": {
        "id": "geBAx7qso3lm",
        "colab_type": "code",
        "colab": {},
        "outputId": "f2edb036-2641-4d64-87b3-9e78b6e3076b"
      },
      "source": [
        "tc.groupby(['toxic', 'insult']).agg(['nunique'])"
      ],
      "execution_count": null,
      "outputs": [
        {
          "output_type": "execute_result",
          "data": {
            "text/html": [
              "<div>\n",
              "<style scoped>\n",
              "    .dataframe tbody tr th:only-of-type {\n",
              "        vertical-align: middle;\n",
              "    }\n",
              "\n",
              "    .dataframe tbody tr th {\n",
              "        vertical-align: top;\n",
              "    }\n",
              "\n",
              "    .dataframe thead tr th {\n",
              "        text-align: left;\n",
              "    }\n",
              "\n",
              "    .dataframe thead tr:last-of-type th {\n",
              "        text-align: right;\n",
              "    }\n",
              "</style>\n",
              "<table border=\"1\" class=\"dataframe\">\n",
              "  <thead>\n",
              "    <tr>\n",
              "      <th></th>\n",
              "      <th></th>\n",
              "      <th>id</th>\n",
              "      <th>comment_text</th>\n",
              "      <th>severe_toxic</th>\n",
              "      <th>obscene</th>\n",
              "      <th>threat</th>\n",
              "      <th>identity_hate</th>\n",
              "    </tr>\n",
              "    <tr>\n",
              "      <th></th>\n",
              "      <th></th>\n",
              "      <th>nunique</th>\n",
              "      <th>nunique</th>\n",
              "      <th>nunique</th>\n",
              "      <th>nunique</th>\n",
              "      <th>nunique</th>\n",
              "      <th>nunique</th>\n",
              "    </tr>\n",
              "    <tr>\n",
              "      <th>toxic</th>\n",
              "      <th>insult</th>\n",
              "      <th></th>\n",
              "      <th></th>\n",
              "      <th></th>\n",
              "      <th></th>\n",
              "      <th></th>\n",
              "      <th></th>\n",
              "    </tr>\n",
              "  </thead>\n",
              "  <tbody>\n",
              "    <tr>\n",
              "      <th rowspan=\"2\" valign=\"top\">0</th>\n",
              "      <th>0</th>\n",
              "      <td>201547</td>\n",
              "      <td>201547</td>\n",
              "      <td>1</td>\n",
              "      <td>2</td>\n",
              "      <td>2</td>\n",
              "      <td>2</td>\n",
              "    </tr>\n",
              "    <tr>\n",
              "      <th>1</th>\n",
              "      <td>618</td>\n",
              "      <td>618</td>\n",
              "      <td>1</td>\n",
              "      <td>2</td>\n",
              "      <td>2</td>\n",
              "      <td>2</td>\n",
              "    </tr>\n",
              "    <tr>\n",
              "      <th rowspan=\"2\" valign=\"top\">1</th>\n",
              "      <th>0</th>\n",
              "      <td>10698</td>\n",
              "      <td>10698</td>\n",
              "      <td>2</td>\n",
              "      <td>2</td>\n",
              "      <td>2</td>\n",
              "      <td>2</td>\n",
              "    </tr>\n",
              "    <tr>\n",
              "      <th>1</th>\n",
              "      <td>10686</td>\n",
              "      <td>10686</td>\n",
              "      <td>2</td>\n",
              "      <td>2</td>\n",
              "      <td>2</td>\n",
              "      <td>2</td>\n",
              "    </tr>\n",
              "  </tbody>\n",
              "</table>\n",
              "</div>"
            ],
            "text/plain": [
              "                  id comment_text severe_toxic obscene  threat identity_hate\n",
              "             nunique      nunique      nunique nunique nunique       nunique\n",
              "toxic insult                                                                \n",
              "0     0       201547       201547            1       2       2             2\n",
              "      1          618          618            1       2       2             2\n",
              "1     0        10698        10698            2       2       2             2\n",
              "      1        10686        10686            2       2       2             2"
            ]
          },
          "metadata": {
            "tags": []
          },
          "execution_count": 58
        }
      ]
    },
    {
      "cell_type": "code",
      "metadata": {
        "id": "onvLtj4Ao3lu",
        "colab_type": "code",
        "colab": {},
        "outputId": "6f2b0773-2191-4ee3-b277-032de2edddd8"
      },
      "source": [
        "tc.groupby(['toxic', 'obscene']).agg(['nunique'])"
      ],
      "execution_count": null,
      "outputs": [
        {
          "output_type": "execute_result",
          "data": {
            "text/html": [
              "<div>\n",
              "<style scoped>\n",
              "    .dataframe tbody tr th:only-of-type {\n",
              "        vertical-align: middle;\n",
              "    }\n",
              "\n",
              "    .dataframe tbody tr th {\n",
              "        vertical-align: top;\n",
              "    }\n",
              "\n",
              "    .dataframe thead tr th {\n",
              "        text-align: left;\n",
              "    }\n",
              "\n",
              "    .dataframe thead tr:last-of-type th {\n",
              "        text-align: right;\n",
              "    }\n",
              "</style>\n",
              "<table border=\"1\" class=\"dataframe\">\n",
              "  <thead>\n",
              "    <tr>\n",
              "      <th></th>\n",
              "      <th></th>\n",
              "      <th>id</th>\n",
              "      <th>comment_text</th>\n",
              "      <th>severe_toxic</th>\n",
              "      <th>threat</th>\n",
              "      <th>insult</th>\n",
              "      <th>identity_hate</th>\n",
              "    </tr>\n",
              "    <tr>\n",
              "      <th></th>\n",
              "      <th></th>\n",
              "      <th>nunique</th>\n",
              "      <th>nunique</th>\n",
              "      <th>nunique</th>\n",
              "      <th>nunique</th>\n",
              "      <th>nunique</th>\n",
              "      <th>nunique</th>\n",
              "    </tr>\n",
              "    <tr>\n",
              "      <th>toxic</th>\n",
              "      <th>obscene</th>\n",
              "      <th></th>\n",
              "      <th></th>\n",
              "      <th></th>\n",
              "      <th></th>\n",
              "      <th></th>\n",
              "      <th></th>\n",
              "    </tr>\n",
              "  </thead>\n",
              "  <tbody>\n",
              "    <tr>\n",
              "      <th rowspan=\"2\" valign=\"top\">0</th>\n",
              "      <th>0</th>\n",
              "      <td>201577</td>\n",
              "      <td>201577</td>\n",
              "      <td>1</td>\n",
              "      <td>2</td>\n",
              "      <td>2</td>\n",
              "      <td>2</td>\n",
              "    </tr>\n",
              "    <tr>\n",
              "      <th>1</th>\n",
              "      <td>588</td>\n",
              "      <td>588</td>\n",
              "      <td>1</td>\n",
              "      <td>2</td>\n",
              "      <td>2</td>\n",
              "      <td>2</td>\n",
              "    </tr>\n",
              "    <tr>\n",
              "      <th rowspan=\"2\" valign=\"top\">1</th>\n",
              "      <th>0</th>\n",
              "      <td>9832</td>\n",
              "      <td>9832</td>\n",
              "      <td>2</td>\n",
              "      <td>2</td>\n",
              "      <td>2</td>\n",
              "      <td>2</td>\n",
              "    </tr>\n",
              "    <tr>\n",
              "      <th>1</th>\n",
              "      <td>11552</td>\n",
              "      <td>11552</td>\n",
              "      <td>2</td>\n",
              "      <td>2</td>\n",
              "      <td>2</td>\n",
              "      <td>2</td>\n",
              "    </tr>\n",
              "  </tbody>\n",
              "</table>\n",
              "</div>"
            ],
            "text/plain": [
              "                   id comment_text severe_toxic  threat  insult identity_hate\n",
              "              nunique      nunique      nunique nunique nunique       nunique\n",
              "toxic obscene                                                                \n",
              "0     0        201577       201577            1       2       2             2\n",
              "      1           588          588            1       2       2             2\n",
              "1     0          9832         9832            2       2       2             2\n",
              "      1         11552        11552            2       2       2             2"
            ]
          },
          "metadata": {
            "tags": []
          },
          "execution_count": 59
        }
      ]
    },
    {
      "cell_type": "code",
      "metadata": {
        "id": "Lw3w7MHCo3lz",
        "colab_type": "code",
        "colab": {},
        "outputId": "dd295e4d-dcc8-43f2-8e7f-c0e4735592fe"
      },
      "source": [
        "tc.groupby(['insult', 'obscene']).agg(['nunique'])"
      ],
      "execution_count": null,
      "outputs": [
        {
          "output_type": "execute_result",
          "data": {
            "text/html": [
              "<div>\n",
              "<style scoped>\n",
              "    .dataframe tbody tr th:only-of-type {\n",
              "        vertical-align: middle;\n",
              "    }\n",
              "\n",
              "    .dataframe tbody tr th {\n",
              "        vertical-align: top;\n",
              "    }\n",
              "\n",
              "    .dataframe thead tr th {\n",
              "        text-align: left;\n",
              "    }\n",
              "\n",
              "    .dataframe thead tr:last-of-type th {\n",
              "        text-align: right;\n",
              "    }\n",
              "</style>\n",
              "<table border=\"1\" class=\"dataframe\">\n",
              "  <thead>\n",
              "    <tr>\n",
              "      <th></th>\n",
              "      <th></th>\n",
              "      <th>id</th>\n",
              "      <th>comment_text</th>\n",
              "      <th>toxic</th>\n",
              "      <th>severe_toxic</th>\n",
              "      <th>threat</th>\n",
              "      <th>identity_hate</th>\n",
              "    </tr>\n",
              "    <tr>\n",
              "      <th></th>\n",
              "      <th></th>\n",
              "      <th>nunique</th>\n",
              "      <th>nunique</th>\n",
              "      <th>nunique</th>\n",
              "      <th>nunique</th>\n",
              "      <th>nunique</th>\n",
              "      <th>nunique</th>\n",
              "    </tr>\n",
              "    <tr>\n",
              "      <th>insult</th>\n",
              "      <th>obscene</th>\n",
              "      <th></th>\n",
              "      <th></th>\n",
              "      <th></th>\n",
              "      <th></th>\n",
              "      <th></th>\n",
              "      <th></th>\n",
              "    </tr>\n",
              "  </thead>\n",
              "  <tbody>\n",
              "    <tr>\n",
              "      <th rowspan=\"2\" valign=\"top\">0</th>\n",
              "      <th>0</th>\n",
              "      <td>208989</td>\n",
              "      <td>208989</td>\n",
              "      <td>2</td>\n",
              "      <td>2</td>\n",
              "      <td>2</td>\n",
              "      <td>2</td>\n",
              "    </tr>\n",
              "    <tr>\n",
              "      <th>1</th>\n",
              "      <td>3256</td>\n",
              "      <td>3256</td>\n",
              "      <td>2</td>\n",
              "      <td>2</td>\n",
              "      <td>2</td>\n",
              "      <td>2</td>\n",
              "    </tr>\n",
              "    <tr>\n",
              "      <th rowspan=\"2\" valign=\"top\">1</th>\n",
              "      <th>0</th>\n",
              "      <td>2420</td>\n",
              "      <td>2420</td>\n",
              "      <td>2</td>\n",
              "      <td>2</td>\n",
              "      <td>2</td>\n",
              "      <td>2</td>\n",
              "    </tr>\n",
              "    <tr>\n",
              "      <th>1</th>\n",
              "      <td>8884</td>\n",
              "      <td>8884</td>\n",
              "      <td>2</td>\n",
              "      <td>2</td>\n",
              "      <td>2</td>\n",
              "      <td>2</td>\n",
              "    </tr>\n",
              "  </tbody>\n",
              "</table>\n",
              "</div>"
            ],
            "text/plain": [
              "                    id comment_text   toxic severe_toxic  threat identity_hate\n",
              "               nunique      nunique nunique      nunique nunique       nunique\n",
              "insult obscene                                                                \n",
              "0      0        208989       208989       2            2       2             2\n",
              "       1          3256         3256       2            2       2             2\n",
              "1      0          2420         2420       2            2       2             2\n",
              "       1          8884         8884       2            2       2             2"
            ]
          },
          "metadata": {
            "tags": []
          },
          "execution_count": 60
        }
      ]
    },
    {
      "cell_type": "code",
      "metadata": {
        "id": "kAzd3tQvo3l4",
        "colab_type": "code",
        "colab": {
          "base_uri": "https://localhost:8080/",
          "height": 467
        },
        "outputId": "5ec9926d-6051-4273-d499-329d4be29822"
      },
      "source": [
        "#токсичные, но не относятся ни к одному из подклассов\n",
        "tc[(tc['obscene']==0) &\n",
        "  (tc['threat']==0) &\n",
        "  (tc['insult']==0) &\n",
        "  (tc['identity_hate']==0) &\n",
        "  (tc['toxic']==1)].head()"
      ],
      "execution_count": null,
      "outputs": [
        {
          "output_type": "execute_result",
          "data": {
            "text/html": [
              "<div>\n",
              "<style scoped>\n",
              "    .dataframe tbody tr th:only-of-type {\n",
              "        vertical-align: middle;\n",
              "    }\n",
              "\n",
              "    .dataframe tbody tr th {\n",
              "        vertical-align: top;\n",
              "    }\n",
              "\n",
              "    .dataframe thead th {\n",
              "        text-align: right;\n",
              "    }\n",
              "</style>\n",
              "<table border=\"1\" class=\"dataframe\">\n",
              "  <thead>\n",
              "    <tr style=\"text-align: right;\">\n",
              "      <th></th>\n",
              "      <th>id</th>\n",
              "      <th>comment_text</th>\n",
              "      <th>toxic</th>\n",
              "      <th>severe_toxic</th>\n",
              "      <th>obscene</th>\n",
              "      <th>threat</th>\n",
              "      <th>insult</th>\n",
              "      <th>identity_hate</th>\n",
              "    </tr>\n",
              "  </thead>\n",
              "  <tbody>\n",
              "    <tr>\n",
              "      <th>12</th>\n",
              "      <td>0005c987bdfc9d4b</td>\n",
              "      <td>Hey... what is it..\\n@ | talk .\\nWhat is it... an exclusive group of some WP TALIBANS...who are good at destroying, self-appointed purist who GANG UP any one who asks them questions abt their ANTI-SOCIAL and DESTRUCTIVE (non)-contribution at WP?\\n\\nAsk Sityush to clean up his behavior than issue me nonsensical warnings...</td>\n",
              "      <td>1</td>\n",
              "      <td>0</td>\n",
              "      <td>0</td>\n",
              "      <td>0</td>\n",
              "      <td>0</td>\n",
              "      <td>0</td>\n",
              "    </tr>\n",
              "    <tr>\n",
              "      <th>16</th>\n",
              "      <td>0007e25b2121310b</td>\n",
              "      <td>Bye! \\n\\nDon't look, come or think of comming back! Tosser.</td>\n",
              "      <td>1</td>\n",
              "      <td>0</td>\n",
              "      <td>0</td>\n",
              "      <td>0</td>\n",
              "      <td>0</td>\n",
              "      <td>0</td>\n",
              "    </tr>\n",
              "    <tr>\n",
              "      <th>44</th>\n",
              "      <td>001956c382006abd</td>\n",
              "      <td>I'm Sorry \\n\\nI'm sorry I screwed around with someones talk page.  It was very bad to do.  I know how having the templates on their talk page helps you assert your dominance over them.  I know I should bow down to the almighty administrators.  But then again, I'm going to go play outside....with your mom.   76.122.79.82</td>\n",
              "      <td>1</td>\n",
              "      <td>0</td>\n",
              "      <td>0</td>\n",
              "      <td>0</td>\n",
              "      <td>0</td>\n",
              "      <td>0</td>\n",
              "    </tr>\n",
              "    <tr>\n",
              "      <th>59</th>\n",
              "      <td>002264ea4d5f2887</td>\n",
              "      <td>Why can't you believe how fat Artie is? Did you see him on his recent appearence on the Tonight Show with Jay Leno? He looks absolutely AWFUL! If I had to put money on it, I'd say that Artie Lange is a can't miss candidate for the 2007 Dead pool!   \\n\\n  \\nKindly keep your malicious fingers off of my above comment, . Everytime you remove it, I will repost it!!!</td>\n",
              "      <td>1</td>\n",
              "      <td>0</td>\n",
              "      <td>0</td>\n",
              "      <td>0</td>\n",
              "      <td>0</td>\n",
              "      <td>0</td>\n",
              "    </tr>\n",
              "    <tr>\n",
              "      <th>151</th>\n",
              "      <td>005f59485fcddeb0</td>\n",
              "      <td>\"\\n\\nSORRY PUCK BUT NO ONE EVER SAID DICK WAS NUMBER ONE!! But he is clearly listed as being \"\"second only to Batman\"\" and a \"\"master detective and martial artist\"\" and been trained in all the mentioned combat discplines. No need to mention in skills/abilities about the battles he's lost and won because thats not what an encylopia is supposed to do. \\n\\nAlso, what your problem is your going by...</td>\n",
              "      <td>1</td>\n",
              "      <td>0</td>\n",
              "      <td>0</td>\n",
              "      <td>0</td>\n",
              "      <td>0</td>\n",
              "      <td>0</td>\n",
              "    </tr>\n",
              "  </tbody>\n",
              "</table>\n",
              "</div>"
            ],
            "text/plain": [
              "                   id  \\\n",
              "12   0005c987bdfc9d4b   \n",
              "16   0007e25b2121310b   \n",
              "44   001956c382006abd   \n",
              "59   002264ea4d5f2887   \n",
              "151  005f59485fcddeb0   \n",
              "\n",
              "                                                                                                                                                                                                                                                                                                                                                                                                        comment_text  \\\n",
              "12                                                                               Hey... what is it..\\n@ | talk .\\nWhat is it... an exclusive group of some WP TALIBANS...who are good at destroying, self-appointed purist who GANG UP any one who asks them questions abt their ANTI-SOCIAL and DESTRUCTIVE (non)-contribution at WP?\\n\\nAsk Sityush to clean up his behavior than issue me nonsensical warnings...   \n",
              "16                                                                                                                                                                                                                                                                                                                                                       Bye! \\n\\nDon't look, come or think of comming back! Tosser.   \n",
              "44                                                                                 I'm Sorry \\n\\nI'm sorry I screwed around with someones talk page.  It was very bad to do.  I know how having the templates on their talk page helps you assert your dominance over them.  I know I should bow down to the almighty administrators.  But then again, I'm going to go play outside....with your mom.   76.122.79.82   \n",
              "59                                       Why can't you believe how fat Artie is? Did you see him on his recent appearence on the Tonight Show with Jay Leno? He looks absolutely AWFUL! If I had to put money on it, I'd say that Artie Lange is a can't miss candidate for the 2007 Dead pool!   \\n\\n  \\nKindly keep your malicious fingers off of my above comment, . Everytime you remove it, I will repost it!!!   \n",
              "151  \"\\n\\nSORRY PUCK BUT NO ONE EVER SAID DICK WAS NUMBER ONE!! But he is clearly listed as being \"\"second only to Batman\"\" and a \"\"master detective and martial artist\"\" and been trained in all the mentioned combat discplines. No need to mention in skills/abilities about the battles he's lost and won because thats not what an encylopia is supposed to do. \\n\\nAlso, what your problem is your going by...   \n",
              "\n",
              "     toxic  severe_toxic  obscene  threat  insult  identity_hate  \n",
              "12       1             0        0       0       0              0  \n",
              "16       1             0        0       0       0              0  \n",
              "44       1             0        0       0       0              0  \n",
              "59       1             0        0       0       0              0  \n",
              "151      1             0        0       0       0              0  "
            ]
          },
          "metadata": {
            "tags": []
          },
          "execution_count": 41
        }
      ]
    },
    {
      "cell_type": "code",
      "metadata": {
        "id": "yA4uLAQAeMI4",
        "colab_type": "code",
        "colab": {}
      },
      "source": [
        "obscene = tc[\n",
        "        (tc['obscene']==1) &\n",
        "        (tc['threat']==0) &\n",
        "        (tc['insult']==0) &\n",
        "        (tc['identity_hate']==0)]\n",
        "obscene_tokens = []\n",
        "for comment in obscene['comment_text'].values:\n",
        "    for token in comment.split():\n",
        "        obscene_tokens.append(token)\n",
        "d = Counter(obscene_tokens)"
      ],
      "execution_count": null,
      "outputs": []
    },
    {
      "cell_type": "code",
      "metadata": {
        "id": "-RZkzaEifVvp",
        "colab_type": "code",
        "colab": {
          "base_uri": "https://localhost:8080/",
          "height": 342
        },
        "outputId": "8196bf6c-5822-4835-d137-7d2ad9faa19d"
      },
      "source": [
        "# кроме стоп-слов в топ попали некоторые\n",
        "# самые распространенные токсичные ругательства\n",
        "# почти все они написаны капсом, что неудивительно\n",
        "# капс коррелирует с токсичностью, как мы увидим позже\n",
        "d.most_common(20)"
      ],
      "execution_count": null,
      "outputs": [
        {
          "output_type": "execute_result",
          "data": {
            "text/plain": [
              "[('the', 3904),\n",
              " ('to', 2987),\n",
              " ('I', 2753),\n",
              " ('a', 2675),\n",
              " ('and', 2520),\n",
              " ('you', 2477),\n",
              " ('is', 1931),\n",
              " ('of', 1869),\n",
              " ('FUCK', 1519),\n",
              " ('that', 1400),\n",
              " ('fuck', 1299),\n",
              " ('THE', 1228),\n",
              " ('DICKS', 1213),\n",
              " ('in', 1152),\n",
              " ('it', 1055),\n",
              " ('SHIT', 1030),\n",
              " ('YOU', 991),\n",
              " ('for', 959),\n",
              " ('have', 937),\n",
              " ('your', 909)]"
            ]
          },
          "metadata": {
            "tags": []
          },
          "execution_count": 47
        }
      ]
    },
    {
      "cell_type": "code",
      "metadata": {
        "scrolled": true,
        "id": "yb--8fKto3l_",
        "colab_type": "code",
        "colab": {},
        "outputId": "0deb30c4-8f94-440b-f566-ea80353f2798"
      },
      "source": [
        "sample = tc[tc['toxic']==1][\n",
        "    (\n",
        "        (tc['obscene']==1) &\n",
        "        (tc['threat']==0) &\n",
        "        (tc['insult']==0) &\n",
        "        (tc['identity_hate']==0)\n",
        "    )|(\n",
        "        (tc['obscene']==0) &\n",
        "        (tc['threat']==1) &\n",
        "        (tc['insult']==0) &\n",
        "        (tc['identity_hate']==0)\n",
        "    )|(\n",
        "        (tc['obscene']==0) &\n",
        "        (tc['threat']==0) &\n",
        "        (tc['insult']==1) &\n",
        "        (tc['identity_hate']==0)\n",
        "    )|(\n",
        "        (tc['obscene']==0) &\n",
        "        (tc['threat']==0) &\n",
        "        (tc['insult']==0) &\n",
        "        (tc['identity_hate']==1)\n",
        "    )\n",
        "]\n"
      ],
      "execution_count": null,
      "outputs": [
        {
          "output_type": "stream",
          "text": [
            "c:\\users\\ира\\appdata\\local\\programs\\python\\python37\\lib\\site-packages\\ipykernel_launcher.py:21: UserWarning: Boolean Series key will be reindexed to match DataFrame index.\n"
          ],
          "name": "stderr"
        }
      ]
    },
    {
      "cell_type": "markdown",
      "metadata": {
        "id": "LlZ8TB2do3mH",
        "colab_type": "text"
      },
      "source": [
        "## YOUTOKENTOME (не для оценивания, просто потом я его пыталась использовать для поиска признаков, которые могут обобщаться на многоязычные данные)"
      ]
    },
    {
      "cell_type": "code",
      "metadata": {
        "scrolled": false,
        "id": "Y2xyHopko3mI",
        "colab_type": "code",
        "colab": {}
      },
      "source": [
        "%%time\n",
        "#with lower()\n",
        "\n",
        "train_data_path = 'train_data.txt'\n",
        "model_path = 'consistent.model'\n",
        "tc = pd.read_csv('jigsaw-toxic-comment-train.csv')\n",
        "\n",
        "with open(train_data_path, 'w', encoding='utf-8') as fout:\n",
        "    for comment in tc['comment_text'].values:\n",
        "            print(comment.lower(), file=fout)\n",
        "\n",
        "test_text = 'YOU FREAKING FUCKING BASTARD you freaking fucking bastard' \n",
        "yttm.BPE.train(data=train_data_path, \n",
        "               vocab_size=5000, model=model_path)\n",
        "bpe = yttm.BPE(model=model_path)\n",
        "print(bpe.encode([test_text], \n",
        "                 output_type=yttm.OutputType.ID))\n",
        "print(bpe.encode([test_text], \n",
        "                 output_type=yttm.OutputType.SUBWORD))"
      ],
      "execution_count": null,
      "outputs": []
    },
    {
      "cell_type": "code",
      "metadata": {
        "id": "bvNwH_Uao3mQ",
        "colab_type": "code",
        "colab": {}
      },
      "source": [
        "# %%time\n",
        "def bpe_text(text, model=bpe):\n",
        "    text = text.lower()\n",
        "    text = ' '.join(model.encode([text], output_type=yttm.OutputType.SUBWORD)[0])\n",
        "    return text\n",
        "# много ниже для пары обобщающихся признаков использовала эту колонку\n",
        "tc['bpe_consistent'] = tc['comment_text'].apply(bpe_text)\n",
        "val['bpe_consistent'] = val['comment_text'].apply(bpe_text)"
      ],
      "execution_count": null,
      "outputs": []
    },
    {
      "cell_type": "markdown",
      "metadata": {
        "id": "cLAK_niUo3mp",
        "colab_type": "text"
      },
      "source": [
        "# 5) Поиск признаков, которые могут обобщаться на многоязычные данные (минимум 10 признаков рассмотрено, обучать можно любую модель, оценивать нужно на validation.csv)  - 3 балла"
      ]
    },
    {
      "cell_type": "markdown",
      "metadata": {
        "id": "Z1ZFeE1po3mq",
        "colab_type": "text"
      },
      "source": [
        "Поиск признаков на основе кода Сергея:"
      ]
    },
    {
      "cell_type": "code",
      "metadata": {
        "id": "1qPVAXvbo3mr",
        "colab_type": "code",
        "colab": {}
      },
      "source": [
        "import re \n",
        "import itertools\n",
        "from string import punctuation\n",
        "from collections import Counter\n",
        "\n",
        "# У Сергея:\n",
        "# делаем минимум нормализации т.к. хотим учитывать как можно больше признаков\n",
        "# def soft_normalize(text):\n",
        "#   text = re.sub(\"\\n|\\t|\\s\\\"\", \" \", text)\n",
        "#   return text\n",
        "\n",
        "# У меня:\n",
        "# нормализацию вообще делать не будем, посчитаем пробелообразные\n",
        "\n",
        "# Эти две функции не нашли ничего на валидации\n",
        "# def newline_count(text):\n",
        "#     matches = re.findall('\\n', text)\n",
        "#     return len(matches)\n",
        "# def tab_count(text):\n",
        "#     matches = re.findall('\\t', text)\n",
        "#     return len(matches)\n",
        "\n",
        "def space_count(text):\n",
        "    matches = re.findall('\\s', text)\n",
        "    return len(matches)\n",
        "\n",
        "def you_count (text):\n",
        "    '''Только для трейна'''\n",
        "    matches = re.findall('you', text.lower())\n",
        "    return len(matches)\n",
        "\n",
        "# У Сергея\n",
        "# def has_link(text):\n",
        "#   return int(re.search(\"https?://[^ ]+\", text) is not None)\n",
        "\n",
        "# У меня\n",
        "def has_ip(text):\n",
        "    rex = [\"[0-9]+\\.[0-9]+\\.[0-9]+\\.[0-9]+\", \n",
        "           \"[a-z0-9]+:[a-z0-9]+:[a-z0-9]+:[a-z0-9]+\"]\n",
        "    return int((re.search(rex[0], text) or\n",
        "                re.search(rex[1], text)) is not None)\n",
        "\n",
        "# У Сергея\n",
        "# def longest_word(text):\n",
        "#   tokens = tokenize(text)\n",
        "#   length = 0\n",
        "#   for t in tokens:\n",
        "#     if len(t) > length:\n",
        "#       length = len(t)\n",
        "#   return length\n",
        "\n",
        "# У меня\n",
        "def longest_bpe(bpe_text):\n",
        "    tokens = bpe_text.split()\n",
        "    length = 0\n",
        "    for t in tokens:\n",
        "#         без спец.символа для пробела\n",
        "#         это кстати не андерскор\n",
        "        if len(t.strip('▁')) > length:\n",
        "            length = len(t.strip('▁'))\n",
        "    return length\n",
        "\n",
        "# ещё придумала:\n",
        "\n",
        "def ratio(func, text, if_split=False):\n",
        "    if if_split:\n",
        "        total = len(text.split())\n",
        "    else:\n",
        "        total = len(text)\n",
        "    count = func(text)\n",
        "    if count:\n",
        "        return count/total\n",
        "    else:\n",
        "        return 0\n",
        "\n",
        "def unique_bpe_count(bpe_text):\n",
        "    tokens = bpe_text.split()\n",
        "    return len(set(tokens))\n",
        "\n",
        "def repeats_count(bpe_text):\n",
        "    d = Counter()\n",
        "    d = Counter(bpe_text.split())\n",
        "    rex = None\n",
        "    for bpe, _ in d.most_common():\n",
        "        if len(bpe.strip('▁')) > 2:\n",
        "            rex = bpe\n",
        "            matches = re.findall(rex, bpe_text)\n",
        "            return len(matches)\n",
        "    if rex == None:\n",
        "        return 0"
      ],
      "execution_count": null,
      "outputs": []
    },
    {
      "cell_type": "code",
      "metadata": {
        "id": "MeK2qV9Eo3mv",
        "colab_type": "code",
        "colab": {}
      },
      "source": [
        "# Тут всё просто взяла у Сергея\n",
        "\n",
        "def tokenize(text):\n",
        "  text = re.sub(f\"[{punctuation}]\", \" \", text)\n",
        "  text = re.sub(\"\\s+\", \" \", text)\n",
        "  return text.split()\n",
        "\n",
        "def sentenize(text):\n",
        "  sents = re.split(\"[\\n.!?]( |$)\", text)\n",
        "  return [s for s in sents if len(s) > 0 and s != \" \"]\n",
        "\n",
        "def sents_count(text):\n",
        "  return len(sentenize(text))\n",
        "\n",
        "def mean_token_length(text):\n",
        "  length = 0\n",
        "  tokens = tokenize(text)\n",
        "  if len(tokens) == 0:\n",
        "    return 0\n",
        "  for token in tokens:\n",
        "    length += len(token)\n",
        "  return length/len(tokens)\n",
        "\n",
        "def caps_ratio(text):\n",
        "  total = len(text)\n",
        "  caps = 0\n",
        "  for letter in text:\n",
        "    if letter not in punctuation and letter != \" \":\n",
        "      if letter.lower() != letter:\n",
        "        caps += 1\n",
        "  return caps/total\n",
        "\n",
        "def nonalpha_ratio(text):\n",
        "  total = len(text)\n",
        "  nonalpha = 0\n",
        "  sents = sentenize(text)\n",
        "  for sent in sents:\n",
        "    for letter in text:\n",
        "      if letter in punctuation:\n",
        "        nonalpha += 1\n",
        "  return nonalpha/total\n",
        "\n",
        "def numeric_ratio(text):\n",
        "  total = len(text)\n",
        "  numeric = 0\n",
        "  for letter in text:\n",
        "    if letter.isnumeric():\n",
        "      numeric += 1\n",
        "  return numeric/total\n",
        "\n",
        "def max_sent_complexity(text):\n",
        "  compl = 0\n",
        "  sents = sentenize(text)\n",
        "  for s in sents:\n",
        "    matches = re.findall(\"[,;\\:\\-()]+\", s)\n",
        "    if len(matches) > compl:\n",
        "      compl = len(matches)\n",
        "  return compl\n",
        "\n",
        "def rage_punctuation_length(text):\n",
        "  length = 0\n",
        "  matches = re.findall(\"[?!.]+\", text)\n",
        "  for m in matches:\n",
        "    if len(m) > length:\n",
        "      length = len(m)\n",
        "  return length\n",
        "\n",
        "def longest_same_char(text):\n",
        "  length = 0\n",
        "  curr_length = 1\n",
        "  for i in range(1,len(text)):\n",
        "    if text[i] == text[i-1]:\n",
        "      curr_length += 1\n",
        "    else:\n",
        "      if curr_length > length:\n",
        "        length = curr_length\n",
        "      curr_length = 1\n",
        "  if curr_length > length:\n",
        "    return curr_length\n",
        "  return length"
      ],
      "execution_count": null,
      "outputs": []
    },
    {
      "cell_type": "code",
      "metadata": {
        "id": "CNl1JftCo3m2",
        "colab_type": "code",
        "colab": {},
        "outputId": "8415ceda-55e9-4d80-e0fb-30e2f6642ed0"
      },
      "source": [
        "%%time\n",
        "# 8 признаков Сергея\n",
        "tc['text_mean_tokens_length'] = tc['comment_text'].apply(mean_token_length)\n",
        "tc['text_sents_count'] = tc['comment_text'].apply(sents_count)\n",
        "tc['text_caps_ratio'] = tc['comment_text'].apply(caps_ratio)\n",
        "tc['text_nonalpha_ratio'] = tc['comment_text'].apply(nonalpha_ratio)\n",
        "tc['text_numeric_ratio'] = tc['comment_text'].apply(numeric_ratio)\n",
        "# tc['text_has_link'] = tc['comment_text'].apply(has_link)\n",
        "# tc['text_longest_word'] = tc['comment_text'].apply(longest_word)\n",
        "tc['text_complexity'] = tc['comment_text'].apply(max_sent_complexity)\n",
        "tc['text_rage_punctuation_length'] = tc['comment_text'].apply(rage_punctuation_length)\n",
        "tc['text_longest_same_char'] = tc['comment_text'].apply(longest_same_char)"
      ],
      "execution_count": null,
      "outputs": [
        {
          "output_type": "stream",
          "text": [
            "Wall time: 2min 52s\n"
          ],
          "name": "stdout"
        }
      ]
    },
    {
      "cell_type": "code",
      "metadata": {
        "id": "cjjsgT5_o3m7",
        "colab_type": "code",
        "colab": {},
        "outputId": "9dd3f612-d1cd-4e6c-b03b-17a51e41dfa7"
      },
      "source": [
        "%%time\n",
        "# 8 признаков Сергея\n",
        "val['text_mean_tokens_length'] = val['comment_text'].apply(mean_token_length)\n",
        "val['text_sents_count'] = val['comment_text'].apply(sents_count)\n",
        "val['text_caps_ratio'] = val['comment_text'].apply(caps_ratio)\n",
        "val['text_nonalpha_ratio'] = val['comment_text'].apply(nonalpha_ratio)\n",
        "val['text_numeric_ratio'] = val['comment_text'].apply(numeric_ratio)\n",
        "# val['text_has_link'] = val['comment_text'].apply(has_link)\n",
        "# val['text_longest_word'] = val['comment_text'].apply(longest_word)\n",
        "val['text_complexity'] = val['comment_text'].apply(max_sent_complexity)\n",
        "val['text_rage_punctuation_length'] = val['comment_text'].apply(rage_punctuation_length)\n",
        "val['text_longest_same_char'] = val['comment_text'].apply(longest_same_char)"
      ],
      "execution_count": null,
      "outputs": [
        {
          "output_type": "stream",
          "text": [
            "Wall time: 4.15 s\n"
          ],
          "name": "stdout"
        }
      ]
    },
    {
      "cell_type": "code",
      "metadata": {
        "scrolled": true,
        "id": "B29FuIbuo3m-",
        "colab_type": "code",
        "colab": {},
        "outputId": "7924f3a3-b6dd-4a4b-ee59-f81887b7a9a3"
      },
      "source": [
        "%%time\n",
        "# 12 моих признаков\n",
        "\n",
        "# (первые четыре признака были рассмотрены, но отвалились, \n",
        "# так как в валидационной выборке не нашлось пробелообразных кроме \\s)\n",
        "\n",
        "# tc['newline_count'] = tc['comment_text']. apply(lambda s: newline_count(s))\n",
        "# tc['newline_ratio'] = tc['comment_text']. apply(lambda s: ratio(newline_count, s))\n",
        "# tc['tab_count'] = tc['comment_text']. apply(lambda s: tab_count(s))\n",
        "# tc['tab_ratio'] = tc['comment_text']. apply(lambda s: ratio(tab_count, s))\n",
        "\n",
        "# только для трейна\n",
        "# tc['you_ratio'] = tc['comment_text']. apply(lambda s: ratio(you_count, s, if_split=True))\n",
        "\n",
        "tc['space_count'] = tc['comment_text']. apply(lambda s: space_count(s))\n",
        "tc['space_ratio'] = tc['comment_text']. apply(lambda s: ratio(space_count, s))\n",
        "\n",
        "tc['has_ip'] = tc['comment_text']. apply(lambda s: has_ip(s))\n",
        "\n",
        "tc['longest_bpe'] = tc['bpe_consistent']. apply(lambda s: longest_bpe(s))\n",
        "tc['unique_bpe'] = tc['bpe_consistent'].apply(lambda s: unique_bpe_count(s))\n",
        "tc['unique_bpe_ratio'] = tc['bpe_consistent'].apply(lambda s: ratio(unique_bpe_count, s, if_split=True))\n",
        "\n",
        "tc['repeats_count'] = tc['bpe_consistent']. apply(lambda s: repeats_count(s))\n",
        "tc['repeats_ratio'] = tc['bpe_consistent']. apply(lambda s: ratio(repeats_count, s, if_split=True))"
      ],
      "execution_count": null,
      "outputs": [
        {
          "output_type": "stream",
          "text": [
            "Wall time: 35.8 s\n"
          ],
          "name": "stdout"
        }
      ]
    },
    {
      "cell_type": "code",
      "metadata": {
        "scrolled": true,
        "id": "6S346v3oo3nB",
        "colab_type": "code",
        "colab": {},
        "outputId": "931c31f1-d109-428b-e37e-2805dcefcd88"
      },
      "source": [
        "tc.groupby(['toxic']).mean()\n",
        "# судя по средним, предполагаю, что всё, что с ratio, малоинформативно"
      ],
      "execution_count": null,
      "outputs": [
        {
          "output_type": "execute_result",
          "data": {
            "text/html": [
              "<div>\n",
              "<style scoped>\n",
              "    .dataframe tbody tr th:only-of-type {\n",
              "        vertical-align: middle;\n",
              "    }\n",
              "\n",
              "    .dataframe tbody tr th {\n",
              "        vertical-align: top;\n",
              "    }\n",
              "\n",
              "    .dataframe thead th {\n",
              "        text-align: right;\n",
              "    }\n",
              "</style>\n",
              "<table border=\"1\" class=\"dataframe\">\n",
              "  <thead>\n",
              "    <tr style=\"text-align: right;\">\n",
              "      <th></th>\n",
              "      <th>severe_toxic</th>\n",
              "      <th>obscene</th>\n",
              "      <th>threat</th>\n",
              "      <th>insult</th>\n",
              "      <th>identity_hate</th>\n",
              "      <th>space_count</th>\n",
              "      <th>space_ratio</th>\n",
              "      <th>has_ip</th>\n",
              "      <th>longest_bpe</th>\n",
              "      <th>repeats_count</th>\n",
              "      <th>...</th>\n",
              "      <th>unique_bpe</th>\n",
              "      <th>unique_bpe_ratio</th>\n",
              "      <th>text_mean_tokens_length</th>\n",
              "      <th>text_sents_count</th>\n",
              "      <th>text_caps_ratio</th>\n",
              "      <th>text_nonalpha_ratio</th>\n",
              "      <th>text_numeric_ratio</th>\n",
              "      <th>text_complexity</th>\n",
              "      <th>text_rage_punctuation_length</th>\n",
              "      <th>text_longest_same_char</th>\n",
              "    </tr>\n",
              "    <tr>\n",
              "      <th>toxic</th>\n",
              "      <th></th>\n",
              "      <th></th>\n",
              "      <th></th>\n",
              "      <th></th>\n",
              "      <th></th>\n",
              "      <th></th>\n",
              "      <th></th>\n",
              "      <th></th>\n",
              "      <th></th>\n",
              "      <th></th>\n",
              "      <th></th>\n",
              "      <th></th>\n",
              "      <th></th>\n",
              "      <th></th>\n",
              "      <th></th>\n",
              "      <th></th>\n",
              "      <th></th>\n",
              "      <th></th>\n",
              "      <th></th>\n",
              "      <th></th>\n",
              "      <th></th>\n",
              "    </tr>\n",
              "  </thead>\n",
              "  <tbody>\n",
              "    <tr>\n",
              "      <th>0</th>\n",
              "      <td>0.000000</td>\n",
              "      <td>0.002909</td>\n",
              "      <td>0.000173</td>\n",
              "      <td>0.003057</td>\n",
              "      <td>0.000603</td>\n",
              "      <td>71.694185</td>\n",
              "      <td>0.177423</td>\n",
              "      <td>0.044859</td>\n",
              "      <td>6.606836</td>\n",
              "      <td>5.511503</td>\n",
              "      <td>...</td>\n",
              "      <td>80.482527</td>\n",
              "      <td>0.740973</td>\n",
              "      <td>4.487762</td>\n",
              "      <td>4.908293</td>\n",
              "      <td>0.045593</td>\n",
              "      <td>0.239584</td>\n",
              "      <td>0.011150</td>\n",
              "      <td>2.615008</td>\n",
              "      <td>1.271521</td>\n",
              "      <td>2.788213</td>\n",
              "    </tr>\n",
              "    <tr>\n",
              "      <th>1</th>\n",
              "      <td>0.091751</td>\n",
              "      <td>0.540217</td>\n",
              "      <td>0.030584</td>\n",
              "      <td>0.499719</td>\n",
              "      <td>0.093294</td>\n",
              "      <td>50.899598</td>\n",
              "      <td>0.184295</td>\n",
              "      <td>0.064254</td>\n",
              "      <td>5.508651</td>\n",
              "      <td>7.095024</td>\n",
              "      <td>...</td>\n",
              "      <td>50.986626</td>\n",
              "      <td>0.784000</td>\n",
              "      <td>4.472755</td>\n",
              "      <td>4.134774</td>\n",
              "      <td>0.112576</td>\n",
              "      <td>0.242793</td>\n",
              "      <td>0.009353</td>\n",
              "      <td>1.569351</td>\n",
              "      <td>2.470165</td>\n",
              "      <td>4.699074</td>\n",
              "    </tr>\n",
              "  </tbody>\n",
              "</table>\n",
              "<p>2 rows × 21 columns</p>\n",
              "</div>"
            ],
            "text/plain": [
              "       severe_toxic   obscene    threat    insult  identity_hate  space_count  \\\n",
              "toxic                                                                           \n",
              "0          0.000000  0.002909  0.000173  0.003057       0.000603    71.694185   \n",
              "1          0.091751  0.540217  0.030584  0.499719       0.093294    50.899598   \n",
              "\n",
              "       space_ratio    has_ip  longest_bpe  repeats_count  ...  unique_bpe  \\\n",
              "toxic                                                     ...               \n",
              "0         0.177423  0.044859     6.606836       5.511503  ...   80.482527   \n",
              "1         0.184295  0.064254     5.508651       7.095024  ...   50.986626   \n",
              "\n",
              "       unique_bpe_ratio  text_mean_tokens_length  text_sents_count  \\\n",
              "toxic                                                                \n",
              "0              0.740973                 4.487762          4.908293   \n",
              "1              0.784000                 4.472755          4.134774   \n",
              "\n",
              "       text_caps_ratio  text_nonalpha_ratio  text_numeric_ratio  \\\n",
              "toxic                                                             \n",
              "0             0.045593             0.239584            0.011150   \n",
              "1             0.112576             0.242793            0.009353   \n",
              "\n",
              "       text_complexity  text_rage_punctuation_length  text_longest_same_char  \n",
              "toxic                                                                         \n",
              "0             2.615008                      1.271521                2.788213  \n",
              "1             1.569351                      2.470165                4.699074  \n",
              "\n",
              "[2 rows x 21 columns]"
            ]
          },
          "metadata": {
            "tags": []
          },
          "execution_count": 199
        }
      ]
    },
    {
      "cell_type": "markdown",
      "metadata": {
        "id": "7niOtELPo3nD",
        "colab_type": "text"
      },
      "source": [
        "# 2) Бейзлайн модель, которая работает на отложенной выборке (train_test_split) и validation.csv (различие в точности может быть большим, но главное попробовать любыми способами его уменьшить и зафиксировать эксперименты) - 3 балла\n"
      ]
    },
    {
      "cell_type": "code",
      "metadata": {
        "id": "I-iROjvZo3nP",
        "colab_type": "code",
        "colab": {}
      },
      "source": [
        "# код из домашки по overfitting validation\n",
        "\n",
        "def gs_func(clf, parameter_grid, cv, scoring='roc_auc'):\n",
        "    grid_search = GridSearchCV(clf, parameter_grid, scoring, cv=cv)\n",
        "    grid_search.fit(X_train, y_train)\n",
        "\n",
        "    predicted_probs = grid_search.predict_proba(X_test)\n",
        "    roc_auc_test = roc_auc_score(y_test, predicted_probs[:, 1])\n",
        "\n",
        "    print('Best parameters: {}'.format(grid_search.best_params_))  \n",
        "    print('ROC AUC score of the best_estimator: {}\\\n",
        "    '.format(grid_search.best_score_))\n",
        "    print('ROC AUC score на тесте: {}\\\n",
        "    '.format(roc_auc_test))\n",
        "    \n",
        "    return grid_search\n",
        "\n",
        "def fold(nfolds=10, random_st=0, nrepeats=10, if_shuffle=True):\n",
        "    folds = KFold(n_splits=nfolds, shuffle=if_shuffle, \n",
        "                  random_state=random_st)\n",
        "    stratified_folds = StratifiedKFold(n_splits=nfolds, \n",
        "                                       shuffle=if_shuffle, \n",
        "                                       random_state=random_st)\n",
        "    repeated_folds = RepeatedStratifiedKFold(\n",
        "        n_splits=nfolds, n_repeats=nrepeats, random_state=random_st)\n",
        "    return folds, stratified_folds, repeated_folds"
      ],
      "execution_count": null,
      "outputs": []
    },
    {
      "cell_type": "code",
      "metadata": {
        "id": "0QhIb96Fo3nU",
        "colab_type": "code",
        "colab": {},
        "outputId": "1cd07f15-7524-49f3-c5c0-781d364fa91f"
      },
      "source": [
        "%%time\n",
        "# 12 моих признаков\n",
        "\n",
        "# (первые четыре признака были рассмотрены, но отвалились, \n",
        "# так как в валидационной выборке не нашлось пробелообразных кроме \\s)\n",
        "# val['newline_count'] = val['comment_text']. apply(lambda s: newline_count(s))\n",
        "# val['newline_ratio'] = val['comment_text']. apply(lambda s: ratio(newline_count, s))\n",
        "# val['tab_count'] = val['comment_text']. apply(lambda s: tab_count(s))\n",
        "# val['tab_ratio'] = val['comment_text']. apply(lambda s: ratio(tab_count, s))\n",
        "\n",
        "val['space_count'] = val['comment_text']. apply(lambda s: space_count(s))\n",
        "val['space_ratio'] = val['comment_text']. apply(lambda s: ratio(space_count, s))\n",
        "\n",
        "val['has_ip'] = val['comment_text']. apply(lambda s: has_ip(s))\n",
        "\n",
        "val['repeats_count'] = val['bpe_consistent']. apply(lambda s: repeats_count(s))\n",
        "val['repeats_ratio'] = val['bpe_consistent']. apply(lambda s: ratio(repeats_count, s, if_split=True))\n",
        "\n",
        "val['longest_bpe'] = val['bpe_consistent']. apply(lambda s: longest_bpe(s))\n",
        "val['unique_bpe'] = val['bpe_consistent'].apply(lambda s: unique_bpe_count(s))\n",
        "val['unique_bpe_ratio'] = val['bpe_consistent'].apply(lambda s: ratio(unique_bpe_count, s, if_split=True))"
      ],
      "execution_count": null,
      "outputs": [
        {
          "output_type": "stream",
          "text": [
            "Wall time: 3.23 s\n"
          ],
          "name": "stdout"
        }
      ]
    },
    {
      "cell_type": "code",
      "metadata": {
        "scrolled": true,
        "id": "9YfHzwkCo3nZ",
        "colab_type": "code",
        "colab": {},
        "outputId": "7000d23c-c7ea-42b4-c290-6886bc204bb6"
      },
      "source": [
        "val.groupby(['toxic']).mean()"
      ],
      "execution_count": null,
      "outputs": [
        {
          "output_type": "execute_result",
          "data": {
            "text/html": [
              "<div>\n",
              "<style scoped>\n",
              "    .dataframe tbody tr th:only-of-type {\n",
              "        vertical-align: middle;\n",
              "    }\n",
              "\n",
              "    .dataframe tbody tr th {\n",
              "        vertical-align: top;\n",
              "    }\n",
              "\n",
              "    .dataframe thead th {\n",
              "        text-align: right;\n",
              "    }\n",
              "</style>\n",
              "<table border=\"1\" class=\"dataframe\">\n",
              "  <thead>\n",
              "    <tr style=\"text-align: right;\">\n",
              "      <th></th>\n",
              "      <th>id</th>\n",
              "      <th>space_count</th>\n",
              "      <th>space_ratio</th>\n",
              "      <th>has_ip</th>\n",
              "      <th>repeats_count</th>\n",
              "      <th>repeats_ratio</th>\n",
              "      <th>longest_bpe</th>\n",
              "      <th>unique_bpe</th>\n",
              "      <th>unique_bpe_ratio</th>\n",
              "      <th>text_mean_tokens_length</th>\n",
              "      <th>text_sents_count</th>\n",
              "      <th>text_caps_ratio</th>\n",
              "      <th>text_nonalpha_ratio</th>\n",
              "      <th>text_numeric_ratio</th>\n",
              "      <th>text_complexity</th>\n",
              "      <th>text_rage_punctuation_length</th>\n",
              "      <th>text_longest_same_char</th>\n",
              "    </tr>\n",
              "    <tr>\n",
              "      <th>toxic</th>\n",
              "      <th></th>\n",
              "      <th></th>\n",
              "      <th></th>\n",
              "      <th></th>\n",
              "      <th></th>\n",
              "      <th></th>\n",
              "      <th></th>\n",
              "      <th></th>\n",
              "      <th></th>\n",
              "      <th></th>\n",
              "      <th></th>\n",
              "      <th></th>\n",
              "      <th></th>\n",
              "      <th></th>\n",
              "      <th></th>\n",
              "      <th></th>\n",
              "      <th></th>\n",
              "    </tr>\n",
              "  </thead>\n",
              "  <tbody>\n",
              "    <tr>\n",
              "      <th>0</th>\n",
              "      <td>4010.520827</td>\n",
              "      <td>60.898080</td>\n",
              "      <td>0.164273</td>\n",
              "      <td>0.018464</td>\n",
              "      <td>6.376071</td>\n",
              "      <td>0.035328</td>\n",
              "      <td>4.126440</td>\n",
              "      <td>83.955096</td>\n",
              "      <td>0.489439</td>\n",
              "      <td>5.372874</td>\n",
              "      <td>4.708419</td>\n",
              "      <td>0.035149</td>\n",
              "      <td>0.152742</td>\n",
              "      <td>0.009301</td>\n",
              "      <td>2.803250</td>\n",
              "      <td>1.532201</td>\n",
              "      <td>3.216396</td>\n",
              "    </tr>\n",
              "    <tr>\n",
              "      <th>1</th>\n",
              "      <td>3938.840650</td>\n",
              "      <td>51.930081</td>\n",
              "      <td>0.166935</td>\n",
              "      <td>0.089431</td>\n",
              "      <td>8.873984</td>\n",
              "      <td>0.046077</td>\n",
              "      <td>4.082114</td>\n",
              "      <td>76.807317</td>\n",
              "      <td>0.515956</td>\n",
              "      <td>4.902702</td>\n",
              "      <td>3.694309</td>\n",
              "      <td>0.077272</td>\n",
              "      <td>0.142674</td>\n",
              "      <td>0.009559</td>\n",
              "      <td>2.345528</td>\n",
              "      <td>2.094309</td>\n",
              "      <td>3.564228</td>\n",
              "    </tr>\n",
              "  </tbody>\n",
              "</table>\n",
              "</div>"
            ],
            "text/plain": [
              "                id  space_count  space_ratio    has_ip  repeats_count  \\\n",
              "toxic                                                                   \n",
              "0      4010.520827    60.898080     0.164273  0.018464       6.376071   \n",
              "1      3938.840650    51.930081     0.166935  0.089431       8.873984   \n",
              "\n",
              "       repeats_ratio  longest_bpe  unique_bpe  unique_bpe_ratio  \\\n",
              "toxic                                                             \n",
              "0           0.035328     4.126440   83.955096          0.489439   \n",
              "1           0.046077     4.082114   76.807317          0.515956   \n",
              "\n",
              "       text_mean_tokens_length  text_sents_count  text_caps_ratio  \\\n",
              "toxic                                                               \n",
              "0                     5.372874          4.708419         0.035149   \n",
              "1                     4.902702          3.694309         0.077272   \n",
              "\n",
              "       text_nonalpha_ratio  text_numeric_ratio  text_complexity  \\\n",
              "toxic                                                             \n",
              "0                 0.152742            0.009301         2.803250   \n",
              "1                 0.142674            0.009559         2.345528   \n",
              "\n",
              "       text_rage_punctuation_length  text_longest_same_char  \n",
              "toxic                                                        \n",
              "0                          1.532201                3.216396  \n",
              "1                          2.094309                3.564228  "
            ]
          },
          "metadata": {
            "tags": []
          },
          "execution_count": 200
        }
      ]
    },
    {
      "cell_type": "code",
      "metadata": {
        "id": "tNuNQNMVo3ne",
        "colab_type": "code",
        "colab": {}
      },
      "source": [
        "X_train, X_test, y_train, y_test = train_test_split(\n",
        "    tc[tc.columns[9:]], tc['toxic'], \n",
        "    test_size=0.3, random_state=1\n",
        ")\n",
        "X_val = val[val.columns[5:]]\n",
        "y_val = val['toxic']"
      ],
      "execution_count": null,
      "outputs": []
    },
    {
      "cell_type": "code",
      "metadata": {
        "id": "bm93gk-3o3ni",
        "colab_type": "code",
        "colab": {},
        "outputId": "313917a0-98a2-493e-add5-df1d508ce370"
      },
      "source": [
        "for matrix in (X_train, X_test, y_train, y_test):\n",
        "    print(matrix.shape)"
      ],
      "execution_count": null,
      "outputs": [
        {
          "output_type": "stream",
          "text": [
            "(156484, 16)\n",
            "(67065, 16)\n",
            "(156484,)\n",
            "(67065,)\n"
          ],
          "name": "stdout"
        }
      ]
    },
    {
      "cell_type": "code",
      "metadata": {
        "id": "kHXQgzPlo3nq",
        "colab_type": "code",
        "colab": {}
      },
      "source": [
        "repeated_folds = fold(nfolds=3)[2]"
      ],
      "execution_count": null,
      "outputs": []
    },
    {
      "cell_type": "code",
      "metadata": {
        "id": "_AGxaoSgo3nv",
        "colab_type": "code",
        "colab": {},
        "outputId": "d8dff557-4e09-428c-944c-ebf1525b9ff4"
      },
      "source": [
        "%%time\n",
        "parameter_grid = {'C' : [0.0001],\n",
        "#     'C' : [x*0.0001 for x in [10, 100, 1000]], #or more\n",
        "    'class_weight' : [None], \n",
        "    'fit_intercept' : [True], \n",
        "    # 'l1_ratio' : [x/10 for x in range (0,11)], #only elasticnet\n",
        "    'max_iter' : [50],\n",
        "    'penalty' : [\n",
        "#                  'l1', \n",
        "                 'l2'], \n",
        "    'random_state' : [0],\n",
        "    'solver' : ['liblinear'],\n",
        "    'warm_start' : [False]}\n",
        "\n",
        "lr_gs = gs_func(LogisticRegression(), parameter_grid, cv=repeated_folds)"
      ],
      "execution_count": null,
      "outputs": [
        {
          "output_type": "stream",
          "text": [
            "Best parameters: {'C': 0.0001, 'class_weight': None, 'fit_intercept': True, 'max_iter': 50, 'penalty': 'l2', 'random_state': 0, 'solver': 'liblinear', 'warm_start': False}\n",
            "ROC AUC score of the best_estimator: 0.6967222842473263    \n",
            "ROC AUC score на тесте: 0.6972690346653782    \n",
            "Wall time: 51.7 s\n"
          ],
          "name": "stdout"
        }
      ]
    },
    {
      "cell_type": "code",
      "metadata": {
        "id": "wJlLaTkKo3ny",
        "colab_type": "code",
        "colab": {},
        "outputId": "373b2576-0d64-4a7c-a368-eca0d55bdb53"
      },
      "source": [
        "predicted_probs = lr_gs.predict_proba(X_val)\n",
        "roc_auc_score(y_val, predicted_probs[:, 1])"
      ],
      "execution_count": null,
      "outputs": [
        {
          "output_type": "execute_result",
          "data": {
            "text/plain": [
              "0.5963613983259478"
            ]
          },
          "metadata": {
            "tags": []
          },
          "execution_count": 212
        }
      ]
    },
    {
      "cell_type": "markdown",
      "metadata": {
        "id": "2T-PelG5o3n3",
        "colab_type": "text"
      },
      "source": [
        "На тесте: 0.6972690346653782 \n",
        "\n",
        "На валидации: 0.5963613983259478\n",
        "\n",
        "Различие между отложенным тестом и валидацией:"
      ]
    },
    {
      "cell_type": "code",
      "metadata": {
        "id": "T9OihUGOo3n7",
        "colab_type": "code",
        "colab": {},
        "outputId": "7f540204-dcf9-4540-f6a9-4c43dfc1d644"
      },
      "source": [
        "0.6972690346653782-0.5963613983259478"
      ],
      "execution_count": null,
      "outputs": [
        {
          "output_type": "execute_result",
          "data": {
            "text/plain": [
              "0.10090763633943034"
            ]
          },
          "metadata": {
            "tags": []
          },
          "execution_count": 243
        }
      ]
    },
    {
      "cell_type": "markdown",
      "metadata": {
        "id": "tE7m9Q1crO7q",
        "colab_type": "text"
      },
      "source": [
        "**Можно подыскать бейзлайн получше**"
      ]
    },
    {
      "cell_type": "code",
      "metadata": {
        "id": "Ima7HskUo3oU",
        "colab_type": "code",
        "colab": {},
        "outputId": "45e85e9a-9bc2-4ff7-ec17-20350a18f000"
      },
      "source": [
        "%%time\n",
        "parameter_grid = {\n",
        "    'class_weight':[{0: 0.9, 1: 0.1}], \n",
        "    'min_samples_leaf':[15], 'n_estimators':[100], 'random_state':[1], 'max_depth':[7]\n",
        "#     , min_samples_split=2, min_samples_leaf=1, min_weight_fraction_leaf=0.0, max_features=None, random_state=None, max_leaf_nodes=None, min_impurity_decrease=0.0, min_impurity_split=None, class_weight=None, presort='deprecated', ccp_alpha=0.0)\n",
        "}\n",
        "dtc_gs = gs_func(RandomForestClassifier(), parameter_grid, \n",
        "                 cv=repeated_folds)\n"
      ],
      "execution_count": null,
      "outputs": [
        {
          "output_type": "stream",
          "text": [
            "Best parameters: {'class_weight': {0: 0.9, 1: 0.1}, 'max_depth': 7, 'min_samples_leaf': 15, 'n_estimators': 100, 'random_state': 1}\n",
            "ROC AUC score of the best_estimator: 0.7668684329631117    \n",
            "ROC AUC score на тесте: 0.7676569818136723    \n",
            "Wall time: 8min 55s\n"
          ],
          "name": "stdout"
        }
      ]
    },
    {
      "cell_type": "code",
      "metadata": {
        "id": "ZOF5ql1vo3oa",
        "colab_type": "code",
        "colab": {},
        "outputId": "81f2f212-8705-4273-c2e9-e165f8d4d5ee"
      },
      "source": [
        "predicted_probs = rf_gs.predict_proba(X_val)\n",
        "roc_auc_score(y_val, predicted_probs[:, 1])"
      ],
      "execution_count": null,
      "outputs": [
        {
          "output_type": "execute_result",
          "data": {
            "text/plain": [
              "0.6674470704086657"
            ]
          },
          "metadata": {
            "tags": []
          },
          "execution_count": 275
        }
      ]
    },
    {
      "cell_type": "markdown",
      "metadata": {
        "id": "pp1LO5Vvo3oe",
        "colab_type": "text"
      },
      "source": [
        "На тесте: 0.7676569818136723\n",
        "\n",
        "На валидации: 0.6674470704086657\n",
        "\n",
        "Различие между отложенным тестом и валидацией:"
      ]
    },
    {
      "cell_type": "code",
      "metadata": {
        "id": "XbBsxQ90o3oe",
        "colab_type": "code",
        "colab": {},
        "outputId": "057c7647-631f-44dd-dbef-140588cc5344"
      },
      "source": [
        "0.7676569818136723-0.6674470704086657"
      ],
      "execution_count": null,
      "outputs": [
        {
          "output_type": "execute_result",
          "data": {
            "text/plain": [
              "0.10020991140500657"
            ]
          },
          "metadata": {
            "tags": []
          },
          "execution_count": 300
        }
      ]
    },
    {
      "cell_type": "markdown",
      "metadata": {
        "id": "g_un_E4vsBHO",
        "colab_type": "text"
      },
      "source": [
        "**Это будет бейзлайн.**"
      ]
    },
    {
      "cell_type": "code",
      "metadata": {
        "id": "nuz8k3zpo3om",
        "colab_type": "code",
        "colab": {},
        "outputId": "7075a448-811d-40e9-902f-4b39c2d42849"
      },
      "source": [
        "for i in range(len(val.columns[5:])):\n",
        "    print(val.columns[5:][i], '\\t\\t\\t',\n",
        "          dtc_gs.best_estimator_.feature_importances_[i])\n",
        "# бейзлайновый рэндом форест обучился на капсах:"
      ],
      "execution_count": null,
      "outputs": [
        {
          "output_type": "stream",
          "text": [
            "space_count \t\t\t 0.05683530627552082\n",
            "space_ratio \t\t\t 0.040558268316005064\n",
            "has_ip \t\t\t 0.0010302836679211029\n",
            "repeats_count \t\t\t 0.0444257320942115\n",
            "repeats_ratio \t\t\t 0.04155262607579755\n",
            "longest_bpe \t\t\t 0.04285722980539224\n",
            "unique_bpe \t\t\t 0.04528466636322581\n",
            "unique_bpe_ratio \t\t\t 0.0559500692945904\n",
            "text_mean_tokens_length \t\t\t 0.08001023737605277\n",
            "text_sents_count \t\t\t 0.015977394993384592\n",
            "text_caps_ratio \t\t\t 0.35293674691493343\n",
            "text_nonalpha_ratio \t\t\t 0.06491552840675165\n",
            "text_numeric_ratio \t\t\t 0.006437935696834319\n",
            "text_complexity \t\t\t 0.09503347695752065\n",
            "text_rage_punctuation_length \t\t\t 0.039209768630021145\n",
            "text_longest_same_char \t\t\t 0.01698472913183691\n"
          ],
          "name": "stdout"
        }
      ]
    },
    {
      "cell_type": "markdown",
      "metadata": {
        "id": "kYr7mOrho3op",
        "colab_type": "text"
      },
      "source": [
        "Наверное, различие в метрике можно уменьшить гридсерчем"
      ]
    },
    {
      "cell_type": "code",
      "metadata": {
        "id": "eUhE1dpuo3oq",
        "colab_type": "code",
        "colab": {},
        "outputId": "833aa2a0-5656-4f00-d917-e7e790dc38e9"
      },
      "source": [
        "%%time\n",
        "parameter_grid = {\n",
        "    'class_weight':[{0: x, 1: 1-x} for x in np.arange(0.89, 0.92, 0.01)], \n",
        "    'min_samples_leaf':[x for x in range(14, 17)], \n",
        "    'n_estimators':[x for x in range(90, 111, 10)], 'random_state':[1], \n",
        "    'max_depth':[x for x in range(6, 9)]\n",
        "}\n",
        "rf_gs = gs_func(RandomForestClassifier(), parameter_grid, \n",
        "                 cv=repeated_folds)\n",
        "predicted_probs = rf_gs.predict_proba(X_val)\n",
        "roc_auc_score(y_val, predicted_probs[:, 1])"
      ],
      "execution_count": null,
      "outputs": [
        {
          "output_type": "stream",
          "text": [
            "Best parameters: {'class_weight': {0: 0.89, 1: 0.10999999999999999}, 'max_depth': 8, 'min_samples_leaf': 16, 'n_estimators': 110, 'random_state': 1}\n",
            "ROC AUC score of the best_estimator: 0.7716035633094921    \n",
            "ROC AUC score на тесте: 0.773291358426092    \n",
            "Wall time: 13h 56min 42s\n"
          ],
          "name": "stdout"
        },
        {
          "output_type": "execute_result",
          "data": {
            "text/plain": [
              "0.6787625343757131"
            ]
          },
          "metadata": {
            "tags": []
          },
          "execution_count": 308
        }
      ]
    },
    {
      "cell_type": "code",
      "metadata": {
        "id": "OzVWKAuLo3ot",
        "colab_type": "code",
        "colab": {},
        "outputId": "99974d6c-ef5c-4c98-d1f9-8ac3aa2bdd36"
      },
      "source": [
        "0.773291358426092-0.6787625343757131"
      ],
      "execution_count": null,
      "outputs": [
        {
          "output_type": "execute_result",
          "data": {
            "text/plain": [
              "0.09452882405037888"
            ]
          },
          "metadata": {
            "tags": []
          },
          "execution_count": 309
        }
      ]
    },
    {
      "cell_type": "code",
      "metadata": {
        "id": "ZLzXL3VZo3o1",
        "colab_type": "code",
        "colab": {}
      },
      "source": [
        "# import pickle\n",
        "# pkl_filename = \"gs_rf_model.pkl\"\n",
        "# with open(pkl_filename, 'wb') as file:\n",
        "#     pickle.dump(rf_gs, file)\n",
        "# with open(pkl_filename, 'rb') as file:\n",
        "#     pickle_model = pickle.load(file)"
      ],
      "execution_count": null,
      "outputs": []
    },
    {
      "cell_type": "markdown",
      "metadata": {
        "id": "7Vh8K2Lio3o7",
        "colab_type": "text"
      },
      "source": [
        "За 13 часов метрика на валидации подросла на сотую и на сотую уменьшилась разница между тестом и валидацией.\n",
        "\n",
        "Это того не стоило..."
      ]
    },
    {
      "cell_type": "code",
      "metadata": {
        "id": "wM8TG8Bro3o8",
        "colab_type": "code",
        "colab": {},
        "outputId": "2010b6a3-4af5-456d-c36e-7e0e37d11c7b"
      },
      "source": [
        "for i in range(len(val.columns[5:])):\n",
        "    print(val.columns[5:][i], '\\t\\t\\t',\n",
        "          rf_gs.best_estimator_.feature_importances_[i])\n",
        "# обучился опять на капсах"
      ],
      "execution_count": null,
      "outputs": [
        {
          "output_type": "stream",
          "text": [
            "space_count \t\t\t 0.05263126412107628\n",
            "space_ratio \t\t\t 0.047515319309836546\n",
            "has_ip \t\t\t 0.001184664214577729\n",
            "repeats_count \t\t\t 0.05062260004471807\n",
            "repeats_ratio \t\t\t 0.04123461635714071\n",
            "longest_bpe \t\t\t 0.04061674173947386\n",
            "unique_bpe \t\t\t 0.04604011166134813\n",
            "unique_bpe_ratio \t\t\t 0.05988724380970862\n",
            "text_mean_tokens_length \t\t\t 0.08376249197856021\n",
            "text_sents_count \t\t\t 0.016075744264198617\n",
            "text_caps_ratio \t\t\t 0.3338000855789444\n",
            "text_nonalpha_ratio \t\t\t 0.06838439549091871\n",
            "text_numeric_ratio \t\t\t 0.008000900107749563\n",
            "text_complexity \t\t\t 0.09195838529188433\n",
            "text_rage_punctuation_length \t\t\t 0.04239631026267872\n",
            "text_longest_same_char \t\t\t 0.01588912576718543\n"
          ],
          "name": "stdout"
        }
      ]
    },
    {
      "cell_type": "markdown",
      "metadata": {
        "id": "Tc-reiQ9tTK4",
        "colab_type": "text"
      },
      "source": [
        "В ходе экспериментов рэндом форест частенько обучался на text_nonalpha_ratio, но на валидации это давало гораздо менее хороший результат. ROC AUC падала на 0.1 по сравнению с моделями, обучившимися на капсах."
      ]
    },
    {
      "cell_type": "markdown",
      "metadata": {
        "id": "YY6UsMwZo3p1",
        "colab_type": "text"
      },
      "source": [
        "# *3) Ансамбль из моделей в sklearn (ансамблевые модели типа randomforest не считаются). Нужно минимум 5 разных моделей - 2 балла*"
      ]
    },
    {
      "cell_type": "markdown",
      "metadata": {
        "id": "uNciB6v_o3p1",
        "colab_type": "text"
      },
      "source": [
        "Ансамбль из ансамблевых ансамблей (нет)"
      ]
    },
    {
      "cell_type": "code",
      "metadata": {
        "id": "VYC0I2h-o3p2",
        "colab_type": "code",
        "colab": {},
        "outputId": "83d4b85d-48af-432a-abf1-1fa540e87507"
      },
      "source": [
        "%%time\n",
        "# VotingClassifier 4\n",
        "        \n",
        "clf1 = LogisticRegression(C=0.0001, max_iter=50, penalty='l2',\n",
        "                          solver='liblinear', \n",
        "                          random_state=0)\n",
        "clf2 = RandomForestClassifier(n_estimators=100, random_state=0)\n",
        "clf3 = ExtraTreesClassifier(n_estimators=100, random_state=0)\n",
        "clf4 = GradientBoostingClassifier(n_estimators=100, learning_rate=1.0, \n",
        "                           max_depth=1, random_state=0)\n",
        "clf5 = AdaBoostClassifier(n_estimators=100, random_state=0)\n",
        "clf = VotingClassifier(estimators=[('lr', clf1), ('rf', clf2), ('etc', clf3),\n",
        "                                  ('gbc', clf4), ('abc', clf5)],\n",
        "                             voting='soft', weights=[1,2,2,1,1],\n",
        "                             flatten_transform=True)\n",
        "clf.fit(X_train, y_train)\n",
        "predicted_probs = clf.predict_proba(X_val)\n",
        "roc_auc_score(y_val, predicted_probs[:, 1])"
      ],
      "execution_count": null,
      "outputs": [
        {
          "output_type": "stream",
          "text": [
            "Wall time: 3min 5s\n"
          ],
          "name": "stdout"
        },
        {
          "output_type": "execute_result",
          "data": {
            "text/plain": [
              "0.6937737027296417"
            ]
          },
          "metadata": {
            "tags": []
          },
          "execution_count": 346
        }
      ]
    },
    {
      "cell_type": "code",
      "metadata": {
        "id": "Ld5jcoSDo3p4",
        "colab_type": "code",
        "colab": {},
        "outputId": "ee8d84ac-7c2e-434a-e03c-3b9617d2c135"
      },
      "source": [
        "predicted_probs = clf.predict_proba(X_test)\n",
        "rocauc_test = roc_auc_score(y_test, predicted_probs[:, 1])\n",
        "predicted_probs = clf.predict_proba(X_val)\n",
        "rocauc_val = roc_auc_score(y_val, predicted_probs[:, 1])\n",
        "print ('Разница между тестовым и валидационным сетом:', rocauc_test-rocauc_val)"
      ],
      "execution_count": null,
      "outputs": [
        {
          "output_type": "stream",
          "text": [
            "Разница между тестовым и валидационным сетом: 0.09233269078977224\n"
          ],
          "name": "stdout"
        }
      ]
    },
    {
      "cell_type": "markdown",
      "metadata": {
        "id": "4z-fQNJdo3p8",
        "colab_type": "text"
      },
      "source": [
        "Незначительные улучшения в разнице, чуть более значительные улучшения по сравнению с бейзлайном (бейзлайн - 0.678.)"
      ]
    },
    {
      "cell_type": "markdown",
      "metadata": {
        "id": "jZ12-_wqFfWk",
        "colab_type": "text"
      },
      "source": [
        "# *4) Использование предобученной модели из huggingface для обучения классификатора с оценкой на validation.csv - 3 балла*"
      ]
    },
    {
      "cell_type": "markdown",
      "metadata": {
        "id": "WLx2h02oF_tn",
        "colab_type": "text"
      },
      "source": [
        "Как-то в нисе мы планировали использовать берт-как-сервис. Использовала его (в колабе) для получения эмбеддингов. В колабе он заводится вот как-то так, странно."
      ]
    },
    {
      "cell_type": "markdown",
      "metadata": {
        "id": "YG_gtye9xkfW",
        "colab_type": "text"
      },
      "source": [
        "Check out [this issue](https://github.com/hanxiao/bert-as-service/issues/380) and \"*make sure Colab is using Tensorflow 1.x, because bert-serving-start doesn't currently work with TF 2.1 and nohup hides the output of the command failing*\""
      ]
    },
    {
      "cell_type": "code",
      "metadata": {
        "id": "acWmlZeroAC3",
        "colab_type": "code",
        "colab": {
          "base_uri": "https://localhost:8080/",
          "height": 33
        },
        "outputId": "8bf435f7-5a7b-4486-b995-8091016be012"
      },
      "source": [
        "%tensorflow_version 1.x\n",
        "# import tensorflow as tf\n",
        "# print (tf.__version__)"
      ],
      "execution_count": null,
      "outputs": [
        {
          "output_type": "stream",
          "text": [
            "TensorFlow 1.x selected.\n"
          ],
          "name": "stdout"
        }
      ]
    },
    {
      "cell_type": "code",
      "metadata": {
        "id": "Z5eP2_kNhvFf",
        "colab_type": "code",
        "colab": {}
      },
      "source": [
        "%%capture\n",
        "!pip install -U bert-serving-server[http]\n",
        "!pip install bert-serving-client  # client, independent of `bert-serving-server`"
      ],
      "execution_count": null,
      "outputs": []
    },
    {
      "cell_type": "code",
      "metadata": {
        "id": "gePhcxaviZj7",
        "colab_type": "code",
        "colab": {}
      },
      "source": [
        "%%capture\n",
        "!wget https://storage.googleapis.com/bert_models/2018_11_23/multi_cased_L-12_H-768_A-12.zip\n",
        "!unzip /content/multi_cased_L-12_H-768_A-12.zip"
      ],
      "execution_count": null,
      "outputs": []
    },
    {
      "cell_type": "code",
      "metadata": {
        "id": "-pKKkhNVjhXH",
        "colab_type": "code",
        "colab": {}
      },
      "source": [
        "# тут я увеличила максимальный размер последовательности\n",
        "# но это не помогло и он берт клиент помирал\n",
        "# пришлось заэмбеддить только последние пять слов коммента\n",
        "!nohup bert-serving-start -max_seq_len=512 -model_dir=./multi_cased_L-12_H-768_A-12 > out.file 2>&1 &"
      ],
      "execution_count": null,
      "outputs": []
    },
    {
      "cell_type": "code",
      "metadata": {
        "id": "oW2AyjWJkZNz",
        "colab_type": "code",
        "colab": {}
      },
      "source": [
        "from bert_serving.client import BertClient\n",
        "bc = BertClient()"
      ],
      "execution_count": null,
      "outputs": []
    },
    {
      "cell_type": "code",
      "metadata": {
        "id": "gAu5SlCwuQoU",
        "colab_type": "code",
        "colab": {
          "base_uri": "https://localhost:8080/",
          "height": 180
        },
        "outputId": "a56b4a95-3d54-4972-e2de-8cf0b91efba8"
      },
      "source": [
        "bc.status\n",
        "# всё в порядке"
      ],
      "execution_count": null,
      "outputs": [
        {
          "output_type": "execute_result",
          "data": {
            "text/plain": [
              "{'client_version': '1.10.0',\n",
              " 'identity': b'a22e2c2e-ada9-4504-92b5-4b30f0a5638d',\n",
              " 'num_pending_request': 0,\n",
              " 'num_request': 9,\n",
              " 'output_fmt': 'ndarray',\n",
              " 'pending_request': set(),\n",
              " 'port': 5555,\n",
              " 'port_out': 5556,\n",
              " 'server_ip': 'localhost',\n",
              " 'timeout': -1}"
            ]
          },
          "metadata": {
            "tags": []
          },
          "execution_count": 25
        }
      ]
    },
    {
      "cell_type": "code",
      "metadata": {
        "id": "uaAEkR1-Rl_q",
        "colab_type": "code",
        "colab": {}
      },
      "source": [
        "encoded_test = bc.encode(['here we go again and'])\n",
        "# потом используем размер получающихся эмбеддингов"
      ],
      "execution_count": null,
      "outputs": []
    },
    {
      "cell_type": "code",
      "metadata": {
        "id": "8At8IiA9Rkdr",
        "colab_type": "code",
        "colab": {}
      },
      "source": [
        "tc = pd.read_csv('jigsaw-toxic-comment-train.csv')\n",
        "val = pd.read_csv('validation.csv')\n",
        "tc = tc.sample(frac=0.05, random_state=0)"
      ],
      "execution_count": null,
      "outputs": []
    },
    {
      "cell_type": "code",
      "metadata": {
        "id": "eLEOze859TQR",
        "colab_type": "code",
        "colab": {
          "base_uri": "https://localhost:8080/",
          "height": 33
        },
        "outputId": "328fc0b8-4045-48e7-8589-cd5b1b568dd2"
      },
      "source": [
        "tc.shape\n",
        "# размер сэмпла, на котором будем обучаться, чуть больше размера валидационного сета"
      ],
      "execution_count": null,
      "outputs": [
        {
          "output_type": "execute_result",
          "data": {
            "text/plain": [
              "(11177, 8)"
            ]
          },
          "metadata": {
            "tags": []
          },
          "execution_count": 12
        }
      ]
    },
    {
      "cell_type": "code",
      "metadata": {
        "id": "v-OgBIkwVNHl",
        "colab_type": "code",
        "colab": {
          "base_uri": "https://localhost:8080/",
          "height": 33
        },
        "outputId": "852b8a77-c0e1-4a25-a20b-23cce60e137a"
      },
      "source": [
        "train_matrix = np.zeros((len(tc),\n",
        "                   len(encoded_test[0])))\n",
        "train_matrix.shape"
      ],
      "execution_count": null,
      "outputs": [
        {
          "output_type": "execute_result",
          "data": {
            "text/plain": [
              "(11177, 768)"
            ]
          },
          "metadata": {
            "tags": []
          },
          "execution_count": 22
        }
      ]
    },
    {
      "cell_type": "code",
      "metadata": {
        "id": "LYf8KKtBePdL",
        "colab_type": "code",
        "colab": {}
      },
      "source": [
        "def leave_last5(text):\n",
        "    split_text = text.split()\n",
        "    if len(split_text) > 4:\n",
        "        return ' '.join(split_text[-5:])\n",
        "    else:\n",
        "        return text\n",
        "# колонка с последними пятью токенами\n",
        "tc['last5'] = tc['comment_text'].apply(leave_last5)\n",
        "val['last5'] = val['comment_text'].apply(leave_last5)"
      ],
      "execution_count": null,
      "outputs": []
    },
    {
      "cell_type": "code",
      "metadata": {
        "id": "wIwIJ3uEmtAM",
        "colab_type": "code",
        "colab": {}
      },
      "source": [
        "%%time\n",
        "final_batch_size = len(tc)%64\n",
        "seqs = tc['last5'].to_list()\n",
        "outfile = 'train_matrix'\n",
        "for i, seq in enumerate(seqs):\n",
        "    if not ((i)+1)%64:\n",
        "        train_matrix[(i-63):(i+1)] = bc.encode(seqs[(i-63):(i+1)])\n",
        "\n",
        "# проверяла на связи ли берт\n",
        "    # if not ((i)+1)%512:\n",
        "    #     print (i, train_matrix[i-2][0:5])\n",
        "    #     print('BERT_SERVER_STATUS', bc.server_status)\n",
        "    #     print('BERT_CLIENT_STATUS', bc.status)\n",
        "\n",
        "train_matrix[-(final_batch_size):] = bc.encode(seqs[-(final_batch_size):])\n",
        "\n",
        "np.save(outfile, train_matrix)"
      ],
      "execution_count": null,
      "outputs": []
    },
    {
      "cell_type": "code",
      "metadata": {
        "id": "wyr9_X6wS8gd",
        "colab_type": "code",
        "colab": {}
      },
      "source": [
        "# from google.colab import files\n",
        "# files.download('train_matrix.npy') "
      ],
      "execution_count": null,
      "outputs": []
    },
    {
      "cell_type": "markdown",
      "metadata": {
        "id": "0MISfPwSKFS2",
        "colab_type": "text"
      },
      "source": [
        "Вадидацию тоже заэмбеддим"
      ]
    },
    {
      "cell_type": "code",
      "metadata": {
        "id": "Exj3jXQaIS-w",
        "colab_type": "code",
        "colab": {
          "base_uri": "https://localhost:8080/",
          "height": 33
        },
        "outputId": "3600c4e4-f161-4a52-9df3-a88bd9ef2f85"
      },
      "source": [
        "val_matrix = np.zeros((len(val),\n",
        "                   len(encoded_test[0])))\n",
        "print(val_matrix.shape)\n",
        "\n",
        "final_batch_size = len(val)%64"
      ],
      "execution_count": null,
      "outputs": [
        {
          "output_type": "stream",
          "text": [
            "(8000, 768)\n"
          ],
          "name": "stdout"
        }
      ]
    },
    {
      "cell_type": "code",
      "metadata": {
        "id": "9O93g5NeBC8p",
        "colab_type": "code",
        "colab": {}
      },
      "source": [
        "seqs = val['last5'].to_list()\n",
        "outfile = 'val_matrix'\n",
        "for i, seq in enumerate(seqs):\n",
        "    if not ((i)+1)%64:\n",
        "        val_matrix[(i-63):(i+1)] = bc.encode(seqs[(i-63):(i+1)])\n",
        "\n",
        "    if not ((i)+1)%1024:\n",
        "        print (i, val_matrix[i-2][0:5])\n",
        "        print('BERT_SERVER_STATUS', bc.server_status)\n",
        "        print('BERT_CLIENT_STATUS', bc.status)\n",
        "\n",
        "val_matrix[-(final_batch_size):] = bc.encode(seqs[-(final_batch_size):])\n",
        "\n",
        "np.save(outfile, val_matrix)"
      ],
      "execution_count": null,
      "outputs": []
    },
    {
      "cell_type": "markdown",
      "metadata": {
        "id": "2ZlXHRapKbRz",
        "colab_type": "text"
      },
      "source": [
        "Эмбеддинги гигантские, может лучше их ужать..."
      ]
    },
    {
      "cell_type": "code",
      "metadata": {
        "id": "bHNECAWJKm17",
        "colab_type": "code",
        "colab": {}
      },
      "source": [
        "train_data = np.load('/content/drive/My Drive/Colab Notebooks/homework_ml_m1/ML_exam/train_matrix.npy')"
      ],
      "execution_count": null,
      "outputs": []
    },
    {
      "cell_type": "code",
      "metadata": {
        "id": "HUD8nH2DQkaX",
        "colab_type": "code",
        "colab": {}
      },
      "source": [
        ""
      ],
      "execution_count": null,
      "outputs": []
    },
    {
      "cell_type": "code",
      "metadata": {
        "id": "M6r9XXwiKjCv",
        "colab_type": "code",
        "colab": {}
      },
      "source": [
        "from sklearn.decomposition import TruncatedSVD\n",
        "svd = TruncatedSVD(50)\n",
        "transformed_train = svd.fit_transform(train_data)"
      ],
      "execution_count": null,
      "outputs": []
    },
    {
      "cell_type": "code",
      "metadata": {
        "id": "jUB4OeayLX-g",
        "colab_type": "code",
        "colab": {
          "base_uri": "https://localhost:8080/",
          "height": 33
        },
        "outputId": "4e6ee944-c3c7-4d8f-dce1-5c22bb6908ff"
      },
      "source": [
        "transformed_train.shape"
      ],
      "execution_count": null,
      "outputs": [
        {
          "output_type": "execute_result",
          "data": {
            "text/plain": [
              "(11177, 50)"
            ]
          },
          "metadata": {
            "tags": []
          },
          "execution_count": 8
        }
      ]
    },
    {
      "cell_type": "code",
      "metadata": {
        "id": "ephEXBZ-Mnf6",
        "colab_type": "code",
        "colab": {
          "base_uri": "https://localhost:8080/",
          "height": 33
        },
        "outputId": "6618bb6f-3edf-4bf5-c24e-164fcd11dc6f"
      },
      "source": [
        "val_data = np.load('/content/drive/My Drive/Colab Notebooks/homework_ml_m1/ML_exam/val_matrix.npy')\n",
        "transformed_val = svd.fit_transform(val_data)\n",
        "transformed_val.shape"
      ],
      "execution_count": null,
      "outputs": [
        {
          "output_type": "execute_result",
          "data": {
            "text/plain": [
              "(8000, 50)"
            ]
          },
          "metadata": {
            "tags": []
          },
          "execution_count": 9
        }
      ]
    },
    {
      "cell_type": "markdown",
      "metadata": {
        "id": "Ijuq3WhyNiVp",
        "colab_type": "text"
      },
      "source": [
        "Обучим бейзлайновую модель на этих ужатых эмбеддингах и наших признаках"
      ]
    },
    {
      "cell_type": "code",
      "metadata": {
        "colab_type": "code",
        "id": "C3yr9idkO2Iq",
        "colab": {}
      },
      "source": [
        "# ранее сохраненные колонки с фичами\n",
        "X_train = pd.read_csv('X_train_features.csv').sample(frac=0.05, random_state=0)\n",
        "y_train = pd.read_csv('y_train_features.csv').sample(frac=0.05, random_state=0)\n",
        "X_val = pd.read_csv('X_val_features.csv')\n",
        "y_val = pd.read_csv('y_val_features.csv')"
      ],
      "execution_count": null,
      "outputs": []
    },
    {
      "cell_type": "code",
      "metadata": {
        "colab_type": "code",
        "id": "KJfJNbUYO2Iu",
        "colab": {}
      },
      "source": [
        "# как-то криво сохранила, поэтому\n",
        "X_train.drop(columns=['Unnamed: 0'], inplace=True)\n",
        "y_train.drop(columns=['Unnamed: 0'], inplace=True)\n",
        "X_val.drop(columns=['Unnamed: 0'], inplace=True)\n",
        "y_val.drop(columns=['Unnamed: 0'], inplace=True)"
      ],
      "execution_count": null,
      "outputs": []
    },
    {
      "cell_type": "code",
      "metadata": {
        "colab_type": "code",
        "id": "Nisk3mBaNpwj",
        "colab": {}
      },
      "source": [
        "# np.concatenate((a, b.T), axis=1)\n",
        "X_train, X_test, y_train, y_test = train_test_split(\n",
        "    np.concatenate((X_train, transformed_train), axis=1),\n",
        "    y_train, \n",
        "    test_size=0.3, random_state=1\n",
        ")\n",
        "\n",
        "X_val = np.concatenate((X_val, transformed_val), axis=1)"
      ],
      "execution_count": null,
      "outputs": []
    },
    {
      "cell_type": "code",
      "metadata": {
        "id": "cpPuSAsVQEzH",
        "colab_type": "code",
        "colab": {
          "base_uri": "https://localhost:8080/",
          "height": 33
        },
        "outputId": "ec300e22-95ee-44e0-c0d3-de17e393543e"
      },
      "source": [
        "y_train.shape"
      ],
      "execution_count": null,
      "outputs": [
        {
          "output_type": "execute_result",
          "data": {
            "text/plain": [
              "(7823, 1)"
            ]
          },
          "metadata": {
            "tags": []
          },
          "execution_count": 26
        }
      ]
    },
    {
      "cell_type": "code",
      "metadata": {
        "id": "eZ3y8VcJQmWV",
        "colab_type": "code",
        "colab": {}
      },
      "source": [
        "repeated_folds = fold(nfolds=3)[2]"
      ],
      "execution_count": null,
      "outputs": []
    },
    {
      "cell_type": "code",
      "metadata": {
        "id": "BnoPNKsaRFv6",
        "colab_type": "code",
        "colab": {}
      },
      "source": [
        "y_train = y_train.values.ravel()\n",
        "y_test = y_test.values.ravel()\n",
        "y_val = y_val.values.ravel()"
      ],
      "execution_count": null,
      "outputs": []
    },
    {
      "cell_type": "code",
      "metadata": {
        "colab_type": "code",
        "id": "U12_DKWSQVN4",
        "colab": {
          "base_uri": "https://localhost:8080/",
          "height": 98
        },
        "outputId": "ee54c0c3-4ea7-4211-e317-e6515edb70cf"
      },
      "source": [
        "%%time\n",
        "parameter_grid = {\n",
        "    'class_weight':[{0: 0.9, 1: 0.1}], \n",
        "    'min_samples_leaf':[15], 'n_estimators':[100], 'random_state':[1], 'max_depth':[7]\n",
        "#     , min_samples_split=2, min_samples_leaf=1, min_weight_fraction_leaf=0.0, max_features=None, random_state=None, max_leaf_nodes=None, min_impurity_decrease=0.0, min_impurity_split=None, class_weight=None, presort='deprecated', ccp_alpha=0.0)\n",
        "}\n",
        "dtc_gs = gs_func(RandomForestClassifier(), parameter_grid, \n",
        "                 cv=repeated_folds)\n"
      ],
      "execution_count": null,
      "outputs": [
        {
          "output_type": "stream",
          "text": [
            "Best parameters: {'class_weight': {0: 0.9, 1: 0.1}, 'max_depth': 7, 'min_samples_leaf': 15, 'n_estimators': 100, 'random_state': 1}\n",
            "ROC AUC score of the best_estimator: 0.8178594422983588    \n",
            "ROC AUC score на тесте: 0.8276202337314031    \n",
            "CPU times: user 1min 5s, sys: 42.1 ms, total: 1min 5s\n",
            "Wall time: 1min 5s\n"
          ],
          "name": "stdout"
        }
      ]
    },
    {
      "cell_type": "code",
      "metadata": {
        "colab_type": "code",
        "id": "6mtENsxqQVN9",
        "colab": {
          "base_uri": "https://localhost:8080/",
          "height": 33
        },
        "outputId": "1e2c9661-4626-4bf6-ba1d-25194ef786fe"
      },
      "source": [
        "predicted_probs = dtc_gs.predict_proba(X_val)\n",
        "roc_auc_score(y_val, predicted_probs[:, 1])\n",
        "# было 0.6674470704086657"
      ],
      "execution_count": null,
      "outputs": [
        {
          "output_type": "execute_result",
          "data": {
            "text/plain": [
              "0.6232230908719721"
            ]
          },
          "metadata": {
            "tags": []
          },
          "execution_count": 30
        }
      ]
    },
    {
      "cell_type": "markdown",
      "metadata": {
        "colab_type": "text",
        "id": "FEbbrHwPQVN_"
      },
      "source": [
        "БЫЛО:\n",
        "На валидации: 0.6674470704086657\n",
        "\n",
        "Резюмируем: на валидации качество упало! Хоть и выросло на тесте"
      ]
    },
    {
      "cell_type": "code",
      "metadata": {
        "colab_type": "code",
        "id": "tshNfUJ4Npwo",
        "colab": {}
      },
      "source": [
        "for i in range(0,66):\n",
        "    print(i, '\\t\\t\\t',\n",
        "          dtc_gs.best_estimator_.feature_importances_[i])\n",
        "# обучился на каком-то (номер 19) измерении ужатого вектора"
      ],
      "execution_count": null,
      "outputs": []
    },
    {
      "cell_type": "markdown",
      "metadata": {
        "id": "fKcweM4EYMCD",
        "colab_type": "text"
      },
      "source": [
        "# *6) Вместо сабмитов: Выкладывание своего решения в общем чате (полное или частичное решение любой ячейки из строчек 3,4,5 ) - 1 баллов за выкладывание и 0.5 балл за каждое использование вашего решения*"
      ]
    },
    {
      "cell_type": "markdown",
      "metadata": {
        "id": "JWoXPeeoYxsj",
        "colab_type": "text"
      },
      "source": [
        "\\#ml_project_sharing\n",
        "\n",
        "[Токенизация с помощью библиотеки tokenizers](https://colab.research.google.com/drive/1dP45KBNEaMrxFGiXp7CCd7Ks9rhE0trH?usp=sharing)"
      ]
    },
    {
      "cell_type": "markdown",
      "metadata": {
        "id": "E8IqXK_uo3qG",
        "colab_type": "text"
      },
      "source": [
        "# Trash (не для оценивания, просто всякие попытки)"
      ]
    },
    {
      "cell_type": "code",
      "metadata": {
        "id": "pyDRhh4Zo3qH",
        "colab_type": "code",
        "colab": {}
      },
      "source": [
        "# !pip install iso-language-codes\n",
        "# !pip install alphabet\n"
      ],
      "execution_count": null,
      "outputs": []
    },
    {
      "cell_type": "code",
      "metadata": {
        "id": "EQC_AfOmo3qK",
        "colab_type": "code",
        "colab": {}
      },
      "source": [
        "# import alphabet\n",
        "# import random\n",
        "# import json\n",
        "# import iso_language_codes"
      ],
      "execution_count": null,
      "outputs": []
    },
    {
      "cell_type": "markdown",
      "metadata": {
        "id": "6IvAZxayW_MX",
        "colab_type": "text"
      },
      "source": [
        "## Поиск многоязычных данных в трейне"
      ]
    },
    {
      "cell_type": "code",
      "metadata": {
        "id": "OdFKqP7So3mc",
        "colab_type": "code",
        "colab": {},
        "outputId": "c038783d-b2ac-4db7-ce42-787051adce62"
      },
      "source": [
        "with open('lang_column_2.json') as fr:\n",
        "    lang_column = json.load(fr)\n",
        "assert len(lang_column) == len(tc)\n",
        "tc['lang'] = lang_column\n",
        "\n",
        "lang_names = sorted({'data', 'ja', 'hi', 'jazh-CN', 'te', 'si', 'hine', 'am', 'ru', 'bg', 'en', 'de', 'el', 'kn', 'arsd', 'my', 'ko', 'ka', 'mn', 'ku', 'lo', 'gu', 'zh-CN', 'iw', 'yi', 'cy', 'it', 'fa', 'vi', 'ps', 'sr', 'ta', 'zh-CNja', 'sd', 'pl', 'hy', 'tg', 'pa', 'ro', 'ur', 'th', 'ar', 'or', 'km', 'bn', 'ml', })\n",
        "target_langs = (set(lang_names)&\n",
        "                   set(tc[tc['lang']!='en']['lang'].unique()))\n",
        "print('Unique values in lang column:',\n",
        "      len(tc[tc['lang']!='en']['lang'].unique()))\n",
        "print('Values we are going to focus on:', len(target_langs))"
      ],
      "execution_count": null,
      "outputs": [
        {
          "output_type": "stream",
          "text": [
            "Unique values in lang column: 350\n",
            "Values we are going to focus on: 40\n"
          ],
          "name": "stdout"
        }
      ]
    },
    {
      "cell_type": "code",
      "metadata": {
        "id": "VR9ts7wzo3mW",
        "colab_type": "code",
        "colab": {},
        "outputId": "08770fdd-7b41-4721-8d61-9b2dee9f3a2c"
      },
      "source": [
        "len(lang_names)"
      ],
      "execution_count": null,
      "outputs": [
        {
          "output_type": "execute_result",
          "data": {
            "text/plain": [
              "46"
            ]
          },
          "metadata": {
            "tags": []
          },
          "execution_count": 64
        }
      ]
    },
    {
      "cell_type": "code",
      "metadata": {
        "id": "VUN3aS_4o3mh",
        "colab_type": "code",
        "colab": {},
        "outputId": "186b93b3-3424-42aa-e30c-c1a012a30a30"
      },
      "source": [
        "for i, l in enumerate(target_langs):\n",
        "    try:\n",
        "        print(i, l, iso_language_codes.language(l)['Name'], \n",
        "             '\\t|\\t Entries:', len(tc[tc['lang']==l]))\n",
        "    except:\n",
        "        print (i, l, 'no name',\n",
        "             '| Entries:', len(tc[tc['lang']==l]))"
      ],
      "execution_count": null,
      "outputs": [
        {
          "output_type": "stream",
          "text": [
            "0 gu Gujarati \t|\t Entries: 25\n",
            "1 yi Yiddish \t|\t Entries: 3\n",
            "2 am Amharic \t|\t Entries: 1\n",
            "3 ku Kurdish \t|\t Entries: 7\n",
            "4 ps Pashto \t|\t Entries: 2\n",
            "5 it Italian \t|\t Entries: 51\n",
            "6 zh-CN no name | Entries: 55\n",
            "7 sr Serbian \t|\t Entries: 7\n",
            "8 ka Georgian \t|\t Entries: 17\n",
            "9 ja Japanese \t|\t Entries: 52\n",
            "10 el Greek \t|\t Entries: 89\n",
            "11 tg Tajik \t|\t Entries: 1\n",
            "12 ro Romanian \t|\t Entries: 47\n",
            "13 bn Bangla \t|\t Entries: 34\n",
            "14 th Thai \t|\t Entries: 7\n",
            "15 kn Kannada \t|\t Entries: 7\n",
            "16 arsd no name | Entries: 1\n",
            "17 ur Urdu \t|\t Entries: 7\n",
            "18 iw no name | Entries: 24\n",
            "19 my Burmese \t|\t Entries: 3\n",
            "20 sd Sindhi \t|\t Entries: 1\n",
            "21 km Khmer \t|\t Entries: 1\n",
            "22 te Telugu \t|\t Entries: 10\n",
            "23 hi Hindi \t|\t Entries: 122\n",
            "24 si Sinhala \t|\t Entries: 2\n",
            "25 data no name | Entries: 1\n",
            "26 cy Welsh \t|\t Entries: 11\n",
            "27 fa Persian \t|\t Entries: 69\n",
            "28 ko Korean \t|\t Entries: 29\n",
            "29 or Odia \t|\t Entries: 1\n",
            "30 ar Arabic \t|\t Entries: 133\n",
            "31 vi Vietnamese \t|\t Entries: 56\n",
            "32 ta Tamil \t|\t Entries: 22\n",
            "33 ml Malayalam \t|\t Entries: 19\n",
            "34 bg Bulgarian \t|\t Entries: 41\n",
            "35 de German \t|\t Entries: 187\n",
            "36 pl Polish \t|\t Entries: 40\n",
            "37 mn Mongolian \t|\t Entries: 3\n",
            "38 ru Russian \t|\t Entries: 74\n",
            "39 pa Punjabi \t|\t Entries: 2\n"
          ],
          "name": "stdout"
        }
      ]
    },
    {
      "cell_type": "markdown",
      "metadata": {
        "id": "E6Q0I9lGo3pG",
        "colab_type": "text"
      },
      "source": [
        "## *3) Сравнение нескольких ансамблевых моделей из sklearn (из sklearn.ensemble) на любой валидации - 1 балл*"
      ]
    },
    {
      "cell_type": "code",
      "metadata": {
        "id": "0y4CNXMjo3pO",
        "colab_type": "code",
        "colab": {},
        "outputId": "9458cdb0-f102-4b9b-eea1-0d772a98c8d4"
      },
      "source": [
        "%%time\n",
        "# GradientBoostingClassifier\n",
        "clf = GradientBoostingClassifier(n_estimators=100, learning_rate=1.0, \n",
        "                           max_depth=1, random_state=0)\n",
        "clf.fit(X_train, y_train)\n",
        "\n",
        "predicted_probs = clf.predict_proba(X_val)\n",
        "roc_auc_score(y_val, predicted_probs[:, 1])"
      ],
      "execution_count": null,
      "outputs": [
        {
          "output_type": "stream",
          "text": [
            "Wall time: 23.5 s\n"
          ],
          "name": "stdout"
        },
        {
          "output_type": "execute_result",
          "data": {
            "text/plain": [
              "0.527164919359681"
            ]
          },
          "metadata": {
            "tags": []
          },
          "execution_count": 322
        }
      ]
    },
    {
      "cell_type": "code",
      "metadata": {
        "id": "qmrg3u1Go3pR",
        "colab_type": "code",
        "colab": {},
        "outputId": "ccf877a2-b7e9-48cf-87cb-777f1d79c867"
      },
      "source": [
        "%%time\n",
        "# ExtraTreesClassifier пока что лидер\n",
        "clf = ExtraTreesClassifier(n_estimators=100, random_state=0)\n",
        "clf.fit(X_train, y_train)\n",
        "predicted_probs = clf.predict_proba(X_val)\n",
        "roc_auc_score(y_val, predicted_probs[:, 1])"
      ],
      "execution_count": null,
      "outputs": [
        {
          "output_type": "stream",
          "text": [
            "Wall time: 39.9 s\n"
          ],
          "name": "stdout"
        },
        {
          "output_type": "execute_result",
          "data": {
            "text/plain": [
              "0.6681662283387974"
            ]
          },
          "metadata": {
            "tags": []
          },
          "execution_count": 323
        }
      ]
    },
    {
      "cell_type": "code",
      "metadata": {
        "id": "elkdLddfo3pV",
        "colab_type": "code",
        "colab": {},
        "outputId": "0c817ca5-ab8a-4c5f-bf8e-35412199a925"
      },
      "source": [
        "%%time\n",
        "# AdaBoostClassifier\n",
        "clf = AdaBoostClassifier(n_estimators=100, random_state=0)\n",
        "clf.fit(X_train, y_train)\n",
        "predicted_probs = clf.predict_proba(X_val)\n",
        "roc_auc_score(y_val, predicted_probs[:, 1])"
      ],
      "execution_count": null,
      "outputs": [
        {
          "output_type": "stream",
          "text": [
            "Wall time: 27.1 s\n"
          ],
          "name": "stdout"
        },
        {
          "output_type": "execute_result",
          "data": {
            "text/plain": [
              "0.6120966482929231"
            ]
          },
          "metadata": {
            "tags": []
          },
          "execution_count": 324
        }
      ]
    },
    {
      "cell_type": "code",
      "metadata": {
        "id": "xoRHaDuLo3pZ",
        "colab_type": "code",
        "colab": {},
        "outputId": "dbd8c52d-30ab-49f4-cc3c-b68656f9bfa2"
      },
      "source": [
        "%%time\n",
        "# BaggingClassifier\n",
        "from sklearn.neighbors import KNeighborsClassifier\n",
        "clf = BaggingClassifier(KNeighborsClassifier(), random_state=0,\n",
        "                        max_samples=0.5, max_features=0.5)\n",
        "clf.fit(X_train, y_train)\n",
        "predicted_probs = clf.predict_proba(X_val)\n",
        "roc_auc_score(y_val, predicted_probs[:, 1])"
      ],
      "execution_count": null,
      "outputs": [
        {
          "output_type": "stream",
          "text": [
            "Wall time: 1min 29s\n"
          ],
          "name": "stdout"
        },
        {
          "output_type": "execute_result",
          "data": {
            "text/plain": [
              "0.593363656014699"
            ]
          },
          "metadata": {
            "tags": []
          },
          "execution_count": 327
        }
      ]
    },
    {
      "cell_type": "code",
      "metadata": {
        "scrolled": true,
        "id": "XYPe_CW3o3pd",
        "colab_type": "code",
        "colab": {},
        "outputId": "2d198ea5-ac8c-4c8d-b00d-24912638563d"
      },
      "source": [
        "%%time\n",
        "# StackingClassifier\n",
        "from sklearn.pipeline import make_pipeline\n",
        "from sklearn.svm import LinearSVC\n",
        "from sklearn.preprocessing import StandardScaler\n",
        "estimators = [('rf', RandomForestClassifier(n_estimators=100,\n",
        "                                            random_state=0)), \n",
        "              ('svr', make_pipeline(StandardScaler(), \n",
        "                                    LinearSVC(random_state=0)))]\n",
        "clf = StackingClassifier(estimators=estimators,\n",
        "                         final_estimator=LogisticRegression())\n",
        "clf.fit(X_train, y_train)\n",
        "predicted_probs = clf.predict_proba(X_val)\n",
        "roc_auc_score(y_val, predicted_probs[:, 1])"
      ],
      "execution_count": null,
      "outputs": [
        {
          "output_type": "stream",
          "text": [
            "c:\\users\\ира\\appdata\\local\\programs\\python\\python37\\lib\\site-packages\\sklearn\\svm\\_base.py:947: ConvergenceWarning: Liblinear failed to converge, increase the number of iterations.\n",
            "  \"the number of iterations.\", ConvergenceWarning)\n",
            "c:\\users\\ира\\appdata\\local\\programs\\python\\python37\\lib\\site-packages\\sklearn\\svm\\_base.py:947: ConvergenceWarning: Liblinear failed to converge, increase the number of iterations.\n",
            "  \"the number of iterations.\", ConvergenceWarning)\n",
            "c:\\users\\ира\\appdata\\local\\programs\\python\\python37\\lib\\site-packages\\sklearn\\svm\\_base.py:947: ConvergenceWarning: Liblinear failed to converge, increase the number of iterations.\n",
            "  \"the number of iterations.\", ConvergenceWarning)\n",
            "c:\\users\\ира\\appdata\\local\\programs\\python\\python37\\lib\\site-packages\\sklearn\\svm\\_base.py:947: ConvergenceWarning: Liblinear failed to converge, increase the number of iterations.\n",
            "  \"the number of iterations.\", ConvergenceWarning)\n",
            "c:\\users\\ира\\appdata\\local\\programs\\python\\python37\\lib\\site-packages\\sklearn\\svm\\_base.py:947: ConvergenceWarning: Liblinear failed to converge, increase the number of iterations.\n",
            "  \"the number of iterations.\", ConvergenceWarning)\n",
            "c:\\users\\ира\\appdata\\local\\programs\\python\\python37\\lib\\site-packages\\sklearn\\svm\\_base.py:947: ConvergenceWarning: Liblinear failed to converge, increase the number of iterations.\n",
            "  \"the number of iterations.\", ConvergenceWarning)\n"
          ],
          "name": "stderr"
        },
        {
          "output_type": "stream",
          "text": [
            "Wall time: 11min 29s\n"
          ],
          "name": "stdout"
        },
        {
          "output_type": "execute_result",
          "data": {
            "text/plain": [
              "0.6539062818988604"
            ]
          },
          "metadata": {
            "tags": []
          },
          "execution_count": 336
        }
      ]
    },
    {
      "cell_type": "code",
      "metadata": {
        "scrolled": true,
        "id": "2TVei9zgo3pj",
        "colab_type": "code",
        "colab": {},
        "outputId": "86725636-0c6a-4ce3-b3d6-6fb5e3e669e4"
      },
      "source": [
        "%%time\n",
        "# VotingClassifier 1\n",
        "clf1 = LogisticRegression(multi_class='multinomial', max_iter=600, \n",
        "                          random_state=0)\n",
        "clf2 = RandomForestClassifier(n_estimators=100, random_state=0)\n",
        "clf = VotingClassifier(estimators=[('lr', clf1), ('rf', clf2)], \n",
        "                             voting='soft', weights=[1,2,2],\n",
        "                             flatten_transform=True)\n",
        "clf.fit(X_train, y_train)\n",
        "predicted_probs = clf.predict_proba(X_val)\n",
        "roc_auc_score(y_val, predicted_probs[:, 1])"
      ],
      "execution_count": null,
      "outputs": [
        {
          "output_type": "stream",
          "text": [
            "c:\\users\\ира\\appdata\\local\\programs\\python\\python37\\lib\\site-packages\\sklearn\\linear_model\\_logistic.py:940: ConvergenceWarning: lbfgs failed to converge (status=1):\n",
            "STOP: TOTAL NO. of ITERATIONS REACHED LIMIT.\n",
            "\n",
            "Increase the number of iterations (max_iter) or scale the data as shown in:\n",
            "    https://scikit-learn.org/stable/modules/preprocessing.html\n",
            "Please also refer to the documentation for alternative solver options:\n",
            "    https://scikit-learn.org/stable/modules/linear_model.html#logistic-regression\n",
            "  extra_warning_msg=_LOGISTIC_SOLVER_CONVERGENCE_MSG)\n"
          ],
          "name": "stderr"
        },
        {
          "output_type": "stream",
          "text": [
            "Wall time: 1min 32s\n",
            "Parser   : 454 ms\n"
          ],
          "name": "stdout"
        },
        {
          "output_type": "execute_result",
          "data": {
            "text/plain": [
              "0.6636855567964837"
            ]
          },
          "metadata": {
            "tags": []
          },
          "execution_count": 337
        }
      ]
    },
    {
      "cell_type": "code",
      "metadata": {
        "scrolled": true,
        "id": "q9iYsYdno3po",
        "colab_type": "code",
        "colab": {},
        "outputId": "f9ae5807-ad1d-444d-9e3f-f6a4265e337e"
      },
      "source": [
        "%%time\n",
        "# VotingClassifier 2\n",
        "clf1 = LogisticRegression(multi_class='multinomial', max_iter=600, \n",
        "                          random_state=0)\n",
        "clf2 = RandomForestClassifier(n_estimators=100, random_state=0)\n",
        "clf3 = ExtraTreesClassifier(n_estimators=100, random_state=0)\n",
        "clf = VotingClassifier(estimators=[('lr', clf1), ('rf', clf2), ('etc', clf3)],\n",
        "                             voting='soft', weights=[1,2,2],\n",
        "                             flatten_transform=True)\n",
        "clf.fit(X_train, y_train)\n",
        "predicted_probs = clf.predict_proba(X_val)\n",
        "roc_auc_score(y_val, predicted_probs[:, 1])"
      ],
      "execution_count": null,
      "outputs": [
        {
          "output_type": "stream",
          "text": [
            "c:\\users\\ира\\appdata\\local\\programs\\python\\python37\\lib\\site-packages\\sklearn\\linear_model\\_logistic.py:940: ConvergenceWarning: lbfgs failed to converge (status=1):\n",
            "STOP: TOTAL NO. of ITERATIONS REACHED LIMIT.\n",
            "\n",
            "Increase the number of iterations (max_iter) or scale the data as shown in:\n",
            "    https://scikit-learn.org/stable/modules/preprocessing.html\n",
            "Please also refer to the documentation for alternative solver options:\n",
            "    https://scikit-learn.org/stable/modules/linear_model.html#logistic-regression\n",
            "  extra_warning_msg=_LOGISTIC_SOLVER_CONVERGENCE_MSG)\n"
          ],
          "name": "stderr"
        },
        {
          "output_type": "stream",
          "text": [
            "Wall time: 2min 55s\n"
          ],
          "name": "stdout"
        },
        {
          "output_type": "execute_result",
          "data": {
            "text/plain": [
              "0.6833867132615196"
            ]
          },
          "metadata": {
            "tags": []
          },
          "execution_count": 339
        }
      ]
    },
    {
      "cell_type": "code",
      "metadata": {
        "id": "-QnFktV_o3pr",
        "colab_type": "code",
        "colab": {},
        "outputId": "b76d32e9-db55-4037-e326-c721ef1ba52c"
      },
      "source": [
        "%%time\n",
        "# VotingClassifier 3\n",
        "        \n",
        "clf1 = LogisticRegression(C=0.0001, max_iter=50, penalty='l2',\n",
        "                          solver='liblinear', \n",
        "                          random_state=0)\n",
        "clf2 = RandomForestClassifier(n_estimators=100, random_state=0)\n",
        "clf3 = ExtraTreesClassifier(n_estimators=100, random_state=0)\n",
        "clf = VotingClassifier(estimators=[('lr', clf1), ('rf', clf2), ('etc', clf3)],\n",
        "                             voting='soft', weights=[1,2,2],\n",
        "                             flatten_transform=True)\n",
        "clf.fit(X_train, y_train)\n",
        "predicted_probs = clf.predict_proba(X_val)\n",
        "roc_auc_score(y_val, predicted_probs[:, 1])"
      ],
      "execution_count": null,
      "outputs": [
        {
          "output_type": "stream",
          "text": [
            "Wall time: 2min 2s\n"
          ],
          "name": "stdout"
        },
        {
          "output_type": "execute_result",
          "data": {
            "text/plain": [
              "0.6931088254014003"
            ]
          },
          "metadata": {
            "tags": []
          },
          "execution_count": 342
        }
      ]
    },
    {
      "cell_type": "code",
      "metadata": {
        "id": "wS6lTuL_o3pv",
        "colab_type": "code",
        "colab": {},
        "outputId": "e4c5e743-1f17-42a3-931c-6f63341f766b"
      },
      "source": [
        "# на тесте\n",
        "predicted_probs = clf.predict_proba(X_test)\n",
        "roc_auc_score(y_test, predicted_probs[:, 1])"
      ],
      "execution_count": null,
      "outputs": [
        {
          "output_type": "execute_result",
          "data": {
            "text/plain": [
              "0.7857637480169044"
            ]
          },
          "metadata": {
            "tags": []
          },
          "execution_count": 343
        }
      ]
    },
    {
      "cell_type": "code",
      "metadata": {
        "id": "wWf7zzuzo3py",
        "colab_type": "code",
        "colab": {},
        "outputId": "660d7d70-9bce-4ca0-b9b1-137ab5587807"
      },
      "source": [
        "0.7857637480169044-0.6931088254014003"
      ],
      "execution_count": null,
      "outputs": [
        {
          "output_type": "execute_result",
          "data": {
            "text/plain": [
              "0.09265492261550412"
            ]
          },
          "metadata": {
            "tags": []
          },
          "execution_count": 344
        }
      ]
    },
    {
      "cell_type": "markdown",
      "metadata": {
        "id": "xtlmEWIZo3p1",
        "colab_type": "text"
      },
      "source": [
        "Различие ещё чучуть уменьшилось (на две сотых)."
      ]
    },
    {
      "cell_type": "markdown",
      "metadata": {
        "id": "LDgW3YbjvFsM",
        "colab_type": "text"
      },
      "source": [
        "Вроде бы из тех ансамблевых моделей, которые не ансамбли, лидером так и остался ExtraTreesClassifier."
      ]
    },
    {
      "cell_type": "markdown",
      "metadata": {
        "id": "lQ6KixxQo3p8",
        "colab_type": "text"
      },
      "source": [
        "## *4) Нейронная модель в керасе (Embedding слой +  Flatten + Dense) - 1 балл*#"
      ]
    },
    {
      "cell_type": "markdown",
      "metadata": {
        "id": "A9AruEDeo3p9",
        "colab_type": "text"
      },
      "source": [
        "Vanilla NN на фасттекстовых эмбеддингах (как в домашке) отработала плохо на валидации (как будет видно ниже). Этого следовало ожидать, потому что, ну, валидационный сет неанглоязычный. Не знаю, на что я вообще рассчитывала.\n",
        "\n",
        "Поэтому **обучим её всё-таки в итоге на признаках, которые по нашей задумке должны обобщаться на валидацию**.\n",
        "\n",
        "Большая часть кода здесь из домашки по nn_intro. Только я ещё её не сдала..."
      ]
    },
    {
      "cell_type": "code",
      "metadata": {
        "id": "0CU9CVNXo3p9",
        "colab_type": "code",
        "colab": {}
      },
      "source": [
        "# переносила признаки в колаб\n",
        "# tc[tc.columns[9:]].to_csv('X_train_features.csv')\n",
        "# tc['toxic'].to_csv('y_train_features.csv')\n",
        "# val[val.columns[5:]].to_csv('X_val_features.csv')\n",
        "# val['toxic'].to_csv('y_val_features.csv')"
      ],
      "execution_count": null,
      "outputs": []
    },
    {
      "cell_type": "code",
      "metadata": {
        "id": "xd_lK95fx09T",
        "colab_type": "code",
        "colab": {}
      },
      "source": [
        "def preprocess(text):\n",
        "    tokens = text.lower().split()\n",
        "    tokens = [token.strip(punctuation) for token in tokens]\n",
        "    return tokens"
      ],
      "execution_count": null,
      "outputs": []
    },
    {
      "cell_type": "code",
      "metadata": {
        "id": "7Z16y-mII-6_",
        "colab_type": "code",
        "colab": {
          "base_uri": "https://localhost:8080/",
          "height": 121
        },
        "outputId": "b16666d4-f743-4b3e-9279-44db099a3e3b"
      },
      "source": [
        "from google.colab import drive\n",
        "drive.mount('/content/drive')"
      ],
      "execution_count": null,
      "outputs": [
        {
          "output_type": "stream",
          "text": [
            "Go to this URL in a browser: https://accounts.google.com/o/oauth2/auth?client_id=947318989803-6bn6qk8qdgf4n4g3pfee6491hc0brc4i.apps.googleusercontent.com&redirect_uri=urn%3aietf%3awg%3aoauth%3a2.0%3aoob&response_type=code&scope=email%20https%3a%2f%2fwww.googleapis.com%2fauth%2fdocs.test%20https%3a%2f%2fwww.googleapis.com%2fauth%2fdrive%20https%3a%2f%2fwww.googleapis.com%2fauth%2fdrive.photos.readonly%20https%3a%2f%2fwww.googleapis.com%2fauth%2fpeopleapi.readonly\n",
            "\n",
            "Enter your authorization code:\n",
            "··········\n",
            "Mounted at /content/drive\n"
          ],
          "name": "stdout"
        }
      ]
    },
    {
      "cell_type": "code",
      "metadata": {
        "id": "dK6iXQo4I6ku",
        "colab_type": "code",
        "colab": {
          "base_uri": "https://localhost:8080/",
          "height": 118
        },
        "outputId": "4448fe9c-cd99-4a50-9397-c4c5b258c64c"
      },
      "source": [
        "!unzip '/content/drive/My Drive/Colab Notebooks/homework_ml_m1/ML_exam/jigsaw-toxic-comment-train.csv.zip'\n",
        "!unzip '/content/drive/My Drive/Colab Notebooks/homework_ml_m1/ML_exam/validation.csv.zip'"
      ],
      "execution_count": null,
      "outputs": [
        {
          "output_type": "stream",
          "text": [
            "Archive:  /content/drive/My Drive/Colab Notebooks/homework_ml_m1/ML_exam/jigsaw-toxic-comment-train.csv.zip\n",
            "  inflating: jigsaw-toxic-comment-train.csv  \n",
            "Archive:  /content/drive/My Drive/Colab Notebooks/homework_ml_m1/ML_exam/validation.csv.zip\n",
            "  inflating: validation.csv          \n",
            "Archive:  /content/drive/My Drive/Colab Notebooks/homework_ml_m1/ML_exam/Не особо пригодилось/test.csv.zip\n",
            "  inflating: test.csv                \n"
          ],
          "name": "stdout"
        }
      ]
    },
    {
      "cell_type": "code",
      "metadata": {
        "colab_type": "code",
        "id": "YBM0mJBuaOZt",
        "colab": {}
      },
      "source": [
        "tc = pd.read_csv('jigsaw-toxic-comment-train-processed-seqlen128.csv')\n",
        "val = pd.read_csv('validation-processed-seqlen128.csv')"
      ],
      "execution_count": null,
      "outputs": []
    },
    {
      "cell_type": "code",
      "metadata": {
        "colab_type": "code",
        "id": "IcOPpeSOaOZ2",
        "colab": {
          "base_uri": "https://localhost:8080/",
          "height": 33
        },
        "outputId": "acb1f3d7-32d0-489c-a807-3208af7c81f6"
      },
      "source": [
        "vocab = Counter()\n",
        "for text in tc.comment_text:\n",
        "    vocab.update(preprocess(text))\n",
        "len(vocab)"
      ],
      "execution_count": null,
      "outputs": [
        {
          "output_type": "execute_result",
          "data": {
            "text/plain": [
              "374016"
            ]
          },
          "metadata": {
            "tags": []
          },
          "execution_count": 9
        }
      ]
    },
    {
      "cell_type": "code",
      "metadata": {
        "colab_type": "code",
        "id": "1ezM33s7aOZ-",
        "colab": {
          "base_uri": "https://localhost:8080/",
          "height": 33
        },
        "outputId": "7a0328d7-d956-4ac8-fc1f-5cbfe4365bd6"
      },
      "source": [
        "filtered_vocab = set()\n",
        "for word in vocab:\n",
        "    if vocab[word] > 50:\n",
        "        filtered_vocab.add(word)\n",
        "len(filtered_vocab)"
      ],
      "execution_count": null,
      "outputs": [
        {
          "output_type": "execute_result",
          "data": {
            "text/plain": [
              "11655"
            ]
          },
          "metadata": {
            "tags": []
          },
          "execution_count": 10
        }
      ]
    },
    {
      "cell_type": "code",
      "metadata": {
        "colab_type": "code",
        "id": "Omb_-HykaOaG",
        "colab": {}
      },
      "source": [
        "word2id = {'UNK':1, 'PAD':0}\n",
        "for word in filtered_vocab:\n",
        "    word2id[word] = len(word2id)\n",
        "id2word = {i:word for word, i in word2id.items()}"
      ],
      "execution_count": null,
      "outputs": []
    },
    {
      "cell_type": "code",
      "metadata": {
        "colab_type": "code",
        "id": "s1oKbInXaOaK",
        "colab": {
          "base_uri": "https://localhost:8080/",
          "height": 33
        },
        "outputId": "9b65a183-8d36-4b8e-abe2-1cce03464ec0"
      },
      "source": [
        "X=[]\n",
        "for text in tc.comment_text:\n",
        "    tokens = preprocess(text)\n",
        "    ids = [word2id.get(token, word2id['UNK']) for token in tokens]\n",
        "    X.append(ids)\n",
        "MAX_LEN = max(len(x) for x in X)\n",
        "MAX_LEN"
      ],
      "execution_count": null,
      "outputs": [
        {
          "output_type": "execute_result",
          "data": {
            "text/plain": [
              "2321"
            ]
          },
          "metadata": {
            "tags": []
          },
          "execution_count": 12
        }
      ]
    },
    {
      "cell_type": "code",
      "metadata": {
        "id": "rZT8qqUixYDF",
        "colab_type": "code",
        "colab": {
          "base_uri": "https://localhost:8080/",
          "height": 33
        },
        "outputId": "1427833b-0567-4aa4-9aec-1cad09d215aa"
      },
      "source": [
        "X_val=[]\n",
        "for text in val.comment_text:\n",
        "    tokens = preprocess(text)\n",
        "    ids = [word2id.get(token, word2id['UNK']) for token in tokens]\n",
        "    X_val.append(ids)\n",
        "MAX_LEN_VAL = max(len(x) for x in X_val)\n",
        "MAX_LEN_VAL"
      ],
      "execution_count": null,
      "outputs": [
        {
          "output_type": "execute_result",
          "data": {
            "text/plain": [
              "211"
            ]
          },
          "metadata": {
            "tags": []
          },
          "execution_count": 13
        }
      ]
    },
    {
      "cell_type": "code",
      "metadata": {
        "id": "R-XO3RIfzOSt",
        "colab_type": "code",
        "colab": {}
      },
      "source": [
        "# длина 2321 это уж слишком, возьмем поменьше\n",
        "MAX_LEN = 512"
      ],
      "execution_count": null,
      "outputs": []
    },
    {
      "cell_type": "code",
      "metadata": {
        "id": "nH_RwCLdPqcd",
        "colab_type": "code",
        "colab": {
          "base_uri": "https://localhost:8080/",
          "height": 33
        },
        "outputId": "b754f978-c349-4aee-c602-a71537228338"
      },
      "source": [
        "X = tf.keras.preprocessing.sequence.pad_sequences(X, maxlen=MAX_LEN)\n",
        "X.shape"
      ],
      "execution_count": null,
      "outputs": [
        {
          "output_type": "execute_result",
          "data": {
            "text/plain": [
              "(223549, 512)"
            ]
          },
          "metadata": {
            "tags": []
          },
          "execution_count": 15
        }
      ]
    },
    {
      "cell_type": "code",
      "metadata": {
        "id": "3pT4DD4Nx315",
        "colab_type": "code",
        "colab": {
          "base_uri": "https://localhost:8080/",
          "height": 33
        },
        "outputId": "9798856a-b80c-48d9-a87f-d8f0bb513f58"
      },
      "source": [
        "X_val = tf.keras.preprocessing.sequence.pad_sequences(X_val, maxlen=MAX_LEN)\n",
        "X_val.shape"
      ],
      "execution_count": null,
      "outputs": [
        {
          "output_type": "execute_result",
          "data": {
            "text/plain": [
              "(8000, 512)"
            ]
          },
          "metadata": {
            "tags": []
          },
          "execution_count": 16
        }
      ]
    },
    {
      "cell_type": "code",
      "metadata": {
        "colab_type": "code",
        "id": "dsmR33VAcYaT",
        "colab": {}
      },
      "source": [
        "y = tc.toxic.values\n",
        "# это лишнее\n",
        "# X_train, X_valid, y_train, y_valid = train_test_split(X, y, test_size=0.05, random_state=42)\n",
        "# оценимся сразу на валидации\n",
        "X_train, y_train = X, tc.toxic.values"
      ],
      "execution_count": null,
      "outputs": []
    },
    {
      "cell_type": "markdown",
      "metadata": {
        "id": "KN5vyLfd0-QH",
        "colab_type": "text"
      },
      "source": [
        "Я правда не знаю, зачем тут фасттекст, но это было сделано"
      ]
    },
    {
      "cell_type": "code",
      "metadata": {
        "id": "5X38LgToa8Fd",
        "colab_type": "code",
        "colab": {}
      },
      "source": [
        "texts = tc.comment_text.apply(preprocess).tolist()"
      ],
      "execution_count": null,
      "outputs": []
    },
    {
      "cell_type": "code",
      "metadata": {
        "colab_type": "code",
        "id": "ZLHZxYqZdI6u",
        "colab": {
          "base_uri": "https://localhost:8080/",
          "height": 50
        },
        "outputId": "903c1cd9-6905-45cb-eb75-8841750c5615"
      },
      "source": [
        "%%time\n",
        "ft = gensim.models.FastText(texts, size=200, iter=2)"
      ],
      "execution_count": null,
      "outputs": [
        {
          "output_type": "stream",
          "text": [
            "CPU times: user 6min 54s, sys: 2.2 s, total: 6min 56s\n",
            "Wall time: 3min 44s\n"
          ],
          "name": "stdout"
        }
      ]
    },
    {
      "cell_type": "code",
      "metadata": {
        "colab_type": "code",
        "id": "q2thXpRvdI62",
        "colab": {
          "base_uri": "https://localhost:8080/",
          "height": 281
        },
        "outputId": "21c0b13e-e317-4533-909f-2c5ff9ce069c"
      },
      "source": [
        "ft.most_similar('xcfghjedfgbnjk')"
      ],
      "execution_count": null,
      "outputs": [
        {
          "output_type": "stream",
          "text": [
            "/usr/local/lib/python3.6/dist-packages/ipykernel_launcher.py:1: DeprecationWarning: Call to deprecated `most_similar` (Method will be removed in 4.0.0, use self.wv.most_similar() instead).\n",
            "  \"\"\"Entry point for launching an IPython kernel.\n",
            "/usr/local/lib/python3.6/dist-packages/gensim/matutils.py:737: FutureWarning: Conversion of the second argument of issubdtype from `int` to `np.signedinteger` is deprecated. In future, it will be treated as `np.int64 == np.dtype(int).type`.\n",
            "  if np.issubdtype(vec.dtype, np.int):\n"
          ],
          "name": "stderr"
        },
        {
          "output_type": "execute_result",
          "data": {
            "text/plain": [
              "[('dxgfcghjmb,k.fmjdhasgthujgfydszvfgyuihugytfdrtyghijkhgfgnhjmutrdesedfgyuiytrdgfnoiuytihugyftdrtftfkyghyduysgcbyuhjhhhhhhhhhhgbhjuggufyafgvwaygeufvbt6yawstdygujimaqzwerstdgyuhnjmkrlgfthyjuidfcgvhjbnkmlfdgrchujwazsexdrcftgvyhunjwazesrdtgfybhujimkszxdgfvhjnmkl,dvgfhjklxdcfgvhjnkm,ldsfghjkwsxedrctfvgybhujnmk,sdlfghjklsxdcfvghjnkml,swdyghukbjnkmlgf,uhjfvjnfvjishgiulgbiuskjhgisuhuihgiuhgoiuhsihiusghiusghisuhsiuhgiushiulhisughiushijkhbnkjfghsdiurgb',\n",
              "  0.9334354400634766),\n",
              " ('y/n', 0.9158844351768494),\n",
              " ('69.3.8.74', 0.9143531322479248),\n",
              " ('৳', 0.9140912294387817),\n",
              " ('ž', 0.9137455821037292),\n",
              " ('ź', 0.9131422638893127),\n",
              " ('спасибо', 0.9120252728462219),\n",
              " ('członków', 0.9119718670845032),\n",
              " ('ć', 0.9111043214797974),\n",
              " ('nó', 0.9092568159103394)]"
            ]
          },
          "metadata": {
            "tags": []
          },
          "execution_count": 20
        }
      ]
    },
    {
      "cell_type": "code",
      "metadata": {
        "colab_type": "code",
        "id": "36ksELX5dI65",
        "colab": {
          "base_uri": "https://localhost:8080/",
          "height": 102
        },
        "outputId": "fa0308d3-5c86-4dee-fb83-d034e0010b1f"
      },
      "source": [
        "weights = np.zeros((len(word2id), 200))\n",
        "for word, i in word2id.items():\n",
        "    if word == 'PAD':\n",
        "        continue\n",
        "    if word == 'UNK':\n",
        "        weights[i] = ft['cmurrvntbcmirbycw']\n",
        "    \n",
        "    try:\n",
        "        weights[i] = ft[word]\n",
        "    except KeyError:\n",
        "        weights[i] = ft['xcfghjedfgbnjk']"
      ],
      "execution_count": null,
      "outputs": [
        {
          "output_type": "stream",
          "text": [
            "/usr/local/lib/python3.6/dist-packages/ipykernel_launcher.py:6: DeprecationWarning: Call to deprecated `__getitem__` (Method will be removed in 4.0.0, use self.wv.__getitem__() instead).\n",
            "  \n",
            "/usr/local/lib/python3.6/dist-packages/ipykernel_launcher.py:9: DeprecationWarning: Call to deprecated `__getitem__` (Method will be removed in 4.0.0, use self.wv.__getitem__() instead).\n",
            "  if __name__ == '__main__':\n"
          ],
          "name": "stderr"
        }
      ]
    },
    {
      "cell_type": "markdown",
      "metadata": {
        "colab_type": "text",
        "id": "Z7PT8hgydI68"
      },
      "source": [
        "Второй фасттекст"
      ]
    },
    {
      "cell_type": "code",
      "metadata": {
        "colab_type": "code",
        "id": "9OSFrnEbdI68",
        "colab": {
          "base_uri": "https://localhost:8080/",
          "height": 50
        },
        "outputId": "624a5fbb-5890-45ee-c38a-6008e7cd9aba"
      },
      "source": [
        "%%time\n",
        "ft2 = gensim.models.FastText(texts, size=200, window=10, min_count=2, iter=10)"
      ],
      "execution_count": null,
      "outputs": [
        {
          "output_type": "stream",
          "text": [
            "CPU times: user 51min 55s, sys: 4.87 s, total: 52min\n",
            "Wall time: 26min 54s\n"
          ],
          "name": "stdout"
        }
      ]
    },
    {
      "cell_type": "code",
      "metadata": {
        "colab_type": "code",
        "id": "JZQjnAD2dI6_",
        "colab": {
          "base_uri": "https://localhost:8080/",
          "height": 265
        },
        "outputId": "4ccd3d89-78b7-48fb-ae7f-e5c01c1517c8"
      },
      "source": [
        "ft2.most_similar('abortion')"
      ],
      "execution_count": null,
      "outputs": [
        {
          "output_type": "stream",
          "text": [
            "/usr/local/lib/python3.6/dist-packages/ipykernel_launcher.py:1: DeprecationWarning: Call to deprecated `most_similar` (Method will be removed in 4.0.0, use self.wv.most_similar() instead).\n",
            "  \"\"\"Entry point for launching an IPython kernel.\n",
            "/usr/local/lib/python3.6/dist-packages/gensim/matutils.py:737: FutureWarning: Conversion of the second argument of issubdtype from `int` to `np.signedinteger` is deprecated. In future, it will be treated as `np.int64 == np.dtype(int).type`.\n",
            "  if np.issubdtype(vec.dtype, np.int):\n"
          ],
          "name": "stderr"
        },
        {
          "output_type": "execute_result",
          "data": {
            "text/plain": [
              "[('pro-abortion', 0.9493251442909241),\n",
              " ('anti-abortion', 0.9195890426635742),\n",
              " ('extortion', 0.9131839275360107),\n",
              " ('abolition', 0.88222336769104),\n",
              " ('exertion', 0.8688280582427979),\n",
              " ('abortions', 0.867085337638855),\n",
              " ('distortion', 0.8516861796379089),\n",
              " ('proportion', 0.8492709398269653),\n",
              " ('perturbation', 0.8436678051948547),\n",
              " ('taxation', 0.8426234722137451)]"
            ]
          },
          "metadata": {
            "tags": []
          },
          "execution_count": 23
        }
      ]
    },
    {
      "cell_type": "code",
      "metadata": {
        "colab_type": "code",
        "id": "XCvu18zPdI7C",
        "colab": {
          "base_uri": "https://localhost:8080/",
          "height": 102
        },
        "outputId": "424f28fe-ae25-4b7c-a221-57fa17784bff"
      },
      "source": [
        "weights2 = np.zeros((len(word2id), 200))\n",
        "for word, i in word2id.items():\n",
        "    if word == 'PAD':\n",
        "        continue\n",
        "    if word == 'UNK':\n",
        "        weights2[i] = ft2['qzowozmixwm']\n",
        "    \n",
        "    try:\n",
        "        weights2[i] = ft2[word]\n",
        "    except KeyError:\n",
        "        weights2[i] = ft2['fhslhdslfhgdku']"
      ],
      "execution_count": null,
      "outputs": [
        {
          "output_type": "stream",
          "text": [
            "/usr/local/lib/python3.6/dist-packages/ipykernel_launcher.py:6: DeprecationWarning: Call to deprecated `__getitem__` (Method will be removed in 4.0.0, use self.wv.__getitem__() instead).\n",
            "  \n",
            "/usr/local/lib/python3.6/dist-packages/ipykernel_launcher.py:9: DeprecationWarning: Call to deprecated `__getitem__` (Method will be removed in 4.0.0, use self.wv.__getitem__() instead).\n",
            "  if __name__ == '__main__':\n"
          ],
          "name": "stderr"
        }
      ]
    },
    {
      "cell_type": "code",
      "metadata": {
        "id": "Aaly1u7Sw5QT",
        "colab_type": "code",
        "colab": {}
      },
      "source": [
        "# КОД ВЛАДИСЛАВЫ\n",
        "from sklearn.metrics import  roc_auc_score\n",
        "def roc_auc(y_true, y_pred):\n",
        "    return tf.py_function(roc_auc_score, (y_true, y_pred), tf.double)"
      ],
      "execution_count": null,
      "outputs": []
    },
    {
      "cell_type": "code",
      "metadata": {
        "id": "lluZua_yApyX",
        "colab_type": "code",
        "colab": {
          "base_uri": "https://localhost:8080/",
          "height": 33
        },
        "outputId": "5f093016-a51f-4812-a47b-dbbcacd7f021"
      },
      "source": [
        "embeddings.shape"
      ],
      "execution_count": null,
      "outputs": [
        {
          "output_type": "execute_result",
          "data": {
            "text/plain": [
              "TensorShape([None, 512, 200])"
            ]
          },
          "metadata": {
            "tags": []
          },
          "execution_count": 33
        }
      ]
    },
    {
      "cell_type": "code",
      "metadata": {
        "colab_type": "code",
        "id": "tc7hQarud-4r",
        "colab": {}
      },
      "source": [
        "inputs = tf.keras.layers.Input(shape=(MAX_LEN,))\n",
        "\n",
        "embeddings = tf.keras.layers.Embedding(input_dim=len(word2id), output_dim=200,\n",
        "                                       trainable=False, weights=[weights])(inputs)\n",
        "embeddings2 = tf.keras.layers.Embedding(input_dim=len(word2id), output_dim=200,\n",
        "                                        trainable=False, weights=[weights2])(inputs)\n",
        "# вместо Flatten, код из домашки\n",
        "emb = tf.keras.layers.Concatenate()([embeddings, embeddings2])\n",
        "mean = tf.keras.layers.Lambda(lambda x: tf.keras.backend.sum(x, axis=1))(emb)\n",
        "dense1 = tf.keras.layers.Dense(64, activation='relu')(mean)\n",
        "dense2 = tf.keras.layers.Dense(64, activation='relu')(dense1)\n",
        "dense3 = tf.keras.layers.Dense(64, activation='relu')(dense2)\n",
        "outputs = tf.keras.layers.Dense(1, activation='sigmoid')(dense3)\n",
        "# outputs = tf.keras.layers.Dense(1, activation='sigmoid')(dense1)\n",
        "\n",
        "model = tf.keras.Model(inputs=inputs, outputs=outputs)\n",
        "optimizer = tf.keras.optimizers.Adam(learning_rate=0.0001)\n",
        "model.compile(optimizer=optimizer,\n",
        "              loss='binary_crossentropy',\n",
        "              metrics=[\n",
        "                    #    'accuracy',\n",
        "                       roc_auc])"
      ],
      "execution_count": null,
      "outputs": []
    },
    {
      "cell_type": "code",
      "metadata": {
        "id": "cSbhscya7PH9",
        "colab_type": "code",
        "colab": {
          "base_uri": "https://localhost:8080/",
          "height": 70
        },
        "outputId": "349f274f-a15b-4caf-81f7-014be78fd3dd"
      },
      "source": [
        "ft2.save('ft2.model')\n",
        "ft.save('ft.model')"
      ],
      "execution_count": null,
      "outputs": [
        {
          "output_type": "stream",
          "text": [
            "/usr/local/lib/python3.6/dist-packages/smart_open/smart_open_lib.py:253: UserWarning: This function is deprecated, use smart_open.open instead. See the migration notes for details: https://github.com/RaRe-Technologies/smart_open/blob/master/README.rst#migrating-to-the-new-open-function\n",
            "  'See the migration notes for details: %s' % _MIGRATION_NOTES_URL\n"
          ],
          "name": "stderr"
        }
      ]
    },
    {
      "cell_type": "code",
      "metadata": {
        "colab_type": "code",
        "id": "AOzVRUcid-4v",
        "colab": {
          "base_uri": "https://localhost:8080/",
          "height": 378
        },
        "outputId": "0555950f-72ba-410a-94fa-a4ea0993e8f5"
      },
      "source": [
        "model.fit(X_train, y_train, \n",
        "          validation_data=(X_val, val['toxic'].values\n",
        "            #   X_valid, y_valid\n",
        "              ),\n",
        "          batch_size=512,\n",
        "          epochs=10)"
      ],
      "execution_count": null,
      "outputs": [
        {
          "output_type": "stream",
          "text": [
            "Epoch 1/10\n",
            "437/437 [==============================] - 6s 14ms/step - loss: 0.3250 - roc_auc: 0.5939 - val_loss: 0.4509 - val_roc_auc: 0.5657\n",
            "Epoch 2/10\n",
            "437/437 [==============================] - 6s 13ms/step - loss: 0.3092 - roc_auc: 0.6234 - val_loss: 0.4592 - val_roc_auc: 0.5639\n",
            "Epoch 3/10\n",
            "437/437 [==============================] - 6s 13ms/step - loss: 0.3073 - roc_auc: 0.6322 - val_loss: 0.4567 - val_roc_auc: 0.5715\n",
            "Epoch 4/10\n",
            "437/437 [==============================] - 6s 13ms/step - loss: 0.3060 - roc_auc: 0.6389 - val_loss: 0.4440 - val_roc_auc: 0.5803\n",
            "Epoch 5/10\n",
            "437/437 [==============================] - 6s 14ms/step - loss: 0.3053 - roc_auc: 0.6436 - val_loss: 0.4454 - val_roc_auc: 0.5795\n",
            "Epoch 6/10\n",
            "437/437 [==============================] - 6s 14ms/step - loss: 0.3045 - roc_auc: 0.6477 - val_loss: 0.4510 - val_roc_auc: 0.5691\n",
            "Epoch 7/10\n",
            "437/437 [==============================] - 6s 13ms/step - loss: 0.3038 - roc_auc: 0.6506 - val_loss: 0.4418 - val_roc_auc: 0.5858\n",
            "Epoch 8/10\n",
            "437/437 [==============================] - 6s 13ms/step - loss: 0.3034 - roc_auc: 0.6523 - val_loss: 0.4423 - val_roc_auc: 0.5858\n",
            "Epoch 9/10\n",
            "437/437 [==============================] - 6s 14ms/step - loss: 0.3029 - roc_auc: 0.6539 - val_loss: 0.4424 - val_roc_auc: 0.5702\n",
            "Epoch 10/10\n",
            "437/437 [==============================] - 6s 14ms/step - loss: 0.3025 - roc_auc: 0.6566 - val_loss: 0.4360 - val_roc_auc: 0.5869\n"
          ],
          "name": "stdout"
        },
        {
          "output_type": "execute_result",
          "data": {
            "text/plain": [
              "<tensorflow.python.keras.callbacks.History at 0x7f22072b9048>"
            ]
          },
          "metadata": {
            "tags": []
          },
          "execution_count": 65
        }
      ]
    },
    {
      "cell_type": "code",
      "metadata": {
        "colab_type": "code",
        "id": "bebcL0-pd-41",
        "colab": {}
      },
      "source": [
        "preds = model.predict(X_val).reshape(-1)"
      ],
      "execution_count": null,
      "outputs": []
    },
    {
      "cell_type": "code",
      "metadata": {
        "colab_type": "code",
        "id": "ylyqC22Pd-44",
        "colab": {
          "base_uri": "https://localhost:8080/",
          "height": 163
        },
        "outputId": "67dc0aef-3285-421b-fc90-bb483753a27f"
      },
      "source": [
        "print(classification_report(val['toxic'].values, (preds > 0.5).astype(int)))"
      ],
      "execution_count": null,
      "outputs": [
        {
          "output_type": "stream",
          "text": [
            "              precision    recall  f1-score   support\n",
            "\n",
            "           0       0.85      1.00      0.92      6770\n",
            "           1       0.37      0.01      0.01      1230\n",
            "\n",
            "    accuracy                           0.85      8000\n",
            "   macro avg       0.61      0.50      0.46      8000\n",
            "weighted avg       0.77      0.85      0.78      8000\n",
            "\n"
          ],
          "name": "stdout"
        }
      ]
    },
    {
      "cell_type": "markdown",
      "metadata": {
        "id": "D3VuJeITEqiR",
        "colab_type": "text"
      },
      "source": [
        "Как-то не очень."
      ]
    },
    {
      "cell_type": "markdown",
      "metadata": {
        "id": "mE--nLRKetYx",
        "colab_type": "text"
      },
      "source": [
        "**ТЕПЕРЬ НА ФИЧАХ**"
      ]
    },
    {
      "cell_type": "code",
      "metadata": {
        "id": "X9v3TqvNeqn4",
        "colab_type": "code",
        "colab": {}
      },
      "source": [
        "# ранее сохраненные колонки с фичами\n",
        "X_train = pd.read_csv('X_train_features.csv')\n",
        "y_train = pd.read_csv('y_train_features.csv')\n",
        "X_val = pd.read_csv('X_val_features.csv')\n",
        "y_val = pd.read_csv('y_val_features.csv')"
      ],
      "execution_count": null,
      "outputs": []
    },
    {
      "cell_type": "code",
      "metadata": {
        "id": "05KRUsSmDZqy",
        "colab_type": "code",
        "colab": {}
      },
      "source": [
        "# как-то криво сохранила, поэтому\n",
        "X_train.drop(columns=['Unnamed: 0'], inplace=True)\n",
        "y_train.drop(columns=['Unnamed: 0'], inplace=True)\n",
        "X_val.drop(columns=['Unnamed: 0'], inplace=True)\n",
        "y_val.drop(columns=['Unnamed: 0'], inplace=True)"
      ],
      "execution_count": null,
      "outputs": []
    },
    {
      "cell_type": "code",
      "metadata": {
        "id": "wLyY0wnaFMuy",
        "colab_type": "code",
        "colab": {}
      },
      "source": [
        "MAX_LEN=len(X_train.columns)\n",
        "# 16 фичей (8 моих и 8 Сергея)"
      ],
      "execution_count": null,
      "outputs": []
    },
    {
      "cell_type": "code",
      "metadata": {
        "colab_type": "code",
        "id": "OWljCsGPCtOk",
        "colab": {}
      },
      "source": [
        "inputs = tf.keras.layers.Input(shape=(MAX_LEN,))\n",
        "\n",
        "dense1 = tf.keras.layers.Dense(64, activation='relu')(inputs)\n",
        "dense2 = tf.keras.layers.Dense(128, activation='relu')(dense1)\n",
        "dense3 = tf.keras.layers.Dense(64, activation='relu')(dense2)\n",
        "outputs = tf.keras.layers.Dense(1, activation='sigmoid')(dense3)\n",
        "\n",
        "model = tf.keras.Model(inputs=inputs, outputs=outputs)\n",
        "optimizer = tf.keras.optimizers.Adam(learning_rate=0.0001)\n",
        "model.compile(optimizer=optimizer,\n",
        "              loss='binary_crossentropy',\n",
        "              metrics=[\n",
        "                    #    'accuracy',\n",
        "                    # тут функция Владиславы\n",
        "                       roc_auc])"
      ],
      "execution_count": null,
      "outputs": []
    },
    {
      "cell_type": "code",
      "metadata": {
        "colab_type": "code",
        "id": "7HJbjx_lCtOu",
        "colab": {
          "base_uri": "https://localhost:8080/",
          "height": 1000
        },
        "outputId": "727b9ff6-6cba-446a-8613-ecb5170f336c"
      },
      "source": [
        "model.fit(X_train, y_train, \n",
        "          validation_data=(X_val, y_val\n",
        "            #   X_valid, y_valid\n",
        "              ),\n",
        "          batch_size=512,\n",
        "          epochs=30)"
      ],
      "execution_count": null,
      "outputs": [
        {
          "output_type": "stream",
          "text": [
            "Epoch 1/30\n",
            "437/437 [==============================] - 6s 14ms/step - loss: 0.2861 - roc_auc: 0.7298 - val_loss: 0.6264 - val_roc_auc: 0.6024\n",
            "Epoch 2/30\n",
            "437/437 [==============================] - 6s 14ms/step - loss: 0.2857 - roc_auc: 0.7310 - val_loss: 0.6242 - val_roc_auc: 0.6042\n",
            "Epoch 3/30\n",
            "437/437 [==============================] - 6s 14ms/step - loss: 0.2851 - roc_auc: 0.7323 - val_loss: 0.6125 - val_roc_auc: 0.5930\n",
            "Epoch 4/30\n",
            "437/437 [==============================] - 6s 14ms/step - loss: 0.2848 - roc_auc: 0.7331 - val_loss: 0.6218 - val_roc_auc: 0.6071\n",
            "Epoch 5/30\n",
            "437/437 [==============================] - 6s 14ms/step - loss: 0.2848 - roc_auc: 0.7347 - val_loss: 0.6259 - val_roc_auc: 0.6049\n",
            "Epoch 6/30\n",
            "437/437 [==============================] - 6s 14ms/step - loss: 0.2842 - roc_auc: 0.7356 - val_loss: 0.6270 - val_roc_auc: 0.6080\n",
            "Epoch 7/30\n",
            "437/437 [==============================] - 6s 14ms/step - loss: 0.2842 - roc_auc: 0.7359 - val_loss: 0.6246 - val_roc_auc: 0.6120\n",
            "Epoch 8/30\n",
            "437/437 [==============================] - 6s 14ms/step - loss: 0.2838 - roc_auc: 0.7375 - val_loss: 0.6294 - val_roc_auc: 0.6079\n",
            "Epoch 9/30\n",
            "437/437 [==============================] - 6s 14ms/step - loss: 0.2835 - roc_auc: 0.7375 - val_loss: 0.6250 - val_roc_auc: 0.6083\n",
            "Epoch 10/30\n",
            "437/437 [==============================] - 6s 14ms/step - loss: 0.2834 - roc_auc: 0.7386 - val_loss: 0.6150 - val_roc_auc: 0.6138\n",
            "Epoch 11/30\n",
            "437/437 [==============================] - 6s 14ms/step - loss: 0.2832 - roc_auc: 0.7390 - val_loss: 0.6150 - val_roc_auc: 0.6148\n",
            "Epoch 12/30\n",
            "437/437 [==============================] - 6s 14ms/step - loss: 0.2828 - roc_auc: 0.7399 - val_loss: 0.6148 - val_roc_auc: 0.6169\n",
            "Epoch 13/30\n",
            "437/437 [==============================] - 6s 14ms/step - loss: 0.2825 - roc_auc: 0.7406 - val_loss: 0.6113 - val_roc_auc: 0.6165\n",
            "Epoch 14/30\n",
            "437/437 [==============================] - 6s 15ms/step - loss: 0.2825 - roc_auc: 0.7409 - val_loss: 0.6222 - val_roc_auc: 0.6125\n",
            "Epoch 15/30\n",
            "437/437 [==============================] - 6s 14ms/step - loss: 0.2823 - roc_auc: 0.7410 - val_loss: 0.6237 - val_roc_auc: 0.6220\n",
            "Epoch 16/30\n",
            "437/437 [==============================] - 6s 14ms/step - loss: 0.2821 - roc_auc: 0.7421 - val_loss: 0.6126 - val_roc_auc: 0.6204\n",
            "Epoch 17/30\n",
            "437/437 [==============================] - 6s 14ms/step - loss: 0.2817 - roc_auc: 0.7423 - val_loss: 0.6169 - val_roc_auc: 0.6177\n",
            "Epoch 18/30\n",
            "437/437 [==============================] - 6s 14ms/step - loss: 0.2816 - roc_auc: 0.7433 - val_loss: 0.6223 - val_roc_auc: 0.6237\n",
            "Epoch 19/30\n",
            "437/437 [==============================] - 6s 14ms/step - loss: 0.2812 - roc_auc: 0.7435 - val_loss: 0.6186 - val_roc_auc: 0.6206\n",
            "Epoch 20/30\n",
            "437/437 [==============================] - 6s 14ms/step - loss: 0.2812 - roc_auc: 0.7445 - val_loss: 0.6243 - val_roc_auc: 0.6255\n",
            "Epoch 21/30\n",
            "437/437 [==============================] - 7s 15ms/step - loss: 0.2813 - roc_auc: 0.7444 - val_loss: 0.6196 - val_roc_auc: 0.6229\n",
            "Epoch 22/30\n",
            "437/437 [==============================] - 6s 15ms/step - loss: 0.2809 - roc_auc: 0.7451 - val_loss: 0.6157 - val_roc_auc: 0.6261\n",
            "Epoch 23/30\n",
            "437/437 [==============================] - 6s 15ms/step - loss: 0.2807 - roc_auc: 0.7456 - val_loss: 0.6218 - val_roc_auc: 0.6255\n",
            "Epoch 24/30\n",
            "437/437 [==============================] - 7s 15ms/step - loss: 0.2805 - roc_auc: 0.7460 - val_loss: 0.6193 - val_roc_auc: 0.6277\n",
            "Epoch 25/30\n",
            "437/437 [==============================] - 6s 15ms/step - loss: 0.2801 - roc_auc: 0.7464 - val_loss: 0.6086 - val_roc_auc: 0.6312\n",
            "Epoch 26/30\n",
            "437/437 [==============================] - 6s 14ms/step - loss: 0.2799 - roc_auc: 0.7471 - val_loss: 0.6156 - val_roc_auc: 0.6297\n",
            "Epoch 27/30\n",
            "437/437 [==============================] - 6s 14ms/step - loss: 0.2800 - roc_auc: 0.7480 - val_loss: 0.6181 - val_roc_auc: 0.6288\n",
            "Epoch 28/30\n",
            "437/437 [==============================] - 6s 15ms/step - loss: 0.2797 - roc_auc: 0.7479 - val_loss: 0.6335 - val_roc_auc: 0.6331\n",
            "Epoch 29/30\n",
            "437/437 [==============================] - 6s 15ms/step - loss: 0.2794 - roc_auc: 0.7489 - val_loss: 0.6122 - val_roc_auc: 0.6296\n",
            "Epoch 30/30\n",
            "437/437 [==============================] - 6s 14ms/step - loss: 0.2792 - roc_auc: 0.7501 - val_loss: 0.6153 - val_roc_auc: 0.6276\n"
          ],
          "name": "stdout"
        },
        {
          "output_type": "execute_result",
          "data": {
            "text/plain": [
              "<tensorflow.python.keras.callbacks.History at 0x7f2207376eb8>"
            ]
          },
          "metadata": {
            "tags": []
          },
          "execution_count": 61
        }
      ]
    },
    {
      "cell_type": "code",
      "metadata": {
        "colab_type": "code",
        "id": "oK56SNmdCtO5",
        "colab": {}
      },
      "source": [
        "preds = model.predict(X_val).reshape(-1)"
      ],
      "execution_count": null,
      "outputs": []
    },
    {
      "cell_type": "code",
      "metadata": {
        "colab_type": "code",
        "id": "jLU0qMLuCtO-",
        "colab": {
          "base_uri": "https://localhost:8080/",
          "height": 163
        },
        "outputId": "7fcd0d02-8a47-4266-d427-770c2773098d"
      },
      "source": [
        "print(classification_report(val['toxic'].values, (preds > 0.5).astype(int)))"
      ],
      "execution_count": null,
      "outputs": [
        {
          "output_type": "stream",
          "text": [
            "              precision    recall  f1-score   support\n",
            "\n",
            "           0       0.85      1.00      0.92      6770\n",
            "           1       0.55      0.01      0.02      1230\n",
            "\n",
            "    accuracy                           0.85      8000\n",
            "   macro avg       0.70      0.50      0.47      8000\n",
            "weighted avg       0.80      0.85      0.78      8000\n",
            "\n"
          ],
          "name": "stdout"
        }
      ]
    },
    {
      "cell_type": "markdown",
      "metadata": {
        "id": "_WXlLReFFOBu",
        "colab_type": "text"
      },
      "source": [
        "На фичах всё ожидаемо лучше, чем на непонятных эмбеддингах. Но всё равно хуже бейзлайнового рэндом фореста на тех же фичах."
      ]
    }
  ]
}