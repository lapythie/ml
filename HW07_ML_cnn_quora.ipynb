{
  "nbformat": 4,
  "nbformat_minor": 0,
  "metadata": {
    "colab": {
      "name": "HW07_ML_cnn_quora.ipynb",
      "provenance": [],
      "mount_file_id": "1s7cORJdz3xm4t-5mDIRkB1F3P7EVYzOu",
      "authorship_tag": "ABX9TyNtjTzAf2oghiqm3QjXLSgt",
      "include_colab_link": true
    },
    "kernelspec": {
      "name": "python3",
      "display_name": "Python 3"
    }
  },
  "cells": [
    {
      "cell_type": "markdown",
      "metadata": {
        "id": "view-in-github",
        "colab_type": "text"
      },
      "source": [
        "<a href=\"https://colab.research.google.com/github/lapythie/ml/blob/master/HW07_ML_cnn_quora.ipynb\" target=\"_parent\"><img src=\"https://colab.research.google.com/assets/colab-badge.svg\" alt=\"Open In Colab\"/></a>"
      ]
    },
    {
      "cell_type": "markdown",
      "metadata": {
        "id": "t2iEJTpgFJfF",
        "colab_type": "text"
      },
      "source": [
        "Задание:\n",
        "\n",
        "В домашке вам нужно будет обучить большую сверточную модель на символах (отличаться по сути будет только токенизация).\n",
        "\n",
        "При обучении используйте колбек для отслеживания лучшей модели. Ориентируйтесь на ф1 меру.\n",
        "\n",
        "Конкретнее задание такое: Обучите модель с минимум 15 слоями, где у каждого слоя разные параметры (Dropout, Conv1d и Pooling считаются слоями, остальное нет). Как мимнимум 4 слоя должны быть наложены друг на друга. Должен быть хотя бы один слой каждого типа.\n",
        "\n",
        "Советы: Начните с небольших сетей и постепенно добавляйте, не пытайтесь сразу собрать все слои. Сделайте размер эмбединга сильно меньше. Попробуйте паддинг поменьше. Символьная модель может обучаться намного дольше. Иногда кернел может крашиться просто так или из-за слишком больших матриц.\n",
        "\n"
      ]
    },
    {
      "cell_type": "code",
      "metadata": {
        "id": "cVkq9VcvgbIA",
        "colab_type": "code",
        "colab": {
          "base_uri": "https://localhost:8080/",
          "height": 68
        },
        "outputId": "4429c9bc-670a-4b59-ca95-878c02248b56"
      },
      "source": [
        "# !unzip '/content/drive/My Drive/Colab Notebooks/homework_ml_m1/ML_lectures/Нейронки 9.04/data.zip'"
      ],
      "execution_count": null,
      "outputs": [
        {
          "output_type": "stream",
          "text": [
            "Archive:  /content/drive/My Drive/Colab Notebooks/homework_ml_m1/ML_lectures/Нейронки 9.04/data.zip\n",
            "  inflating: quora.csv               \n",
            "  inflating: __MACOSX/._quora.csv    \n"
          ],
          "name": "stdout"
        }
      ]
    },
    {
      "cell_type": "code",
      "metadata": {
        "id": "QnxVX0k1C__V",
        "colab_type": "code",
        "colab": {}
      },
      "source": [
        "import tensorflow as tf"
      ],
      "execution_count": null,
      "outputs": []
    },
    {
      "cell_type": "code",
      "metadata": {
        "id": "gDVsIe75DL7V",
        "colab_type": "code",
        "colab": {}
      },
      "source": [
        "import re\n",
        "import unicodedata\n",
        "import pandas as pd\n",
        "import numpy as np\n",
        "from string import punctuation, digits\n",
        "punctuation += '«»—–…“”‘•∘'\n",
        "from sklearn.model_selection import train_test_split\n",
        "from collections import Counter\n",
        "import matplotlib.pyplot as plt\n",
        "%matplotlib inline"
      ],
      "execution_count": null,
      "outputs": []
    },
    {
      "cell_type": "code",
      "metadata": {
        "id": "4qEXvqDSDb65",
        "colab_type": "code",
        "colab": {}
      },
      "source": [
        "def preprocess(text):\n",
        "    '''no lowering'''\n",
        "    tokens = text.split()\n",
        "    punc = str(list(set(punctuation)-set('[\\^\\}\\?\\@…!\\$\\{\\#\\.]')))\n",
        "    tokens = [token.strip(punc) for token in tokens]\n",
        "    return tokens\n",
        "\n",
        "from tensorflow.keras import backend as K\n",
        "def f1(y_true, y_pred):\n",
        "    def recall(y_true, y_pred):\n",
        "        \"\"\"Recall metric.\n",
        "\n",
        "        Only computes a batch-wise average of recall.\n",
        "\n",
        "        Computes the recall, a metric for multi-label classification of\n",
        "        how many relevant items are selected.\n",
        "        \"\"\"\n",
        "        true_positives = K.sum(K.round(K.clip(y_true * y_pred, 0, 1)))\n",
        "        possible_positives = K.sum(K.round(K.clip(y_true, 0, 1)))\n",
        "        recall = true_positives / (possible_positives + K.epsilon())\n",
        "        return recall\n",
        "\n",
        "    def precision(y_true, y_pred):\n",
        "        \"\"\"Precision metric.\n",
        "\n",
        "        Only computes a batch-wise average of precision.\n",
        "\n",
        "        Computes the precision, a metric for multi-label classification of\n",
        "        how many selected items are relevant.\n",
        "        \"\"\"\n",
        "        true_positives = K.sum(K.round(K.clip(y_true * y_pred, 0, 1)))\n",
        "        predicted_positives = K.sum(K.round(K.clip(y_pred, 0, 1)))\n",
        "        precision = true_positives / (predicted_positives + K.epsilon())\n",
        "        return precision\n",
        "    precision = precision(y_true, y_pred)\n",
        "    recall = recall(y_true, y_pred)\n",
        "    return 2*((precision*recall)/(precision+recall+K.epsilon()))"
      ],
      "execution_count": null,
      "outputs": []
    },
    {
      "cell_type": "markdown",
      "metadata": {
        "id": "RdJXH2jfRQTW",
        "colab_type": "text"
      },
      "source": [
        "# Предобработка"
      ]
    },
    {
      "cell_type": "code",
      "metadata": {
        "id": "1timb9xIists",
        "colab_type": "code",
        "colab": {
          "base_uri": "https://localhost:8080/",
          "height": 68
        },
        "outputId": "5bc4fc8b-68fb-4902-baf9-933d37ccf5ad"
      },
      "source": [
        "from nltk import sent_tokenize\n",
        "import nltk\n",
        "nltk.download('punkt')"
      ],
      "execution_count": null,
      "outputs": [
        {
          "output_type": "stream",
          "text": [
            "[nltk_data] Downloading package punkt to /root/nltk_data...\n",
            "[nltk_data]   Unzipping tokenizers/punkt.zip.\n"
          ],
          "name": "stdout"
        },
        {
          "output_type": "execute_result",
          "data": {
            "text/plain": [
              "True"
            ]
          },
          "metadata": {
            "tags": []
          },
          "execution_count": 7
        }
      ]
    },
    {
      "cell_type": "markdown",
      "metadata": {
        "id": "pfLO_8pHhH3O",
        "colab_type": "text"
      },
      "source": [
        "Вообще говоря, нам хотелось бы сохранить экспрессивную пунктуацию, пунктуацию на границе предложения и цифры"
      ]
    },
    {
      "cell_type": "code",
      "metadata": {
        "id": "9imaJICjckt9",
        "colab_type": "code",
        "colab": {
          "base_uri": "https://localhost:8080/",
          "height": 35
        },
        "outputId": "7704d53f-0db5-4ce1-e8a4-3c967f118046"
      },
      "source": [
        "punctuation"
      ],
      "execution_count": null,
      "outputs": [
        {
          "output_type": "execute_result",
          "data": {
            "application/vnd.google.colaboratory.intrinsic": {
              "type": "string"
            },
            "text/plain": [
              "'!\"#$%&\\'()*+,-./:;<=>?@[\\\\]^_`{|}~«»—–…“”‘•∘'"
            ]
          },
          "metadata": {
            "tags": []
          },
          "execution_count": 8
        }
      ]
    },
    {
      "cell_type": "code",
      "metadata": {
        "id": "CWda2lsmXxPQ",
        "colab_type": "code",
        "colab": {
          "base_uri": "https://localhost:8080/",
          "height": 34
        },
        "outputId": "d35e454a-95d5-41d8-9dca-05fef28d99d6"
      },
      "source": [
        "vocab = Counter()\n",
        "\n",
        "for text in quora.question_text:\n",
        "    vocab.update(text)\n",
        "    \n",
        "filtered_vocab = set()\n",
        "\n",
        "for sym in vocab:\n",
        "    if vocab[sym] > 2000:\n",
        "        filtered_vocab.add(sym)\n",
        "len(filtered_vocab)"
      ],
      "execution_count": null,
      "outputs": [
        {
          "output_type": "execute_result",
          "data": {
            "text/plain": [
              "88"
            ]
          },
          "metadata": {
            "tags": []
          },
          "execution_count": 10
        }
      ]
    },
    {
      "cell_type": "code",
      "metadata": {
        "id": "F3Zw0s4BF6sb",
        "colab_type": "code",
        "colab": {}
      },
      "source": [
        "def cut_space(s):\n",
        "    return re.sub('[\\n\\s\\t]+', ' ', s)\n",
        "\n",
        "# такую пунктуацию оставим\n",
        "# потому что попадаются вопросы с просьбой решить математические примеры\n",
        "pun = set('\\^\\}\\?\\@…!\\$\\{\\#\\.')\n",
        "filtered_vocab = filtered_vocab-(pun|set(digits)|(filtered_vocab&set(punctuation)))\n",
        "def cust_tokenize(s):\n",
        "    tokens = []\n",
        "    for char in s:\n",
        "        if char in digits:\n",
        "            tokens.append('DIG')\n",
        "        elif char in pun:\n",
        "            tokens.append('PUN')\n",
        "        elif char in filtered_vocab:\n",
        "            tokens.append(char)\n",
        "        else:\n",
        "            tokens.append('UNK')\n",
        "    return tokens\n",
        "\n",
        "\n",
        "# s = 'How di.d Otto 1 000 000 von Guericke! ? used 1.56 the Magdeburg? I dunno'\n",
        "# for func in (keep_alpha, dig_token, num_token, keep_punct):\n",
        "#     print (func(s))"
      ],
      "execution_count": null,
      "outputs": []
    },
    {
      "cell_type": "code",
      "metadata": {
        "id": "KwGiTFMXDqnk",
        "colab_type": "code",
        "colab": {}
      },
      "source": [
        "quora = pd.read_csv('quora.csv')"
      ],
      "execution_count": null,
      "outputs": []
    },
    {
      "cell_type": "code",
      "metadata": {
        "id": "BqfCLoQxhpZ5",
        "colab_type": "code",
        "colab": {}
      },
      "source": [
        "pd.set_option('display.max_colwidth', 200)\n",
        "pd.set_option('display.max_rows', 200)\n",
        "# quora[quora['target']==1]"
      ],
      "execution_count": null,
      "outputs": []
    },
    {
      "cell_type": "code",
      "metadata": {
        "id": "P-bDflIXccBZ",
        "colab_type": "code",
        "colab": {}
      },
      "source": [
        "quora['sents'] = quora['question_text'].apply(sent_tokenize)\n",
        "quora['sent_count'] = quora['sents'].apply(lambda x: len(x))\n",
        "quora['text_len'] = quora['question_text'].apply(lambda x: len(x))"
      ],
      "execution_count": null,
      "outputs": []
    },
    {
      "cell_type": "code",
      "metadata": {
        "id": "swIf76hM3ix_",
        "colab_type": "code",
        "colab": {}
      },
      "source": [
        "quora['tokenized_text'] = quora['question_text'].apply(lambda x: cust_tokenize(cut_space(x)))"
      ],
      "execution_count": null,
      "outputs": []
    },
    {
      "cell_type": "code",
      "metadata": {
        "id": "OrUATX2Ij7Ns",
        "colab_type": "code",
        "colab": {}
      },
      "source": [
        "# quora['sent_count'].unique()\n",
        "# quora.groupby(by=['sent_count', 'target']).agg('count')\n",
        "for i in range(5, 12):\n",
        "    ind = quora[quora['sent_count']==i].index[0]\n",
        "    print(quora.loc[ind, 'question_text'])"
      ],
      "execution_count": null,
      "outputs": []
    },
    {
      "cell_type": "code",
      "metadata": {
        "id": "qB8HXydGnAw1",
        "colab_type": "code",
        "colab": {}
      },
      "source": [
        "# sorted(quora['text_len'].unique())[-5:]\n",
        "# quora.groupby(by=['sent_count', 'target']).agg('count')\n",
        "for i in (sorted(quora['text_len'].unique())[-3:]):\n",
        "    # try:\n",
        "        ind = quora[quora['text_len']==i].index[0]\n",
        "        print(quora.loc[ind, 'tokenized_text'], '\\n==============')\n",
        "# ''.join(list(set (quora.loc[ind, 'question_text'])))"
      ],
      "execution_count": null,
      "outputs": []
    },
    {
      "cell_type": "code",
      "metadata": {
        "id": "OYUjksX8YRbh",
        "colab_type": "code",
        "colab": {}
      },
      "source": [
        "sym2id = {'PUN':3, 'DIG':2, 'UNK':1, 'PAD':0}\n",
        "\n",
        "for sym in filtered_vocab:\n",
        "    sym2id[sym] = len(sym2id)\n",
        "\n",
        "id2sym = {i:sym for sym, i in sym2id.items()}\n",
        "\n",
        "X = []\n",
        "\n",
        "for text in quora.question_text:\n",
        "    syms = text.lower()\n",
        "    ids = [sym2id.get(sym, 1) for sym in syms]\n",
        "    X.append(ids)\n",
        "\n",
        "MAX_LEN = max(len(x) for x in X)"
      ],
      "execution_count": null,
      "outputs": []
    },
    {
      "cell_type": "code",
      "metadata": {
        "id": "TugiW0huLcz9",
        "colab_type": "code",
        "colab": {
          "base_uri": "https://localhost:8080/",
          "height": 34
        },
        "outputId": "4653fd90-3a78-420a-cb2b-b2f4a3192eda"
      },
      "source": [
        "MAX_LEN"
      ],
      "execution_count": null,
      "outputs": [
        {
          "output_type": "execute_result",
          "data": {
            "text/plain": [
              "1017"
            ]
          },
          "metadata": {
            "tags": []
          },
          "execution_count": 14
        }
      ]
    },
    {
      "cell_type": "code",
      "metadata": {
        "id": "DH6yb_3tbSF5",
        "colab_type": "code",
        "colab": {
          "base_uri": "https://localhost:8080/",
          "height": 34
        },
        "outputId": "c75d97fa-625d-4ca1-f2db-397d43d273e2"
      },
      "source": [
        "MEAN_LEN = np.median([len(x) for x in X])\n",
        "MEAN_LEN"
      ],
      "execution_count": null,
      "outputs": [
        {
          "output_type": "execute_result",
          "data": {
            "text/plain": [
              "60.0"
            ]
          },
          "metadata": {
            "tags": []
          },
          "execution_count": 15
        }
      ]
    },
    {
      "cell_type": "code",
      "metadata": {
        "id": "bq87ViuoEB8i",
        "colab_type": "code",
        "colab": {
          "base_uri": "https://localhost:8080/",
          "height": 34
        },
        "outputId": "2c245436-f909-4cbb-95a6-ac3fb6aa8549"
      },
      "source": [
        "MAX_LEN = int(MEAN_LEN*2)\n",
        "MAX_LEN"
      ],
      "execution_count": null,
      "outputs": [
        {
          "output_type": "execute_result",
          "data": {
            "text/plain": [
              "120"
            ]
          },
          "metadata": {
            "tags": []
          },
          "execution_count": 16
        }
      ]
    },
    {
      "cell_type": "code",
      "metadata": {
        "id": "LjDLnRBJb9lV",
        "colab_type": "code",
        "colab": {}
      },
      "source": [
        "X = tf.keras.preprocessing.sequence.pad_sequences(X, maxlen=MAX_LEN)"
      ],
      "execution_count": null,
      "outputs": []
    },
    {
      "cell_type": "code",
      "metadata": {
        "id": "JlOEKSrYcIUE",
        "colab_type": "code",
        "colab": {
          "base_uri": "https://localhost:8080/",
          "height": 34
        },
        "outputId": "994e52ad-f468-49b5-e21f-d4e227af330a"
      },
      "source": [
        "X.shape\n"
      ],
      "execution_count": null,
      "outputs": [
        {
          "output_type": "execute_result",
          "data": {
            "text/plain": [
              "(1306122, 120)"
            ]
          },
          "metadata": {
            "tags": []
          },
          "execution_count": 18
        }
      ]
    },
    {
      "cell_type": "code",
      "metadata": {
        "id": "nAAWjMAYcMW9",
        "colab_type": "code",
        "colab": {}
      },
      "source": [
        "y = quora.target.values\n",
        "X_train, X_valid, y_train, y_valid = train_test_split(\n",
        "    X, y, test_size=0.05, stratify=y, random_state=1)"
      ],
      "execution_count": null,
      "outputs": []
    },
    {
      "cell_type": "code",
      "metadata": {
        "id": "oawxH-ERiNnU",
        "colab_type": "code",
        "colab": {}
      },
      "source": [
        "checkpoint = tf.keras.callbacks.ModelCheckpoint('model.weights',\n",
        "                                                monitor='val_f1',\n",
        "                                                verbose=1,\n",
        "                                                save_best_only=True,\n",
        "                                                save_weights_only=True,\n",
        "                                                mode='max',\n",
        "                                                save_freq='epoch'\n",
        "                                                )"
      ],
      "execution_count": null,
      "outputs": []
    },
    {
      "cell_type": "markdown",
      "metadata": {
        "id": "tjP7K1hOcGJa",
        "colab_type": "text"
      },
      "source": [
        "# Вообще без свёртки"
      ]
    },
    {
      "cell_type": "code",
      "metadata": {
        "id": "e8ZDudlucXXt",
        "colab_type": "code",
        "colab": {}
      },
      "source": [
        "inputs = tf.keras.layers.Input(shape=(MAX_LEN, ))\n",
        "embeddings = tf.keras.layers.Embedding(\n",
        "    input_dim=len(sym2id), output_dim = 10)(inputs)\n",
        "mean = tf.keras.layers.Flatten()(embeddings)\n",
        "dense = tf.keras.layers.Dense(64, activation='relu')(mean)\n",
        "outputs = tf.keras.layers.Dense(1, activation='sigmoid')(dense)\n",
        "\n",
        "model = tf.keras.Model(inputs=inputs, outputs=outputs)\n",
        "optimizer = tf.keras.optimizers.Adam(learning_rate=0.001)\n",
        "model.compile(optimizer=optimizer,\n",
        "              loss='binary_crossentropy', metrics=[f1])"
      ],
      "execution_count": null,
      "outputs": []
    },
    {
      "cell_type": "code",
      "metadata": {
        "id": "r6xAXGo0ex4O",
        "colab_type": "code",
        "colab": {
          "base_uri": "https://localhost:8080/"
        },
        "outputId": "bec1949f-3e40-4d6e-dc51-5aa07d145128"
      },
      "source": [
        "model.fit(X_train, y_train,\n",
        "          validation_data=(X_valid, y_valid),\n",
        "          batch_size=512,\n",
        "          epochs=5)"
      ],
      "execution_count": null,
      "outputs": [
        {
          "output_type": "stream",
          "text": [
            "Epoch 1/5\n",
            "2424/2424 [==============================] - 25s 10ms/step - loss: 0.1957 - f1: 0.0311 - val_loss: 0.1934 - val_f1: 0.0228\n",
            "Epoch 2/5\n",
            "2424/2424 [==============================] - 25s 10ms/step - loss: 0.1896 - f1: 0.0632 - val_loss: 0.1934 - val_f1: 0.0843\n",
            "Epoch 3/5\n",
            "2424/2424 [==============================] - 25s 10ms/step - loss: 0.1842 - f1: 0.1086 - val_loss: 0.1914 - val_f1: 0.0720\n",
            "Epoch 4/5\n",
            "2424/2424 [==============================] - 25s 10ms/step - loss: 0.1792 - f1: 0.1533 - val_loss: 0.1925 - val_f1: 0.1176\n",
            "Epoch 5/5\n",
            "2424/2424 [==============================] - 25s 10ms/step - loss: 0.1748 - f1: 0.1945 - val_loss: 0.1935 - val_f1: 0.1409\n"
          ],
          "name": "stdout"
        },
        {
          "output_type": "execute_result",
          "data": {
            "text/plain": [
              "<tensorflow.python.keras.callbacks.History at 0x7f4da6c9fe10>"
            ]
          },
          "metadata": {
            "tags": []
          },
          "execution_count": 134
        }
      ]
    },
    {
      "cell_type": "code",
      "metadata": {
        "id": "A6ke5163fwNl",
        "colab_type": "code",
        "colab": {
          "base_uri": "https://localhost:8080/"
        },
        "outputId": "3ff3c540-ddab-4a72-f347-f4e8c3ca4e77"
      },
      "source": [
        "print(model.history.history.keys())\n",
        "# summarize history for accuracy\n",
        "plt.plot(model.history.history['f1'])\n",
        "plt.plot(model.history.history['val_f1'])\n",
        "plt.title('model f1')\n",
        "plt.ylabel('f1')\n",
        "plt.xlabel('epoch')\n",
        "plt.legend(['train', 'val'], loc='upper left')\n",
        "plt.show()"
      ],
      "execution_count": null,
      "outputs": [
        {
          "output_type": "stream",
          "text": [
            "dict_keys(['loss', 'f1', 'val_loss', 'val_f1'])\n"
          ],
          "name": "stdout"
        },
        {
          "output_type": "display_data",
          "data": {
            "image/png": "[encoded data removed]",
            "text/plain": [
              "<Figure size 432x288 with 1 Axes>"
            ]
          },
          "metadata": {
            "tags": [],
            "needs_background": "light"
          }
        }
      ]
    },
    {
      "cell_type": "markdown",
      "metadata": {
        "id": "wGTPKQEsgM1d",
        "colab_type": "text"
      },
      "source": [
        "# Со свёрточным слоем"
      ]
    },
    {
      "cell_type": "markdown",
      "metadata": {
        "id": "192GA4Z1gefI",
        "colab_type": "text"
      },
      "source": [
        "*Советы: Начните с небольших сетей и постепенно добавляйте, не пытайтесь сразу собрать все слои. Сделайте размер эмбединга сильно меньше. Попробуйте паддинг поменьше. Символьная модель может обучаться намного дольше. Иногда кернел может крашиться просто так или из-за слишком больших матриц.*"
      ]
    },
    {
      "cell_type": "code",
      "metadata": {
        "id": "rqlRx0lsgdUv",
        "colab_type": "code",
        "colab": {}
      },
      "source": [
        ""
      ],
      "execution_count": null,
      "outputs": []
    },
    {
      "cell_type": "code",
      "metadata": {
        "colab_type": "code",
        "id": "eAEPVREdgPvW",
        "colab": {
          "base_uri": "https://localhost:8080/"
        },
        "outputId": "f679f7b7-785d-45c7-cae2-f16096cb02e4"
      },
      "source": [
        "inputs = tf.keras.layers.Input(shape=(MAX_LEN, ))\n",
        "embeddings = tf.keras.layers.Embedding(\n",
        "    input_dim=len(sym2id), output_dim = 10)(inputs)\n",
        "\n",
        "conv1 = tf.keras.layers.Conv1D(kernel_size=3, \n",
        "                               filters=64)(embeddings)\n",
        "\n",
        "concat = tf.keras.layers.Flatten()(conv1)\n",
        "dense = tf.keras.layers.Dense(64, activation='relu')(concat)\n",
        "outputs = tf.keras.layers.Dense(1, activation='sigmoid')(dense)\n",
        "\n",
        "model = tf.keras.Model(inputs=inputs, outputs=outputs)\n",
        "optimizer = tf.keras.optimizers.Adam(learning_rate=0.001)\n",
        "model.compile(optimizer=optimizer,\n",
        "              loss='binary_crossentropy', \n",
        "              metrics=[f1])\n",
        "model.summary()"
      ],
      "execution_count": null,
      "outputs": [
        {
          "output_type": "stream",
          "text": [
            "Model: \"model_4\"\n",
            "_________________________________________________________________\n",
            "Layer (type)                 Output Shape              Param #   \n",
            "=================================================================\n",
            "input_5 (InputLayer)         [(None, 120)]             0         \n",
            "_________________________________________________________________\n",
            "embedding_4 (Embedding)      (None, 120, 10)           580       \n",
            "_________________________________________________________________\n",
            "conv1d_2 (Conv1D)            (None, 118, 64)           1984      \n",
            "_________________________________________________________________\n",
            "flatten_4 (Flatten)          (None, 7552)              0         \n",
            "_________________________________________________________________\n",
            "dense_8 (Dense)              (None, 64)                483392    \n",
            "_________________________________________________________________\n",
            "dense_9 (Dense)              (None, 1)                 65        \n",
            "=================================================================\n",
            "Total params: 486,021\n",
            "Trainable params: 486,021\n",
            "Non-trainable params: 0\n",
            "_________________________________________________________________\n"
          ],
          "name": "stdout"
        }
      ]
    },
    {
      "cell_type": "code",
      "metadata": {
        "id": "3D7Z0WPwhh4x",
        "colab_type": "code",
        "colab": {
          "base_uri": "https://localhost:8080/"
        },
        "outputId": "f167d032-b4bd-44bf-c4b8-2d051c27491d"
      },
      "source": [
        "model.fit(X_train, y_train, \n",
        "          validation_data=(X_valid, y_valid),\n",
        "          batch_size=512,\n",
        "          epochs=5)"
      ],
      "execution_count": null,
      "outputs": [
        {
          "output_type": "stream",
          "text": [
            "Epoch 1/5\n",
            "2424/2424 [==============================] - 179s 74ms/step - loss: 0.2048 - f1: 0.0011 - val_loss: 0.1955 - val_f1: 0.0058\n",
            "Epoch 2/5\n",
            "2424/2424 [==============================] - 173s 71ms/step - loss: 0.1923 - f1: 0.0090 - val_loss: 0.1918 - val_f1: 0.0266\n",
            "Epoch 3/5\n",
            "2424/2424 [==============================] - 172s 71ms/step - loss: 0.1874 - f1: 0.0320 - val_loss: 0.1872 - val_f1: 0.0571\n",
            "Epoch 4/5\n",
            "2424/2424 [==============================] - 176s 73ms/step - loss: 0.1827 - f1: 0.0722 - val_loss: 0.1863 - val_f1: 0.0808\n",
            "Epoch 5/5\n",
            "2424/2424 [==============================] - 172s 71ms/step - loss: 0.1778 - f1: 0.1221 - val_loss: 0.1871 - val_f1: 0.1247\n"
          ],
          "name": "stdout"
        },
        {
          "output_type": "execute_result",
          "data": {
            "text/plain": [
              "<tensorflow.python.keras.callbacks.History at 0x7f4da722ba20>"
            ]
          },
          "metadata": {
            "tags": []
          },
          "execution_count": 139
        }
      ]
    },
    {
      "cell_type": "code",
      "metadata": {
        "colab_type": "code",
        "id": "F8njgnzCgPvd",
        "colab": {
          "base_uri": "https://localhost:8080/"
        },
        "outputId": "368165b7-46d7-420a-f772-4d899894c9f9"
      },
      "source": [
        "print(model.history.history.keys())\n",
        "# summarize history for accuracy\n",
        "plt.plot(model.history.history['f1'])\n",
        "plt.plot(model.history.history['val_f1'])\n",
        "plt.title('model f1')\n",
        "plt.ylabel('f1')\n",
        "plt.xlabel('epoch')\n",
        "plt.legend(['train', 'val'], loc='upper left')\n",
        "plt.show()"
      ],
      "execution_count": null,
      "outputs": [
        {
          "output_type": "stream",
          "text": [
            "dict_keys(['loss', 'f1', 'val_loss', 'val_f1'])\n"
          ],
          "name": "stdout"
        },
        {
          "output_type": "display_data",
          "data": {
            "image/png": "[encoded data removed]",
            "text/plain": [
              "<Figure size 432x288 with 1 Axes>"
            ]
          },
          "metadata": {
            "tags": [],
            "needs_background": "light"
          }
        }
      ]
    },
    {
      "cell_type": "code",
      "metadata": {
        "id": "iuVATw3gODDo",
        "colab_type": "code",
        "colab": {}
      },
      "source": [
        "model.save('model')\n",
        "model.load_weights('model.weights')"
      ],
      "execution_count": null,
      "outputs": []
    },
    {
      "cell_type": "markdown",
      "metadata": {
        "id": "JbRulViQiOCl",
        "colab_type": "text"
      },
      "source": [
        "# Свёртка с дропаутом"
      ]
    },
    {
      "cell_type": "code",
      "metadata": {
        "colab_type": "code",
        "id": "YrVSOrTwiLYG",
        "colab": {
          "base_uri": "https://localhost:8080/",
          "height": 391
        },
        "outputId": "eba537f0-72e0-472c-9c71-072f8d886cd5"
      },
      "source": [
        "inputs = tf.keras.layers.Input(shape=(MAX_LEN, ))\n",
        "embeddings = tf.keras.layers.Embedding(\n",
        "    input_dim=len(sym2id), output_dim = 10)(inputs)\n",
        "\n",
        "###################\n",
        "conv1 = tf.keras.layers.Conv1D(kernel_size=3, \n",
        "                               filters=64)(embeddings)\n",
        "drop1 = tf.keras.layers.Dropout(0.2)(conv1)\n",
        "concat = tf.keras.layers.Flatten()(drop1)\n",
        "###################\n",
        "\n",
        "dense = tf.keras.layers.Dense(64, activation='relu')(concat)\n",
        "outputs = tf.keras.layers.Dense(1, activation='sigmoid')(dense)\n",
        "\n",
        "model = tf.keras.Model(inputs=inputs, outputs=outputs)\n",
        "optimizer = tf.keras.optimizers.Adam(learning_rate=0.001)\n",
        "model.compile(optimizer=optimizer,\n",
        "              loss='binary_crossentropy', \n",
        "              metrics=[f1])\n",
        "model.summary()"
      ],
      "execution_count": null,
      "outputs": [
        {
          "output_type": "stream",
          "text": [
            "Model: \"model_7\"\n",
            "_________________________________________________________________\n",
            "Layer (type)                 Output Shape              Param #   \n",
            "=================================================================\n",
            "input_8 (InputLayer)         [(None, 120)]             0         \n",
            "_________________________________________________________________\n",
            "embedding_7 (Embedding)      (None, 120, 10)           580       \n",
            "_________________________________________________________________\n",
            "conv1d_5 (Conv1D)            (None, 118, 64)           1984      \n",
            "_________________________________________________________________\n",
            "dropout_2 (Dropout)          (None, 118, 64)           0         \n",
            "_________________________________________________________________\n",
            "flatten_7 (Flatten)          (None, 7552)              0         \n",
            "_________________________________________________________________\n",
            "dense_14 (Dense)             (None, 64)                483392    \n",
            "_________________________________________________________________\n",
            "dense_15 (Dense)             (None, 1)                 65        \n",
            "=================================================================\n",
            "Total params: 486,021\n",
            "Trainable params: 486,021\n",
            "Non-trainable params: 0\n",
            "_________________________________________________________________\n"
          ],
          "name": "stdout"
        }
      ]
    },
    {
      "cell_type": "code",
      "metadata": {
        "colab_type": "code",
        "id": "nhg_DdjwiLYL",
        "colab": {
          "base_uri": "https://localhost:8080/",
          "height": 394
        },
        "outputId": "0e2dd375-c495-40c7-bb71-fe815d55b6c6"
      },
      "source": [
        "model.fit(X_train, y_train, \n",
        "          validation_data=(X_valid, y_valid),\n",
        "          batch_size=512,\n",
        "          epochs=5,\n",
        "          callbacks=[checkpoint])"
      ],
      "execution_count": null,
      "outputs": [
        {
          "output_type": "stream",
          "text": [
            "Epoch 1/5\n",
            "2424/2424 [==============================] - ETA: 0s - loss: 0.2065 - f1: 0.0037\n",
            "Epoch 00001: val_f1 improved from -inf to 0.00050, saving model to model.weights\n",
            "2424/2424 [==============================] - 257s 106ms/step - loss: 0.2065 - f1: 0.0037 - val_loss: 0.2018 - val_f1: 5.0403e-04\n",
            "Epoch 2/5\n",
            "2424/2424 [==============================] - ETA: 0s - loss: 0.1938 - f1: 0.0157\n",
            "Epoch 00002: val_f1 improved from 0.00050 to 0.01844, saving model to model.weights\n",
            "2424/2424 [==============================] - 259s 107ms/step - loss: 0.1938 - f1: 0.0157 - val_loss: 0.1906 - val_f1: 0.0184\n",
            "Epoch 3/5\n",
            "2424/2424 [==============================] - ETA: 0s - loss: 0.1880 - f1: 0.0427\n",
            "Epoch 00003: val_f1 improved from 0.01844 to 0.03604, saving model to model.weights\n",
            "2424/2424 [==============================] - 254s 105ms/step - loss: 0.1880 - f1: 0.0427 - val_loss: 0.1870 - val_f1: 0.0360\n",
            "Epoch 4/5\n",
            "2424/2424 [==============================] - ETA: 0s - loss: 0.1835 - f1: 0.0827\n",
            "Epoch 00004: val_f1 improved from 0.03604 to 0.07712, saving model to model.weights\n",
            "2424/2424 [==============================] - 260s 107ms/step - loss: 0.1835 - f1: 0.0827 - val_loss: 0.1863 - val_f1: 0.0771\n",
            "Epoch 5/5\n",
            "2424/2424 [==============================] - ETA: 0s - loss: 0.1792 - f1: 0.1255\n",
            "Epoch 00005: val_f1 improved from 0.07712 to 0.08215, saving model to model.weights\n",
            "2424/2424 [==============================] - 256s 106ms/step - loss: 0.1792 - f1: 0.1255 - val_loss: 0.1866 - val_f1: 0.0822\n"
          ],
          "name": "stdout"
        },
        {
          "output_type": "execute_result",
          "data": {
            "text/plain": [
              "<tensorflow.python.keras.callbacks.History at 0x7f4d95b66ba8>"
            ]
          },
          "metadata": {
            "tags": []
          },
          "execution_count": 149
        }
      ]
    },
    {
      "cell_type": "code",
      "metadata": {
        "colab_type": "code",
        "id": "6WGlQwhhiLYQ",
        "colab": {
          "base_uri": "https://localhost:8080/",
          "height": 312
        },
        "outputId": "2d6bdec6-c687-4046-add1-ed070efe74d5"
      },
      "source": [
        "print(model.history.history.keys())\n",
        "# summarize history for accuracy\n",
        "plt.plot(model.history.history['f1'])\n",
        "plt.plot(model.history.history['val_f1'])\n",
        "plt.title('model f1')\n",
        "plt.ylabel('f1')\n",
        "plt.xlabel('epoch')\n",
        "plt.legend(['train', 'val'], loc='upper left')\n",
        "plt.show()"
      ],
      "execution_count": null,
      "outputs": [
        {
          "output_type": "stream",
          "text": [
            "dict_keys(['loss', 'f1', 'val_loss', 'val_f1'])\n"
          ],
          "name": "stdout"
        },
        {
          "output_type": "display_data",
          "data": {
            "image/png": "[encoded data removed]",
            "text/plain": [
              "<Figure size 432x288 with 1 Axes>"
            ]
          },
          "metadata": {
            "tags": [],
            "needs_background": "light"
          }
        }
      ]
    },
    {
      "cell_type": "markdown",
      "metadata": {
        "id": "GLVUckJPT_WK",
        "colab_type": "text"
      },
      "source": [
        "# Дропаут до свёртки"
      ]
    },
    {
      "cell_type": "code",
      "metadata": {
        "id": "FLSGguv_UQZr",
        "colab_type": "code",
        "colab": {
          "base_uri": "https://localhost:8080/",
          "height": 391
        },
        "outputId": "04d5c12f-53ab-4c26-b84a-eeb4e62f14eb"
      },
      "source": [
        "inputs = tf.keras.layers.Input(shape=(MAX_LEN, ))\n",
        "embeddings = tf.keras.layers.Embedding(\n",
        "    input_dim=len(sym2id), output_dim = 10)(inputs)\n",
        "\n",
        "###################\n",
        "drop1 = tf.keras.layers.Dropout(0.2)(embeddings)\n",
        "conv1 = tf.keras.layers.Conv1D(kernel_size=3, \n",
        "                               filters=64)(drop1)\n",
        "concat = tf.keras.layers.Flatten()(conv1)\n",
        "###################\n",
        "\n",
        "dense = tf.keras.layers.Dense(64, activation='relu')(concat)\n",
        "outputs = tf.keras.layers.Dense(1, activation='sigmoid')(dense)\n",
        "\n",
        "model = tf.keras.Model(inputs=inputs, outputs=outputs)\n",
        "optimizer = tf.keras.optimizers.Adam(learning_rate=0.001)\n",
        "model.compile(optimizer=optimizer,\n",
        "              loss='binary_crossentropy', \n",
        "              metrics=[f1])\n",
        "model.summary()"
      ],
      "execution_count": null,
      "outputs": [
        {
          "output_type": "stream",
          "text": [
            "Model: \"model_8\"\n",
            "_________________________________________________________________\n",
            "Layer (type)                 Output Shape              Param #   \n",
            "=================================================================\n",
            "input_11 (InputLayer)        [(None, 120)]             0         \n",
            "_________________________________________________________________\n",
            "embedding_10 (Embedding)     (None, 120, 10)           580       \n",
            "_________________________________________________________________\n",
            "dropout_5 (Dropout)          (None, 120, 10)           0         \n",
            "_________________________________________________________________\n",
            "conv1d_8 (Conv1D)            (None, 118, 64)           1984      \n",
            "_________________________________________________________________\n",
            "flatten_8 (Flatten)          (None, 7552)              0         \n",
            "_________________________________________________________________\n",
            "dense_16 (Dense)             (None, 64)                483392    \n",
            "_________________________________________________________________\n",
            "dense_17 (Dense)             (None, 1)                 65        \n",
            "=================================================================\n",
            "Total params: 486,021\n",
            "Trainable params: 486,021\n",
            "Non-trainable params: 0\n",
            "_________________________________________________________________\n"
          ],
          "name": "stdout"
        }
      ]
    },
    {
      "cell_type": "code",
      "metadata": {
        "colab_type": "code",
        "id": "nxsg42eoVHJZ",
        "colab": {
          "base_uri": "https://localhost:8080/",
          "height": 394
        },
        "outputId": "2ed52c02-f9b5-4d66-a596-4cd650f7424e"
      },
      "source": [
        "model.fit(X_train, y_train, \n",
        "          validation_data=(X_valid, y_valid),\n",
        "          batch_size=512,\n",
        "          epochs=5,\n",
        "          callbacks=[checkpoint])"
      ],
      "execution_count": null,
      "outputs": [
        {
          "output_type": "stream",
          "text": [
            "Epoch 1/5\n",
            "2423/2424 [============================>.] - ETA: 0s - loss: 0.2085 - f1: 0.0033\n",
            "Epoch 00001: val_f1 did not improve from 0.08215\n",
            "2424/2424 [==============================] - 190s 79ms/step - loss: 0.2085 - f1: 0.0033 - val_loss: 0.1989 - val_f1: 3.8110e-04\n",
            "Epoch 2/5\n",
            "2423/2424 [============================>.] - ETA: 0s - loss: 0.1974 - f1: 0.0085\n",
            "Epoch 00002: val_f1 did not improve from 0.08215\n",
            "2424/2424 [==============================] - 188s 78ms/step - loss: 0.1974 - f1: 0.0085 - val_loss: 0.1919 - val_f1: 0.0021\n",
            "Epoch 3/5\n",
            "2424/2424 [==============================] - ETA: 0s - loss: 0.1933 - f1: 0.0192\n",
            "Epoch 00003: val_f1 did not improve from 0.08215\n",
            "2424/2424 [==============================] - 188s 78ms/step - loss: 0.1933 - f1: 0.0192 - val_loss: 0.1946 - val_f1: 0.0154\n",
            "Epoch 4/5\n",
            "2423/2424 [============================>.] - ETA: 0s - loss: 0.1907 - f1: 0.0310\n",
            "Epoch 00004: val_f1 did not improve from 0.08215\n",
            "2424/2424 [==============================] - 188s 77ms/step - loss: 0.1907 - f1: 0.0310 - val_loss: 0.1889 - val_f1: 0.0127\n",
            "Epoch 5/5\n",
            "2423/2424 [============================>.] - ETA: 0s - loss: 0.1887 - f1: 0.0484\n",
            "Epoch 00005: val_f1 did not improve from 0.08215\n",
            "2424/2424 [==============================] - 191s 79ms/step - loss: 0.1887 - f1: 0.0485 - val_loss: 0.1870 - val_f1: 0.0383\n"
          ],
          "name": "stdout"
        },
        {
          "output_type": "execute_result",
          "data": {
            "text/plain": [
              "<tensorflow.python.keras.callbacks.History at 0x7f4d928a49b0>"
            ]
          },
          "metadata": {
            "tags": []
          },
          "execution_count": 155
        }
      ]
    },
    {
      "cell_type": "code",
      "metadata": {
        "colab_type": "code",
        "id": "p9kvYNgWVHJl",
        "colab": {
          "base_uri": "https://localhost:8080/",
          "height": 312
        },
        "outputId": "b645ffea-9e31-4230-9ea3-555846e50109"
      },
      "source": [
        "print(model.history.history.keys())\n",
        "# summarize history for accuracy\n",
        "plt.plot(model.history.history['f1'])\n",
        "plt.plot(model.history.history['val_f1'])\n",
        "plt.title('model f1')\n",
        "plt.ylabel('f1')\n",
        "plt.xlabel('epoch')\n",
        "plt.legend(['train', 'val'], loc='upper left')\n",
        "plt.show()"
      ],
      "execution_count": null,
      "outputs": [
        {
          "output_type": "stream",
          "text": [
            "dict_keys(['loss', 'f1', 'val_loss', 'val_f1'])\n"
          ],
          "name": "stdout"
        },
        {
          "output_type": "display_data",
          "data": {
            "image/png": "[encoded data removed]",
            "text/plain": [
              "<Figure size 432x288 with 1 Axes>"
            ]
          },
          "metadata": {
            "tags": [],
            "needs_background": "light"
          }
        }
      ]
    },
    {
      "cell_type": "markdown",
      "metadata": {
        "id": "9ML2UNkAYdvQ",
        "colab_type": "text"
      },
      "source": [
        "# Свёртка c меньшим дропаутом"
      ]
    },
    {
      "cell_type": "code",
      "metadata": {
        "colab_type": "code",
        "id": "Af0xd1NFY1Ph",
        "colab": {
          "base_uri": "https://localhost:8080/",
          "height": 391
        },
        "outputId": "b68f753b-3b65-477e-e8dc-d05c30fa7712"
      },
      "source": [
        "inputs = tf.keras.layers.Input(shape=(MAX_LEN, ))\n",
        "embeddings = tf.keras.layers.Embedding(\n",
        "    input_dim=len(sym2id), output_dim = 10)(inputs)\n",
        "\n",
        "###################\n",
        "conv1 = tf.keras.layers.Conv1D(kernel_size=3, \n",
        "                               filters=64)(embeddings)\n",
        "drop1 = tf.keras.layers.Dropout(0.1)(conv1)\n",
        "concat = tf.keras.layers.Flatten()(drop1)\n",
        "###################\n",
        "\n",
        "dense = tf.keras.layers.Dense(64, activation='relu')(concat)\n",
        "outputs = tf.keras.layers.Dense(1, activation='sigmoid')(dense)\n",
        "\n",
        "model = tf.keras.Model(inputs=inputs, outputs=outputs)\n",
        "optimizer = tf.keras.optimizers.Adam(learning_rate=0.001)\n",
        "model.compile(optimizer=optimizer,\n",
        "              loss='binary_crossentropy', \n",
        "              metrics=[f1])\n",
        "model.summary()"
      ],
      "execution_count": null,
      "outputs": [
        {
          "output_type": "stream",
          "text": [
            "Model: \"model_9\"\n",
            "_________________________________________________________________\n",
            "Layer (type)                 Output Shape              Param #   \n",
            "=================================================================\n",
            "input_12 (InputLayer)        [(None, 120)]             0         \n",
            "_________________________________________________________________\n",
            "embedding_11 (Embedding)     (None, 120, 10)           580       \n",
            "_________________________________________________________________\n",
            "conv1d_9 (Conv1D)            (None, 118, 64)           1984      \n",
            "_________________________________________________________________\n",
            "dropout_6 (Dropout)          (None, 118, 64)           0         \n",
            "_________________________________________________________________\n",
            "flatten_9 (Flatten)          (None, 7552)              0         \n",
            "_________________________________________________________________\n",
            "dense_18 (Dense)             (None, 64)                483392    \n",
            "_________________________________________________________________\n",
            "dense_19 (Dense)             (None, 1)                 65        \n",
            "=================================================================\n",
            "Total params: 486,021\n",
            "Trainable params: 486,021\n",
            "Non-trainable params: 0\n",
            "_________________________________________________________________\n"
          ],
          "name": "stdout"
        }
      ]
    },
    {
      "cell_type": "code",
      "metadata": {
        "colab_type": "code",
        "id": "9Jlv9LQ1Y1Pn",
        "colab": {
          "base_uri": "https://localhost:8080/",
          "height": 394
        },
        "outputId": "5c839682-2108-4972-e656-5d2bc7658505"
      },
      "source": [
        "model.fit(X_train, y_train, \n",
        "          validation_data=(X_valid, y_valid),\n",
        "          batch_size=512,\n",
        "          epochs=5,\n",
        "          callbacks=[checkpoint])"
      ],
      "execution_count": null,
      "outputs": [
        {
          "output_type": "stream",
          "text": [
            "Epoch 1/5\n",
            "2424/2424 [==============================] - ETA: 0s - loss: 0.2054 - f1: 0.0026\n",
            "Epoch 00001: val_f1 did not improve from 0.08215\n",
            "2424/2424 [==============================] - 256s 106ms/step - loss: 0.2054 - f1: 0.0026 - val_loss: 0.1948 - val_f1: 0.0086\n",
            "Epoch 2/5\n",
            "2424/2424 [==============================] - ETA: 0s - loss: 0.1923 - f1: 0.0156\n",
            "Epoch 00002: val_f1 did not improve from 0.08215\n",
            "2424/2424 [==============================] - 257s 106ms/step - loss: 0.1923 - f1: 0.0156 - val_loss: 0.1888 - val_f1: 0.0165\n",
            "Epoch 3/5\n",
            "2424/2424 [==============================] - ETA: 0s - loss: 0.1873 - f1: 0.0491\n",
            "Epoch 00003: val_f1 did not improve from 0.08215\n",
            "2424/2424 [==============================] - 260s 107ms/step - loss: 0.1873 - f1: 0.0491 - val_loss: 0.1864 - val_f1: 0.0478\n",
            "Epoch 4/5\n",
            "2424/2424 [==============================] - ETA: 0s - loss: 0.1825 - f1: 0.0915\n",
            "Epoch 00004: val_f1 did not improve from 0.08215\n",
            "2424/2424 [==============================] - 264s 109ms/step - loss: 0.1825 - f1: 0.0915 - val_loss: 0.1853 - val_f1: 0.0753\n",
            "Epoch 5/5\n",
            "2424/2424 [==============================] - ETA: 0s - loss: 0.1773 - f1: 0.1453\n",
            "Epoch 00005: val_f1 improved from 0.08215 to 0.12054, saving model to model.weights\n",
            "2424/2424 [==============================] - 256s 105ms/step - loss: 0.1773 - f1: 0.1453 - val_loss: 0.1865 - val_f1: 0.1205\n"
          ],
          "name": "stdout"
        },
        {
          "output_type": "execute_result",
          "data": {
            "text/plain": [
              "<tensorflow.python.keras.callbacks.History at 0x7f4d92615f60>"
            ]
          },
          "metadata": {
            "tags": []
          },
          "execution_count": 159
        }
      ]
    },
    {
      "cell_type": "code",
      "metadata": {
        "colab_type": "code",
        "id": "QUdlEySZY1Pq",
        "colab": {
          "base_uri": "https://localhost:8080/",
          "height": 312
        },
        "outputId": "642ad6ac-525c-4b37-d7d3-daeabaf7d290"
      },
      "source": [
        "print(model.history.history.keys())\n",
        "# summarize history for accuracy\n",
        "plt.plot(model.history.history['f1'])\n",
        "plt.plot(model.history.history['val_f1'])\n",
        "plt.title('model f1')\n",
        "plt.ylabel('f1')\n",
        "plt.xlabel('epoch')\n",
        "plt.legend(['train', 'val'], loc='upper left')\n",
        "plt.show()"
      ],
      "execution_count": null,
      "outputs": [
        {
          "output_type": "stream",
          "text": [
            "dict_keys(['loss', 'f1', 'val_loss', 'val_f1'])\n"
          ],
          "name": "stdout"
        },
        {
          "output_type": "display_data",
          "data": {
            "image/png": "[encoded data removed]",
            "text/plain": [
              "<Figure size 432x288 with 1 Axes>"
            ]
          },
          "metadata": {
            "tags": [],
            "needs_background": "light"
          }
        }
      ]
    },
    {
      "cell_type": "markdown",
      "metadata": {
        "id": "vOEAIpU9gD1d",
        "colab_type": "text"
      },
      "source": [
        "Качество улучшилось от уменьшения дропаута"
      ]
    },
    {
      "cell_type": "markdown",
      "metadata": {
        "id": "BhCgwPFAfPHN",
        "colab_type": "text"
      },
      "source": [
        "# Свёртка с пулингом и дропаутом"
      ]
    },
    {
      "cell_type": "code",
      "metadata": {
        "colab_type": "code",
        "id": "tEUEzSd7fd_A",
        "colab": {
          "base_uri": "https://localhost:8080/",
          "height": 425
        },
        "outputId": "9e666b83-8a19-4046-98b7-1cd351f091cd"
      },
      "source": [
        "inputs = tf.keras.layers.Input(shape=(MAX_LEN, ))\n",
        "embeddings = tf.keras.layers.Embedding(\n",
        "    input_dim=len(sym2id), output_dim = 10)(inputs)\n",
        "\n",
        "###################\n",
        "conv1 = tf.keras.layers.Conv1D(kernel_size=3, \n",
        "                               filters=64)(embeddings)\n",
        "pool1 = tf.keras.layers.MaxPool1D()(conv1)\n",
        "drop1 = tf.keras.layers.Dropout(0.1)(pool1)\n",
        "concat = tf.keras.layers.Flatten()(drop1)\n",
        "###################\n",
        "\n",
        "dense = tf.keras.layers.Dense(64, activation='relu')(concat)\n",
        "outputs = tf.keras.layers.Dense(1, activation='sigmoid')(dense)\n",
        "\n",
        "model = tf.keras.Model(inputs=inputs, outputs=outputs)\n",
        "optimizer = tf.keras.optimizers.Adam(learning_rate=0.001)\n",
        "model.compile(optimizer=optimizer,\n",
        "              loss='binary_crossentropy', \n",
        "              metrics=[f1])\n",
        "model.summary()"
      ],
      "execution_count": null,
      "outputs": [
        {
          "output_type": "stream",
          "text": [
            "Model: \"model_11\"\n",
            "_________________________________________________________________\n",
            "Layer (type)                 Output Shape              Param #   \n",
            "=================================================================\n",
            "input_16 (InputLayer)        [(None, 120)]             0         \n",
            "_________________________________________________________________\n",
            "embedding_15 (Embedding)     (None, 120, 10)           580       \n",
            "_________________________________________________________________\n",
            "conv1d_13 (Conv1D)           (None, 118, 64)           1984      \n",
            "_________________________________________________________________\n",
            "max_pooling1d (MaxPooling1D) (None, 59, 64)            0         \n",
            "_________________________________________________________________\n",
            "dropout_8 (Dropout)          (None, 59, 64)            0         \n",
            "_________________________________________________________________\n",
            "flatten_11 (Flatten)         (None, 3776)              0         \n",
            "_________________________________________________________________\n",
            "dense_22 (Dense)             (None, 64)                241728    \n",
            "_________________________________________________________________\n",
            "dense_23 (Dense)             (None, 1)                 65        \n",
            "=================================================================\n",
            "Total params: 244,357\n",
            "Trainable params: 244,357\n",
            "Non-trainable params: 0\n",
            "_________________________________________________________________\n"
          ],
          "name": "stdout"
        }
      ]
    },
    {
      "cell_type": "code",
      "metadata": {
        "colab_type": "code",
        "id": "l6FNFBIufd_H",
        "colab": {
          "base_uri": "https://localhost:8080/",
          "height": 428
        },
        "outputId": "a727d584-3768-421d-b338-2833a5695055"
      },
      "source": [
        "%%time\n",
        "model.fit(X_train, y_train, \n",
        "          validation_data=(X_valid, y_valid),\n",
        "          batch_size=512,\n",
        "          epochs=5,\n",
        "          callbacks=[checkpoint])"
      ],
      "execution_count": null,
      "outputs": [
        {
          "output_type": "stream",
          "text": [
            "Epoch 1/5\n",
            "2424/2424 [==============================] - ETA: 0s - loss: 0.1916 - f1: 0.0555\n",
            "Epoch 00001: val_f1 improved from 0.12054 to 0.18897, saving model to model.weights\n",
            "2424/2424 [==============================] - 225s 93ms/step - loss: 0.1916 - f1: 0.0555 - val_loss: 0.1755 - val_f1: 0.1890\n",
            "Epoch 2/5\n",
            "2423/2424 [============================>.] - ETA: 0s - loss: 0.1720 - f1: 0.1880\n",
            "Epoch 00002: val_f1 improved from 0.18897 to 0.21910, saving model to model.weights\n",
            "2424/2424 [==============================] - 223s 92ms/step - loss: 0.1720 - f1: 0.1880 - val_loss: 0.1661 - val_f1: 0.2191\n",
            "Epoch 3/5\n",
            "2423/2424 [============================>.] - ETA: 0s - loss: 0.1652 - f1: 0.2497\n",
            "Epoch 00003: val_f1 did not improve from 0.21910\n",
            "2424/2424 [==============================] - 225s 93ms/step - loss: 0.1652 - f1: 0.2496 - val_loss: 0.1664 - val_f1: 0.1774\n",
            "Epoch 4/5\n",
            "2423/2424 [============================>.] - ETA: 0s - loss: 0.1598 - f1: 0.3005\n",
            "Epoch 00004: val_f1 improved from 0.21910 to 0.29182, saving model to model.weights\n",
            "2424/2424 [==============================] - 221s 91ms/step - loss: 0.1598 - f1: 0.3005 - val_loss: 0.1627 - val_f1: 0.2918\n",
            "Epoch 5/5\n",
            "2423/2424 [============================>.] - ETA: 0s - loss: 0.1543 - f1: 0.3451\n",
            "Epoch 00005: val_f1 did not improve from 0.29182\n",
            "2424/2424 [==============================] - 221s 91ms/step - loss: 0.1543 - f1: 0.3450 - val_loss: 0.1653 - val_f1: 0.2078\n",
            "CPU times: user 33min 3s, sys: 31.1 s, total: 33min 34s\n",
            "Wall time: 18min 35s\n"
          ],
          "name": "stdout"
        },
        {
          "output_type": "execute_result",
          "data": {
            "text/plain": [
              "<tensorflow.python.keras.callbacks.History at 0x7f4d921d27f0>"
            ]
          },
          "metadata": {
            "tags": []
          },
          "execution_count": 165
        }
      ]
    },
    {
      "cell_type": "code",
      "metadata": {
        "colab_type": "code",
        "id": "clXl7BAifd_L",
        "colab": {
          "base_uri": "https://localhost:8080/",
          "height": 312
        },
        "outputId": "d4ad95a0-4745-4ecf-a39c-92b099b27831"
      },
      "source": [
        "print(model.history.history.keys())\n",
        "# summarize history for accuracy\n",
        "plt.plot(model.history.history['f1'])\n",
        "plt.plot(model.history.history['val_f1'])\n",
        "plt.title('model f1')\n",
        "plt.ylabel('f1')\n",
        "plt.xlabel('epoch')\n",
        "plt.legend(['train', 'val'], loc='upper left')\n",
        "plt.show()"
      ],
      "execution_count": null,
      "outputs": [
        {
          "output_type": "stream",
          "text": [
            "dict_keys(['loss', 'f1', 'val_loss', 'val_f1'])\n"
          ],
          "name": "stdout"
        },
        {
          "output_type": "display_data",
          "data": {
            "image/png": "[encoded data removed]",
            "text/plain": [
              "<Figure size 432x288 with 1 Axes>"
            ]
          },
          "metadata": {
            "tags": [],
            "needs_background": "light"
          }
        }
      ]
    },
    {
      "cell_type": "markdown",
      "metadata": {
        "id": "89vqNuuokDfw",
        "colab_type": "text"
      },
      "source": [
        "# А если теперь дропаут увеличить?"
      ]
    },
    {
      "cell_type": "markdown",
      "metadata": {
        "id": "5OUsphoqkJEj",
        "colab_type": "text"
      },
      "source": [
        "Наверно, мы его неправильно применяем. То ли не в том месте, то ли другой дропаут нужен."
      ]
    },
    {
      "cell_type": "code",
      "metadata": {
        "colab_type": "code",
        "id": "6D5HFfCHktOb",
        "colab": {
          "base_uri": "https://localhost:8080/",
          "height": 425
        },
        "outputId": "1f92ade3-0fec-4cd3-c00b-cb355e2f4803"
      },
      "source": [
        "inputs = tf.keras.layers.Input(shape=(MAX_LEN, ))\n",
        "embeddings = tf.keras.layers.Embedding(\n",
        "    input_dim=len(sym2id), output_dim = 10)(inputs)\n",
        "\n",
        "###################\n",
        "conv1 = tf.keras.layers.Conv1D(kernel_size=3, \n",
        "                               filters=64)(embeddings)\n",
        "pool1 = tf.keras.layers.MaxPool1D()(conv1)\n",
        "drop1 = tf.keras.layers.Dropout(0.2)(pool1)\n",
        "concat = tf.keras.layers.Flatten()(drop1)\n",
        "###################\n",
        "\n",
        "dense = tf.keras.layers.Dense(64, activation='relu')(concat)\n",
        "outputs = tf.keras.layers.Dense(1, activation='sigmoid')(dense)\n",
        "\n",
        "model = tf.keras.Model(inputs=inputs, outputs=outputs)\n",
        "optimizer = tf.keras.optimizers.Adam(learning_rate=0.001)\n",
        "model.compile(optimizer=optimizer,\n",
        "              loss='binary_crossentropy', \n",
        "              metrics=[f1])\n",
        "model.summary()"
      ],
      "execution_count": null,
      "outputs": [
        {
          "output_type": "stream",
          "text": [
            "Model: \"model_13\"\n",
            "_________________________________________________________________\n",
            "Layer (type)                 Output Shape              Param #   \n",
            "=================================================================\n",
            "input_18 (InputLayer)        [(None, 120)]             0         \n",
            "_________________________________________________________________\n",
            "embedding_17 (Embedding)     (None, 120, 10)           580       \n",
            "_________________________________________________________________\n",
            "conv1d_15 (Conv1D)           (None, 118, 64)           1984      \n",
            "_________________________________________________________________\n",
            "max_pooling1d_2 (MaxPooling1 (None, 59, 64)            0         \n",
            "_________________________________________________________________\n",
            "dropout_10 (Dropout)         (None, 59, 64)            0         \n",
            "_________________________________________________________________\n",
            "flatten_13 (Flatten)         (None, 3776)              0         \n",
            "_________________________________________________________________\n",
            "dense_26 (Dense)             (None, 64)                241728    \n",
            "_________________________________________________________________\n",
            "dense_27 (Dense)             (None, 1)                 65        \n",
            "=================================================================\n",
            "Total params: 244,357\n",
            "Trainable params: 244,357\n",
            "Non-trainable params: 0\n",
            "_________________________________________________________________\n"
          ],
          "name": "stdout"
        }
      ]
    },
    {
      "cell_type": "code",
      "metadata": {
        "colab_type": "code",
        "id": "BwXpKAmEktOh",
        "colab": {
          "base_uri": "https://localhost:8080/",
          "height": 428
        },
        "outputId": "19983b47-7cb3-493b-8edc-185465700a6c"
      },
      "source": [
        "%%time\n",
        "model.fit(X_train, y_train, \n",
        "          validation_data=(X_valid, y_valid),\n",
        "          batch_size=512,\n",
        "          epochs=5,\n",
        "          callbacks=[checkpoint])"
      ],
      "execution_count": null,
      "outputs": [
        {
          "output_type": "stream",
          "text": [
            "Epoch 1/5\n",
            "2424/2424 [==============================] - ETA: 0s - loss: 0.1915 - f1: 0.0716\n",
            "Epoch 00001: val_f1 did not improve from 0.29182\n",
            "2424/2424 [==============================] - 220s 91ms/step - loss: 0.1915 - f1: 0.0716 - val_loss: 0.1786 - val_f1: 0.2215\n",
            "Epoch 2/5\n",
            "2424/2424 [==============================] - ETA: 0s - loss: 0.1733 - f1: 0.1852\n",
            "Epoch 00002: val_f1 did not improve from 0.29182\n",
            "2424/2424 [==============================] - 222s 91ms/step - loss: 0.1733 - f1: 0.1852 - val_loss: 0.1692 - val_f1: 0.1742\n",
            "Epoch 3/5\n",
            "2423/2424 [============================>.] - ETA: 0s - loss: 0.1688 - f1: 0.2260\n",
            "Epoch 00003: val_f1 did not improve from 0.29182\n",
            "2424/2424 [==============================] - 218s 90ms/step - loss: 0.1688 - f1: 0.2260 - val_loss: 0.1670 - val_f1: 0.1750\n",
            "Epoch 4/5\n",
            "2423/2424 [============================>.] - ETA: 0s - loss: 0.1643 - f1: 0.2617\n",
            "Epoch 00004: val_f1 did not improve from 0.29182\n",
            "2424/2424 [==============================] - 218s 90ms/step - loss: 0.1643 - f1: 0.2618 - val_loss: 0.1644 - val_f1: 0.2366\n",
            "Epoch 5/5\n",
            "2424/2424 [==============================] - ETA: 0s - loss: 0.1606 - f1: 0.2995\n",
            "Epoch 00005: val_f1 did not improve from 0.29182\n",
            "2424/2424 [==============================] - 220s 91ms/step - loss: 0.1606 - f1: 0.2995 - val_loss: 0.1690 - val_f1: 0.1709\n",
            "CPU times: user 32min 31s, sys: 32.4 s, total: 33min 3s\n",
            "Wall time: 18min 19s\n"
          ],
          "name": "stdout"
        },
        {
          "output_type": "execute_result",
          "data": {
            "text/plain": [
              "<tensorflow.python.keras.callbacks.History at 0x7f4d79192400>"
            ]
          },
          "metadata": {
            "tags": []
          },
          "execution_count": 171
        }
      ]
    },
    {
      "cell_type": "code",
      "metadata": {
        "colab_type": "code",
        "id": "ZHM1kQWCktOk",
        "colab": {
          "base_uri": "https://localhost:8080/",
          "height": 312
        },
        "outputId": "970c1442-b12b-4a58-ba22-47b6e0e9949f"
      },
      "source": [
        "print(model.history.history.keys())\n",
        "# summarize history for accuracy\n",
        "plt.plot(model.history.history['f1'])\n",
        "plt.plot(model.history.history['val_f1'])\n",
        "plt.title('model f1')\n",
        "plt.ylabel('f1')\n",
        "plt.xlabel('epoch')\n",
        "plt.legend(['train', 'val'], loc='upper left')\n",
        "plt.show()"
      ],
      "execution_count": null,
      "outputs": [
        {
          "output_type": "stream",
          "text": [
            "dict_keys(['loss', 'f1', 'val_loss', 'val_f1'])\n"
          ],
          "name": "stdout"
        },
        {
          "output_type": "display_data",
          "data": {
            "image/png": "[encoded data removed]",
            "text/plain": [
              "<Figure size 432x288 with 1 Axes>"
            ]
          },
          "metadata": {
            "tags": [],
            "needs_background": "light"
          }
        }
      ]
    },
    {
      "cell_type": "markdown",
      "metadata": {
        "id": "iT4ClTeMqsyp",
        "colab_type": "text"
      },
      "source": [
        "# Всё, что и было, но с двумя свёртками подряд"
      ]
    },
    {
      "cell_type": "markdown",
      "metadata": {
        "id": "0VIKMF7vsJi6",
        "colab_type": "text"
      },
      "source": [
        "Только вернём дропаут 0.1. Cвёртка добавилась после той, что уже была"
      ]
    },
    {
      "cell_type": "code",
      "metadata": {
        "colab_type": "code",
        "id": "VsS7p-W3rekf",
        "colab": {
          "base_uri": "https://localhost:8080/",
          "height": 459
        },
        "outputId": "86d0a341-8eef-46ec-e8c5-32cca2ca4f99"
      },
      "source": [
        "inputs = tf.keras.layers.Input(shape=(MAX_LEN, ))\n",
        "embeddings = tf.keras.layers.Embedding(\n",
        "    input_dim=len(sym2id), output_dim = 10)(inputs)\n",
        "\n",
        "###################\n",
        "conv1 = tf.keras.layers.Conv1D(kernel_size=3, \n",
        "                               filters=64)(embeddings)\n",
        "conv2 = tf.keras.layers.Conv1D(kernel_size=2, \n",
        "                               filters=32)(conv1)\n",
        "pool1 = tf.keras.layers.MaxPool1D()(conv2)\n",
        "drop1 = tf.keras.layers.Dropout(0.1)(pool1)\n",
        "concat = tf.keras.layers.Flatten()(drop1)\n",
        "###################\n",
        "\n",
        "dense = tf.keras.layers.Dense(64, activation='relu')(concat)\n",
        "outputs = tf.keras.layers.Dense(1, activation='sigmoid')(dense)\n",
        "\n",
        "model = tf.keras.Model(inputs=inputs, outputs=outputs)\n",
        "optimizer = tf.keras.optimizers.Adam(learning_rate=0.001)\n",
        "model.compile(optimizer=optimizer,\n",
        "              loss='binary_crossentropy', \n",
        "              metrics=[f1])\n",
        "model.summary()"
      ],
      "execution_count": null,
      "outputs": [
        {
          "output_type": "stream",
          "text": [
            "Model: \"model_15\"\n",
            "_________________________________________________________________\n",
            "Layer (type)                 Output Shape              Param #   \n",
            "=================================================================\n",
            "input_20 (InputLayer)        [(None, 120)]             0         \n",
            "_________________________________________________________________\n",
            "embedding_19 (Embedding)     (None, 120, 10)           580       \n",
            "_________________________________________________________________\n",
            "conv1d_18 (Conv1D)           (None, 118, 64)           1984      \n",
            "_________________________________________________________________\n",
            "conv1d_19 (Conv1D)           (None, 117, 32)           4128      \n",
            "_________________________________________________________________\n",
            "max_pooling1d_4 (MaxPooling1 (None, 58, 32)            0         \n",
            "_________________________________________________________________\n",
            "dropout_12 (Dropout)         (None, 58, 32)            0         \n",
            "_________________________________________________________________\n",
            "flatten_15 (Flatten)         (None, 1856)              0         \n",
            "_________________________________________________________________\n",
            "dense_30 (Dense)             (None, 64)                118848    \n",
            "_________________________________________________________________\n",
            "dense_31 (Dense)             (None, 1)                 65        \n",
            "=================================================================\n",
            "Total params: 125,605\n",
            "Trainable params: 125,605\n",
            "Non-trainable params: 0\n",
            "_________________________________________________________________\n"
          ],
          "name": "stdout"
        }
      ]
    },
    {
      "cell_type": "code",
      "metadata": {
        "colab_type": "code",
        "id": "hbkmcmW0rX7i",
        "colab": {
          "base_uri": "https://localhost:8080/",
          "height": 428
        },
        "outputId": "6614d569-50a5-4d85-9ce2-e4cfabbe1d8c"
      },
      "source": [
        "%%time\n",
        "model.fit(X_train, y_train, \n",
        "          validation_data=(X_valid, y_valid),\n",
        "          batch_size=512,\n",
        "          epochs=5,\n",
        "          callbacks=[checkpoint])"
      ],
      "execution_count": null,
      "outputs": [
        {
          "output_type": "stream",
          "text": [
            "Epoch 1/5\n",
            "2424/2424 [==============================] - ETA: 0s - loss: 0.1899 - f1: 0.0707\n",
            "Epoch 00001: val_f1 did not improve from 0.29182\n",
            "2424/2424 [==============================] - 281s 116ms/step - loss: 0.1899 - f1: 0.0707 - val_loss: 0.1819 - val_f1: 0.0460\n",
            "Epoch 2/5\n",
            "2424/2424 [==============================] - ETA: 0s - loss: 0.1719 - f1: 0.1963\n",
            "Epoch 00002: val_f1 did not improve from 0.29182\n",
            "2424/2424 [==============================] - 284s 117ms/step - loss: 0.1719 - f1: 0.1963 - val_loss: 0.1656 - val_f1: 0.1685\n",
            "Epoch 3/5\n",
            "2424/2424 [==============================] - ETA: 0s - loss: 0.1652 - f1: 0.2578\n",
            "Epoch 00003: val_f1 did not improve from 0.29182\n",
            "2424/2424 [==============================] - 283s 117ms/step - loss: 0.1652 - f1: 0.2578 - val_loss: 0.1617 - val_f1: 0.2579\n",
            "Epoch 4/5\n",
            "2424/2424 [==============================] - ETA: 0s - loss: 0.1607 - f1: 0.2936\n",
            "Epoch 00004: val_f1 did not improve from 0.29182\n",
            "2424/2424 [==============================] - 285s 117ms/step - loss: 0.1607 - f1: 0.2936 - val_loss: 0.1605 - val_f1: 0.2747\n",
            "Epoch 5/5\n",
            "2424/2424 [==============================] - ETA: 0s - loss: 0.1570 - f1: 0.3240\n",
            "Epoch 00005: val_f1 did not improve from 0.29182\n",
            "2424/2424 [==============================] - 280s 116ms/step - loss: 0.1570 - f1: 0.3240 - val_loss: 0.1613 - val_f1: 0.2708\n",
            "CPU times: user 43min, sys: 40.4 s, total: 43min 40s\n",
            "Wall time: 23min 34s\n"
          ],
          "name": "stdout"
        },
        {
          "output_type": "execute_result",
          "data": {
            "text/plain": [
              "<tensorflow.python.keras.callbacks.History at 0x7f4da6b29e80>"
            ]
          },
          "metadata": {
            "tags": []
          },
          "execution_count": 176
        }
      ]
    },
    {
      "cell_type": "code",
      "metadata": {
        "colab_type": "code",
        "id": "FRawIyfQrX7o",
        "colab": {
          "base_uri": "https://localhost:8080/",
          "height": 312
        },
        "outputId": "4764a18c-7e8e-4ac7-aa67-045dd8596475"
      },
      "source": [
        "print(model.history.history.keys())\n",
        "# summarize history for accuracy\n",
        "plt.plot(model.history.history['f1'])\n",
        "plt.plot(model.history.history['val_f1'])\n",
        "plt.title('model f1')\n",
        "plt.ylabel('f1')\n",
        "plt.xlabel('epoch')\n",
        "plt.legend(['train', 'val'], loc='upper left')\n",
        "plt.show()"
      ],
      "execution_count": null,
      "outputs": [
        {
          "output_type": "stream",
          "text": [
            "dict_keys(['loss', 'f1', 'val_loss', 'val_f1'])\n"
          ],
          "name": "stdout"
        },
        {
          "output_type": "display_data",
          "data": {
            "image/png": "[encoded data removed]",
            "text/plain": [
              "<Figure size 432x288 with 1 Axes>"
            ]
          },
          "metadata": {
            "tags": [],
            "needs_background": "light"
          }
        }
      ]
    },
    {
      "cell_type": "markdown",
      "metadata": {
        "id": "7QSjOqrMzAVm",
        "colab_type": "text"
      },
      "source": [
        "# Кажется, слишком сильно свернули. Свернем иначе"
      ]
    },
    {
      "cell_type": "code",
      "metadata": {
        "colab_type": "code",
        "id": "wNGkl1gdzKQz",
        "colab": {
          "base_uri": "https://localhost:8080/",
          "height": 459
        },
        "outputId": "807670bc-dfcf-4806-dd43-caff377d3295"
      },
      "source": [
        "inputs = tf.keras.layers.Input(shape=(MAX_LEN, ))\n",
        "embeddings = tf.keras.layers.Embedding(\n",
        "    input_dim=len(sym2id), output_dim = 10)(inputs)\n",
        "\n",
        "###################\n",
        "conv1 = tf.keras.layers.Conv1D(kernel_size=4, \n",
        "                               filters=64)(embeddings)\n",
        "conv2 = tf.keras.layers.Conv1D(kernel_size=3, \n",
        "                               filters=64)(conv1)\n",
        "pool1 = tf.keras.layers.MaxPool1D()(conv2)\n",
        "drop1 = tf.keras.layers.Dropout(0.1)(pool1)\n",
        "concat = tf.keras.layers.Flatten()(drop1)\n",
        "###################\n",
        "\n",
        "dense = tf.keras.layers.Dense(64, activation='relu')(concat)\n",
        "outputs = tf.keras.layers.Dense(1, activation='sigmoid')(dense)\n",
        "\n",
        "model = tf.keras.Model(inputs=inputs, outputs=outputs)\n",
        "optimizer = tf.keras.optimizers.Adam(learning_rate=0.001)\n",
        "model.compile(optimizer=optimizer,\n",
        "              loss='binary_crossentropy', \n",
        "              metrics=[f1])\n",
        "model.summary()"
      ],
      "execution_count": null,
      "outputs": [
        {
          "output_type": "stream",
          "text": [
            "Model: \"model_20\"\n",
            "_________________________________________________________________\n",
            "Layer (type)                 Output Shape              Param #   \n",
            "=================================================================\n",
            "input_25 (InputLayer)        [(None, 120)]             0         \n",
            "_________________________________________________________________\n",
            "embedding_24 (Embedding)     (None, 120, 10)           580       \n",
            "_________________________________________________________________\n",
            "conv1d_28 (Conv1D)           (None, 117, 64)           2624      \n",
            "_________________________________________________________________\n",
            "conv1d_29 (Conv1D)           (None, 115, 64)           12352     \n",
            "_________________________________________________________________\n",
            "max_pooling1d_10 (MaxPooling (None, 57, 64)            0         \n",
            "_________________________________________________________________\n",
            "dropout_17 (Dropout)         (None, 57, 64)            0         \n",
            "_________________________________________________________________\n",
            "flatten_20 (Flatten)         (None, 3648)              0         \n",
            "_________________________________________________________________\n",
            "dense_40 (Dense)             (None, 64)                233536    \n",
            "_________________________________________________________________\n",
            "dense_41 (Dense)             (None, 1)                 65        \n",
            "=================================================================\n",
            "Total params: 249,157\n",
            "Trainable params: 249,157\n",
            "Non-trainable params: 0\n",
            "_________________________________________________________________\n"
          ],
          "name": "stdout"
        }
      ]
    },
    {
      "cell_type": "code",
      "metadata": {
        "colab_type": "code",
        "id": "NgXXKeIbzKQ3",
        "colab": {
          "base_uri": "https://localhost:8080/",
          "height": 428
        },
        "outputId": "be50801b-ca14-4e93-8e9a-0a88390d7646"
      },
      "source": [
        "%%time\n",
        "model.fit(X_train, y_train, \n",
        "          validation_data=(X_valid, y_valid),\n",
        "          batch_size=512,\n",
        "          epochs=5,\n",
        "          callbacks=[checkpoint])"
      ],
      "execution_count": null,
      "outputs": [
        {
          "output_type": "stream",
          "text": [
            "Epoch 1/5\n",
            "2424/2424 [==============================] - ETA: 0s - loss: 0.1862 - f1: 0.0910\n",
            "Epoch 00001: val_f1 improved from 0.29182 to 0.31988, saving model to model.weights\n",
            "2424/2424 [==============================] - 473s 195ms/step - loss: 0.1862 - f1: 0.0910 - val_loss: 0.1754 - val_f1: 0.3199\n",
            "Epoch 2/5\n",
            "2424/2424 [==============================] - ETA: 0s - loss: 0.1645 - f1: 0.2568\n",
            "Epoch 00002: val_f1 did not improve from 0.31988\n",
            "2424/2424 [==============================] - 479s 198ms/step - loss: 0.1645 - f1: 0.2568 - val_loss: 0.1598 - val_f1: 0.2773\n",
            "Epoch 3/5\n",
            "2424/2424 [==============================] - ETA: 0s - loss: 0.1579 - f1: 0.3117\n",
            "Epoch 00003: val_f1 did not improve from 0.31988\n",
            "2424/2424 [==============================] - 478s 197ms/step - loss: 0.1579 - f1: 0.3117 - val_loss: 0.1559 - val_f1: 0.2825\n",
            "Epoch 4/5\n",
            "2424/2424 [==============================] - ETA: 0s - loss: 0.1532 - f1: 0.3488\n",
            "Epoch 00004: val_f1 did not improve from 0.31988\n",
            "2424/2424 [==============================] - 480s 198ms/step - loss: 0.1532 - f1: 0.3488 - val_loss: 0.1571 - val_f1: 0.2591\n",
            "Epoch 5/5\n",
            "2424/2424 [==============================] - ETA: 0s - loss: 0.1482 - f1: 0.3851\n",
            "Epoch 00005: val_f1 did not improve from 0.31988\n",
            "2424/2424 [==============================] - 480s 198ms/step - loss: 0.1482 - f1: 0.3851 - val_loss: 0.1582 - val_f1: 0.2751\n",
            "CPU times: user 1h 13min 55s, sys: 58.3 s, total: 1h 14min 53s\n",
            "Wall time: 39min 52s\n"
          ],
          "name": "stdout"
        },
        {
          "output_type": "execute_result",
          "data": {
            "text/plain": [
              "<tensorflow.python.keras.callbacks.History at 0x7f4d78efb668>"
            ]
          },
          "metadata": {
            "tags": []
          },
          "execution_count": 187
        }
      ]
    },
    {
      "cell_type": "code",
      "metadata": {
        "colab_type": "code",
        "id": "MZ7UArbQzKQ6",
        "colab": {
          "base_uri": "https://localhost:8080/",
          "height": 312
        },
        "outputId": "81d8672d-61ed-40a3-df9c-c8582f999e2f"
      },
      "source": [
        "print(model.history.history.keys())\n",
        "# summarize history for accuracy\n",
        "plt.plot(model.history.history['f1'])\n",
        "plt.plot(model.history.history['val_f1'])\n",
        "plt.title('model f1')\n",
        "plt.ylabel('f1')\n",
        "plt.xlabel('epoch')\n",
        "plt.legend(['train', 'val'], loc='upper left')\n",
        "plt.show()"
      ],
      "execution_count": null,
      "outputs": [
        {
          "output_type": "stream",
          "text": [
            "dict_keys(['loss', 'f1', 'val_loss', 'val_f1'])\n"
          ],
          "name": "stdout"
        },
        {
          "output_type": "display_data",
          "data": {
            "image/png": "[encoded data removed]",
            "text/plain": [
              "<Figure size 432x288 with 1 Axes>"
            ]
          },
          "metadata": {
            "tags": [],
            "needs_background": "light"
          }
        }
      ]
    },
    {
      "cell_type": "markdown",
      "metadata": {
        "id": "RS5nUCOg9RUV",
        "colab_type": "text"
      },
      "source": [
        "# Забыли про регуляризаторы. С регуляризаторами:"
      ]
    },
    {
      "cell_type": "code",
      "metadata": {
        "colab_type": "code",
        "id": "8ZhCXOMN9bCi",
        "colab": {
          "base_uri": "https://localhost:8080/"
        },
        "outputId": "d35aba3e-f49f-4e0b-91e3-91e91e8b1107"
      },
      "source": [
        "%%time\n",
        "\n",
        "inputs = tf.keras.layers.Input(shape=(MAX_LEN, ))\n",
        "embeddings = tf.keras.layers.Embedding(\n",
        "    input_dim=len(sym2id), output_dim = 10)(inputs)\n",
        "\n",
        "###################\n",
        "conv1 = tf.keras.layers.Conv1D(kernel_size=3, \n",
        "                               filters=64,\n",
        "                               kernel_regularizer='l2')(embeddings)\n",
        "pool1 = tf.keras.layers.MaxPool1D()(conv1)\n",
        "drop1 = tf.keras.layers.Dropout(0.1)(pool1)\n",
        "concat = tf.keras.layers.Flatten()(drop1)\n",
        "###################\n",
        "\n",
        "dense = tf.keras.layers.Dense(64, activation='relu')(concat)\n",
        "outputs = tf.keras.layers.Dense(1, activation='sigmoid')(dense)\n",
        "\n",
        "model = tf.keras.Model(inputs=inputs, outputs=outputs)\n",
        "optimizer = tf.keras.optimizers.Adam(learning_rate=0.001)\n",
        "model.compile(optimizer=optimizer,\n",
        "              loss='binary_crossentropy', \n",
        "              metrics=[f1])\n",
        "model.summary()"
      ],
      "execution_count": null,
      "outputs": [
        {
          "output_type": "stream",
          "text": [
            "Model: \"model_24\"\n",
            "_________________________________________________________________\n",
            "Layer (type)                 Output Shape              Param #   \n",
            "=================================================================\n",
            "input_29 (InputLayer)        [(None, 120)]             0         \n",
            "_________________________________________________________________\n",
            "embedding_28 (Embedding)     (None, 120, 10)           580       \n",
            "_________________________________________________________________\n",
            "conv1d_35 (Conv1D)           (None, 118, 64)           1984      \n",
            "_________________________________________________________________\n",
            "max_pooling1d_14 (MaxPooling (None, 59, 64)            0         \n",
            "_________________________________________________________________\n",
            "dropout_21 (Dropout)         (None, 59, 64)            0         \n",
            "_________________________________________________________________\n",
            "flatten_24 (Flatten)         (None, 3776)              0         \n",
            "_________________________________________________________________\n",
            "dense_48 (Dense)             (None, 64)                241728    \n",
            "_________________________________________________________________\n",
            "dense_49 (Dense)             (None, 1)                 65        \n",
            "=================================================================\n",
            "Total params: 244,357\n",
            "Trainable params: 244,357\n",
            "Non-trainable params: 0\n",
            "_________________________________________________________________\n",
            "CPU times: user 81 ms, sys: 24 µs, total: 81 ms\n",
            "Wall time: 78.1 ms\n"
          ],
          "name": "stdout"
        }
      ]
    },
    {
      "cell_type": "code",
      "metadata": {
        "colab_type": "code",
        "id": "syaszIwa9bCn",
        "colab": {
          "base_uri": "https://localhost:8080/"
        },
        "outputId": "e5221e01-79cf-49b7-a22a-8268bf49796f"
      },
      "source": [
        "%%time\n",
        "model.fit(X_train, y_train, \n",
        "          validation_data=(X_valid, y_valid),\n",
        "          batch_size=512,\n",
        "          epochs=5,\n",
        "          callbacks=[checkpoint])\n",
        "# тут сравнивать нужно с односверточнослойной 0.19 0.05 на первой эпохе"
      ],
      "execution_count": null,
      "outputs": [
        {
          "output_type": "stream",
          "text": [
            "Epoch 1/5\n",
            "2423/2424 [============================>.] - ETA: 0s - loss: 0.2117 - f1: 0.0104\n",
            "Epoch 00001: val_f1 did not improve from 0.31988\n",
            "2424/2424 [==============================] - 222s 91ms/step - loss: 0.2117 - f1: 0.0104 - val_loss: 0.1961 - val_f1: 0.0074\n",
            "Epoch 2/5\n",
            "2423/2424 [============================>.] - ETA: 0s - loss: 0.1885 - f1: 0.0762\n",
            "Epoch 00002: val_f1 did not improve from 0.31988\n",
            "2424/2424 [==============================] - 222s 92ms/step - loss: 0.1885 - f1: 0.0762 - val_loss: 0.1842 - val_f1: 0.0380\n",
            "Epoch 3/5\n",
            "2423/2424 [============================>.] - ETA: 0s - loss: 0.1830 - f1: 0.1280\n",
            "Epoch 00003: val_f1 did not improve from 0.31988\n",
            "2424/2424 [==============================] - 221s 91ms/step - loss: 0.1830 - f1: 0.1280 - val_loss: 0.1834 - val_f1: 0.2046\n",
            "Epoch 4/5\n",
            "2423/2424 [============================>.] - ETA: 0s - loss: 0.1791 - f1: 0.1678\n",
            "Epoch 00004: val_f1 did not improve from 0.31988\n",
            "2424/2424 [==============================] - 222s 92ms/step - loss: 0.1791 - f1: 0.1678 - val_loss: 0.1783 - val_f1: 0.0903\n",
            "Epoch 5/5\n",
            "2423/2424 [============================>.] - ETA: 0s - loss: 0.1772 - f1: 0.1884\n",
            "Epoch 00005: val_f1 did not improve from 0.31988\n",
            "2424/2424 [==============================] - 224s 93ms/step - loss: 0.1772 - f1: 0.1883 - val_loss: 0.1825 - val_f1: 0.0421\n",
            "CPU times: user 32min 51s, sys: 38.7 s, total: 33min 30s\n",
            "Wall time: 18min 32s\n"
          ],
          "name": "stdout"
        },
        {
          "output_type": "execute_result",
          "data": {
            "text/plain": [
              "<tensorflow.python.keras.callbacks.History at 0x7f4d6ce1d780>"
            ]
          },
          "metadata": {
            "tags": []
          },
          "execution_count": 196
        }
      ]
    },
    {
      "cell_type": "code",
      "metadata": {
        "colab_type": "code",
        "id": "Lxi8iqtF9bCr",
        "colab": {
          "base_uri": "https://localhost:8080/"
        },
        "outputId": "9d32b6b6-c5f3-490a-d1a2-6dcf8e9d46e4"
      },
      "source": [
        "print(model.history.history.keys())\n",
        "# summarize history for accuracy\n",
        "plt.plot(model.history.history['f1'])\n",
        "plt.plot(model.history.history['val_f1'])\n",
        "plt.title('model f1')\n",
        "plt.ylabel('f1')\n",
        "plt.xlabel('epoch')\n",
        "plt.legend(['train', 'val'], loc='upper left')\n",
        "plt.show()"
      ],
      "execution_count": null,
      "outputs": [
        {
          "output_type": "stream",
          "text": [
            "dict_keys(['loss', 'f1', 'val_loss', 'val_f1'])\n"
          ],
          "name": "stdout"
        },
        {
          "output_type": "display_data",
          "data": {
            "image/png": "[encoded data removed]",
            "text/plain": [
              "<Figure size 432x288 with 1 Axes>"
            ]
          },
          "metadata": {
            "tags": [],
            "needs_background": "light"
          }
        }
      ]
    },
    {
      "cell_type": "markdown",
      "metadata": {
        "id": "tcELGHl6I16G",
        "colab_type": "text"
      },
      "source": [
        "Что-то регуляризатор всё сломал."
      ]
    },
    {
      "cell_type": "code",
      "metadata": {
        "id": "3HhfF6C1y_nQ",
        "colab_type": "code",
        "colab": {}
      },
      "source": [
        ""
      ],
      "execution_count": null,
      "outputs": []
    },
    {
      "cell_type": "code",
      "metadata": {
        "id": "VdQhya4Dy-uw",
        "colab_type": "code",
        "colab": {}
      },
      "source": [
        ""
      ],
      "execution_count": null,
      "outputs": []
    },
    {
      "cell_type": "markdown",
      "metadata": {
        "id": "hvMBv9cStjJ9",
        "colab_type": "text"
      },
      "source": [
        "# Поменяем тип дропаута"
      ]
    },
    {
      "cell_type": "code",
      "metadata": {
        "colab_type": "code",
        "id": "ednfuS93JF56",
        "colab": {
          "base_uri": "https://localhost:8080/",
          "height": 459
        },
        "outputId": "efff78b9-5144-4b9f-8a05-7d9411879027"
      },
      "source": [
        "inputs = tf.keras.layers.Input(shape=(MAX_LEN, ))\n",
        "embeddings = tf.keras.layers.Embedding(\n",
        "    input_dim=len(sym2id), output_dim = 10)(inputs)\n",
        "\n",
        "###################\n",
        "conv1 = tf.keras.layers.Conv1D(kernel_size=4, \n",
        "                               filters=64)(embeddings)\n",
        "conv2 = tf.keras.layers.Conv1D(kernel_size=3, \n",
        "                               filters=64)(conv1)\n",
        "pool1 = tf.keras.layers.MaxPool1D()(conv2)\n",
        "drop1 = tf.keras.layers.AlphaDropout(0.1)(pool1)\n",
        "concat = tf.keras.layers.Flatten()(drop1)\n",
        "###################\n",
        "\n",
        "dense = tf.keras.layers.Dense(64, activation='relu')(concat)\n",
        "outputs = tf.keras.layers.Dense(1, activation='sigmoid')(dense)\n",
        "\n",
        "model = tf.keras.Model(inputs=inputs, outputs=outputs)\n",
        "optimizer = tf.keras.optimizers.Adam(learning_rate=0.001)\n",
        "model.compile(optimizer=optimizer,\n",
        "              loss='binary_crossentropy', \n",
        "              metrics=[f1])\n",
        "model.summary()"
      ],
      "execution_count": null,
      "outputs": [
        {
          "output_type": "stream",
          "text": [
            "Model: \"model_28\"\n",
            "_________________________________________________________________\n",
            "Layer (type)                 Output Shape              Param #   \n",
            "=================================================================\n",
            "input_33 (InputLayer)        [(None, 120)]             0         \n",
            "_________________________________________________________________\n",
            "embedding_32 (Embedding)     (None, 120, 10)           580       \n",
            "_________________________________________________________________\n",
            "conv1d_42 (Conv1D)           (None, 117, 64)           2624      \n",
            "_________________________________________________________________\n",
            "conv1d_43 (Conv1D)           (None, 115, 64)           12352     \n",
            "_________________________________________________________________\n",
            "max_pooling1d_18 (MaxPooling (None, 57, 64)            0         \n",
            "_________________________________________________________________\n",
            "alpha_dropout_1 (AlphaDropou (None, 57, 64)            0         \n",
            "_________________________________________________________________\n",
            "flatten_28 (Flatten)         (None, 3648)              0         \n",
            "_________________________________________________________________\n",
            "dense_56 (Dense)             (None, 64)                233536    \n",
            "_________________________________________________________________\n",
            "dense_57 (Dense)             (None, 1)                 65        \n",
            "=================================================================\n",
            "Total params: 249,157\n",
            "Trainable params: 249,157\n",
            "Non-trainable params: 0\n",
            "_________________________________________________________________\n"
          ],
          "name": "stdout"
        }
      ]
    },
    {
      "cell_type": "code",
      "metadata": {
        "colab_type": "code",
        "id": "mQk1sGENJF5_",
        "colab": {
          "base_uri": "https://localhost:8080/",
          "height": 428
        },
        "outputId": "60dd8723-0926-43b5-8261-a294891623f5"
      },
      "source": [
        "%%time\n",
        "model.fit(X_train, y_train, \n",
        "          validation_data=(X_valid, y_valid),\n",
        "          batch_size=512,\n",
        "          epochs=5,\n",
        "          callbacks=[checkpoint])"
      ],
      "execution_count": null,
      "outputs": [
        {
          "output_type": "stream",
          "text": [
            "Epoch 1/5\n",
            "2424/2424 [==============================] - ETA: 0s - loss: 0.2098 - f1: 0.0017\n",
            "Epoch 00001: val_f1 did not improve from 0.31988\n",
            "2424/2424 [==============================] - 481s 199ms/step - loss: 0.2098 - f1: 0.0017 - val_loss: 0.1977 - val_f1: 0.0016\n",
            "Epoch 2/5\n",
            "2424/2424 [==============================] - ETA: 0s - loss: 0.1931 - f1: 0.0082\n",
            "Epoch 00002: val_f1 did not improve from 0.31988\n",
            "2424/2424 [==============================] - 482s 199ms/step - loss: 0.1931 - f1: 0.0082 - val_loss: 0.1891 - val_f1: 0.0270\n",
            "Epoch 3/5\n",
            "2424/2424 [==============================] - ETA: 0s - loss: 0.1822 - f1: 0.0789\n",
            "Epoch 00003: val_f1 did not improve from 0.31988\n",
            "2424/2424 [==============================] - 485s 200ms/step - loss: 0.1822 - f1: 0.0789 - val_loss: 0.1880 - val_f1: 0.0870\n",
            "Epoch 4/5\n",
            "2424/2424 [==============================] - ETA: 0s - loss: 0.1739 - f1: 0.1741\n",
            "Epoch 00004: val_f1 did not improve from 0.31988\n",
            "2424/2424 [==============================] - 486s 200ms/step - loss: 0.1739 - f1: 0.1741 - val_loss: 0.1766 - val_f1: 0.1431\n",
            "Epoch 5/5\n",
            "2424/2424 [==============================] - ETA: 0s - loss: 0.1690 - f1: 0.2241\n",
            "Epoch 00005: val_f1 did not improve from 0.31988\n",
            "2424/2424 [==============================] - 482s 199ms/step - loss: 0.1690 - f1: 0.2241 - val_loss: 0.1665 - val_f1: 0.2987\n",
            "CPU times: user 1h 14min 41s, sys: 1min 6s, total: 1h 15min 47s\n",
            "Wall time: 40min 17s\n"
          ],
          "name": "stdout"
        },
        {
          "output_type": "execute_result",
          "data": {
            "text/plain": [
              "<tensorflow.python.keras.callbacks.History at 0x7f4d64938d30>"
            ]
          },
          "metadata": {
            "tags": []
          },
          "execution_count": 201
        }
      ]
    },
    {
      "cell_type": "code",
      "metadata": {
        "colab_type": "code",
        "id": "-ng8wUQIJF6C",
        "colab": {
          "base_uri": "https://localhost:8080/",
          "height": 312
        },
        "outputId": "20c9ad93-0293-4fb9-962d-94d8b45109a5"
      },
      "source": [
        "print(model.history.history.keys())\n",
        "# summarize history for accuracy\n",
        "plt.plot(model.history.history['f1'])\n",
        "plt.plot(model.history.history['val_f1'])\n",
        "plt.title('model f1')\n",
        "plt.ylabel('f1')\n",
        "plt.xlabel('epoch')\n",
        "plt.legend(['train', 'val'], loc='upper left')\n",
        "plt.show()"
      ],
      "execution_count": null,
      "outputs": [
        {
          "output_type": "stream",
          "text": [
            "dict_keys(['loss', 'f1', 'val_loss', 'val_f1'])\n"
          ],
          "name": "stdout"
        },
        {
          "output_type": "display_data",
          "data": {
            "image/png": "[encoded data removed]",
            "text/plain": [
              "<Figure size 432x288 with 1 Axes>"
            ]
          },
          "metadata": {
            "tags": [],
            "needs_background": "light"
          }
        }
      ]
    },
    {
      "cell_type": "markdown",
      "metadata": {
        "id": "tXbAuAhRSXJm",
        "colab_type": "text"
      },
      "source": [
        "Зря поменяли дропаут. Всё не радужно. Хотя интересно, что будет, если добавить эпох:"
      ]
    },
    {
      "cell_type": "markdown",
      "metadata": {
        "id": "YHB8ruQKR6Vs",
        "colab_type": "text"
      },
      "source": [
        "## Вообще без дропаута"
      ]
    },
    {
      "cell_type": "code",
      "metadata": {
        "id": "55qkYA1YR9yP",
        "colab_type": "code",
        "colab": {}
      },
      "source": [
        ""
      ],
      "execution_count": null,
      "outputs": []
    },
    {
      "cell_type": "code",
      "metadata": {
        "colab_type": "code",
        "id": "wqdv01gVR-KW",
        "colab": {
          "base_uri": "https://localhost:8080/",
          "height": 425
        },
        "outputId": "51dbb62f-4f40-4997-dee7-8807921d7277"
      },
      "source": [
        "inputs = tf.keras.layers.Input(shape=(MAX_LEN, ))\n",
        "embeddings = tf.keras.layers.Embedding(\n",
        "    input_dim=len(sym2id), output_dim = 10)(inputs)\n",
        "\n",
        "###################\n",
        "conv1 = tf.keras.layers.Conv1D(kernel_size=4, \n",
        "                               filters=64)(embeddings)\n",
        "conv2 = tf.keras.layers.Conv1D(kernel_size=3, \n",
        "                               filters=64)(conv1)\n",
        "pool1 = tf.keras.layers.MaxPool1D()(conv2)\n",
        "# drop1 = tf.keras.layers.Dropout(0.1)(pool1)\n",
        "concat = tf.keras.layers.Flatten()(pool1)\n",
        "###################\n",
        "\n",
        "dense = tf.keras.layers.Dense(64, activation='relu')(concat)\n",
        "outputs = tf.keras.layers.Dense(1, activation='sigmoid')(dense)\n",
        "\n",
        "model = tf.keras.Model(inputs=inputs, outputs=outputs)\n",
        "optimizer = tf.keras.optimizers.Adam(learning_rate=0.001)\n",
        "model.compile(optimizer=optimizer,\n",
        "              loss='binary_crossentropy', \n",
        "              metrics=[f1])\n",
        "model.summary()"
      ],
      "execution_count": null,
      "outputs": [
        {
          "output_type": "stream",
          "text": [
            "Model: \"model_27\"\n",
            "_________________________________________________________________\n",
            "Layer (type)                 Output Shape              Param #   \n",
            "=================================================================\n",
            "input_32 (InputLayer)        [(None, 120)]             0         \n",
            "_________________________________________________________________\n",
            "embedding_31 (Embedding)     (None, 120, 10)           580       \n",
            "_________________________________________________________________\n",
            "conv1d_40 (Conv1D)           (None, 117, 64)           2624      \n",
            "_________________________________________________________________\n",
            "conv1d_41 (Conv1D)           (None, 115, 64)           12352     \n",
            "_________________________________________________________________\n",
            "max_pooling1d_17 (MaxPooling (None, 57, 64)            0         \n",
            "_________________________________________________________________\n",
            "flatten_27 (Flatten)         (None, 3648)              0         \n",
            "_________________________________________________________________\n",
            "dense_54 (Dense)             (None, 64)                233536    \n",
            "_________________________________________________________________\n",
            "dense_55 (Dense)             (None, 1)                 65        \n",
            "=================================================================\n",
            "Total params: 249,157\n",
            "Trainable params: 249,157\n",
            "Non-trainable params: 0\n",
            "_________________________________________________________________\n"
          ],
          "name": "stdout"
        }
      ]
    },
    {
      "cell_type": "code",
      "metadata": {
        "colab_type": "code",
        "id": "rfkJGx6iR-Kc",
        "colab": {
          "base_uri": "https://localhost:8080/",
          "height": 428
        },
        "outputId": "e48ed145-d32b-4a17-92ca-e4fdfdce8218"
      },
      "source": [
        "%%time\n",
        "model.fit(X_train, y_train, \n",
        "          validation_data=(X_valid, y_valid),\n",
        "          batch_size=512,\n",
        "          epochs=5,\n",
        "          callbacks=[checkpoint])"
      ],
      "execution_count": null,
      "outputs": [
        {
          "output_type": "stream",
          "text": [
            "Epoch 1/5\n",
            "2424/2424 [==============================] - ETA: 0s - loss: 0.1824 - f1: 0.1249\n",
            "Epoch 00001: val_f1 did not improve from 0.31988\n",
            "2424/2424 [==============================] - 433s 179ms/step - loss: 0.1824 - f1: 0.1249 - val_loss: 0.1650 - val_f1: 0.1526\n",
            "Epoch 2/5\n",
            "2424/2424 [==============================] - ETA: 0s - loss: 0.1602 - f1: 0.2946\n",
            "Epoch 00002: val_f1 did not improve from 0.31988\n",
            "2424/2424 [==============================] - 433s 179ms/step - loss: 0.1602 - f1: 0.2946 - val_loss: 0.1596 - val_f1: 0.2044\n",
            "Epoch 3/5\n",
            "2424/2424 [==============================] - ETA: 0s - loss: 0.1540 - f1: 0.3388\n",
            "Epoch 00003: val_f1 did not improve from 0.31988\n",
            "2424/2424 [==============================] - 431s 178ms/step - loss: 0.1540 - f1: 0.3388 - val_loss: 0.1669 - val_f1: 0.1511\n",
            "Epoch 4/5\n",
            "2424/2424 [==============================] - ETA: 0s - loss: 0.1495 - f1: 0.3680\n",
            "Epoch 00004: val_f1 improved from 0.31988 to 0.42919, saving model to model.weights\n",
            "2424/2424 [==============================] - 433s 179ms/step - loss: 0.1495 - f1: 0.3680 - val_loss: 0.1569 - val_f1: 0.4292\n",
            "Epoch 5/5\n",
            "2424/2424 [==============================] - ETA: 0s - loss: 0.1449 - f1: 0.3984\n",
            "Epoch 00005: val_f1 did not improve from 0.42919\n",
            "2424/2424 [==============================] - 435s 180ms/step - loss: 0.1449 - f1: 0.3984 - val_loss: 0.1535 - val_f1: 0.3659\n",
            "CPU times: user 1h 6min 35s, sys: 57.9 s, total: 1h 7min 33s\n",
            "Wall time: 36min 7s\n"
          ],
          "name": "stdout"
        },
        {
          "output_type": "execute_result",
          "data": {
            "text/plain": [
              "<tensorflow.python.keras.callbacks.History at 0x7f4d646fc8d0>"
            ]
          },
          "metadata": {
            "tags": []
          },
          "execution_count": 204
        }
      ]
    },
    {
      "cell_type": "code",
      "metadata": {
        "colab_type": "code",
        "id": "MxvDOOfoR-Kh",
        "colab": {
          "base_uri": "https://localhost:8080/",
          "height": 312
        },
        "outputId": "ce235973-cbab-43f4-ecd2-649b285b1509"
      },
      "source": [
        "print(model.history.history.keys())\n",
        "# summarize history for accuracy\n",
        "plt.plot(model.history.history['f1'])\n",
        "plt.plot(model.history.history['val_f1'])\n",
        "plt.title('model f1')\n",
        "plt.ylabel('f1')\n",
        "plt.xlabel('epoch')\n",
        "plt.legend(['train', 'val'], loc='upper left')\n",
        "plt.show()"
      ],
      "execution_count": null,
      "outputs": [
        {
          "output_type": "stream",
          "text": [
            "dict_keys(['loss', 'f1', 'val_loss', 'val_f1'])\n"
          ],
          "name": "stdout"
        },
        {
          "output_type": "display_data",
          "data": {
            "image/png": "[encoded data removed]",
            "text/plain": [
              "<Figure size 432x288 with 1 Axes>"
            ]
          },
          "metadata": {
            "tags": [],
            "needs_background": "light"
          }
        }
      ]
    },
    {
      "cell_type": "markdown",
      "metadata": {
        "id": "Vz-PUHMdYUl_",
        "colab_type": "text"
      },
      "source": [
        "# Ещё один вид дропаута - GaussianDropout"
      ]
    },
    {
      "cell_type": "code",
      "metadata": {
        "colab_type": "code",
        "id": "eRe5JB4_Y39h",
        "colab": {
          "base_uri": "https://localhost:8080/",
          "height": 459
        },
        "outputId": "ebe4815f-4e04-484d-f393-30721de45423"
      },
      "source": [
        "inputs = tf.keras.layers.Input(shape=(MAX_LEN, ))\n",
        "embeddings = tf.keras.layers.Embedding(\n",
        "    input_dim=len(sym2id), output_dim = 10)(inputs)\n",
        "\n",
        "###################\n",
        "conv1 = tf.keras.layers.Conv1D(kernel_size=4, \n",
        "                               filters=64)(embeddings)\n",
        "conv2 = tf.keras.layers.Conv1D(kernel_size=3, \n",
        "                               filters=64)(conv1)\n",
        "pool1 = tf.keras.layers.MaxPool1D()(conv2)\n",
        "# новый дропаут\n",
        "# вообще SpatialDropout1D тоже как-то попробовала, но всё было плохо\n",
        "drop1 = tf.keras.layers.GaussianDropout(0.1)(pool1)\n",
        "concat = tf.keras.layers.Flatten()(drop1)\n",
        "###################\n",
        "\n",
        "dense = tf.keras.layers.Dense(64, activation='relu')(concat)\n",
        "outputs = tf.keras.layers.Dense(1, activation='sigmoid')(dense)\n",
        "\n",
        "model = tf.keras.Model(inputs=inputs, outputs=outputs)\n",
        "optimizer = tf.keras.optimizers.Adam(learning_rate=0.001)\n",
        "model.compile(optimizer=optimizer,\n",
        "              loss='binary_crossentropy', \n",
        "              metrics=[f1])\n",
        "model.summary()"
      ],
      "execution_count": null,
      "outputs": [
        {
          "output_type": "stream",
          "text": [
            "Model: \"model_29\"\n",
            "_________________________________________________________________\n",
            "Layer (type)                 Output Shape              Param #   \n",
            "=================================================================\n",
            "input_35 (InputLayer)        [(None, 120)]             0         \n",
            "_________________________________________________________________\n",
            "embedding_34 (Embedding)     (None, 120, 10)           580       \n",
            "_________________________________________________________________\n",
            "conv1d_46 (Conv1D)           (None, 117, 64)           2624      \n",
            "_________________________________________________________________\n",
            "conv1d_47 (Conv1D)           (None, 115, 64)           12352     \n",
            "_________________________________________________________________\n",
            "max_pooling1d_20 (MaxPooling (None, 57, 64)            0         \n",
            "_________________________________________________________________\n",
            "gaussian_dropout (GaussianDr (None, 57, 64)            0         \n",
            "_________________________________________________________________\n",
            "flatten_29 (Flatten)         (None, 3648)              0         \n",
            "_________________________________________________________________\n",
            "dense_58 (Dense)             (None, 64)                233536    \n",
            "_________________________________________________________________\n",
            "dense_59 (Dense)             (None, 1)                 65        \n",
            "=================================================================\n",
            "Total params: 249,157\n",
            "Trainable params: 249,157\n",
            "Non-trainable params: 0\n",
            "_________________________________________________________________\n"
          ],
          "name": "stdout"
        }
      ]
    },
    {
      "cell_type": "code",
      "metadata": {
        "colab_type": "code",
        "id": "0B80ksloY39k",
        "colab": {
          "base_uri": "https://localhost:8080/",
          "height": 428
        },
        "outputId": "8a7add00-028a-4931-d47b-e8ed3732df8b"
      },
      "source": [
        "%%time\n",
        "model.fit(X_train, y_train, \n",
        "          validation_data=(X_valid, y_valid),\n",
        "          batch_size=512,\n",
        "          epochs=5,\n",
        "          callbacks=[checkpoint])"
      ],
      "execution_count": null,
      "outputs": [
        {
          "output_type": "stream",
          "text": [
            "Epoch 1/5\n",
            "2424/2424 [==============================] - ETA: 0s - loss: 0.1830 - f1: 0.1267\n",
            "Epoch 00001: val_f1 did not improve from 0.42919\n",
            "2424/2424 [==============================] - 513s 212ms/step - loss: 0.1830 - f1: 0.1267 - val_loss: 0.1657 - val_f1: 0.2171\n",
            "Epoch 2/5\n",
            "2424/2424 [==============================] - ETA: 0s - loss: 0.1650 - f1: 0.2641\n",
            "Epoch 00002: val_f1 did not improve from 0.42919\n",
            "2424/2424 [==============================] - 516s 213ms/step - loss: 0.1650 - f1: 0.2641 - val_loss: 0.1621 - val_f1: 0.2282\n",
            "Epoch 3/5\n",
            "2424/2424 [==============================] - ETA: 0s - loss: 0.1581 - f1: 0.3169\n",
            "Epoch 00003: val_f1 did not improve from 0.42919\n",
            "2424/2424 [==============================] - 516s 213ms/step - loss: 0.1581 - f1: 0.3169 - val_loss: 0.1601 - val_f1: 0.2313\n",
            "Epoch 4/5\n",
            "2424/2424 [==============================] - ETA: 0s - loss: 0.1531 - f1: 0.3535\n",
            "Epoch 00004: val_f1 did not improve from 0.42919\n",
            "2424/2424 [==============================] - 515s 212ms/step - loss: 0.1531 - f1: 0.3535 - val_loss: 0.1574 - val_f1: 0.3501\n",
            "Epoch 5/5\n",
            "2424/2424 [==============================] - ETA: 0s - loss: 0.1482 - f1: 0.3880\n",
            "Epoch 00005: val_f1 did not improve from 0.42919\n",
            "2424/2424 [==============================] - 514s 212ms/step - loss: 0.1482 - f1: 0.3880 - val_loss: 0.1648 - val_f1: 0.2323\n",
            "CPU times: user 1h 19min 47s, sys: 1min 3s, total: 1h 20min 50s\n",
            "Wall time: 42min 56s\n"
          ],
          "name": "stdout"
        },
        {
          "output_type": "execute_result",
          "data": {
            "text/plain": [
              "<tensorflow.python.keras.callbacks.History at 0x7f4d60b0b080>"
            ]
          },
          "metadata": {
            "tags": []
          },
          "execution_count": 209
        }
      ]
    },
    {
      "cell_type": "code",
      "metadata": {
        "colab_type": "code",
        "id": "v2RvuaJDY39m",
        "colab": {
          "base_uri": "https://localhost:8080/",
          "height": 312
        },
        "outputId": "fcc9599d-4a42-4c15-a7ae-84219450096e"
      },
      "source": [
        "print(model.history.history.keys())\n",
        "# summarize history for accuracy\n",
        "plt.plot(model.history.history['f1'])\n",
        "plt.plot(model.history.history['val_f1'])\n",
        "plt.title('model f1')\n",
        "plt.ylabel('f1')\n",
        "plt.xlabel('epoch')\n",
        "plt.legend(['train', 'val'], loc='upper left')\n",
        "plt.show()"
      ],
      "execution_count": null,
      "outputs": [
        {
          "output_type": "stream",
          "text": [
            "dict_keys(['loss', 'f1', 'val_loss', 'val_f1'])\n"
          ],
          "name": "stdout"
        },
        {
          "output_type": "display_data",
          "data": {
            "image/png": "[encoded data removed]",
            "text/plain": [
              "<Figure size 432x288 with 1 Axes>"
            ]
          },
          "metadata": {
            "tags": [],
            "needs_background": "light"
          }
        }
      ]
    },
    {
      "cell_type": "markdown",
      "metadata": {
        "id": "8x2zB_SXZ67L",
        "colab_type": "text"
      },
      "source": [
        "# Наконец, сделаем побольше слоёв"
      ]
    },
    {
      "cell_type": "code",
      "metadata": {
        "id": "E85RXSZcgRdS",
        "colab_type": "code",
        "colab": {}
      },
      "source": [
        "# EarlyStopping\n",
        "early_stop = tf.keras.callbacks.EarlyStopping(monitor='val_f1', \n",
        "                                              min_delta=0.01, # какая разница считается как улучшение\n",
        "                                              patience=2, # сколько эпох терпеть отсутствие улучшений\n",
        "                                              verbose=1, \n",
        "                                              mode='max',\n",
        "                                              )"
      ],
      "execution_count": null,
      "outputs": []
    },
    {
      "cell_type": "code",
      "metadata": {
        "id": "GY3XLJ3qZ6aZ",
        "colab_type": "code",
        "colab": {}
      },
      "source": [
        "inputs = tf.keras.layers.Input(shape=(MAX_LEN, ))\n",
        "embeddings = tf.keras.layers.Embedding(\n",
        "    input_dim=len(sym2id), output_dim = 10)(inputs)\n",
        "\n",
        "convs = []\n",
        "\n",
        "for ks in [2,3,4]:\n",
        "    for fil in [64, 32]:\n",
        "        for st in [1, 2]:\n",
        "            conv1 = tf.keras.layers.Conv1D(kernel_size=ks, filters=fil, padding='same', strides=1)(embeddings)\n",
        "            conv2 = tf.keras.layers.Conv1D(kernel_size=ks, filters=32, padding='same', strides=2, \n",
        "                                        #   kernel_regularizer='l2', \n",
        "                                        activation='relu')(conv1)\n",
        "            pool1 = tf.keras.layers.MaxPool1D(2, strides=st, padding='same')(conv2)\n",
        "            drop1 = tf.keras.layers.AlphaDropout(0.1)(pool1)\n",
        "        convs.append(drop1)\n",
        "\n",
        "concat = tf.keras.layers.concatenate(convs, axis=2)\n",
        "\n",
        "conv_global = tf.keras.layers.Conv1D(kernel_size=2, filters=16, strides=1)(concat)\n",
        "flatten = tf.keras.layers.Flatten()(conv_global)\n",
        "dense = tf.keras.layers.Dense(50, activation='relu')(flatten)\n",
        "outputs = tf.keras.layers.Dense(1, activation='sigmoid')(dense)\n",
        "\n",
        "model = tf.keras.Model(inputs=inputs, outputs=outputs)\n",
        "optimizer = tf.keras.optimizers.Adam(learning_rate=0.001)\n",
        "model.compile(optimizer=optimizer,\n",
        "              loss='binary_crossentropy',\n",
        "              metrics=[f1])"
      ],
      "execution_count": null,
      "outputs": []
    },
    {
      "cell_type": "code",
      "metadata": {
        "colab_type": "code",
        "id": "tqwtkElbhiXm",
        "colab": {
          "base_uri": "https://localhost:8080/",
          "height": 428
        },
        "outputId": "233e3584-3ac1-4f17-d6d7-db8d199e7880"
      },
      "source": [
        "%%time\n",
        "model.fit(X_train, y_train, \n",
        "          validation_data=(X_valid, y_valid),\n",
        "          batch_size=512,\n",
        "          epochs=5,\n",
        "          callbacks=[checkpoint, early_stop])"
      ],
      "execution_count": null,
      "outputs": [
        {
          "output_type": "stream",
          "text": [
            "Epoch 1/5\n",
            "2424/2424 [==============================] - ETA: 0s - loss: 0.1930 - f1: 0.0576\n",
            "Epoch 00001: val_f1 did not improve from 0.42919\n",
            "2424/2424 [==============================] - 1102s 455ms/step - loss: 0.1930 - f1: 0.0576 - val_loss: 0.1811 - val_f1: 0.0848\n",
            "Epoch 2/5\n",
            "2424/2424 [==============================] - ETA: 0s - loss: 0.1712 - f1: 0.1990\n",
            "Epoch 00002: val_f1 did not improve from 0.42919\n",
            "2424/2424 [==============================] - 1101s 454ms/step - loss: 0.1712 - f1: 0.1990 - val_loss: 0.1669 - val_f1: 0.1979\n",
            "Epoch 3/5\n",
            "2424/2424 [==============================] - ETA: 0s - loss: 0.1619 - f1: 0.2803\n",
            "Epoch 00003: val_f1 did not improve from 0.42919\n",
            "2424/2424 [==============================] - 1109s 458ms/step - loss: 0.1619 - f1: 0.2803 - val_loss: 0.1580 - val_f1: 0.2795\n",
            "Epoch 4/5\n",
            "2424/2424 [==============================] - ETA: 0s - loss: 0.1563 - f1: 0.3231\n",
            "Epoch 00004: val_f1 did not improve from 0.42919\n",
            "2424/2424 [==============================] - 1098s 453ms/step - loss: 0.1563 - f1: 0.3231 - val_loss: 0.1525 - val_f1: 0.3726\n",
            "Epoch 5/5\n",
            "2424/2424 [==============================] - ETA: 0s - loss: 0.1523 - f1: 0.3567\n",
            "Epoch 00005: val_f1 did not improve from 0.42919\n",
            "2424/2424 [==============================] - 1110s 458ms/step - loss: 0.1523 - f1: 0.3567 - val_loss: 0.1548 - val_f1: 0.3287\n",
            "CPU times: user 2h 52min 44s, sys: 4min 24s, total: 2h 57min 8s\n",
            "Wall time: 1h 32min 2s\n"
          ],
          "name": "stdout"
        },
        {
          "output_type": "execute_result",
          "data": {
            "text/plain": [
              "<tensorflow.python.keras.callbacks.History at 0x7f4d58298320>"
            ]
          },
          "metadata": {
            "tags": []
          },
          "execution_count": 224
        }
      ]
    },
    {
      "cell_type": "code",
      "metadata": {
        "colab_type": "code",
        "id": "dlWSaQmOhiXr",
        "colab": {
          "base_uri": "https://localhost:8080/",
          "height": 312
        },
        "outputId": "b0afe6e5-82ee-4485-cea6-6c441ba1d4bf"
      },
      "source": [
        "print(model.history.history.keys())\n",
        "# summarize history for accuracy\n",
        "plt.plot(model.history.history['f1'])\n",
        "plt.plot(model.history.history['val_f1'])\n",
        "plt.title('model f1')\n",
        "plt.ylabel('f1')\n",
        "plt.xlabel('epoch')\n",
        "plt.legend(['train', 'val'], loc='upper left')\n",
        "plt.show()"
      ],
      "execution_count": null,
      "outputs": [
        {
          "output_type": "stream",
          "text": [
            "dict_keys(['loss', 'f1', 'val_loss', 'val_f1'])\n"
          ],
          "name": "stdout"
        },
        {
          "output_type": "display_data",
          "data": {
            "image/png": "[encoded data removed]",
            "text/plain": [
              "<Figure size 432x288 with 1 Axes>"
            ]
          },
          "metadata": {
            "tags": [],
            "needs_background": "light"
          }
        }
      ]
    },
    {
      "cell_type": "markdown",
      "metadata": {
        "id": "Z5dsGd19DDoL",
        "colab_type": "text"
      },
      "source": [
        "Обучалось долго и улучшения не случилось - видимо, слишком рандомная архитектура."
      ]
    },
    {
      "cell_type": "code",
      "metadata": {
        "id": "K7f5dh3utiu5",
        "colab_type": "code",
        "colab": {}
      },
      "source": [
        ""
      ],
      "execution_count": null,
      "outputs": []
    },
    {
      "cell_type": "markdown",
      "metadata": {
        "id": "TyHMoPwG_qRV",
        "colab_type": "text"
      },
      "source": [
        "Напоследок вернемся к простой архитектуре с альфадропаутом"
      ]
    },
    {
      "cell_type": "code",
      "metadata": {
        "colab_type": "code",
        "id": "xl2OQ6F0AJG6",
        "colab": {
          "base_uri": "https://localhost:8080/",
          "height": 459
        },
        "outputId": "5af8ecbf-363f-4eae-b0d8-9be7fc4a0949"
      },
      "source": [
        "inputs = tf.keras.layers.Input(shape=(MAX_LEN, ))\n",
        "embeddings = tf.keras.layers.Embedding(\n",
        "    input_dim=len(sym2id), output_dim = 10)(inputs)\n",
        "\n",
        "###################\n",
        "conv1 = tf.keras.layers.Conv1D(kernel_size=4, \n",
        "                               filters=64)(embeddings)\n",
        "conv2 = tf.keras.layers.Conv1D(kernel_size=3, \n",
        "                               filters=64)(conv1)\n",
        "pool1 = tf.keras.layers.MaxPool1D()(conv2)\n",
        "drop1 = tf.keras.layers.AlphaDropout(0.1)(pool1)\n",
        "concat = tf.keras.layers.Flatten()(drop1)\n",
        "###################\n",
        "\n",
        "dense = tf.keras.layers.Dense(64, activation='relu')(concat)\n",
        "outputs = tf.keras.layers.Dense(1, activation='sigmoid')(dense)\n",
        "\n",
        "model = tf.keras.Model(inputs=inputs, outputs=outputs)\n",
        "optimizer = tf.keras.optimizers.Adam(learning_rate=0.001)\n",
        "model.compile(optimizer=optimizer,\n",
        "              loss='binary_crossentropy', \n",
        "              metrics=[f1])\n",
        "model.summary()"
      ],
      "execution_count": null,
      "outputs": [
        {
          "output_type": "stream",
          "text": [
            "Model: \"model_35\"\n",
            "_________________________________________________________________\n",
            "Layer (type)                 Output Shape              Param #   \n",
            "=================================================================\n",
            "input_43 (InputLayer)        [(None, 120)]             0         \n",
            "_________________________________________________________________\n",
            "embedding_42 (Embedding)     (None, 120, 10)           580       \n",
            "_________________________________________________________________\n",
            "conv1d_197 (Conv1D)          (None, 117, 64)           2624      \n",
            "_________________________________________________________________\n",
            "conv1d_198 (Conv1D)          (None, 115, 64)           12352     \n",
            "_________________________________________________________________\n",
            "max_pooling1d_93 (MaxPooling (None, 57, 64)            0         \n",
            "_________________________________________________________________\n",
            "alpha_dropout_74 (AlphaDropo (None, 57, 64)            0         \n",
            "_________________________________________________________________\n",
            "flatten_35 (Flatten)         (None, 3648)              0         \n",
            "_________________________________________________________________\n",
            "dense_70 (Dense)             (None, 64)                233536    \n",
            "_________________________________________________________________\n",
            "dense_71 (Dense)             (None, 1)                 65        \n",
            "=================================================================\n",
            "Total params: 249,157\n",
            "Trainable params: 249,157\n",
            "Non-trainable params: 0\n",
            "_________________________________________________________________\n"
          ],
          "name": "stdout"
        }
      ]
    },
    {
      "cell_type": "code",
      "metadata": {
        "colab_type": "code",
        "id": "dBoxQ4_CAJG9",
        "colab": {
          "base_uri": "https://localhost:8080/",
          "height": 459
        },
        "outputId": "7e4dbaca-aee7-471b-f54d-75385fe9c231"
      },
      "source": [
        "%%time\n",
        "model.fit(X_train, y_train, \n",
        "          validation_data=(X_valid, y_valid),\n",
        "          batch_size=512,\n",
        "          epochs=15,\n",
        "          callbacks=[checkpoint, early_stop])"
      ],
      "execution_count": null,
      "outputs": [
        {
          "output_type": "stream",
          "text": [
            "Epoch 1/15\n",
            "2424/2424 [==============================] - ETA: 0s - loss: 0.2133 - f1: 0.0072\n",
            "Epoch 00001: val_f1 did not improve from 0.42919\n",
            "2424/2424 [==============================] - 489s 202ms/step - loss: 0.2133 - f1: 0.0072 - val_loss: 0.2014 - val_f1: 0.0142\n",
            "Epoch 2/15\n",
            "2424/2424 [==============================] - ETA: 0s - loss: 0.1892 - f1: 0.0735\n",
            "Epoch 00002: val_f1 did not improve from 0.42919\n",
            "2424/2424 [==============================] - 488s 201ms/step - loss: 0.1892 - f1: 0.0735 - val_loss: 0.1987 - val_f1: 0.0296\n",
            "Epoch 3/15\n",
            "2424/2424 [==============================] - ETA: 0s - loss: 0.1789 - f1: 0.1506\n",
            "Epoch 00003: val_f1 did not improve from 0.42919\n",
            "2424/2424 [==============================] - 489s 202ms/step - loss: 0.1789 - f1: 0.1506 - val_loss: 0.1752 - val_f1: 0.1753\n",
            "Epoch 4/15\n",
            "2424/2424 [==============================] - ETA: 0s - loss: 0.1724 - f1: 0.2032\n",
            "Epoch 00004: val_f1 did not improve from 0.42919\n",
            "2424/2424 [==============================] - 488s 201ms/step - loss: 0.1724 - f1: 0.2032 - val_loss: 0.1710 - val_f1: 0.2387\n",
            "Epoch 5/15\n",
            "2424/2424 [==============================] - ETA: 0s - loss: 0.1684 - f1: 0.2377\n",
            "Epoch 00005: val_f1 did not improve from 0.42919\n",
            "2424/2424 [==============================] - 487s 201ms/step - loss: 0.1684 - f1: 0.2377 - val_loss: 0.1653 - val_f1: 0.2778\n",
            "Epoch 6/15\n",
            "2424/2424 [==============================] - ETA: 0s - loss: 0.1659 - f1: 0.2584\n",
            "Epoch 00006: val_f1 did not improve from 0.42919\n",
            "2424/2424 [==============================] - 488s 201ms/step - loss: 0.1659 - f1: 0.2584 - val_loss: 0.1663 - val_f1: 0.2907\n",
            "Epoch 7/15\n",
            "1175/2424 [=============>................] - ETA: 4:05 - loss: 0.1647 - f1: 0.2767"
          ],
          "name": "stdout"
        }
      ]
    },
    {
      "cell_type": "code",
      "metadata": {
        "colab_type": "code",
        "id": "KNzgJFxVAJHA",
        "colab": {}
      },
      "source": [
        "print(model.history.history.keys())\n",
        "# summarize history for accuracy\n",
        "plt.plot(model.history.history['f1'])\n",
        "plt.plot(model.history.history['val_f1'])\n",
        "plt.title('model f1')\n",
        "plt.ylabel('f1')\n",
        "plt.xlabel('epoch')\n",
        "plt.legend(['train', 'val'], loc='upper left')\n",
        "plt.show()"
      ],
      "execution_count": null,
      "outputs": []
    },
    {
      "cell_type": "markdown",
      "metadata": {
        "id": "xSTKW7PpOek_",
        "colab_type": "text"
      },
      "source": [
        "Всё крашнулось... Ещё раз? Вообще говоря, лучшую метрику показала модель без дропаута."
      ]
    },
    {
      "cell_type": "code",
      "metadata": {
        "colab_type": "code",
        "id": "pOcAenUIOzr4",
        "colab": {
          "base_uri": "https://localhost:8080/",
          "height": 425
        },
        "outputId": "6112501a-9996-46ec-cdbb-01644859c9d8"
      },
      "source": [
        "inputs = tf.keras.layers.Input(shape=(MAX_LEN, ))\n",
        "embeddings = tf.keras.layers.Embedding(\n",
        "    input_dim=len(sym2id), output_dim = 10)(inputs)\n",
        "\n",
        "###################\n",
        "conv1 = tf.keras.layers.Conv1D(kernel_size=4, \n",
        "                               filters=64)(embeddings)\n",
        "conv2 = tf.keras.layers.Conv1D(kernel_size=3, \n",
        "                               filters=64)(conv1)\n",
        "pool1 = tf.keras.layers.MaxPool1D()(conv2)\n",
        "# drop1 = tf.keras.layers.Dropout(0.1)(pool1)\n",
        "concat = tf.keras.layers.Flatten()(pool1)\n",
        "###################\n",
        "\n",
        "dense = tf.keras.layers.Dense(64, activation='relu')(concat)\n",
        "outputs = tf.keras.layers.Dense(1, activation='sigmoid')(dense)\n",
        "\n",
        "model = tf.keras.Model(inputs=inputs, outputs=outputs)\n",
        "optimizer = tf.keras.optimizers.Adam(learning_rate=0.001)\n",
        "model.compile(optimizer=optimizer,\n",
        "              loss='binary_crossentropy', \n",
        "              metrics=[f1])\n",
        "model.summary()"
      ],
      "execution_count": null,
      "outputs": [
        {
          "output_type": "stream",
          "text": [
            "Model: \"model\"\n",
            "_________________________________________________________________\n",
            "Layer (type)                 Output Shape              Param #   \n",
            "=================================================================\n",
            "input_1 (InputLayer)         [(None, 120)]             0         \n",
            "_________________________________________________________________\n",
            "embedding (Embedding)        (None, 120, 10)           920       \n",
            "_________________________________________________________________\n",
            "conv1d (Conv1D)              (None, 117, 64)           2624      \n",
            "_________________________________________________________________\n",
            "conv1d_1 (Conv1D)            (None, 115, 64)           12352     \n",
            "_________________________________________________________________\n",
            "max_pooling1d (MaxPooling1D) (None, 57, 64)            0         \n",
            "_________________________________________________________________\n",
            "flatten (Flatten)            (None, 3648)              0         \n",
            "_________________________________________________________________\n",
            "dense (Dense)                (None, 64)                233536    \n",
            "_________________________________________________________________\n",
            "dense_1 (Dense)              (None, 1)                 65        \n",
            "=================================================================\n",
            "Total params: 249,497\n",
            "Trainable params: 249,497\n",
            "Non-trainable params: 0\n",
            "_________________________________________________________________\n"
          ],
          "name": "stdout"
        }
      ]
    },
    {
      "cell_type": "code",
      "metadata": {
        "colab_type": "code",
        "id": "4TBTCtWXOzr9",
        "colab": {
          "base_uri": "https://localhost:8080/",
          "height": 768
        },
        "outputId": "34e13ea9-1410-4e76-da3d-b445c41a04e5"
      },
      "source": [
        "%%time\n",
        "model.fit(X_train, y_train, \n",
        "          validation_data=(X_valid, y_valid),\n",
        "          batch_size=512,\n",
        "          epochs=10,\n",
        "          callbacks=[checkpoint])"
      ],
      "execution_count": null,
      "outputs": [
        {
          "output_type": "stream",
          "text": [
            "Epoch 1/10\n",
            "2424/2424 [==============================] - ETA: 0s - loss: 0.1513 - f1: 0.3510\n",
            "Epoch 00001: val_f1 improved from 0.36404 to 0.36959, saving model to model.weights\n",
            "2424/2424 [==============================] - 439s 181ms/step - loss: 0.1513 - f1: 0.3510 - val_loss: 0.1535 - val_f1: 0.3696\n",
            "Epoch 2/10\n",
            "2424/2424 [==============================] - ETA: 0s - loss: 0.1462 - f1: 0.3871\n",
            "Epoch 00002: val_f1 improved from 0.36959 to 0.37482, saving model to model.weights\n",
            "2424/2424 [==============================] - 435s 180ms/step - loss: 0.1462 - f1: 0.3871 - val_loss: 0.1532 - val_f1: 0.3748\n",
            "Epoch 3/10\n",
            "2424/2424 [==============================] - ETA: 0s - loss: 0.1411 - f1: 0.4199\n",
            "Epoch 00003: val_f1 did not improve from 0.37482\n",
            "2424/2424 [==============================] - 452s 187ms/step - loss: 0.1411 - f1: 0.4199 - val_loss: 0.1609 - val_f1: 0.2610\n",
            "Epoch 4/10\n",
            "2424/2424 [==============================] - ETA: 0s - loss: 0.1356 - f1: 0.4578\n",
            "Epoch 00004: val_f1 did not improve from 0.37482\n",
            "2424/2424 [==============================] - 459s 189ms/step - loss: 0.1356 - f1: 0.4578 - val_loss: 0.1578 - val_f1: 0.3400\n",
            "Epoch 5/10\n",
            "2424/2424 [==============================] - ETA: 0s - loss: 0.1298 - f1: 0.4926\n",
            "Epoch 00005: val_f1 did not improve from 0.37482\n",
            "2424/2424 [==============================] - 461s 190ms/step - loss: 0.1298 - f1: 0.4926 - val_loss: 0.1652 - val_f1: 0.3268\n",
            "Epoch 6/10\n",
            "2424/2424 [==============================] - ETA: 0s - loss: 0.1245 - f1: 0.5236\n",
            "Epoch 00006: val_f1 improved from 0.37482 to 0.39096, saving model to model.weights\n",
            "2424/2424 [==============================] - 459s 190ms/step - loss: 0.1245 - f1: 0.5236 - val_loss: 0.1649 - val_f1: 0.3910\n",
            "Epoch 7/10\n",
            "2424/2424 [==============================] - ETA: 0s - loss: 0.1187 - f1: 0.5570\n",
            "Epoch 00007: val_f1 did not improve from 0.39096\n",
            "2424/2424 [==============================] - 451s 186ms/step - loss: 0.1187 - f1: 0.5570 - val_loss: 0.1691 - val_f1: 0.3576\n",
            "Epoch 8/10\n",
            "2424/2424 [==============================] - ETA: 0s - loss: 0.1135 - f1: 0.5835\n",
            "Epoch 00008: val_f1 did not improve from 0.39096\n",
            "2424/2424 [==============================] - 453s 187ms/step - loss: 0.1135 - f1: 0.5835 - val_loss: 0.1772 - val_f1: 0.3484\n",
            "Epoch 9/10\n",
            "2424/2424 [==============================] - ETA: 0s - loss: 0.1081 - f1: 0.6115\n",
            "Epoch 00009: val_f1 did not improve from 0.39096\n",
            "2424/2424 [==============================] - 457s 189ms/step - loss: 0.1081 - f1: 0.6115 - val_loss: 0.1806 - val_f1: 0.3601\n",
            "Epoch 10/10\n",
            "2424/2424 [==============================] - ETA: 0s - loss: 0.1033 - f1: 0.6314\n",
            "Epoch 00010: val_f1 did not improve from 0.39096\n",
            "2424/2424 [==============================] - 458s 189ms/step - loss: 0.1033 - f1: 0.6314 - val_loss: 0.1957 - val_f1: 0.3289\n",
            "CPU times: user 2h 20min 3s, sys: 1min 44s, total: 2h 21min 48s\n",
            "Wall time: 1h 15min 26s\n"
          ],
          "name": "stdout"
        },
        {
          "output_type": "execute_result",
          "data": {
            "text/plain": [
              "<tensorflow.python.keras.callbacks.History at 0x7fd649d5aac8>"
            ]
          },
          "metadata": {
            "tags": []
          },
          "execution_count": 24
        }
      ]
    },
    {
      "cell_type": "code",
      "metadata": {
        "colab_type": "code",
        "id": "qhvF2KhQOzsC",
        "colab": {
          "base_uri": "https://localhost:8080/",
          "height": 312
        },
        "outputId": "3384e902-3194-404e-95d5-7f8a5b972e84"
      },
      "source": [
        "print(model.history.history.keys())\n",
        "# summarize history for accuracy\n",
        "plt.plot(model.history.history['f1'])\n",
        "plt.plot(model.history.history['val_f1'])\n",
        "plt.title('model f1')\n",
        "plt.ylabel('f1')\n",
        "plt.xlabel('epoch')\n",
        "plt.legend(['train', 'val'], loc='upper left')\n",
        "plt.show()"
      ],
      "execution_count": null,
      "outputs": [
        {
          "output_type": "stream",
          "text": [
            "dict_keys(['loss', 'f1', 'val_loss', 'val_f1'])\n"
          ],
          "name": "stdout"
        },
        {
          "output_type": "display_data",
          "data": {
            "image/png": "[encoded data removed]",
            "text/plain": [
              "<Figure size 432x288 with 1 Axes>"
            ]
          },
          "metadata": {
            "tags": [],
            "needs_background": "light"
          }
        }
      ]
    },
    {
      "cell_type": "code",
      "metadata": {
        "id": "UABNbU5sYazX",
        "colab_type": "code",
        "colab": {}
      },
      "source": [
        ""
      ],
      "execution_count": null,
      "outputs": []
    },
    {
      "cell_type": "code",
      "metadata": {
        "id": "M7c5L7jhYXnR",
        "colab_type": "code",
        "colab": {}
      },
      "source": [
        ""
      ],
      "execution_count": null,
      "outputs": []
    },
    {
      "cell_type": "markdown",
      "metadata": {
        "id": "9IMfdp5xq6GT",
        "colab_type": "text"
      },
      "source": [
        "# Trash"
      ]
    },
    {
      "cell_type": "code",
      "metadata": {
        "id": "lqBCRRYiq8t_",
        "colab_type": "code",
        "colab": {}
      },
      "source": [
        ""
      ],
      "execution_count": null,
      "outputs": []
    },
    {
      "cell_type": "code",
      "metadata": {
        "colab_type": "code",
        "id": "PLF7S9G7q8-h",
        "colab": {
          "base_uri": "https://localhost:8080/",
          "height": 88
        },
        "outputId": "1b96b2c3-c602-406b-dc93-82bf74b1d1df"
      },
      "source": [
        "# влияние предобработки\n",
        "def keep_alpha(s):\n",
        "    matches = re.findall('[a-zA-Z\\s]+', s)\n",
        "    if matches:\n",
        "        return re.sub('[\\s\\t\\n]+', ' ', ''.join(matches))\n",
        "def dig_token(s):\n",
        "    return re.sub('[0-9]', '<DIG>', s)\n",
        "def num_token(s):\n",
        "    return re.sub('[0-9]+', '<NUM>', s)\n",
        "# lower()"
      ],
      "execution_count": null,
      "outputs": [
        {
          "output_type": "stream",
          "text": [
            "How did Otto von Guericke used the Magdeburg\n",
            "How di.d Otto <DIG> <DIG><DIG><DIG> <DIG><DIG><DIG> von Guericke used <DIG>.<DIG><DIG> the Magdeburg?\n",
            "How di.d Otto <NUM> <NUM> <NUM> von Guericke used <NUM>.<NUM> the Magdeburg?\n"
          ],
          "name": "stdout"
        }
      ]
    },
    {
      "cell_type": "code",
      "metadata": {
        "colab_type": "code",
        "id": "MYHN4_q_q8-p",
        "colab": {
          "base_uri": "https://localhost:8080/",
          "height": 204
        },
        "outputId": "02fb571d-1a6d-49a3-b577-099c76758d8f"
      },
      "source": [
        "quora = pd.read_csv('quora.csv')"
      ],
      "execution_count": null,
      "outputs": [
        {
          "output_type": "execute_result",
          "data": {
            "text/html": [
              "<div>\n",
              "<style scoped>\n",
              "    .dataframe tbody tr th:only-of-type {\n",
              "        vertical-align: middle;\n",
              "    }\n",
              "\n",
              "    .dataframe tbody tr th {\n",
              "        vertical-align: top;\n",
              "    }\n",
              "\n",
              "    .dataframe thead th {\n",
              "        text-align: right;\n",
              "    }\n",
              "</style>\n",
              "<table border=\"1\" class=\"dataframe\">\n",
              "  <thead>\n",
              "    <tr style=\"text-align: right;\">\n",
              "      <th></th>\n",
              "      <th>qid</th>\n",
              "      <th>question_text</th>\n",
              "      <th>target</th>\n",
              "    </tr>\n",
              "  </thead>\n",
              "  <tbody>\n",
              "    <tr>\n",
              "      <th>0</th>\n",
              "      <td>00002165364db923c7e6</td>\n",
              "      <td>How did Quebec nationalists see their province...</td>\n",
              "      <td>0</td>\n",
              "    </tr>\n",
              "    <tr>\n",
              "      <th>1</th>\n",
              "      <td>000032939017120e6e44</td>\n",
              "      <td>Do you have an adopted dog, how would you enco...</td>\n",
              "      <td>0</td>\n",
              "    </tr>\n",
              "    <tr>\n",
              "      <th>2</th>\n",
              "      <td>0000412ca6e4628ce2cf</td>\n",
              "      <td>Why does velocity affect time? Does velocity a...</td>\n",
              "      <td>0</td>\n",
              "    </tr>\n",
              "    <tr>\n",
              "      <th>3</th>\n",
              "      <td>000042bf85aa498cd78e</td>\n",
              "      <td>How did Otto von Guericke used the Magdeburg h...</td>\n",
              "      <td>0</td>\n",
              "    </tr>\n",
              "    <tr>\n",
              "      <th>4</th>\n",
              "      <td>0000455dfa3e01eae3af</td>\n",
              "      <td>Can I convert montra helicon D to a mountain b...</td>\n",
              "      <td>0</td>\n",
              "    </tr>\n",
              "  </tbody>\n",
              "</table>\n",
              "</div>"
            ],
            "text/plain": [
              "                    qid  ... target\n",
              "0  00002165364db923c7e6  ...      0\n",
              "1  000032939017120e6e44  ...      0\n",
              "2  0000412ca6e4628ce2cf  ...      0\n",
              "3  000042bf85aa498cd78e  ...      0\n",
              "4  0000455dfa3e01eae3af  ...      0\n",
              "\n",
              "[5 rows x 3 columns]"
            ]
          },
          "metadata": {
            "tags": []
          },
          "execution_count": 6
        }
      ]
    },
    {
      "cell_type": "code",
      "metadata": {
        "colab_type": "code",
        "id": "546Wwaoeq8-s",
        "colab": {}
      },
      "source": [
        "vocab = Counter()\n",
        "\n",
        "for text in quora.question_text:\n",
        "    vocab.update(text.lower())"
      ],
      "execution_count": null,
      "outputs": []
    },
    {
      "cell_type": "code",
      "metadata": {
        "colab_type": "code",
        "id": "oWyHOc3-q8-u",
        "colab": {
          "base_uri": "https://localhost:8080/",
          "height": 34
        },
        "outputId": "7a97ffc9-b86c-4f53-8f14-646816b3225b"
      },
      "source": [
        "len(vocab)"
      ],
      "execution_count": null,
      "outputs": [
        {
          "output_type": "execute_result",
          "data": {
            "text/plain": [
              "1949"
            ]
          },
          "metadata": {
            "tags": []
          },
          "execution_count": 43
        }
      ]
    },
    {
      "cell_type": "code",
      "metadata": {
        "colab_type": "code",
        "id": "GDJjkQ_3q8-1",
        "colab": {
          "base_uri": "https://localhost:8080/",
          "height": 34
        },
        "outputId": "c7d11161-f18d-44e3-ca4c-3a4af1fe20c5"
      },
      "source": [
        "filtered_vocab = set()\n",
        "\n",
        "for sym in vocab:\n",
        "    if vocab[sym] > 20:\n",
        "        filtered_vocab.add(sym)\n",
        "\n",
        "len(filtered_vocab)"
      ],
      "execution_count": null,
      "outputs": [
        {
          "output_type": "execute_result",
          "data": {
            "text/plain": [
              "184"
            ]
          },
          "metadata": {
            "tags": []
          },
          "execution_count": 46
        }
      ]
    },
    {
      "cell_type": "code",
      "metadata": {
        "colab_type": "code",
        "id": "-UkIA76kq8-5",
        "colab": {}
      },
      "source": [
        "sym2id = {'UNK':1, 'PAD':0}\n",
        "\n",
        "for sym in filtered_vocab:\n",
        "    sym2id[sym] = len(sym2id)\n",
        "\n",
        "id2sym = {i:sym for sym, i in sym2id.items()}\n",
        "\n",
        "X = []\n",
        "\n",
        "for text in quora.question_text:\n",
        "    syms = text.lower()\n",
        "    ids = [sym2id.get(sym, 1) for sym in syms]\n",
        "    X.append(ids)\n",
        "\n",
        "MAX_LEN = max(len(x) for x in X)"
      ],
      "execution_count": null,
      "outputs": []
    },
    {
      "cell_type": "code",
      "metadata": {
        "colab_type": "code",
        "id": "CtG_kZ-Dq8-9",
        "colab": {}
      },
      "source": [
        "MEAN_LEN = np.median([len(x) for x in X])\n",
        "MAX_LEN, MEAN_LEN\n",
        "MAX_LEN = MEAN_LEN + 50"
      ],
      "execution_count": null,
      "outputs": []
    },
    {
      "cell_type": "code",
      "metadata": {
        "colab_type": "code",
        "id": "vAcwPyN2q8_A",
        "colab": {}
      },
      "source": [
        "MAX_LEN = int(MAX_LEN)\n",
        "X = tf.keras.preprocessing.sequence.pad_sequences(X, maxlen=MAX_LEN)"
      ],
      "execution_count": null,
      "outputs": []
    },
    {
      "cell_type": "code",
      "metadata": {
        "colab_type": "code",
        "id": "07dJV-CCq8_H",
        "colab": {
          "base_uri": "https://localhost:8080/",
          "height": 34
        },
        "outputId": "2f4c16c0-93ee-4266-f387-b7bd498cbbb8"
      },
      "source": [
        "X.shape"
      ],
      "execution_count": null,
      "outputs": [
        {
          "output_type": "execute_result",
          "data": {
            "text/plain": [
              "(1306122, 110)"
            ]
          },
          "metadata": {
            "tags": []
          },
          "execution_count": 61
        }
      ]
    },
    {
      "cell_type": "code",
      "metadata": {
        "colab_type": "code",
        "id": "d5wkuQiTq8_K",
        "colab": {}
      },
      "source": [
        "y = quora.target.values\n",
        "X_train, X_valid, y_train, y_valid = train_test_split(\n",
        "    X, y, test_size=0.05, stratify=y)"
      ],
      "execution_count": null,
      "outputs": []
    }
  ]
}