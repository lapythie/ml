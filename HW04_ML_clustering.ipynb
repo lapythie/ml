{
  "nbformat": 4,
  "nbformat_minor": 0,
  "metadata": {
    "kernelspec": {
      "display_name": "Python 3",
      "language": "python",
      "name": "python3"
    },
    "language_info": {
      "codemirror_mode": {
        "name": "ipython",
        "version": 3
      },
      "file_extension": ".py",
      "mimetype": "text/x-python",
      "name": "python",
      "nbconvert_exporter": "python",
      "pygments_lexer": "ipython3",
      "version": "3.7.4"
    },
    "colab": {
      "name": "HW04_ML_clustering.ipynb",
      "provenance": [],
      "toc_visible": true,
      "include_colab_link": true
    }
  },
  "cells": [
    {
      "cell_type": "markdown",
      "metadata": {
        "id": "view-in-github",
        "colab_type": "text"
      },
      "source": [
        "<a href=\"https://colab.research.google.com/github/lapythie/ml/blob/master/HW04_ML_clustering.ipynb\" target=\"_parent\"><img src=\"https://colab.research.google.com/assets/colab-badge.svg\" alt=\"Open In Colab\"/></a>"
      ]
    },
    {
      "cell_type": "code",
      "metadata": {
        "id": "y8MjeeM2weaM",
        "colab_type": "code",
        "colab": {}
      },
      "source": [
        "import pandas as pd\n",
        "import numpy as np"
      ],
      "execution_count": null,
      "outputs": []
    },
    {
      "cell_type": "code",
      "metadata": {
        "id": "svi7B9-v8Y7z",
        "colab_type": "code",
        "colab": {}
      },
      "source": [
        "from google.colab import drive\n",
        "drive.mount('/content/drive')"
      ],
      "execution_count": null,
      "outputs": []
    },
    {
      "cell_type": "code",
      "metadata": {
        "id": "Vd6gS-VxweaT",
        "colab_type": "code",
        "colab": {}
      },
      "source": [
        "from sklearn.cluster import AffinityPropagation, \\\n",
        "AgglomerativeClustering, DBSCAN, KMeans, MiniBatchKMeans, \\\n",
        "Birch, MeanShift, SpectralClustering\n",
        "\n",
        "from sklearn.metrics import adjusted_rand_score, \\\n",
        "adjusted_mutual_info_score, silhouette_score\n",
        "\n",
        "from sklearn.feature_extraction.text import CountVectorizer, TfidfVectorizer\n",
        "from sklearn.decomposition import TruncatedSVD, NMF\n",
        "from sklearn import metrics\n",
        "from sklearn.datasets import make_blobs"
      ],
      "execution_count": null,
      "outputs": []
    },
    {
      "cell_type": "code",
      "metadata": {
        "id": "Ki8PbY_6weaY",
        "colab_type": "code",
        "colab": {}
      },
      "source": [
        "pd.set_option('display.max_rows', 500)"
      ],
      "execution_count": null,
      "outputs": []
    },
    {
      "cell_type": "code",
      "metadata": {
        "id": "wOXNEog3x_et",
        "colab_type": "code",
        "colab": {}
      },
      "source": [
        "def print_metrics(cluster):\n",
        "    labels = cluster.labels_\n",
        "    n_clusters = len(set(labels))\n",
        "    print('CLUSTERS:', '***', len(set(cluster.labels_)), '***')\n",
        "\n",
        "    try:\n",
        "        print('Silhouette Coefficient: %0.3f' \n",
        "            % metrics.silhouette_score(X, labels))\n",
        "        print(\"Homogeneity: %0.3f\" % metrics.homogeneity_score(y, labels)) # проверяет, что в кластере объекты одного класса\n",
        "        print(\"Completeness: %0.3f\" % metrics.completeness_score(y, labels)) # проверяет, что объекты класса только в одном кластере\n",
        "        print(\"V-measure: %0.3f\" % metrics.v_measure_score(y, labels)) # превращает обе метрики в одну \n",
        "\n",
        "        print(\"Adjusted Rand Index: %0.3f\"\n",
        "            % metrics.adjusted_rand_score(y, labels))\n",
        "        print(\"Adjusted Mutual Information: %0.3f\"\n",
        "            % metrics.adjusted_mutual_info_score(y, labels))\n",
        "\n",
        "    except ValueError as e:\n",
        "        print(e)"
      ],
      "execution_count": null,
      "outputs": []
    },
    {
      "cell_type": "code",
      "metadata": {
        "id": "NoLtkP2LwebK",
        "colab_type": "code",
        "colab": {}
      },
      "source": [
        "def print_labels(cluster, sample):\n",
        "    sample['cluster'] = cluster.labels_\n",
        "    for i in set(cluster.labels_):\n",
        "        print(sample[sample.cluster==i]['category_name'].unique())"
      ],
      "execution_count": null,
      "outputs": []
    },
    {
      "cell_type": "markdown",
      "metadata": {
        "id": "oHgi7eMaF4kZ",
        "colab_type": "text"
      },
      "source": [
        "**Домашнее задание**\n"
      ]
    },
    {
      "cell_type": "markdown",
      "metadata": {
        "id": "vzl6w8PUweab",
        "colab_type": "text"
      },
      "source": [
        "## *1. На нескольких алгоритмах кластеризации, умеющих работать с sparse матрицами, проверьте, что работает лучше Count_Vectorizer или TfidfVectorizer (попробуйте выжать максимум из каждого - попробуйте нграммы, символьные нграммы, разные значения max_features и min_df) (3 балла)*"
      ]
    },
    {
      "cell_type": "markdown",
      "metadata": {
        "id": "nmz2UbxHfSMu",
        "colab_type": "text"
      },
      "source": [
        "Буду смотреть на v-меру."
      ]
    },
    {
      "cell_type": "code",
      "metadata": {
        "id": "3IU88Fvuxou-",
        "colab_type": "code",
        "colab": {}
      },
      "source": [
        "data = pd.read_csv('/content/drive/My Drive/Colab Notebooks/homework_ml_m1/HW04_clustering/data.csv')\n"
      ],
      "execution_count": null,
      "outputs": []
    },
    {
      "cell_type": "code",
      "metadata": {
        "scrolled": true,
        "id": "MQ2_gX19weac",
        "colab_type": "code",
        "colab": {
          "base_uri": "https://localhost:8080/",
          "height": 204
        },
        "outputId": "ca880433-329d-455e-a557-ddfe1a78931e"
      },
      "source": [
        "# data = pd.read_csv('data.csv')\n",
        "data = data[['item_id', 'category_name', 'title']]\n",
        "data.head(5)"
      ],
      "execution_count": null,
      "outputs": [
        {
          "output_type": "execute_result",
          "data": {
            "text/html": [
              "<div>\n",
              "<style scoped>\n",
              "    .dataframe tbody tr th:only-of-type {\n",
              "        vertical-align: middle;\n",
              "    }\n",
              "\n",
              "    .dataframe tbody tr th {\n",
              "        vertical-align: top;\n",
              "    }\n",
              "\n",
              "    .dataframe thead th {\n",
              "        text-align: right;\n",
              "    }\n",
              "</style>\n",
              "<table border=\"1\" class=\"dataframe\">\n",
              "  <thead>\n",
              "    <tr style=\"text-align: right;\">\n",
              "      <th></th>\n",
              "      <th>item_id</th>\n",
              "      <th>category_name</th>\n",
              "      <th>title</th>\n",
              "    </tr>\n",
              "  </thead>\n",
              "  <tbody>\n",
              "    <tr>\n",
              "      <th>0</th>\n",
              "      <td>793dd3d5f0f0</td>\n",
              "      <td>Детская одежда и обувь</td>\n",
              "      <td>Платье праздничное для девочки</td>\n",
              "    </tr>\n",
              "    <tr>\n",
              "      <th>1</th>\n",
              "      <td>f8c965d9b668</td>\n",
              "      <td>Мебель и интерьер</td>\n",
              "      <td>Кровать двухспальная</td>\n",
              "    </tr>\n",
              "    <tr>\n",
              "      <th>2</th>\n",
              "      <td>2f153c00d561</td>\n",
              "      <td>Телефоны</td>\n",
              "      <td>Samsung S3 mini gt-i8190</td>\n",
              "    </tr>\n",
              "    <tr>\n",
              "      <th>3</th>\n",
              "      <td>7fc5eea56915</td>\n",
              "      <td>Одежда, обувь, аксессуары</td>\n",
              "      <td>Красивое платье на одно плечо, в идеале размер м</td>\n",
              "    </tr>\n",
              "    <tr>\n",
              "      <th>4</th>\n",
              "      <td>b01000d29ea3</td>\n",
              "      <td>Детская одежда и обувь</td>\n",
              "      <td>Стильная панама</td>\n",
              "    </tr>\n",
              "  </tbody>\n",
              "</table>\n",
              "</div>"
            ],
            "text/plain": [
              "        item_id  ...                                             title\n",
              "0  793dd3d5f0f0  ...                    Платье праздничное для девочки\n",
              "1  f8c965d9b668  ...                              Кровать двухспальная\n",
              "2  2f153c00d561  ...                          Samsung S3 mini gt-i8190\n",
              "3  7fc5eea56915  ...  Красивое платье на одно плечо, в идеале размер м\n",
              "4  b01000d29ea3  ...                                   Стильная панама\n",
              "\n",
              "[5 rows x 3 columns]"
            ]
          },
          "metadata": {
            "tags": []
          },
          "execution_count": 90
        }
      ]
    },
    {
      "cell_type": "markdown",
      "metadata": {
        "id": "jMME99vVweah",
        "colab_type": "text"
      },
      "source": [
        "##AffinityPropagation"
      ]
    },
    {
      "cell_type": "code",
      "metadata": {
        "id": "I17HBpOxweah",
        "colab_type": "code",
        "colab": {}
      },
      "source": [
        "sample = data.sample(frac=0.01, random_state=1)"
      ],
      "execution_count": null,
      "outputs": []
    },
    {
      "cell_type": "code",
      "metadata": {
        "id": "p_7xoKMzweal",
        "colab_type": "code",
        "colab": {
          "base_uri": "https://localhost:8080/",
          "height": 34
        },
        "outputId": "808bc402-b7d6-4d55-e37a-aef3175e0226"
      },
      "source": [
        "print('Категорий:', sample['category_name'].nunique())"
      ],
      "execution_count": null,
      "outputs": [
        {
          "output_type": "stream",
          "text": [
            "Категорий: 47\n"
          ],
          "name": "stdout"
        }
      ]
    },
    {
      "cell_type": "code",
      "metadata": {
        "id": "BpG4Hd51weaq",
        "colab_type": "code",
        "colab": {},
        "outputId": "ca4d51ea-c02c-4dfa-fca8-11992e276436"
      },
      "source": [
        "sample.shape"
      ],
      "execution_count": null,
      "outputs": [
        {
          "output_type": "execute_result",
          "data": {
            "text/plain": [
              "(2542, 3)"
            ]
          },
          "metadata": {
            "tags": []
          },
          "execution_count": 10
        }
      ]
    },
    {
      "cell_type": "code",
      "metadata": {
        "id": "cCzHrXw_weav",
        "colab_type": "code",
        "colab": {}
      },
      "source": [
        "cv = CountVectorizer(max_features=800, max_df=0.4, min_df=2)\n",
        "X = cv.fit_transform(sample['title'])\n",
        "y = sample['category_name']"
      ],
      "execution_count": null,
      "outputs": []
    },
    {
      "cell_type": "code",
      "metadata": {
        "id": "NBZWPMtWweay",
        "colab_type": "code",
        "colab": {
          "base_uri": "https://localhost:8080/",
          "height": 34
        },
        "outputId": "7134a8e6-88e0-41a8-bd30-8449b8670e48"
      },
      "source": [
        "X.shape"
      ],
      "execution_count": null,
      "outputs": [
        {
          "output_type": "execute_result",
          "data": {
            "text/plain": [
              "(2542, 800)"
            ]
          },
          "metadata": {
            "tags": []
          },
          "execution_count": 11
        }
      ]
    },
    {
      "cell_type": "code",
      "metadata": {
        "id": "WNMHBklzwea1",
        "colab_type": "code",
        "colab": {
          "base_uri": "https://localhost:8080/",
          "height": 459
        },
        "outputId": "6e1dcb40-55d8-43b7-df3e-1a9e254b0bfb"
      },
      "source": [
        "%%time\n",
        "for n2 in [1, 2, 3]:\n",
        "\n",
        "    cv = CountVectorizer(max_features=800, max_df=0.4, min_df=2, \n",
        "                            ngram_range=(1, n2))\n",
        "    \n",
        "    X = cv.fit_transform(sample['title'])\n",
        "    y = sample['category_name']\n",
        "\n",
        "    cluster = AffinityPropagation(damping=0.7, preference=-2,\n",
        "                                max_iter=600, verbose=2, )\n",
        "    cluster.fit(X)\n",
        "    print_metrics(cluster)"
      ],
      "execution_count": null,
      "outputs": [
        {
          "output_type": "stream",
          "text": [
            "Converged after 311 iterations.\n",
            "CLUSTERS: *** 656 ***\n",
            "Silhouette Coefficient: 0.370\n",
            "Homogeneity: 0.650\n",
            "Completeness: 0.386\n",
            "V-measure: 0.485\n",
            "Adjusted Rand Index: -0.003\n",
            "Adjusted Mutual Information: 0.223\n",
            "Converged after 292 iterations.\n",
            "CLUSTERS: *** 643 ***\n",
            "Silhouette Coefficient: 0.455\n",
            "Homogeneity: 0.617\n",
            "Completeness: 0.377\n",
            "V-measure: 0.468\n",
            "Adjusted Rand Index: -0.010\n",
            "Adjusted Mutual Information: 0.202\n",
            "Converged after 321 iterations.\n",
            "CLUSTERS: *** 606 ***\n",
            "Silhouette Coefficient: 0.478\n",
            "Homogeneity: 0.607\n",
            "Completeness: 0.377\n",
            "V-measure: 0.465\n",
            "Adjusted Rand Index: -0.012\n",
            "Adjusted Mutual Information: 0.205\n",
            "CPU times: user 1min 55s, sys: 42.2 ms, total: 1min 55s\n",
            "Wall time: 1min 55s\n"
          ],
          "name": "stdout"
        }
      ]
    },
    {
      "cell_type": "code",
      "metadata": {
        "id": "PcItY8DCwebe",
        "colab_type": "code",
        "colab": {
          "base_uri": "https://localhost:8080/",
          "height": 343
        },
        "outputId": "e7504c59-7393-4d67-f017-b797436f5e68"
      },
      "source": [
        "for n2 in [1, 2, 3]:\n",
        "    # кажется что сработали лучше униграмы для обоих векторайзеров\n",
        "    cv = TfidfVectorizer(max_features=500, max_df=0.7, min_df=2,\n",
        "                         ngram_range=(1, n2))\n",
        "    X = cv.fit_transform(sample['title'])\n",
        "    y = sample['category_name']\n",
        "    cluster = AffinityPropagation(damping=0.7, preference=-2,\n",
        "                                max_iter=600, verbose=2)\n",
        "    cluster.fit(X)\n",
        "    print_metrics(cluster)"
      ],
      "execution_count": null,
      "outputs": [
        {
          "output_type": "stream",
          "text": [
            "Converged after 204 iterations.\n",
            "CLUSTERS: *** 303 ***\n",
            "Silhouette Coefficient: 0.443\n",
            "Homogeneity: 0.577\n",
            "Completeness: 0.401\n",
            "V-measure: 0.473\n",
            "Adjusted Rand Index: -0.009\n",
            "Adjusted Mutual Information: 0.283\n",
            "Did not converge\n",
            "CLUSTERS: *** 1 ***\n",
            "Number of labels is 1. Valid values are 2 to n_samples - 1 (inclusive)\n"
          ],
          "name": "stdout"
        },
        {
          "output_type": "stream",
          "text": [
            "/usr/local/lib/python3.6/dist-packages/sklearn/cluster/_affinity_propagation.py:226: ConvergenceWarning: Affinity propagation did not converge, this model will not have any cluster centers.\n",
            "  \"will not have any cluster centers.\", ConvergenceWarning)\n"
          ],
          "name": "stderr"
        },
        {
          "output_type": "stream",
          "text": [
            "Did not converge\n",
            "CLUSTERS: *** 1 ***\n",
            "Number of labels is 1. Valid values are 2 to n_samples - 1 (inclusive)\n"
          ],
          "name": "stdout"
        },
        {
          "output_type": "stream",
          "text": [
            "/usr/local/lib/python3.6/dist-packages/sklearn/cluster/_affinity_propagation.py:226: ConvergenceWarning: Affinity propagation did not converge, this model will not have any cluster centers.\n",
            "  \"will not have any cluster centers.\", ConvergenceWarning)\n"
          ],
          "name": "stderr"
        }
      ]
    },
    {
      "cell_type": "code",
      "metadata": {
        "id": "fzJuoMzKwebi",
        "colab_type": "code",
        "colab": {
          "base_uri": "https://localhost:8080/",
          "height": 68
        },
        "outputId": "7907f7b8-a82b-4006-c968-ab459785f516"
      },
      "source": [
        "%%time\n",
        "cluster = AffinityPropagation(damping=0.7, preference=-2,\n",
        "                             max_iter=600, verbose=2, )\n",
        "cluster.fit(X)"
      ],
      "execution_count": null,
      "outputs": [
        {
          "output_type": "stream",
          "text": [
            "Converged after 204 iterations.\n",
            "CPU times: user 25.1 s, sys: 12.8 ms, total: 25.1 s\n",
            "Wall time: 25.1 s\n"
          ],
          "name": "stdout"
        }
      ]
    },
    {
      "cell_type": "code",
      "metadata": {
        "id": "yDX9znfVyvfG",
        "colab_type": "code",
        "colab": {
          "base_uri": "https://localhost:8080/",
          "height": 136
        },
        "outputId": "08266bf4-cc25-49c0-f657-22afae71eafc"
      },
      "source": [
        "print_metrics(cluster)"
      ],
      "execution_count": null,
      "outputs": [
        {
          "output_type": "stream",
          "text": [
            "CLUSTERS: *** 303 ***\n",
            "Silhouette Coefficient: 0.443\n",
            "Homogeneity: 0.577\n",
            "Completeness: 0.401\n",
            "V-measure: 0.473\n",
            "Adjusted Rand Index: -0.009\n",
            "Adjusted Mutual Information: 0.283\n"
          ],
          "name": "stdout"
        }
      ]
    },
    {
      "cell_type": "markdown",
      "metadata": {
        "id": "sVgXum0bwebl",
        "colab_type": "text"
      },
      "source": [
        "##Kmeans"
      ]
    },
    {
      "cell_type": "code",
      "metadata": {
        "id": "Er6oIMxLwebx",
        "colab_type": "code",
        "colab": {
          "base_uri": "https://localhost:8080/",
          "height": 476
        },
        "outputId": "0a1ba338-dcda-47d9-a292-317e5efb37d6"
      },
      "source": [
        "for an in ['word', 'char', 'char_wb']:\n",
        "    cv = CountVectorizer(max_features=800, max_df=0.4, min_df=2, \n",
        "                         analyzer=an)\n",
        "    X = cv.fit_transform(sample['title'])\n",
        "    y = sample['category_name']\n",
        "\n",
        "    cluster = KMeans(n_clusters=47, random_state=1,\n",
        "                    verbose=0, n_init=100)\n",
        "    cluster.fit(X)\n",
        "    print_metrics(cluster)\n",
        "    print('\\n')"
      ],
      "execution_count": null,
      "outputs": [
        {
          "output_type": "stream",
          "text": [
            "CLUSTERS: *** 47 ***\n",
            "Silhouette Coefficient: 0.133\n",
            "Homogeneity: 0.259\n",
            "Completeness: 0.381\n",
            "V-measure: 0.308\n",
            "Adjusted Rand Index: -0.008\n",
            "Adjusted Mutual Information: 0.235\n",
            "\n",
            "\n",
            "CLUSTERS: *** 47 ***\n",
            "Silhouette Coefficient: 0.051\n",
            "Homogeneity: 0.309\n",
            "Completeness: 0.275\n",
            "V-measure: 0.291\n",
            "Adjusted Rand Index: 0.067\n",
            "Adjusted Mutual Information: 0.211\n",
            "\n",
            "\n",
            "CLUSTERS: *** 47 ***\n",
            "Silhouette Coefficient: 0.051\n",
            "Homogeneity: 0.309\n",
            "Completeness: 0.275\n",
            "V-measure: 0.291\n",
            "Adjusted Rand Index: 0.067\n",
            "Adjusted Mutual Information: 0.211\n",
            "\n",
            "\n"
          ],
          "name": "stdout"
        }
      ]
    },
    {
      "cell_type": "code",
      "metadata": {
        "id": "XzNhHEBpweb1",
        "colab_type": "code",
        "colab": {
          "base_uri": "https://localhost:8080/",
          "height": 935
        },
        "outputId": "1291cd04-fa29-48ee-fadb-2d5a4b1fa4d9"
      },
      "source": [
        "for feat in np.arange(100,700,100):\n",
        "    cv = TfidfVectorizer(max_features=feat, max_df=0.7, min_df=2,\n",
        "                         analyzer='char_wb')\n",
        "    X = cv.fit_transform(sample['title'])\n",
        "    y = sample['category_name']\n",
        "\n",
        "    cluster = KMeans(n_clusters=47, random_state=1,\n",
        "                    verbose=0, n_init=100)\n",
        "    cluster.fit(X)\n",
        "    print_metrics(cluster)\n",
        "    print('\\n')"
      ],
      "execution_count": null,
      "outputs": [
        {
          "output_type": "stream",
          "text": [
            "CLUSTERS: *** 47 ***\n",
            "Silhouette Coefficient: 0.084\n",
            "Homogeneity: 0.355\n",
            "Completeness: 0.290\n",
            "V-measure: 0.319\n",
            "Adjusted Rand Index: 0.077\n",
            "Adjusted Mutual Information: 0.236\n",
            "\n",
            "\n",
            "CLUSTERS: *** 47 ***\n",
            "Silhouette Coefficient: 0.084\n",
            "Homogeneity: 0.355\n",
            "Completeness: 0.290\n",
            "V-measure: 0.319\n",
            "Adjusted Rand Index: 0.077\n",
            "Adjusted Mutual Information: 0.236\n",
            "\n",
            "\n",
            "CLUSTERS: *** 47 ***\n",
            "Silhouette Coefficient: 0.084\n",
            "Homogeneity: 0.355\n",
            "Completeness: 0.290\n",
            "V-measure: 0.319\n",
            "Adjusted Rand Index: 0.077\n",
            "Adjusted Mutual Information: 0.236\n",
            "\n",
            "\n",
            "CLUSTERS: *** 47 ***\n",
            "Silhouette Coefficient: 0.084\n",
            "Homogeneity: 0.355\n",
            "Completeness: 0.290\n",
            "V-measure: 0.319\n",
            "Adjusted Rand Index: 0.077\n",
            "Adjusted Mutual Information: 0.236\n",
            "\n",
            "\n",
            "CLUSTERS: *** 47 ***\n",
            "Silhouette Coefficient: 0.084\n",
            "Homogeneity: 0.355\n",
            "Completeness: 0.290\n",
            "V-measure: 0.319\n",
            "Adjusted Rand Index: 0.077\n",
            "Adjusted Mutual Information: 0.236\n",
            "\n",
            "\n",
            "CLUSTERS: *** 47 ***\n",
            "Silhouette Coefficient: 0.084\n",
            "Homogeneity: 0.355\n",
            "Completeness: 0.290\n",
            "V-measure: 0.319\n",
            "Adjusted Rand Index: 0.077\n",
            "Adjusted Mutual Information: 0.236\n",
            "\n",
            "\n"
          ],
          "name": "stdout"
        }
      ]
    },
    {
      "cell_type": "markdown",
      "metadata": {
        "id": "xsCi72jZ6ZJ-",
        "colab_type": "text"
      },
      "source": [
        "##MiniBatchKMeans"
      ]
    },
    {
      "cell_type": "code",
      "metadata": {
        "colab_type": "code",
        "id": "l9bVPpaf6bzG",
        "colab": {
          "base_uri": "https://localhost:8080/",
          "height": 170
        },
        "outputId": "ab230732-889c-478b-da77-5b1161642aff"
      },
      "source": [
        "%%time\n",
        "cv = CountVectorizer(max_features=800, max_df=0.4, min_df=2)\n",
        "X = cv.fit_transform(sample['title'])\n",
        "y = sample['category_name']\n",
        "\n",
        "cluster = MiniBatchKMeans(n_clusters=1000, random_state=1,\n",
        "                          init_size=5000, max_no_improvement=50,\n",
        "                          reassignment_ratio=0.3)\n",
        "\n",
        "cluster.fit(X)\n",
        "print_metrics(cluster)"
      ],
      "execution_count": null,
      "outputs": [
        {
          "output_type": "stream",
          "text": [
            "CLUSTERS: *** 959 ***\n",
            "Silhouette Coefficient: 0.431\n",
            "Homogeneity: 0.718\n",
            "Completeness: 0.379\n",
            "V-measure: 0.496\n",
            "Adjusted Rand Index: 0.002\n",
            "Adjusted Mutual Information: 0.174\n",
            "CPU times: user 3.95 s, sys: 8.99 ms, total: 3.96 s\n",
            "Wall time: 3.97 s\n"
          ],
          "name": "stdout"
        }
      ]
    },
    {
      "cell_type": "code",
      "metadata": {
        "colab_type": "code",
        "id": "ew585q-V6bzK",
        "colab": {
          "base_uri": "https://localhost:8080/",
          "height": 170
        },
        "outputId": "21d7fdd8-9f05-4c18-b7e4-5d981177d00b"
      },
      "source": [
        "%%time\n",
        "cv = TfidfVectorizer(max_features=500, max_df=0.7, min_df=2)\n",
        "X = cv.fit_transform(data.sample(frac=0.1, random_state=1)['title'])\n",
        "y = data.sample(frac=0.1, random_state=1)['category_name']\n",
        "\n",
        "cluster = MiniBatchKMeans(n_clusters=1000, random_state=1,\n",
        "                          init_size=5000, max_no_improvement=50,\n",
        "                          reassignment_ratio=0.3)\n",
        "\n",
        "cluster.fit(X)\n",
        "print_metrics(cluster)"
      ],
      "execution_count": null,
      "outputs": [
        {
          "output_type": "stream",
          "text": [
            "CLUSTERS: *** 911 ***\n",
            "Silhouette Coefficient: 0.639\n",
            "Homogeneity: 0.589\n",
            "Completeness: 0.327\n",
            "V-measure: 0.420\n",
            "Adjusted Rand Index: -0.008\n",
            "Adjusted Mutual Information: 0.342\n",
            "CPU times: user 13.5 s, sys: 59 ms, total: 13.5 s\n",
            "Wall time: 13.5 s\n"
          ],
          "name": "stdout"
        }
      ]
    },
    {
      "cell_type": "markdown",
      "metadata": {
        "id": "OJQXoLF6BIUD",
        "colab_type": "text"
      },
      "source": [
        ""
      ]
    },
    {
      "cell_type": "markdown",
      "metadata": {
        "id": "5aaQFCkxDuHS",
        "colab_type": "text"
      },
      "source": [
        "##Birch"
      ]
    },
    {
      "cell_type": "code",
      "metadata": {
        "id": "XhJNRwTUDty4",
        "colab_type": "code",
        "colab": {
          "base_uri": "https://localhost:8080/",
          "height": 731
        },
        "outputId": "aeac6186-b741-436e-b8ab-3dca7803d76c"
      },
      "source": [
        "cv = CountVectorizer(max_features=800, max_df=0.4, min_df=2)\n",
        "X = cv.fit_transform(sample['title'])\n",
        "y = sample['category_name']\n",
        "\n",
        "for th in np.arange(0.2, 0.5, 0.05):\n",
        "    cluster = Birch(threshold=th, branching_factor=50, n_clusters=47, \n",
        "                    compute_labels=True, copy=True)\n",
        "\n",
        "    cluster.fit(X)\n",
        "    print_metrics(cluster)"
      ],
      "execution_count": null,
      "outputs": [
        {
          "output_type": "stream",
          "text": [
            "CLUSTERS: *** 47 ***\n",
            "Silhouette Coefficient: 0.145\n",
            "Homogeneity: 0.327\n",
            "Completeness: 0.402\n",
            "V-measure: 0.361\n",
            "Adjusted Rand Index: 0.006\n",
            "Adjusted Mutual Information: 0.288\n",
            "CLUSTERS: *** 47 ***\n",
            "Silhouette Coefficient: 0.139\n",
            "Homogeneity: 0.334\n",
            "Completeness: 0.399\n",
            "V-measure: 0.364\n",
            "Adjusted Rand Index: 0.018\n",
            "Adjusted Mutual Information: 0.291\n",
            "CLUSTERS: *** 47 ***\n",
            "Silhouette Coefficient: 0.132\n",
            "Homogeneity: 0.334\n",
            "Completeness: 0.413\n",
            "V-measure: 0.370\n",
            "Adjusted Rand Index: 0.019\n",
            "Adjusted Mutual Information: 0.297\n",
            "CLUSTERS: *** 47 ***\n",
            "Silhouette Coefficient: 0.140\n",
            "Homogeneity: 0.329\n",
            "Completeness: 0.381\n",
            "V-measure: 0.353\n",
            "Adjusted Rand Index: 0.007\n",
            "Adjusted Mutual Information: 0.279\n",
            "CLUSTERS: *** 47 ***\n",
            "Silhouette Coefficient: 0.144\n",
            "Homogeneity: 0.333\n",
            "Completeness: 0.399\n",
            "V-measure: 0.363\n",
            "Adjusted Rand Index: 0.008\n",
            "Adjusted Mutual Information: 0.290\n",
            "CLUSTERS: *** 47 ***\n",
            "Silhouette Coefficient: 0.144\n",
            "Homogeneity: 0.335\n",
            "Completeness: 0.406\n",
            "V-measure: 0.367\n",
            "Adjusted Rand Index: 0.008\n",
            "Adjusted Mutual Information: 0.294\n"
          ],
          "name": "stdout"
        }
      ]
    },
    {
      "cell_type": "code",
      "metadata": {
        "id": "2O1UfGWTwecE",
        "colab_type": "code",
        "colab": {
          "base_uri": "https://localhost:8080/",
          "height": 493
        },
        "outputId": "0713d89a-5d9c-4520-8ec5-84dcfb460a54"
      },
      "source": [
        "cv = TfidfVectorizer(max_features=500, max_df=0.7, min_df=2)\n",
        "X = cv.fit_transform(sample['title'])\n",
        "y = sample['category_name']\n",
        "\n",
        "for fac in np.arange(20, 60, 10):\n",
        "    cluster = Birch(threshold=0.3, branching_factor=fac, n_clusters=47, \n",
        "                    compute_labels=True, copy=True)\n",
        "\n",
        "    cluster.fit(X)\n",
        "    print_metrics(cluster)"
      ],
      "execution_count": null,
      "outputs": [
        {
          "output_type": "stream",
          "text": [
            "CLUSTERS: *** 47 ***\n",
            "Silhouette Coefficient: 0.173\n",
            "Homogeneity: 0.347\n",
            "Completeness: 0.388\n",
            "V-measure: 0.366\n",
            "Adjusted Rand Index: 0.027\n",
            "Adjusted Mutual Information: 0.294\n",
            "CLUSTERS: *** 47 ***\n",
            "Silhouette Coefficient: 0.158\n",
            "Homogeneity: 0.368\n",
            "Completeness: 0.393\n",
            "V-measure: 0.380\n",
            "Adjusted Rand Index: 0.010\n",
            "Adjusted Mutual Information: 0.308\n",
            "CLUSTERS: *** 47 ***\n",
            "Silhouette Coefficient: 0.172\n",
            "Homogeneity: 0.365\n",
            "Completeness: 0.394\n",
            "V-measure: 0.379\n",
            "Adjusted Rand Index: 0.019\n",
            "Adjusted Mutual Information: 0.307\n",
            "CLUSTERS: *** 47 ***\n",
            "Silhouette Coefficient: 0.167\n",
            "Homogeneity: 0.328\n",
            "Completeness: 0.372\n",
            "V-measure: 0.349\n",
            "Adjusted Rand Index: 0.001\n",
            "Adjusted Mutual Information: 0.274\n"
          ],
          "name": "stdout"
        }
      ]
    },
    {
      "cell_type": "code",
      "metadata": {
        "id": "zfvplGzrFUZU",
        "colab_type": "code",
        "colab": {
          "base_uri": "https://localhost:8080/",
          "height": 136
        },
        "outputId": "88ac3393-8f58-4b26-bd72-8fa9df436e7a"
      },
      "source": [
        "cv = CountVectorizer(max_features=800, max_df=0.4, min_df=2)\n",
        "X = cv.fit_transform(sample['title'])\n",
        "y = sample['category_name']\n",
        "\n",
        "cluster = Birch(threshold=0.3, branching_factor=40, n_clusters=47, \n",
        "                compute_labels=True, copy=True)\n",
        "\n",
        "cluster.fit(X)\n",
        "print_metrics(cluster)"
      ],
      "execution_count": null,
      "outputs": [
        {
          "output_type": "stream",
          "text": [
            "CLUSTERS: *** 47 ***\n",
            "Silhouette Coefficient: 0.136\n",
            "Homogeneity: 0.336\n",
            "Completeness: 0.409\n",
            "V-measure: 0.369\n",
            "Adjusted Rand Index: 0.009\n",
            "Adjusted Mutual Information: 0.296\n"
          ],
          "name": "stdout"
        }
      ]
    },
    {
      "cell_type": "code",
      "metadata": {
        "id": "sLVVKWluFfOB",
        "colab_type": "code",
        "colab": {
          "base_uri": "https://localhost:8080/",
          "height": 136
        },
        "outputId": "a3a0e570-b545-4f7a-cc8a-d610ae1fe365"
      },
      "source": [
        "cv = TfidfVectorizer(max_features=500, max_df=0.7, min_df=2)\n",
        "X = cv.fit_transform(sample['title'])\n",
        "y = sample['category_name']\n",
        "\n",
        "cluster = Birch(threshold=0.3, branching_factor=40, n_clusters=47, \n",
        "                compute_labels=True, copy=True)\n",
        "\n",
        "cluster.fit(X)\n",
        "print_metrics(cluster)"
      ],
      "execution_count": null,
      "outputs": [
        {
          "output_type": "stream",
          "text": [
            "CLUSTERS: *** 47 ***\n",
            "Silhouette Coefficient: 0.172\n",
            "Homogeneity: 0.365\n",
            "Completeness: 0.394\n",
            "V-measure: 0.379\n",
            "Adjusted Rand Index: 0.019\n",
            "Adjusted Mutual Information: 0.307\n"
          ],
          "name": "stdout"
        }
      ]
    },
    {
      "cell_type": "code",
      "metadata": {
        "id": "M_-aEQ5iwecH",
        "colab_type": "code",
        "colab": {}
      },
      "source": [
        "sample = data.sample(frac=0.01, random_state=1)"
      ],
      "execution_count": null,
      "outputs": []
    },
    {
      "cell_type": "markdown",
      "metadata": {
        "id": "KFeWXIi0weca",
        "colab_type": "text"
      },
      "source": [
        "# *2.На нескольких алгоритмах кластеризации проверьте, какое матричное разложение (TruncatedSVD или NMF) работает лучше для кластеризации. (3 балла)*"
      ]
    },
    {
      "cell_type": "markdown",
      "metadata": {
        "id": "FKoVxbuHf6JV",
        "colab_type": "text"
      },
      "source": [
        "## DBSCAN"
      ]
    },
    {
      "cell_type": "code",
      "metadata": {
        "id": "KWjEZsUbKIZC",
        "colab_type": "code",
        "colab": {
          "base_uri": "https://localhost:8080/",
          "height": 323
        },
        "outputId": "397773f7-e610-40dc-da71-e07d0684f5b1"
      },
      "source": [
        "for n in ['l1', 'l2']:\n",
        "    # тут ещё немного поподбираем параметры векторизатора\n",
        "    cv = TfidfVectorizer(max_features=500, max_df=0.7, min_df=2, norm=n)\n",
        "\n",
        "    svd = TruncatedSVD(50)\n",
        "    X = cv.fit_transform(sample['title'])\n",
        "    X = svd.fit_transform(X)\n",
        "\n",
        "    y = sample['category_name']\n",
        "\n",
        "    cluster = DBSCAN(min_samples=10, eps=0.6, n_jobs=-1)\n",
        "    cluster.fit(X)\n",
        "    print_metrics(cluster)\n",
        "    print('\\n')"
      ],
      "execution_count": null,
      "outputs": [
        {
          "output_type": "stream",
          "text": [
            "CLUSTERS: *** 2 ***\n",
            "Silhouette Coefficient: 0.516\n",
            "Homogeneity: 0.004\n",
            "Completeness: 0.249\n",
            "V-measure: 0.007\n",
            "Adjusted Rand Index: 0.000\n",
            "Adjusted Mutual Information: 0.003\n",
            "\n",
            "\n",
            "CLUSTERS: *** 2 ***\n",
            "Silhouette Coefficient: 0.372\n",
            "Homogeneity: 0.009\n",
            "Completeness: 0.330\n",
            "V-measure: 0.017\n",
            "Adjusted Rand Index: -0.001\n",
            "Adjusted Mutual Information: 0.012\n",
            "\n",
            "\n"
          ],
          "name": "stdout"
        }
      ]
    },
    {
      "cell_type": "code",
      "metadata": {
        "id": "7OpdZGRfRB3e",
        "colab_type": "code",
        "colab": {}
      },
      "source": [
        ""
      ],
      "execution_count": null,
      "outputs": []
    },
    {
      "cell_type": "code",
      "metadata": {
        "id": "yMCdATmxNF7c",
        "colab_type": "code",
        "colab": {
          "base_uri": "https://localhost:8080/",
          "height": 629
        },
        "outputId": "3fd90a98-f2d8-4095-91f5-e8573ac36ab3"
      },
      "source": [
        "for ep in np.arange(0.25, 0.4, 0.05):\n",
        "    cv = TfidfVectorizer(max_features=500, max_df=0.7, min_df=2, norm='l2')\n",
        "\n",
        "    svd = TruncatedSVD(50)\n",
        "    X = cv.fit_transform(sample['title'])\n",
        "    X = svd.fit_transform(X)\n",
        "\n",
        "    y = sample['category_name']\n",
        "\n",
        "    cluster = DBSCAN(min_samples=10, eps=ep, n_jobs=-1)\n",
        "    cluster.fit(X)\n",
        "    print_metrics(cluster)\n",
        "    print('\\n')"
      ],
      "execution_count": null,
      "outputs": [
        {
          "output_type": "stream",
          "text": [
            "CLUSTERS: *** 40 ***\n",
            "Silhouette Coefficient: 0.479\n",
            "Homogeneity: 0.266\n",
            "Completeness: 0.393\n",
            "V-measure: 0.317\n",
            "Adjusted Rand Index: 0.021\n",
            "Adjusted Mutual Information: 0.251\n",
            "\n",
            "\n",
            "CLUSTERS: *** 34 ***\n",
            "Silhouette Coefficient: 0.455\n",
            "Homogeneity: 0.232\n",
            "Completeness: 0.398\n",
            "V-measure: 0.293\n",
            "Adjusted Rand Index: 0.002\n",
            "Adjusted Mutual Information: 0.233\n",
            "\n",
            "\n",
            "CLUSTERS: *** 38 ***\n",
            "Silhouette Coefficient: 0.421\n",
            "Homogeneity: 0.178\n",
            "Completeness: 0.324\n",
            "V-measure: 0.230\n",
            "Adjusted Rand Index: -0.028\n",
            "Adjusted Mutual Information: 0.155\n",
            "\n",
            "\n",
            "CLUSTERS: *** 28 ***\n",
            "Silhouette Coefficient: 0.429\n",
            "Homogeneity: 0.162\n",
            "Completeness: 0.344\n",
            "V-measure: 0.220\n",
            "Adjusted Rand Index: -0.030\n",
            "Adjusted Mutual Information: 0.159\n",
            "\n",
            "\n"
          ],
          "name": "stdout"
        }
      ]
    },
    {
      "cell_type": "code",
      "metadata": {
        "id": "51se1KyRNd--",
        "colab_type": "code",
        "colab": {
          "base_uri": "https://localhost:8080/",
          "height": 629
        },
        "outputId": "6bbdbbd0-a50c-410c-b597-398feb49ab30"
      },
      "source": [
        "for ms in np.arange(1, 5, 1):\n",
        "    cv = TfidfVectorizer(max_features=500, max_df=0.7, min_df=2, norm='l2')\n",
        "\n",
        "    svd = TruncatedSVD(50)\n",
        "    X = cv.fit_transform(sample['title'])\n",
        "    X = svd.fit_transform(X)\n",
        "\n",
        "    y = sample['category_name']\n",
        "\n",
        "    cluster = DBSCAN(min_samples=ms, eps=0.25, n_jobs=-1)\n",
        "    cluster.fit(X)\n",
        "    print_metrics(cluster)\n",
        "    print('\\n')"
      ],
      "execution_count": null,
      "outputs": [
        {
          "output_type": "stream",
          "text": [
            "CLUSTERS: *** 259 ***\n",
            "Silhouette Coefficient: 0.592\n",
            "Homogeneity: 0.379\n",
            "Completeness: 0.379\n",
            "V-measure: 0.379\n",
            "Adjusted Rand Index: -0.014\n",
            "Adjusted Mutual Information: 0.217\n",
            "\n",
            "\n",
            "CLUSTERS: *** 140 ***\n",
            "Silhouette Coefficient: 0.601\n",
            "Homogeneity: 0.359\n",
            "Completeness: 0.383\n",
            "V-measure: 0.371\n",
            "Adjusted Rand Index: -0.012\n",
            "Adjusted Mutual Information: 0.242\n",
            "\n",
            "\n",
            "CLUSTERS: *** 98 ***\n",
            "Silhouette Coefficient: 0.588\n",
            "Homogeneity: 0.336\n",
            "Completeness: 0.385\n",
            "V-measure: 0.359\n",
            "Adjusted Rand Index: -0.008\n",
            "Adjusted Mutual Information: 0.248\n",
            "\n",
            "\n",
            "CLUSTERS: *** 86 ***\n",
            "Silhouette Coefficient: 0.596\n",
            "Homogeneity: 0.332\n",
            "Completeness: 0.385\n",
            "V-measure: 0.356\n",
            "Adjusted Rand Index: -0.006\n",
            "Adjusted Mutual Information: 0.252\n",
            "\n",
            "\n"
          ],
          "name": "stdout"
        }
      ]
    },
    {
      "cell_type": "code",
      "metadata": {
        "id": "_WBzJjcNQKGq",
        "colab_type": "code",
        "colab": {
          "base_uri": "https://localhost:8080/",
          "height": 136
        },
        "outputId": "31f84e09-5633-4667-9f07-3201eea22a27"
      },
      "source": [
        "cv = TfidfVectorizer(max_features=500, max_df=0.7, min_df=2, norm='l2')\n",
        "\n",
        "svd = TruncatedSVD(50)\n",
        "X = cv.fit_transform(sample['title'])\n",
        "X = svd.fit_transform(X)\n",
        "\n",
        "y = sample['category_name']\n",
        "\n",
        "cluster = DBSCAN(min_samples=1, eps=0.25, n_jobs=-1)\n",
        "cluster.fit(X)\n",
        "print_metrics(cluster)"
      ],
      "execution_count": null,
      "outputs": [
        {
          "output_type": "stream",
          "text": [
            "CLUSTERS: *** 257 ***\n",
            "Silhouette Coefficient: 0.618\n",
            "Homogeneity: 0.389\n",
            "Completeness: 0.386\n",
            "V-measure: 0.387\n",
            "Adjusted Rand Index: -0.015\n",
            "Adjusted Mutual Information: 0.227\n"
          ],
          "name": "stdout"
        }
      ]
    },
    {
      "cell_type": "code",
      "metadata": {
        "id": "kcb8F2mJQhgH",
        "colab_type": "code",
        "colab": {
          "base_uri": "https://localhost:8080/",
          "height": 136
        },
        "outputId": "08152d3a-4a43-4dd3-9657-c5b2a1e37f59"
      },
      "source": [
        "cv = TfidfVectorizer(max_features=500, max_df=0.7, min_df=2, norm='l2')\n",
        "\n",
        "nmf = NMF(50)\n",
        "X = cv.fit_transform(sample['title'])\n",
        "X = nmf.fit_transform(X)\n",
        "\n",
        "y = sample['category_name']\n",
        "\n",
        "cluster = DBSCAN(min_samples=1, eps=0.25, n_jobs=-1)\n",
        "cluster.fit(X)\n",
        "print_metrics(cluster)"
      ],
      "execution_count": null,
      "outputs": [
        {
          "output_type": "stream",
          "text": [
            "CLUSTERS: *** 23 ***\n",
            "Silhouette Coefficient: 0.341\n",
            "Homogeneity: 0.015\n",
            "Completeness: 0.281\n",
            "V-measure: 0.029\n",
            "Adjusted Rand Index: -0.004\n",
            "Adjusted Mutual Information: 0.002\n"
          ],
          "name": "stdout"
        }
      ]
    },
    {
      "cell_type": "code",
      "metadata": {
        "id": "YRe6qt0HMkao",
        "colab_type": "code",
        "colab": {}
      },
      "source": [
        "X = cv.fit_transform(sample['title'])\n",
        "nmf = NMF(50, random_state=01\n",
        "X = nmf.fit_transform(X_cv)"
      ],
      "execution_count": null,
      "outputs": []
    },
    {
      "cell_type": "markdown",
      "metadata": {
        "id": "-TTuYhOGR1Jx",
        "colab_type": "text"
      },
      "source": [
        "Для NMF снова нужно подбирать параметры алгоритма кластеризации. Гридсерч для бедных:"
      ]
    },
    {
      "cell_type": "code",
      "metadata": {
        "id": "boDqk5NzRLeV",
        "colab_type": "code",
        "colab": {
          "base_uri": "https://localhost:8080/",
          "height": 1000
        },
        "outputId": "7b833e87-a14e-4dd9-dd35-2fdae0be8128"
      },
      "source": [
        "for ep in np.arange(0.25, 0.4, 0.05):\n",
        "    for ms in np.arange(1, 5, 1):\n",
        "        cv = TfidfVectorizer(max_features=500, max_df=0.7, min_df=2, norm='l2')\n",
        "\n",
        "        nmf = NMF(50)\n",
        "        X = cv.fit_transform(sample['title'])\n",
        "        X = nmf.fit_transform(X)\n",
        "        y = sample['category_name']\n",
        "\n",
        "        cluster = DBSCAN(min_samples=ms, eps=ep, n_jobs=-1)\n",
        "        cluster.fit(X)\n",
        "        print_metrics(cluster)\n",
        "        print('\\n')"
      ],
      "execution_count": null,
      "outputs": [
        {
          "output_type": "stream",
          "text": [
            "CLUSTERS: *** 24 ***\n",
            "Silhouette Coefficient: 0.322\n",
            "Homogeneity: 0.015\n",
            "Completeness: 0.257\n",
            "V-measure: 0.028\n",
            "Adjusted Rand Index: -0.004\n",
            "Adjusted Mutual Information: -0.000\n",
            "\n",
            "\n",
            "CLUSTERS: *** 18 ***\n",
            "Silhouette Coefficient: 0.368\n",
            "Homogeneity: 0.026\n",
            "Completeness: 0.287\n",
            "V-measure: 0.048\n",
            "Adjusted Rand Index: -0.006\n",
            "Adjusted Mutual Information: 0.014\n",
            "\n",
            "\n",
            "CLUSTERS: *** 11 ***\n",
            "Silhouette Coefficient: 0.413\n",
            "Homogeneity: 0.020\n",
            "Completeness: 0.278\n",
            "V-measure: 0.037\n",
            "Adjusted Rand Index: -0.005\n",
            "Adjusted Mutual Information: 0.012\n",
            "\n",
            "\n",
            "CLUSTERS: *** 8 ***\n",
            "Silhouette Coefficient: 0.405\n",
            "Homogeneity: 0.015\n",
            "Completeness: 0.241\n",
            "V-measure: 0.028\n",
            "Adjusted Rand Index: -0.005\n",
            "Adjusted Mutual Information: 0.009\n",
            "\n",
            "\n",
            "CLUSTERS: *** 5 ***\n",
            "Silhouette Coefficient: 0.451\n",
            "Homogeneity: 0.005\n",
            "Completeness: 0.306\n",
            "V-measure: 0.009\n",
            "Adjusted Rand Index: -0.002\n",
            "Adjusted Mutual Information: 0.003\n",
            "\n",
            "\n",
            "CLUSTERS: *** 5 ***\n",
            "Silhouette Coefficient: 0.459\n",
            "Homogeneity: 0.008\n",
            "Completeness: 0.326\n",
            "V-measure: 0.016\n",
            "Adjusted Rand Index: -0.001\n",
            "Adjusted Mutual Information: 0.007\n",
            "\n",
            "\n",
            "CLUSTERS: *** 4 ***\n",
            "Silhouette Coefficient: 0.448\n",
            "Homogeneity: 0.006\n",
            "Completeness: 0.251\n",
            "V-measure: 0.011\n",
            "Adjusted Rand Index: -0.004\n",
            "Adjusted Mutual Information: 0.003\n",
            "\n",
            "\n",
            "CLUSTERS: *** 5 ***\n",
            "Silhouette Coefficient: 0.453\n",
            "Homogeneity: 0.007\n",
            "Completeness: 0.233\n",
            "V-measure: 0.014\n",
            "Adjusted Rand Index: -0.004\n",
            "Adjusted Mutual Information: 0.003\n",
            "\n",
            "\n",
            "CLUSTERS: *** 1 ***\n",
            "Number of labels is 1. Valid values are 2 to n_samples - 1 (inclusive)\n",
            "\n",
            "\n",
            "CLUSTERS: *** 2 ***\n",
            "Silhouette Coefficient: 0.488\n",
            "Homogeneity: 0.004\n",
            "Completeness: 0.407\n",
            "V-measure: 0.007\n",
            "Adjusted Rand Index: 0.001\n",
            "Adjusted Mutual Information: 0.004\n",
            "\n",
            "\n",
            "CLUSTERS: *** 1 ***\n",
            "Number of labels is 1. Valid values are 2 to n_samples - 1 (inclusive)\n",
            "\n",
            "\n",
            "CLUSTERS: *** 1 ***\n",
            "Number of labels is 1. Valid values are 2 to n_samples - 1 (inclusive)\n",
            "\n",
            "\n",
            "CLUSTERS: *** 1 ***\n",
            "Number of labels is 1. Valid values are 2 to n_samples - 1 (inclusive)\n",
            "\n",
            "\n",
            "CLUSTERS: *** 1 ***\n",
            "Number of labels is 1. Valid values are 2 to n_samples - 1 (inclusive)\n",
            "\n",
            "\n",
            "CLUSTERS: *** 1 ***\n",
            "Number of labels is 1. Valid values are 2 to n_samples - 1 (inclusive)\n",
            "\n",
            "\n",
            "CLUSTERS: *** 1 ***\n",
            "Number of labels is 1. Valid values are 2 to n_samples - 1 (inclusive)\n",
            "\n",
            "\n"
          ],
          "name": "stdout"
        }
      ]
    },
    {
      "cell_type": "code",
      "metadata": {
        "id": "8KlGYgDNRtNv",
        "colab_type": "code",
        "colab": {
          "base_uri": "https://localhost:8080/",
          "height": 323
        },
        "outputId": "a23334af-676f-4157-e2f4-ca6f25e7e1bf"
      },
      "source": [
        "for s in ['cd', 'mu']:\n",
        "        cv = TfidfVectorizer(max_features=500, max_df=0.7, min_df=2, norm='l2')\n",
        "\n",
        "        nmf = NMF(50, random_state=1, shuffle=True,\n",
        "                  solver=s)\n",
        "        X = cv.fit_transform(sample['title'])\n",
        "        X = nmf.fit_transform(X)\n",
        "        y = sample['category_name']\n",
        "\n",
        "        cluster = DBSCAN(min_samples=2, eps=0.01, n_jobs=-1)\n",
        "        cluster.fit(X)\n",
        "        print_metrics(cluster)\n",
        "        print('\\n')"
      ],
      "execution_count": null,
      "outputs": [
        {
          "output_type": "stream",
          "text": [
            "CLUSTERS: *** 243 ***\n",
            "Silhouette Coefficient: 0.381\n",
            "Homogeneity: 0.362\n",
            "Completeness: 0.345\n",
            "V-measure: 0.353\n",
            "Adjusted Rand Index: 0.012\n",
            "Adjusted Mutual Information: 0.176\n",
            "\n",
            "\n",
            "CLUSTERS: *** 250 ***\n",
            "Silhouette Coefficient: 0.421\n",
            "Homogeneity: 0.380\n",
            "Completeness: 0.350\n",
            "V-measure: 0.364\n",
            "Adjusted Rand Index: 0.012\n",
            "Adjusted Mutual Information: 0.186\n",
            "\n",
            "\n"
          ],
          "name": "stdout"
        }
      ]
    },
    {
      "cell_type": "code",
      "metadata": {
        "colab_type": "code",
        "id": "87TLXk5tS7_a",
        "colab": {
          "base_uri": "https://localhost:8080/",
          "height": 170
        },
        "outputId": "7e068b05-999f-442d-be81-53acfd3264d0"
      },
      "source": [
        "cv = TfidfVectorizer(max_features=500, max_df=0.7, min_df=2, norm='l2')\n",
        "\n",
        "nmf = NMF(50, random_state=1, shuffle=True,\n",
        "            solver='mu', alpha=0.5)\n",
        "X = cv.fit_transform(sample['title'])\n",
        "X = nmf.fit_transform(X)\n",
        "y = sample['category_name']\n",
        "\n",
        "cluster = DBSCAN(min_samples=2, eps=0.01, n_jobs=-1)\n",
        "cluster.fit(X)\n",
        "print_metrics(cluster)\n",
        "print('\\n')"
      ],
      "execution_count": null,
      "outputs": [
        {
          "output_type": "stream",
          "text": [
            "CLUSTERS: *** 248 ***\n",
            "Silhouette Coefficient: 0.417\n",
            "Homogeneity: 0.376\n",
            "Completeness: 0.349\n",
            "V-measure: 0.362\n",
            "Adjusted Rand Index: 0.012\n",
            "Adjusted Mutual Information: 0.184\n",
            "\n",
            "\n"
          ],
          "name": "stdout"
        }
      ]
    },
    {
      "cell_type": "markdown",
      "metadata": {
        "id": "B5oTH801WeBQ",
        "colab_type": "text"
      },
      "source": [
        ""
      ]
    },
    {
      "cell_type": "code",
      "metadata": {
        "id": "JsZ_wIxtWext",
        "colab_type": "code",
        "colab": {
          "base_uri": "https://localhost:8080/",
          "height": 136
        },
        "outputId": "96b80886-f6ad-47bf-c6e1-d21c6e60a1e4"
      },
      "source": [
        "cv = TfidfVectorizer(max_features=500, max_df=0.7, min_df=2, norm='l2')\n",
        "\n",
        "svd = TruncatedSVD(50)\n",
        "X = cv.fit_transform(sample['title'])\n",
        "X = svd.fit_transform(X)\n",
        "\n",
        "y = sample['category_name']\n",
        "\n",
        "cluster = SpectralClustering(n_clusters=47)\n",
        "cluster.fit(X)\n",
        "print_metrics(cluster)"
      ],
      "execution_count": null,
      "outputs": [
        {
          "output_type": "stream",
          "text": [
            "CLUSTERS: *** 47 ***\n",
            "Silhouette Coefficient: 0.568\n",
            "Homogeneity: 0.291\n",
            "Completeness: 0.412\n",
            "V-measure: 0.341\n",
            "Adjusted Rand Index: -0.007\n",
            "Adjusted Mutual Information: 0.262\n"
          ],
          "name": "stdout"
        }
      ]
    },
    {
      "cell_type": "code",
      "metadata": {
        "id": "ckeFoA-7W2mz",
        "colab_type": "code",
        "colab": {
          "base_uri": "https://localhost:8080/",
          "height": 136
        },
        "outputId": "a1b6d527-1f1b-4d81-d900-197ca43996c5"
      },
      "source": [
        "cv = TfidfVectorizer(max_features=500, max_df=0.7, min_df=2, norm='l2')\n",
        "\n",
        "nmf = NMF(50, random_state=1, shuffle=True,\n",
        "            solver='mu', alpha=0.5)\n",
        "X = cv.fit_transform(sample['title'])\n",
        "X = nmf.fit_transform(X)\n",
        "y = sample['category_name']\n",
        "cluster = SpectralClustering(n_clusters=47)\n",
        "cluster.fit(X)\n",
        "print_metrics(cluster)"
      ],
      "execution_count": null,
      "outputs": [
        {
          "output_type": "stream",
          "text": [
            "CLUSTERS: *** 47 ***\n",
            "Silhouette Coefficient: 0.654\n",
            "Homogeneity: 0.337\n",
            "Completeness: 0.401\n",
            "V-measure: 0.366\n",
            "Adjusted Rand Index: -0.000\n",
            "Adjusted Mutual Information: 0.291\n"
          ],
          "name": "stdout"
        }
      ]
    },
    {
      "cell_type": "code",
      "metadata": {
        "id": "iY7rqs_LX6aU",
        "colab_type": "code",
        "colab": {}
      },
      "source": [
        ""
      ],
      "execution_count": null,
      "outputs": []
    },
    {
      "cell_type": "markdown",
      "metadata": {
        "id": "WcLzdz0JX-O0",
        "colab_type": "text"
      },
      "source": [
        "## MeanShift\n"
      ]
    },
    {
      "cell_type": "code",
      "metadata": {
        "id": "b-CZoNfJBYL1",
        "colab_type": "code",
        "colab": {
          "base_uri": "https://localhost:8080/",
          "height": 136
        },
        "outputId": "3ff27ad7-cba7-4e7b-e7ed-04724883e1e8"
      },
      "source": [
        "cv = TfidfVectorizer(max_features=500, max_df=0.7, min_df=2, norm='l2')\n",
        "\n",
        "svd = TruncatedSVD(50)\n",
        "X = cv.fit_transform(sample['title'])\n",
        "X = svd.fit_transform(X)\n",
        "\n",
        "y = sample['category_name']\n",
        "\n",
        "cluster = MeanShift(cluster_all=False, bandwidth=0.8, n_jobs=-1)\n",
        "cluster.fit(X)\n",
        "print_metrics(cluster)"
      ],
      "execution_count": null,
      "outputs": [
        {
          "output_type": "stream",
          "text": [
            "CLUSTERS: *** 4 ***\n",
            "Silhouette Coefficient: 0.370\n",
            "Homogeneity: 0.026\n",
            "Completeness: 0.135\n",
            "V-measure: 0.044\n",
            "Adjusted Rand Index: -0.015\n",
            "Adjusted Mutual Information: 0.032\n"
          ],
          "name": "stdout"
        }
      ]
    },
    {
      "cell_type": "code",
      "metadata": {
        "id": "mrUYcUFEX4LG",
        "colab_type": "code",
        "colab": {
          "base_uri": "https://localhost:8080/",
          "height": 612
        },
        "outputId": "4d4ed8e8-0eb0-43b7-b400-0c1b7461dd36"
      },
      "source": [
        "for bd in np.arange(0.1,0.6,0.1):\n",
        "    cv = TfidfVectorizer(max_features=500, max_df=0.7, min_df=2, norm='l2')\n",
        "\n",
        "    nmf = NMF(50, random_state=1, shuffle=True,\n",
        "                solver='mu', alpha=0.5)\n",
        "    X = cv.fit_transform(sample['title'])\n",
        "    X = nmf.fit_transform(X)\n",
        "\n",
        "    y = sample['category_name']\n",
        "\n",
        "    cluster = MeanShift(cluster_all=False, bandwidth=bd, n_jobs=-1)\n",
        "    cluster.fit(X)\n",
        "    print_metrics(cluster)"
      ],
      "execution_count": null,
      "outputs": [
        {
          "output_type": "stream",
          "text": [
            "CLUSTERS: *** 256 ***\n",
            "Silhouette Coefficient: 0.742\n",
            "Homogeneity: 0.403\n",
            "Completeness: 0.373\n",
            "V-measure: 0.387\n",
            "Adjusted Rand Index: -0.008\n",
            "Adjusted Mutual Information: 0.225\n",
            "CLUSTERS: *** 117 ***\n",
            "Silhouette Coefficient: 0.643\n",
            "Homogeneity: 0.346\n",
            "Completeness: 0.390\n",
            "V-measure: 0.366\n",
            "Adjusted Rand Index: -0.005\n",
            "Adjusted Mutual Information: 0.262\n",
            "CLUSTERS: *** 41 ***\n",
            "Silhouette Coefficient: 0.514\n",
            "Homogeneity: 0.147\n",
            "Completeness: 0.282\n",
            "V-measure: 0.193\n",
            "Adjusted Rand Index: -0.032\n",
            "Adjusted Mutual Information: 0.120\n",
            "CLUSTERS: *** 9 ***\n",
            "Silhouette Coefficient: 0.444\n",
            "Homogeneity: 0.041\n",
            "Completeness: 0.202\n",
            "V-measure: 0.068\n",
            "Adjusted Rand Index: -0.020\n",
            "Adjusted Mutual Information: 0.044\n",
            "CLUSTERS: *** 2 ***\n",
            "Silhouette Coefficient: 0.471\n",
            "Homogeneity: 0.005\n",
            "Completeness: 0.139\n",
            "V-measure: 0.010\n",
            "Adjusted Rand Index: -0.003\n",
            "Adjusted Mutual Information: 0.005\n"
          ],
          "name": "stdout"
        }
      ]
    },
    {
      "cell_type": "markdown",
      "metadata": {
        "id": "4MRC9SYjWREP",
        "colab_type": "text"
      },
      "source": [
        "Не с каждым алгоритмом SVD работает лучше."
      ]
    },
    {
      "cell_type": "markdown",
      "metadata": {
        "id": "endCqBjSweca",
        "colab_type": "text"
      },
      "source": [
        "# *3.С помощью алгоритмов, умеющих выделять выбросы, попробуйте найти необычные объявления (необычные - это такие, которые непонятно к какой категории можно вообще отнести, что-то с ошибками или вообще какая-то дичь). В этом задании можно использовать любую векторизацию. (4 балла)*"
      ]
    },
    {
      "cell_type": "code",
      "metadata": {
        "id": "UHNCjT2oweca",
        "colab_type": "code",
        "colab": {
          "base_uri": "https://localhost:8080/",
          "height": 136
        },
        "outputId": "2caef1f7-a1ab-4b01-a233-b9024c1add8f"
      },
      "source": [
        "\n",
        "cv = TfidfVectorizer(max_features=500, max_df=0.7, min_df=2, norm='l2')\n",
        "\n",
        "nmf = NMF(50, random_state=1, shuffle=True,\n",
        "            solver='mu', alpha=0.5)\n",
        "X = cv.fit_transform(sample['title'])\n",
        "X = nmf.fit_transform(X)\n",
        "\n",
        "y = sample['category_name']\n",
        "\n",
        "cluster = MeanShift(cluster_all=False, bandwidth=0.1, n_jobs=-1)\n",
        "cluster.fit(X)\n",
        "print_metrics(cluster)"
      ],
      "execution_count": null,
      "outputs": [
        {
          "output_type": "stream",
          "text": [
            "CLUSTERS: *** 256 ***\n",
            "Silhouette Coefficient: 0.742\n",
            "Homogeneity: 0.403\n",
            "Completeness: 0.373\n",
            "V-measure: 0.387\n",
            "Adjusted Rand Index: -0.008\n",
            "Adjusted Mutual Information: 0.225\n"
          ],
          "name": "stdout"
        }
      ]
    },
    {
      "cell_type": "code",
      "metadata": {
        "id": "4AeTusiXbsSX",
        "colab_type": "code",
        "colab": {}
      },
      "source": [
        "sample['cluster'] = cluster.labels_"
      ],
      "execution_count": null,
      "outputs": []
    },
    {
      "cell_type": "code",
      "metadata": {
        "id": "V_A5QRMxbko0",
        "colab_type": "code",
        "colab": {
          "base_uri": "https://localhost:8080/",
          "height": 34
        },
        "outputId": "853145a0-9042-4d32-8996-a22a99234e9d"
      },
      "source": [
        "len(sample[sample.cluster==-1]"
      ],
      "execution_count": null,
      "outputs": [
        {
          "output_type": "execute_result",
          "data": {
            "text/plain": [
              "65"
            ]
          },
          "metadata": {
            "tags": []
          },
          "execution_count": 87
        }
      ]
    },
    {
      "cell_type": "code",
      "metadata": {
        "id": "0oTy8evvadQ3",
        "colab_type": "code",
        "colab": {
          "base_uri": "https://localhost:8080/",
          "height": 136
        },
        "outputId": "3bd2a7de-4213-40b1-9b62-c51be3ca3ff1"
      },
      "source": [
        "cv = TfidfVectorizer(max_features=500, max_df=0.7, min_df=2, norm='l2')\n",
        "\n",
        "svd = TruncatedSVD(50)\n",
        "X = cv.fit_transform(sample['title'])\n",
        "X = svd.fit_transform(X)\n",
        "\n",
        "y = sample['category_name']\n",
        "\n",
        "cluster = MeanShift(cluster_all=False, bandwidth=0.1, n_jobs=-1)\n",
        "cluster.fit(X)\n",
        "print_metrics(cluster)"
      ],
      "execution_count": null,
      "outputs": [
        {
          "output_type": "stream",
          "text": [
            "CLUSTERS: *** 503 ***\n",
            "Silhouette Coefficient: 0.610\n",
            "Homogeneity: 0.493\n",
            "Completeness: 0.367\n",
            "V-measure: 0.421\n",
            "Adjusted Rand Index: -0.013\n",
            "Adjusted Mutual Information: 0.190\n"
          ],
          "name": "stdout"
        }
      ]
    },
    {
      "cell_type": "code",
      "metadata": {
        "id": "dFj7zs8Aamni",
        "colab_type": "code",
        "colab": {
          "base_uri": "https://localhost:8080/",
          "height": 1000
        },
        "outputId": "78939300-87d0-4653-ae5b-f0b2b640e003"
      },
      "source": [
        "sample['cluster'] = cluster.labels_\n",
        "sample[sample.cluster==-1]"
      ],
      "execution_count": null,
      "outputs": [
        {
          "output_type": "execute_result",
          "data": {
            "text/html": [
              "<div>\n",
              "<style scoped>\n",
              "    .dataframe tbody tr th:only-of-type {\n",
              "        vertical-align: middle;\n",
              "    }\n",
              "\n",
              "    .dataframe tbody tr th {\n",
              "        vertical-align: top;\n",
              "    }\n",
              "\n",
              "    .dataframe thead th {\n",
              "        text-align: right;\n",
              "    }\n",
              "</style>\n",
              "<table border=\"1\" class=\"dataframe\">\n",
              "  <thead>\n",
              "    <tr style=\"text-align: right;\">\n",
              "      <th></th>\n",
              "      <th>item_id</th>\n",
              "      <th>category_name</th>\n",
              "      <th>title</th>\n",
              "      <th>cluster</th>\n",
              "    </tr>\n",
              "  </thead>\n",
              "  <tbody>\n",
              "    <tr>\n",
              "      <th>101395</th>\n",
              "      <td>1ac31610b2ad</td>\n",
              "      <td>Мебель и интерьер</td>\n",
              "      <td>Кушетка от мебельной мастерской Арт Мебель</td>\n",
              "      <td>-1</td>\n",
              "    </tr>\n",
              "    <tr>\n",
              "      <th>157057</th>\n",
              "      <td>09fb729ea8ad</td>\n",
              "      <td>Товары для компьютера</td>\n",
              "      <td>DDR2 512MB для пк в ассортименте</td>\n",
              "      <td>-1</td>\n",
              "    </tr>\n",
              "    <tr>\n",
              "      <th>212157</th>\n",
              "      <td>a657aa41a81c</td>\n",
              "      <td>Планшеты и электронные книги</td>\n",
              "      <td>Планшет Irbis TZ-42 на запчасти</td>\n",
              "      <td>-1</td>\n",
              "    </tr>\n",
              "    <tr>\n",
              "      <th>2419</th>\n",
              "      <td>160643c4cf2a</td>\n",
              "      <td>Игры, приставки и программы</td>\n",
              "      <td>X-BOX 360, LT 3.0, 120 GB</td>\n",
              "      <td>-1</td>\n",
              "    </tr>\n",
              "    <tr>\n",
              "      <th>139619</th>\n",
              "      <td>1f2334ba150c</td>\n",
              "      <td>Автомобили</td>\n",
              "      <td>Audi Q7, 2012</td>\n",
              "      <td>-1</td>\n",
              "    </tr>\n",
              "    <tr>\n",
              "      <th>153512</th>\n",
              "      <td>f218d8b0b562</td>\n",
              "      <td>Мотоциклы и мототехника</td>\n",
              "      <td>Honda dio 35 150cc</td>\n",
              "      <td>-1</td>\n",
              "    </tr>\n",
              "    <tr>\n",
              "      <th>145982</th>\n",
              "      <td>98415361d1cb</td>\n",
              "      <td>Мебель и интерьер</td>\n",
              "      <td>Коврик для ванной 1,25х0,92 м</td>\n",
              "      <td>-1</td>\n",
              "    </tr>\n",
              "    <tr>\n",
              "      <th>163646</th>\n",
              "      <td>d8c269379cc7</td>\n",
              "      <td>Товары для животных</td>\n",
              "      <td>Отдам отсадник для рыб</td>\n",
              "      <td>-1</td>\n",
              "    </tr>\n",
              "    <tr>\n",
              "      <th>157239</th>\n",
              "      <td>05f99f10d24c</td>\n",
              "      <td>Одежда, обувь, аксессуары</td>\n",
              "      <td>Демисезонная слингокуртка</td>\n",
              "      <td>-1</td>\n",
              "    </tr>\n",
              "    <tr>\n",
              "      <th>217042</th>\n",
              "      <td>96dc2c284567</td>\n",
              "      <td>Одежда, обувь, аксессуары</td>\n",
              "      <td>Плащ куртка женская</td>\n",
              "      <td>-1</td>\n",
              "    </tr>\n",
              "    <tr>\n",
              "      <th>166137</th>\n",
              "      <td>f566a043edf4</td>\n",
              "      <td>Одежда, обувь, аксессуары</td>\n",
              "      <td>Футболки для беременных</td>\n",
              "      <td>-1</td>\n",
              "    </tr>\n",
              "    <tr>\n",
              "      <th>144190</th>\n",
              "      <td>c34c07d15995</td>\n",
              "      <td>Автомобили</td>\n",
              "      <td>Volkswagen Polo, 2012</td>\n",
              "      <td>-1</td>\n",
              "    </tr>\n",
              "    <tr>\n",
              "      <th>223283</th>\n",
              "      <td>34f7bc7e59df</td>\n",
              "      <td>Автомобили</td>\n",
              "      <td>Mazda CX-5, 2012</td>\n",
              "      <td>-1</td>\n",
              "    </tr>\n",
              "    <tr>\n",
              "      <th>175968</th>\n",
              "      <td>33cc24bcd94e</td>\n",
              "      <td>Телефоны</td>\n",
              "      <td>Айфон 4s 8 gb</td>\n",
              "      <td>-1</td>\n",
              "    </tr>\n",
              "    <tr>\n",
              "      <th>103863</th>\n",
              "      <td>e7d796d8f0dc</td>\n",
              "      <td>Настольные компьютеры</td>\n",
              "      <td>Компьютер HP7700 Intel Core2 и монитор Samsung 19</td>\n",
              "      <td>-1</td>\n",
              "    </tr>\n",
              "    <tr>\n",
              "      <th>51959</th>\n",
              "      <td>d39b7cbb284c</td>\n",
              "      <td>Мебель и интерьер</td>\n",
              "      <td>Кресло для дома и кафе Модель К4001</td>\n",
              "      <td>-1</td>\n",
              "    </tr>\n",
              "    <tr>\n",
              "      <th>47464</th>\n",
              "      <td>2ec4c102fc25</td>\n",
              "      <td>Одежда, обувь, аксессуары</td>\n",
              "      <td>Купальник</td>\n",
              "      <td>-1</td>\n",
              "    </tr>\n",
              "    <tr>\n",
              "      <th>90058</th>\n",
              "      <td>9d1799516d4d</td>\n",
              "      <td>Автомобили</td>\n",
              "      <td>ГАЗ ГАЗель 3302, 2003</td>\n",
              "      <td>-1</td>\n",
              "    </tr>\n",
              "    <tr>\n",
              "      <th>220004</th>\n",
              "      <td>c686cee9e791</td>\n",
              "      <td>Автомобили</td>\n",
              "      <td>Hyundai Elantra, 2007</td>\n",
              "      <td>-1</td>\n",
              "    </tr>\n",
              "    <tr>\n",
              "      <th>85382</th>\n",
              "      <td>cc2baefadc49</td>\n",
              "      <td>Одежда, обувь, аксессуары</td>\n",
              "      <td>Ботильоны Stoalos р 35 бу</td>\n",
              "      <td>-1</td>\n",
              "    </tr>\n",
              "    <tr>\n",
              "      <th>152902</th>\n",
              "      <td>5ac488b59d84</td>\n",
              "      <td>Автомобили</td>\n",
              "      <td>Volkswagen Passat, 1995</td>\n",
              "      <td>-1</td>\n",
              "    </tr>\n",
              "    <tr>\n",
              "      <th>100968</th>\n",
              "      <td>21863d9ebc91</td>\n",
              "      <td>Автомобили</td>\n",
              "      <td>Nissan Almera Classic, 2007</td>\n",
              "      <td>-1</td>\n",
              "    </tr>\n",
              "    <tr>\n",
              "      <th>61919</th>\n",
              "      <td>16aeff855bde</td>\n",
              "      <td>Детская одежда и обувь</td>\n",
              "      <td>Купальник гимнастический</td>\n",
              "      <td>-1</td>\n",
              "    </tr>\n",
              "    <tr>\n",
              "      <th>46687</th>\n",
              "      <td>74fcbeae2b70</td>\n",
              "      <td>Бытовая техника</td>\n",
              "      <td>Стиральная машина</td>\n",
              "      <td>-1</td>\n",
              "    </tr>\n",
              "    <tr>\n",
              "      <th>166067</th>\n",
              "      <td>463a680d70fc</td>\n",
              "      <td>Автомобили</td>\n",
              "      <td>Daewoo Matiz, 2008</td>\n",
              "      <td>-1</td>\n",
              "    </tr>\n",
              "    <tr>\n",
              "      <th>189607</th>\n",
              "      <td>48c2e82fb335</td>\n",
              "      <td>Телефоны</td>\n",
              "      <td>Защитное стекло для xiaomi redmi note 3 pro</td>\n",
              "      <td>-1</td>\n",
              "    </tr>\n",
              "    <tr>\n",
              "      <th>104105</th>\n",
              "      <td>5c021ef69543</td>\n",
              "      <td>Товары для детей и игрушки</td>\n",
              "      <td>Набор животных, деревянных</td>\n",
              "      <td>-1</td>\n",
              "    </tr>\n",
              "    <tr>\n",
              "      <th>187402</th>\n",
              "      <td>d583af7ac63f</td>\n",
              "      <td>Товары для компьютера</td>\n",
              "      <td>24\" IPS монитор Dell U2415</td>\n",
              "      <td>-1</td>\n",
              "    </tr>\n",
              "    <tr>\n",
              "      <th>173926</th>\n",
              "      <td>db189c5e351f</td>\n",
              "      <td>Телефоны</td>\n",
              "      <td>5S \"Space Gray\" 16Гб</td>\n",
              "      <td>-1</td>\n",
              "    </tr>\n",
              "    <tr>\n",
              "      <th>186789</th>\n",
              "      <td>c444bc775d6d</td>\n",
              "      <td>Квартиры</td>\n",
              "      <td>3-к квартира, 93.2 м², 2/25 эт.</td>\n",
              "      <td>-1</td>\n",
              "    </tr>\n",
              "    <tr>\n",
              "      <th>71945</th>\n",
              "      <td>caca69326567</td>\n",
              "      <td>Детская одежда и обувь</td>\n",
              "      <td>Шапочка</td>\n",
              "      <td>-1</td>\n",
              "    </tr>\n",
              "    <tr>\n",
              "      <th>236811</th>\n",
              "      <td>e07e73e069ef</td>\n",
              "      <td>Красота и здоровье</td>\n",
              "      <td>Набор кистей для nail-art'а</td>\n",
              "      <td>-1</td>\n",
              "    </tr>\n",
              "    <tr>\n",
              "      <th>251777</th>\n",
              "      <td>2164c0da4067</td>\n",
              "      <td>Квартиры</td>\n",
              "      <td>1-к квартира, 51 м², 4/16 эт.</td>\n",
              "      <td>-1</td>\n",
              "    </tr>\n",
              "    <tr>\n",
              "      <th>16316</th>\n",
              "      <td>9fa08a82ef6c</td>\n",
              "      <td>Телефоны</td>\n",
              "      <td>Айфон 5</td>\n",
              "      <td>-1</td>\n",
              "    </tr>\n",
              "    <tr>\n",
              "      <th>127555</th>\n",
              "      <td>a2d0b774e92c</td>\n",
              "      <td>Фототехника</td>\n",
              "      <td>Объектив Юпитер-12 2.8/35</td>\n",
              "      <td>-1</td>\n",
              "    </tr>\n",
              "    <tr>\n",
              "      <th>344</th>\n",
              "      <td>26df8e671c22</td>\n",
              "      <td>Автомобили</td>\n",
              "      <td>Skoda Octavia, 2008</td>\n",
              "      <td>-1</td>\n",
              "    </tr>\n",
              "    <tr>\n",
              "      <th>30273</th>\n",
              "      <td>056049e14e32</td>\n",
              "      <td>Телефоны</td>\n",
              "      <td>Защитное стекло на ZTE Blade Z7 (5\") (9H, 0.3 мм)</td>\n",
              "      <td>-1</td>\n",
              "    </tr>\n",
              "    <tr>\n",
              "      <th>7119</th>\n",
              "      <td>5e6e6f3983f3</td>\n",
              "      <td>Автомобили</td>\n",
              "      <td>Nissan Primera, 2008</td>\n",
              "      <td>-1</td>\n",
              "    </tr>\n",
              "    <tr>\n",
              "      <th>48554</th>\n",
              "      <td>fce7b97a4410</td>\n",
              "      <td>Телефоны</td>\n",
              "      <td>Айфон 5s 16 Gb Gold</td>\n",
              "      <td>-1</td>\n",
              "    </tr>\n",
              "    <tr>\n",
              "      <th>134448</th>\n",
              "      <td>cfa2a397fab4</td>\n",
              "      <td>Автомобили</td>\n",
              "      <td>Hyundai Sonata, 2007</td>\n",
              "      <td>-1</td>\n",
              "    </tr>\n",
              "    <tr>\n",
              "      <th>56247</th>\n",
              "      <td>99904a170d51</td>\n",
              "      <td>Автомобили</td>\n",
              "      <td>ГАЗ ГАЗель, 2004</td>\n",
              "      <td>-1</td>\n",
              "    </tr>\n",
              "    <tr>\n",
              "      <th>174969</th>\n",
              "      <td>19a4c7b451c4</td>\n",
              "      <td>Одежда, обувь, аксессуары</td>\n",
              "      <td>Леггинсы черные HM для беременных</td>\n",
              "      <td>-1</td>\n",
              "    </tr>\n",
              "    <tr>\n",
              "      <th>59487</th>\n",
              "      <td>86df4039c108</td>\n",
              "      <td>Планшеты и электронные книги</td>\n",
              "      <td>Чехол на iPad air</td>\n",
              "      <td>-1</td>\n",
              "    </tr>\n",
              "    <tr>\n",
              "      <th>111849</th>\n",
              "      <td>e587ef16f8b6</td>\n",
              "      <td>Бытовая техника</td>\n",
              "      <td>Стиральная манинка atlant 50У102</td>\n",
              "      <td>-1</td>\n",
              "    </tr>\n",
              "    <tr>\n",
              "      <th>126680</th>\n",
              "      <td>799ede5cec1e</td>\n",
              "      <td>Телефоны</td>\n",
              "      <td>iPhone 5s</td>\n",
              "      <td>-1</td>\n",
              "    </tr>\n",
              "    <tr>\n",
              "      <th>115681</th>\n",
              "      <td>527a5145d980</td>\n",
              "      <td>Автомобили</td>\n",
              "      <td>ГАЗ ГАЗель 33023, 2015</td>\n",
              "      <td>-1</td>\n",
              "    </tr>\n",
              "    <tr>\n",
              "      <th>171662</th>\n",
              "      <td>3610c4a67d65</td>\n",
              "      <td>Телефоны</td>\n",
              "      <td>Айфон 6</td>\n",
              "      <td>-1</td>\n",
              "    </tr>\n",
              "    <tr>\n",
              "      <th>80417</th>\n",
              "      <td>473fb4ea3177</td>\n",
              "      <td>Автомобили</td>\n",
              "      <td>Ford Mondeo, 1995</td>\n",
              "      <td>-1</td>\n",
              "    </tr>\n",
              "    <tr>\n",
              "      <th>209060</th>\n",
              "      <td>b462efcf67ce</td>\n",
              "      <td>Коммерческая недвижимость</td>\n",
              "      <td>Офисные помещения от собственника в аренду</td>\n",
              "      <td>-1</td>\n",
              "    </tr>\n",
              "    <tr>\n",
              "      <th>150761</th>\n",
              "      <td>a44c5d917458</td>\n",
              "      <td>Одежда, обувь, аксессуары</td>\n",
              "      <td>Свадебное украшение для волос в прическу</td>\n",
              "      <td>-1</td>\n",
              "    </tr>\n",
              "    <tr>\n",
              "      <th>153151</th>\n",
              "      <td>b9f8e63fd881</td>\n",
              "      <td>Квартиры</td>\n",
              "      <td>1-к квартира, 40.1 м², 7/25 эт.</td>\n",
              "      <td>-1</td>\n",
              "    </tr>\n",
              "    <tr>\n",
              "      <th>62938</th>\n",
              "      <td>a7c9b4a89f48</td>\n",
              "      <td>Квартиры</td>\n",
              "      <td>1-к квартира, 42.3 м², 21/27 эт.</td>\n",
              "      <td>-1</td>\n",
              "    </tr>\n",
              "    <tr>\n",
              "      <th>125279</th>\n",
              "      <td>3d8f4e5fef53</td>\n",
              "      <td>Бытовая техника</td>\n",
              "      <td>Стиральная машина</td>\n",
              "      <td>-1</td>\n",
              "    </tr>\n",
              "    <tr>\n",
              "      <th>47737</th>\n",
              "      <td>a1fd80b7ed53</td>\n",
              "      <td>Товары для компьютера</td>\n",
              "      <td>Kingston KVR16R11D4/16 DDR3 dimm 16GB ECC</td>\n",
              "      <td>-1</td>\n",
              "    </tr>\n",
              "    <tr>\n",
              "      <th>251512</th>\n",
              "      <td>994bd3ae10c5</td>\n",
              "      <td>Автомобили</td>\n",
              "      <td>ГАЗ 31105 Волга, 2007</td>\n",
              "      <td>-1</td>\n",
              "    </tr>\n",
              "    <tr>\n",
              "      <th>9074</th>\n",
              "      <td>e861e2712389</td>\n",
              "      <td>Предложение услуг</td>\n",
              "      <td>Тротуарная плитка от производите выбор -С</td>\n",
              "      <td>-1</td>\n",
              "    </tr>\n",
              "    <tr>\n",
              "      <th>183013</th>\n",
              "      <td>e55bb2a174d4</td>\n",
              "      <td>Детская одежда и обувь</td>\n",
              "      <td>Набор для крещения</td>\n",
              "      <td>-1</td>\n",
              "    </tr>\n",
              "    <tr>\n",
              "      <th>205297</th>\n",
              "      <td>2a8c935abe67</td>\n",
              "      <td>Одежда, обувь, аксессуары</td>\n",
              "      <td>Куртка женская кожа</td>\n",
              "      <td>-1</td>\n",
              "    </tr>\n",
              "    <tr>\n",
              "      <th>185640</th>\n",
              "      <td>b19e83b4e616</td>\n",
              "      <td>Детская одежда и обувь</td>\n",
              "      <td>Нарядные платья для девочки</td>\n",
              "      <td>-1</td>\n",
              "    </tr>\n",
              "    <tr>\n",
              "      <th>184313</th>\n",
              "      <td>e7d360686241</td>\n",
              "      <td>Спорт и отдых</td>\n",
              "      <td>Коньки профессиональные</td>\n",
              "      <td>-1</td>\n",
              "    </tr>\n",
              "    <tr>\n",
              "      <th>87408</th>\n",
              "      <td>f51b996777d8</td>\n",
              "      <td>Одежда, обувь, аксессуары</td>\n",
              "      <td>Женское утепленное пальто р. 60</td>\n",
              "      <td>-1</td>\n",
              "    </tr>\n",
              "    <tr>\n",
              "      <th>136684</th>\n",
              "      <td>c9da21df5c3e</td>\n",
              "      <td>Автомобили</td>\n",
              "      <td>ГАЗ ГАЗель, 1996</td>\n",
              "      <td>-1</td>\n",
              "    </tr>\n",
              "    <tr>\n",
              "      <th>30121</th>\n",
              "      <td>17a6f9e1ed0e</td>\n",
              "      <td>Предложение услуг</td>\n",
              "      <td>Уборка квартир, помещений</td>\n",
              "      <td>-1</td>\n",
              "    </tr>\n",
              "    <tr>\n",
              "      <th>239083</th>\n",
              "      <td>bc41566f0313</td>\n",
              "      <td>Автомобили</td>\n",
              "      <td>Renault Koleos, 2008</td>\n",
              "      <td>-1</td>\n",
              "    </tr>\n",
              "    <tr>\n",
              "      <th>207250</th>\n",
              "      <td>8e92d660682c</td>\n",
              "      <td>Мебель и интерьер</td>\n",
              "      <td>Мебель</td>\n",
              "      <td>-1</td>\n",
              "    </tr>\n",
              "    <tr>\n",
              "      <th>178769</th>\n",
              "      <td>001492e52d24</td>\n",
              "      <td>Автомобили</td>\n",
              "      <td>Nissan Tino, 1999</td>\n",
              "      <td>-1</td>\n",
              "    </tr>\n",
              "    <tr>\n",
              "      <th>134552</th>\n",
              "      <td>aa4b96259189</td>\n",
              "      <td>Квартиры</td>\n",
              "      <td>2-к квартира, 60 м², 7/17 эт.</td>\n",
              "      <td>-1</td>\n",
              "    </tr>\n",
              "    <tr>\n",
              "      <th>131317</th>\n",
              "      <td>8dec15c8da6c</td>\n",
              "      <td>Автомобили</td>\n",
              "      <td>Nissan Skyline, 2004</td>\n",
              "      <td>-1</td>\n",
              "    </tr>\n",
              "    <tr>\n",
              "      <th>574</th>\n",
              "      <td>5f9ef951890a</td>\n",
              "      <td>Бытовая техника</td>\n",
              "      <td>Вязальная машина Нева 5</td>\n",
              "      <td>-1</td>\n",
              "    </tr>\n",
              "    <tr>\n",
              "      <th>24574</th>\n",
              "      <td>53fb806b996e</td>\n",
              "      <td>Товары для компьютера</td>\n",
              "      <td>Клавиатура для ноутбука HP Model LX8</td>\n",
              "      <td>-1</td>\n",
              "    </tr>\n",
              "    <tr>\n",
              "      <th>193516</th>\n",
              "      <td>4df58b51b376</td>\n",
              "      <td>Аудио и видео</td>\n",
              "      <td>Наушники iPhone Не оригинал</td>\n",
              "      <td>-1</td>\n",
              "    </tr>\n",
              "    <tr>\n",
              "      <th>52203</th>\n",
              "      <td>b5f565403c2e</td>\n",
              "      <td>Квартиры</td>\n",
              "      <td>1-к квартира, 53 м², 8/17 эт.</td>\n",
              "      <td>-1</td>\n",
              "    </tr>\n",
              "    <tr>\n",
              "      <th>33731</th>\n",
              "      <td>cec2889646e9</td>\n",
              "      <td>Бытовая техника</td>\n",
              "      <td>Машинка стиральная Чайка-3</td>\n",
              "      <td>-1</td>\n",
              "    </tr>\n",
              "    <tr>\n",
              "      <th>245191</th>\n",
              "      <td>499a6142c149</td>\n",
              "      <td>Товары для детей и игрушки</td>\n",
              "      <td>Раздвижные коньки</td>\n",
              "      <td>-1</td>\n",
              "    </tr>\n",
              "    <tr>\n",
              "      <th>140393</th>\n",
              "      <td>2edc4127887f</td>\n",
              "      <td>Квартиры</td>\n",
              "      <td>1-к квартира, 42 м², 5/17 эт.</td>\n",
              "      <td>-1</td>\n",
              "    </tr>\n",
              "    <tr>\n",
              "      <th>114277</th>\n",
              "      <td>a474ffd1d643</td>\n",
              "      <td>Автомобили</td>\n",
              "      <td>Nissan Almera Classic, 2007</td>\n",
              "      <td>-1</td>\n",
              "    </tr>\n",
              "    <tr>\n",
              "      <th>81038</th>\n",
              "      <td>1ed36fb89340</td>\n",
              "      <td>Квартиры</td>\n",
              "      <td>2-к квартира, 46.5 м², 8/25 эт.</td>\n",
              "      <td>-1</td>\n",
              "    </tr>\n",
              "    <tr>\n",
              "      <th>245130</th>\n",
              "      <td>32c4aed14011</td>\n",
              "      <td>Телефоны</td>\n",
              "      <td>Телефон домашний проводной</td>\n",
              "      <td>-1</td>\n",
              "    </tr>\n",
              "    <tr>\n",
              "      <th>91560</th>\n",
              "      <td>6d4dc10007c5</td>\n",
              "      <td>Автомобили</td>\n",
              "      <td>ВАЗ 2109, 2001</td>\n",
              "      <td>-1</td>\n",
              "    </tr>\n",
              "    <tr>\n",
              "      <th>46822</th>\n",
              "      <td>570ef81cfcc3</td>\n",
              "      <td>Автомобили</td>\n",
              "      <td>KIA Rio, 2010</td>\n",
              "      <td>-1</td>\n",
              "    </tr>\n",
              "    <tr>\n",
              "      <th>125199</th>\n",
              "      <td>934ffe903622</td>\n",
              "      <td>Одежда, обувь, аксессуары</td>\n",
              "      <td>Солнцезащитные очки от Ken Block - это яркий с...</td>\n",
              "      <td>-1</td>\n",
              "    </tr>\n",
              "    <tr>\n",
              "      <th>178813</th>\n",
              "      <td>93e1fb3ac5fe</td>\n",
              "      <td>Автомобили</td>\n",
              "      <td>Hyundai Getz, 2005</td>\n",
              "      <td>-1</td>\n",
              "    </tr>\n",
              "    <tr>\n",
              "      <th>192341</th>\n",
              "      <td>94bb9fbe947a</td>\n",
              "      <td>Телефоны</td>\n",
              "      <td>Чехол для Xiaomi mi5 Winter is Coming</td>\n",
              "      <td>-1</td>\n",
              "    </tr>\n",
              "    <tr>\n",
              "      <th>181258</th>\n",
              "      <td>4ed56bc3961b</td>\n",
              "      <td>Планшеты и электронные книги</td>\n",
              "      <td>iPad 3 wifi+sim 32 gb</td>\n",
              "      <td>-1</td>\n",
              "    </tr>\n",
              "    <tr>\n",
              "      <th>189644</th>\n",
              "      <td>36b872ea431b</td>\n",
              "      <td>Бытовая техника</td>\n",
              "      <td>Стиральная машина</td>\n",
              "      <td>-1</td>\n",
              "    </tr>\n",
              "    <tr>\n",
              "      <th>234919</th>\n",
              "      <td>a41cad683c71</td>\n",
              "      <td>Бытовая техника</td>\n",
              "      <td>Стиральная машина indesit</td>\n",
              "      <td>-1</td>\n",
              "    </tr>\n",
              "    <tr>\n",
              "      <th>171519</th>\n",
              "      <td>431276dcfaff</td>\n",
              "      <td>Телефоны</td>\n",
              "      <td>Айфон 4 8gb</td>\n",
              "      <td>-1</td>\n",
              "    </tr>\n",
              "    <tr>\n",
              "      <th>158776</th>\n",
              "      <td>6ecf458fb2dd</td>\n",
              "      <td>Телефоны</td>\n",
              "      <td>Xiaomi redmi 4 pro 3/32 gb</td>\n",
              "      <td>-1</td>\n",
              "    </tr>\n",
              "    <tr>\n",
              "      <th>24002</th>\n",
              "      <td>8c98b3d8f7bb</td>\n",
              "      <td>Оборудование для бизнеса</td>\n",
              "      <td>Кромкооблицовочный станок SCM Minimax me 25</td>\n",
              "      <td>-1</td>\n",
              "    </tr>\n",
              "    <tr>\n",
              "      <th>77293</th>\n",
              "      <td>cde64ca95063</td>\n",
              "      <td>Автомобили</td>\n",
              "      <td>FIAT Albea, 2008</td>\n",
              "      <td>-1</td>\n",
              "    </tr>\n",
              "    <tr>\n",
              "      <th>143165</th>\n",
              "      <td>3bc47b83e0ad</td>\n",
              "      <td>Одежда, обувь, аксессуары</td>\n",
              "      <td>Форма СССР для последнего звонка</td>\n",
              "      <td>-1</td>\n",
              "    </tr>\n",
              "    <tr>\n",
              "      <th>250989</th>\n",
              "      <td>7a5e569d9cb3</td>\n",
              "      <td>Одежда, обувь, аксессуары</td>\n",
              "      <td>Полуботинки зимние, на танкетке</td>\n",
              "      <td>-1</td>\n",
              "    </tr>\n",
              "    <tr>\n",
              "      <th>55016</th>\n",
              "      <td>c5d8ff8d8640</td>\n",
              "      <td>Товары для детей и игрушки</td>\n",
              "      <td>Трансформер 2в1 зима-лето</td>\n",
              "      <td>-1</td>\n",
              "    </tr>\n",
              "    <tr>\n",
              "      <th>49685</th>\n",
              "      <td>31e7afdb6cb1</td>\n",
              "      <td>Автомобили</td>\n",
              "      <td>Nissan Maxima, 2002</td>\n",
              "      <td>-1</td>\n",
              "    </tr>\n",
              "    <tr>\n",
              "      <th>241900</th>\n",
              "      <td>654b8710f03d</td>\n",
              "      <td>Квартиры</td>\n",
              "      <td>1-к квартира, 42 м², 5/16 эт.</td>\n",
              "      <td>-1</td>\n",
              "    </tr>\n",
              "    <tr>\n",
              "      <th>75566</th>\n",
              "      <td>a30322e80c7d</td>\n",
              "      <td>Одежда, обувь, аксессуары</td>\n",
              "      <td>Туника для беременных и не только</td>\n",
              "      <td>-1</td>\n",
              "    </tr>\n",
              "    <tr>\n",
              "      <th>197149</th>\n",
              "      <td>78c015c42e15</td>\n",
              "      <td>Автомобили</td>\n",
              "      <td>ГАЗ ГАЗель, 2007</td>\n",
              "      <td>-1</td>\n",
              "    </tr>\n",
              "    <tr>\n",
              "      <th>191360</th>\n",
              "      <td>fc7b39f16358</td>\n",
              "      <td>Одежда, обувь, аксессуары</td>\n",
              "      <td>Женская Кожаная Куртка</td>\n",
              "      <td>-1</td>\n",
              "    </tr>\n",
              "    <tr>\n",
              "      <th>216127</th>\n",
              "      <td>87762f903998</td>\n",
              "      <td>Одежда, обувь, аксессуары</td>\n",
              "      <td>Шапочка Takeshy Kurosawa</td>\n",
              "      <td>-1</td>\n",
              "    </tr>\n",
              "    <tr>\n",
              "      <th>146701</th>\n",
              "      <td>090160c731e7</td>\n",
              "      <td>Автомобили</td>\n",
              "      <td>ГАЗ ГАЗель, 2005</td>\n",
              "      <td>-1</td>\n",
              "    </tr>\n",
              "    <tr>\n",
              "      <th>104407</th>\n",
              "      <td>dc3c8e7bf6d0</td>\n",
              "      <td>Автомобили</td>\n",
              "      <td>Nissan Murano, 2005</td>\n",
              "      <td>-1</td>\n",
              "    </tr>\n",
              "    <tr>\n",
              "      <th>169712</th>\n",
              "      <td>1e9d2db48795</td>\n",
              "      <td>Товары для детей и игрушки</td>\n",
              "      <td>Автокресло Teddy (3 в 1) 2017 зеленый</td>\n",
              "      <td>-1</td>\n",
              "    </tr>\n",
              "    <tr>\n",
              "      <th>23965</th>\n",
              "      <td>65a7d834fddb</td>\n",
              "      <td>Автомобили</td>\n",
              "      <td>Chevrolet Aveo, 2008</td>\n",
              "      <td>-1</td>\n",
              "    </tr>\n",
              "    <tr>\n",
              "      <th>68976</th>\n",
              "      <td>0af77b658b1e</td>\n",
              "      <td>Аквариум</td>\n",
              "      <td>Аквариум для рыб</td>\n",
              "      <td>-1</td>\n",
              "    </tr>\n",
              "    <tr>\n",
              "      <th>235537</th>\n",
              "      <td>c63ebf0a7d53</td>\n",
              "      <td>Коллекционирование</td>\n",
              "      <td>Сочи 25 рублей</td>\n",
              "      <td>-1</td>\n",
              "    </tr>\n",
              "    <tr>\n",
              "      <th>17479</th>\n",
              "      <td>46aa8392a469</td>\n",
              "      <td>Квартиры</td>\n",
              "      <td>1-к квартира, 39 м², 4/16 эт.</td>\n",
              "      <td>-1</td>\n",
              "    </tr>\n",
              "    <tr>\n",
              "      <th>44862</th>\n",
              "      <td>ef8d2c836bf3</td>\n",
              "      <td>Бытовая техника</td>\n",
              "      <td>Швейная машина Typical GC6-6</td>\n",
              "      <td>-1</td>\n",
              "    </tr>\n",
              "    <tr>\n",
              "      <th>137197</th>\n",
              "      <td>90a5334ad572</td>\n",
              "      <td>Товары для детей и игрушки</td>\n",
              "      <td>Радионяня Моторола MBP-16</td>\n",
              "      <td>-1</td>\n",
              "    </tr>\n",
              "    <tr>\n",
              "      <th>49422</th>\n",
              "      <td>3d26de84aac5</td>\n",
              "      <td>Часы и украшения</td>\n",
              "      <td>Набор кольцо и серьги с александритом</td>\n",
              "      <td>-1</td>\n",
              "    </tr>\n",
              "    <tr>\n",
              "      <th>20936</th>\n",
              "      <td>f88712fe0733</td>\n",
              "      <td>Автомобили</td>\n",
              "      <td>Hyundai Accent, 2008</td>\n",
              "      <td>-1</td>\n",
              "    </tr>\n",
              "    <tr>\n",
              "      <th>183925</th>\n",
              "      <td>be2a630efed3</td>\n",
              "      <td>Телефоны</td>\n",
              "      <td>Телефон Philips S388</td>\n",
              "      <td>-1</td>\n",
              "    </tr>\n",
              "    <tr>\n",
              "      <th>153554</th>\n",
              "      <td>5e7fa062de21</td>\n",
              "      <td>Телефоны</td>\n",
              "      <td>Дисплей для Nokia X2 Dual sim/RM1013</td>\n",
              "      <td>-1</td>\n",
              "    </tr>\n",
              "    <tr>\n",
              "      <th>232860</th>\n",
              "      <td>11b5379a7ba2</td>\n",
              "      <td>Телефоны</td>\n",
              "      <td>iPhone 4s</td>\n",
              "      <td>-1</td>\n",
              "    </tr>\n",
              "    <tr>\n",
              "      <th>240662</th>\n",
              "      <td>6dc3e6333b97</td>\n",
              "      <td>Детская одежда и обувь</td>\n",
              "      <td>Ботинки фирменные 24 р-р</td>\n",
              "      <td>-1</td>\n",
              "    </tr>\n",
              "    <tr>\n",
              "      <th>203680</th>\n",
              "      <td>2b44be8fe897</td>\n",
              "      <td>Посуда и товары для кухни</td>\n",
              "      <td>Набор столовый Bohmann BH-5946MR</td>\n",
              "      <td>-1</td>\n",
              "    </tr>\n",
              "    <tr>\n",
              "      <th>197993</th>\n",
              "      <td>05bf76a3efff</td>\n",
              "      <td>Ремонт и строительство</td>\n",
              "      <td>Плита перекрытия пб 45.12-8</td>\n",
              "      <td>-1</td>\n",
              "    </tr>\n",
              "    <tr>\n",
              "      <th>98393</th>\n",
              "      <td>7f0e50cc31f5</td>\n",
              "      <td>Предложение услуг</td>\n",
              "      <td>От фундамента до крыши</td>\n",
              "      <td>-1</td>\n",
              "    </tr>\n",
              "    <tr>\n",
              "      <th>177002</th>\n",
              "      <td>14ba4ac8cbf1</td>\n",
              "      <td>Товары для компьютера</td>\n",
              "      <td>Оперативная память для пк</td>\n",
              "      <td>-1</td>\n",
              "    </tr>\n",
              "    <tr>\n",
              "      <th>242163</th>\n",
              "      <td>292dcf381fa6</td>\n",
              "      <td>Грузовики и спецтехника</td>\n",
              "      <td>Погрузчик франталны.Сомасвали от 5 до 30 тонн....</td>\n",
              "      <td>-1</td>\n",
              "    </tr>\n",
              "    <tr>\n",
              "      <th>2526</th>\n",
              "      <td>a8eaa899a401</td>\n",
              "      <td>Автомобили</td>\n",
              "      <td>BYD F3, 2012</td>\n",
              "      <td>-1</td>\n",
              "    </tr>\n",
              "    <tr>\n",
              "      <th>70387</th>\n",
              "      <td>d28b59a64141</td>\n",
              "      <td>Детская одежда и обувь</td>\n",
              "      <td>Simonetta 30</td>\n",
              "      <td>-1</td>\n",
              "    </tr>\n",
              "    <tr>\n",
              "      <th>168767</th>\n",
              "      <td>eebd6f2b5797</td>\n",
              "      <td>Ремонт и строительство</td>\n",
              "      <td>14 арматура</td>\n",
              "      <td>-1</td>\n",
              "    </tr>\n",
              "    <tr>\n",
              "      <th>56701</th>\n",
              "      <td>39327ee2b2d0</td>\n",
              "      <td>Товары для компьютера</td>\n",
              "      <td>Флешка USB 3.0 16Gb</td>\n",
              "      <td>-1</td>\n",
              "    </tr>\n",
              "    <tr>\n",
              "      <th>150363</th>\n",
              "      <td>a54ee070a7c5</td>\n",
              "      <td>Автомобили</td>\n",
              "      <td>Hyundai Solaris, 2012</td>\n",
              "      <td>-1</td>\n",
              "    </tr>\n",
              "  </tbody>\n",
              "</table>\n",
              "</div>"
            ],
            "text/plain": [
              "             item_id  ... cluster\n",
              "101395  1ac31610b2ad  ...      -1\n",
              "157057  09fb729ea8ad  ...      -1\n",
              "212157  a657aa41a81c  ...      -1\n",
              "2419    160643c4cf2a  ...      -1\n",
              "139619  1f2334ba150c  ...      -1\n",
              "153512  f218d8b0b562  ...      -1\n",
              "145982  98415361d1cb  ...      -1\n",
              "163646  d8c269379cc7  ...      -1\n",
              "157239  05f99f10d24c  ...      -1\n",
              "217042  96dc2c284567  ...      -1\n",
              "166137  f566a043edf4  ...      -1\n",
              "144190  c34c07d15995  ...      -1\n",
              "223283  34f7bc7e59df  ...      -1\n",
              "175968  33cc24bcd94e  ...      -1\n",
              "103863  e7d796d8f0dc  ...      -1\n",
              "51959   d39b7cbb284c  ...      -1\n",
              "47464   2ec4c102fc25  ...      -1\n",
              "90058   9d1799516d4d  ...      -1\n",
              "220004  c686cee9e791  ...      -1\n",
              "85382   cc2baefadc49  ...      -1\n",
              "152902  5ac488b59d84  ...      -1\n",
              "100968  21863d9ebc91  ...      -1\n",
              "61919   16aeff855bde  ...      -1\n",
              "46687   74fcbeae2b70  ...      -1\n",
              "166067  463a680d70fc  ...      -1\n",
              "189607  48c2e82fb335  ...      -1\n",
              "104105  5c021ef69543  ...      -1\n",
              "187402  d583af7ac63f  ...      -1\n",
              "173926  db189c5e351f  ...      -1\n",
              "186789  c444bc775d6d  ...      -1\n",
              "71945   caca69326567  ...      -1\n",
              "236811  e07e73e069ef  ...      -1\n",
              "251777  2164c0da4067  ...      -1\n",
              "16316   9fa08a82ef6c  ...      -1\n",
              "127555  a2d0b774e92c  ...      -1\n",
              "344     26df8e671c22  ...      -1\n",
              "30273   056049e14e32  ...      -1\n",
              "7119    5e6e6f3983f3  ...      -1\n",
              "48554   fce7b97a4410  ...      -1\n",
              "134448  cfa2a397fab4  ...      -1\n",
              "56247   99904a170d51  ...      -1\n",
              "174969  19a4c7b451c4  ...      -1\n",
              "59487   86df4039c108  ...      -1\n",
              "111849  e587ef16f8b6  ...      -1\n",
              "126680  799ede5cec1e  ...      -1\n",
              "115681  527a5145d980  ...      -1\n",
              "171662  3610c4a67d65  ...      -1\n",
              "80417   473fb4ea3177  ...      -1\n",
              "209060  b462efcf67ce  ...      -1\n",
              "150761  a44c5d917458  ...      -1\n",
              "153151  b9f8e63fd881  ...      -1\n",
              "62938   a7c9b4a89f48  ...      -1\n",
              "125279  3d8f4e5fef53  ...      -1\n",
              "47737   a1fd80b7ed53  ...      -1\n",
              "251512  994bd3ae10c5  ...      -1\n",
              "9074    e861e2712389  ...      -1\n",
              "183013  e55bb2a174d4  ...      -1\n",
              "205297  2a8c935abe67  ...      -1\n",
              "185640  b19e83b4e616  ...      -1\n",
              "184313  e7d360686241  ...      -1\n",
              "87408   f51b996777d8  ...      -1\n",
              "136684  c9da21df5c3e  ...      -1\n",
              "30121   17a6f9e1ed0e  ...      -1\n",
              "239083  bc41566f0313  ...      -1\n",
              "207250  8e92d660682c  ...      -1\n",
              "178769  001492e52d24  ...      -1\n",
              "134552  aa4b96259189  ...      -1\n",
              "131317  8dec15c8da6c  ...      -1\n",
              "574     5f9ef951890a  ...      -1\n",
              "24574   53fb806b996e  ...      -1\n",
              "193516  4df58b51b376  ...      -1\n",
              "52203   b5f565403c2e  ...      -1\n",
              "33731   cec2889646e9  ...      -1\n",
              "245191  499a6142c149  ...      -1\n",
              "140393  2edc4127887f  ...      -1\n",
              "114277  a474ffd1d643  ...      -1\n",
              "81038   1ed36fb89340  ...      -1\n",
              "245130  32c4aed14011  ...      -1\n",
              "91560   6d4dc10007c5  ...      -1\n",
              "46822   570ef81cfcc3  ...      -1\n",
              "125199  934ffe903622  ...      -1\n",
              "178813  93e1fb3ac5fe  ...      -1\n",
              "192341  94bb9fbe947a  ...      -1\n",
              "181258  4ed56bc3961b  ...      -1\n",
              "189644  36b872ea431b  ...      -1\n",
              "234919  a41cad683c71  ...      -1\n",
              "171519  431276dcfaff  ...      -1\n",
              "158776  6ecf458fb2dd  ...      -1\n",
              "24002   8c98b3d8f7bb  ...      -1\n",
              "77293   cde64ca95063  ...      -1\n",
              "143165  3bc47b83e0ad  ...      -1\n",
              "250989  7a5e569d9cb3  ...      -1\n",
              "55016   c5d8ff8d8640  ...      -1\n",
              "49685   31e7afdb6cb1  ...      -1\n",
              "241900  654b8710f03d  ...      -1\n",
              "75566   a30322e80c7d  ...      -1\n",
              "197149  78c015c42e15  ...      -1\n",
              "191360  fc7b39f16358  ...      -1\n",
              "216127  87762f903998  ...      -1\n",
              "146701  090160c731e7  ...      -1\n",
              "104407  dc3c8e7bf6d0  ...      -1\n",
              "169712  1e9d2db48795  ...      -1\n",
              "23965   65a7d834fddb  ...      -1\n",
              "68976   0af77b658b1e  ...      -1\n",
              "235537  c63ebf0a7d53  ...      -1\n",
              "17479   46aa8392a469  ...      -1\n",
              "44862   ef8d2c836bf3  ...      -1\n",
              "137197  90a5334ad572  ...      -1\n",
              "49422   3d26de84aac5  ...      -1\n",
              "20936   f88712fe0733  ...      -1\n",
              "183925  be2a630efed3  ...      -1\n",
              "153554  5e7fa062de21  ...      -1\n",
              "232860  11b5379a7ba2  ...      -1\n",
              "240662  6dc3e6333b97  ...      -1\n",
              "203680  2b44be8fe897  ...      -1\n",
              "197993  05bf76a3efff  ...      -1\n",
              "98393   7f0e50cc31f5  ...      -1\n",
              "177002  14ba4ac8cbf1  ...      -1\n",
              "242163  292dcf381fa6  ...      -1\n",
              "2526    a8eaa899a401  ...      -1\n",
              "70387   d28b59a64141  ...      -1\n",
              "168767  eebd6f2b5797  ...      -1\n",
              "56701   39327ee2b2d0  ...      -1\n",
              "150363  a54ee070a7c5  ...      -1\n",
              "\n",
              "[124 rows x 4 columns]"
            ]
          },
          "metadata": {
            "tags": []
          },
          "execution_count": 93
        }
      ]
    },
    {
      "cell_type": "markdown",
      "metadata": {
        "id": "-MKQMBxheCWy",
        "colab_type": "text"
      },
      "source": [
        "Непонятно, почему это стало выбросами. По-моему, обычные названия. Возможно, в них слишком много редких токенов. Типа александрита, рублей и СССР."
      ]
    },
    {
      "cell_type": "code",
      "metadata": {
        "id": "4oJ6sozmcLfg",
        "colab_type": "code",
        "colab": {}
      },
      "source": [
        "\n",
        "from tqdm import tqdm\n",
        "import numpy as np\n",
        "%matplotlib inline\n",
        "import matplotlib.pyplot as plt"
      ],
      "execution_count": null,
      "outputs": []
    },
    {
      "cell_type": "code",
      "metadata": {
        "id": "5_NbZJjEcmLT",
        "colab_type": "code",
        "colab": {
          "base_uri": "https://localhost:8080/",
          "height": 136
        },
        "outputId": "790abad4-45ea-455a-f85a-358f21bb6e81"
      },
      "source": [
        "cluster = MiniBatchKMeans(n_clusters=1000, random_state=1,\n",
        "                          init_size=5000, max_no_improvement=50,\n",
        "                          reassignment_ratio=0.3)\n",
        "\n",
        "cluster.fit(X)\n",
        "print_metrics(cluster)"
      ],
      "execution_count": null,
      "outputs": [
        {
          "output_type": "stream",
          "text": [
            "CLUSTERS: *** 938 ***\n",
            "Silhouette Coefficient: 0.588\n",
            "Homogeneity: 0.684\n",
            "Completeness: 0.370\n",
            "V-measure: 0.480\n",
            "Adjusted Rand Index: -0.007\n",
            "Adjusted Mutual Information: 0.150\n"
          ],
          "name": "stdout"
        }
      ]
    },
    {
      "cell_type": "code",
      "metadata": {
        "id": "gcDC0exmcQGL",
        "colab_type": "code",
        "colab": {
          "base_uri": "https://localhost:8080/",
          "height": 367
        },
        "outputId": "d8a735ff-65bf-490d-f3ce-ce70b05eacb5"
      },
      "source": [
        "scores = []\n",
        "# tqdm._instances.clear()\n",
        "for i in tqdm(range(5, 3000, 50)):\n",
        "    cluster = MiniBatchKMeans(n_clusters=i, random_state=1, \n",
        "                              init_size=i*3, max_no_improvement=50,\n",
        "                              reassignment_ratio=0.3)\n",
        "    cluster.fit(X)\n",
        "    # силуэты считать на всех данных считать долго\n",
        "    # можно взять внутреннюю метрику кминса\n",
        "    # она большая, поэтому можно взять корень\n",
        "    scores.append(np.sqrt(cluster.inertia_))"
      ],
      "execution_count": null,
      "outputs": [
        {
          "output_type": "stream",
          "text": [
            " 85%|████████▌ | 51/60 [04:46<01:34, 10.48s/it]"
          ],
          "name": "stderr"
        },
        {
          "output_type": "error",
          "ename": "ValueError",
          "evalue": "ignored",
          "traceback": [
            "\u001b[0;31m---------------------------------------------------------------------------\u001b[0m",
            "\u001b[0;31mValueError\u001b[0m                                Traceback (most recent call last)",
            "\u001b[0;32m<ipython-input-99-6773e0fb6ed8>\u001b[0m in \u001b[0;36m<module>\u001b[0;34m()\u001b[0m\n\u001b[1;32m      5\u001b[0m                               \u001b[0minit_size\u001b[0m\u001b[0;34m=\u001b[0m\u001b[0mi\u001b[0m\u001b[0;34m*\u001b[0m\u001b[0;36m3\u001b[0m\u001b[0;34m,\u001b[0m \u001b[0mmax_no_improvement\u001b[0m\u001b[0;34m=\u001b[0m\u001b[0;36m50\u001b[0m\u001b[0;34m,\u001b[0m\u001b[0;34m\u001b[0m\u001b[0;34m\u001b[0m\u001b[0m\n\u001b[1;32m      6\u001b[0m                               reassignment_ratio=0.3)\n\u001b[0;32m----> 7\u001b[0;31m     \u001b[0mcluster\u001b[0m\u001b[0;34m.\u001b[0m\u001b[0mfit\u001b[0m\u001b[0;34m(\u001b[0m\u001b[0mX\u001b[0m\u001b[0;34m)\u001b[0m\u001b[0;34m\u001b[0m\u001b[0;34m\u001b[0m\u001b[0m\n\u001b[0m\u001b[1;32m      8\u001b[0m     \u001b[0;31m# силуэты считать на всех данных считать долго\u001b[0m\u001b[0;34m\u001b[0m\u001b[0;34m\u001b[0m\u001b[0;34m\u001b[0m\u001b[0m\n\u001b[1;32m      9\u001b[0m     \u001b[0;31m# можно взять внутреннюю метрику кминса\u001b[0m\u001b[0;34m\u001b[0m\u001b[0;34m\u001b[0m\u001b[0;34m\u001b[0m\u001b[0m\n",
            "\u001b[0;32m/usr/local/lib/python3.6/dist-packages/sklearn/cluster/_kmeans.py\u001b[0m in \u001b[0;36mfit\u001b[0;34m(self, X, y, sample_weight)\u001b[0m\n\u001b[1;32m   1511\u001b[0m         \u001b[0;32mif\u001b[0m \u001b[0mn_samples\u001b[0m \u001b[0;34m<\u001b[0m \u001b[0mself\u001b[0m\u001b[0;34m.\u001b[0m\u001b[0mn_clusters\u001b[0m\u001b[0;34m:\u001b[0m\u001b[0;34m\u001b[0m\u001b[0;34m\u001b[0m\u001b[0m\n\u001b[1;32m   1512\u001b[0m             raise ValueError(\"n_samples=%d should be >= n_clusters=%d\"\n\u001b[0;32m-> 1513\u001b[0;31m                              % (n_samples, self.n_clusters))\n\u001b[0m\u001b[1;32m   1514\u001b[0m \u001b[0;34m\u001b[0m\u001b[0m\n\u001b[1;32m   1515\u001b[0m         \u001b[0msample_weight\u001b[0m \u001b[0;34m=\u001b[0m \u001b[0m_check_normalize_sample_weight\u001b[0m\u001b[0;34m(\u001b[0m\u001b[0msample_weight\u001b[0m\u001b[0;34m,\u001b[0m \u001b[0mX\u001b[0m\u001b[0;34m)\u001b[0m\u001b[0;34m\u001b[0m\u001b[0;34m\u001b[0m\u001b[0m\n",
            "\u001b[0;31mValueError\u001b[0m: n_samples=2542 should be >= n_clusters=2555"
          ]
        }
      ]
    },
    {
      "cell_type": "markdown",
      "metadata": {
        "id": "k3zXNxEueozq",
        "colab_type": "text"
      },
      "source": [
        "Не получилось! Видно, накосячила с параметрами и векторизация была плохой."
      ]
    }
  ]
}