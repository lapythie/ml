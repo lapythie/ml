{
  "nbformat": 4,
  "nbformat_minor": 0,
  "metadata": {
    "colab": {
      "name": "HW02_ML.ipynb",
      "provenance": [],
      "authorship_tag": "ABX9TyM72oK6AeL6nYNGYV5eIbuc",
      "include_colab_link": true
    },
    "kernelspec": {
      "name": "python3",
      "display_name": "Python 3"
    }
  },
  "cells": [
    {
      "cell_type": "markdown",
      "metadata": {
        "id": "view-in-github",
        "colab_type": "text"
      },
      "source": [
        "<a href=\"https://colab.research.google.com/github/lapythie/ml/blob/master/HW02_ML.ipynb\" target=\"_parent\"><img src=\"https://colab.research.google.com/assets/colab-badge.svg\" alt=\"Open In Colab\"/></a>"
      ]
    },
    {
      "cell_type": "markdown",
      "metadata": {
        "id": "nGZqw-xhDgid",
        "colab_type": "text"
      },
      "source": [
        "# Домашка по МО №2"
      ]
    },
    {
      "cell_type": "code",
      "metadata": {
        "id": "fK20I1f0DtIn",
        "colab_type": "code",
        "colab": {}
      },
      "source": [
        "import os\n",
        "import tarfile\n",
        "from sklearn.feature_extraction.text import CountVectorizer, TfidfVectorizer, HashingVectorizer\n",
        "from sklearn.metrics import *\n",
        "import numpy as np\n",
        "import pandas as pd\n",
        "from sklearn.metrics import roc_auc_score, roc_curve\n",
        "from matplotlib import pyplot\n",
        "import seaborn as sns\n",
        "import matplotlib.pyplot as plt\n",
        "%matplotlib inline"
      ],
      "execution_count": 0,
      "outputs": []
    },
    {
      "cell_type": "code",
      "metadata": {
        "id": "_Jtt1RO2ek7C",
        "colab_type": "code",
        "outputId": "e65b1a3d-7f2d-4db6-e1bd-294adfdcb5a0",
        "colab": {
          "base_uri": "https://localhost:8080/",
          "height": 204
        }
      },
      "source": [
        "!wget http://ai.stanford.edu/~amaas/data/sentiment/aclImdb_v1.tar.gz\n",
        "tar = tarfile.open('aclImdb_v1.tar.gz', 'r')\n",
        "tar.extractall()"
      ],
      "execution_count": 0,
      "outputs": [
        {
          "output_type": "stream",
          "text": [
            "--2020-03-02 11:17:59--  http://ai.stanford.edu/~amaas/data/sentiment/aclImdb_v1.tar.gz\n",
            "Resolving ai.stanford.edu (ai.stanford.edu)... 171.64.68.10\n",
            "Connecting to ai.stanford.edu (ai.stanford.edu)|171.64.68.10|:80... connected.\n",
            "HTTP request sent, awaiting response... 200 OK\n",
            "Length: 84125825 (80M) [application/x-gzip]\n",
            "Saving to: ‘aclImdb_v1.tar.gz’\n",
            "\n",
            "aclImdb_v1.tar.gz   100%[===================>]  80.23M  23.2MB/s    in 5.0s    \n",
            "\n",
            "2020-03-02 11:18:09 (15.9 MB/s) - ‘aclImdb_v1.tar.gz’ saved [84125825/84125825]\n",
            "\n"
          ],
          "name": "stdout"
        }
      ]
    },
    {
      "cell_type": "code",
      "metadata": {
        "id": "tbg4BhsuJ3hF",
        "colab_type": "code",
        "outputId": "7c68438a-9318-4407-eadb-b5217065b9c2",
        "colab": {
          "base_uri": "https://localhost:8080/",
          "height": 34
        }
      },
      "source": [
        "# train labels\n",
        "for paths, dirs, fnames in os.walk('/content/aclImdb/train/pos'):\n",
        "  n_of_pos = len(fnames)\n",
        "for paths, dirs, fnames in os.walk('/content/aclImdb/train/neg'):\n",
        "  n_of_neg = len(fnames)\n",
        "\n",
        "pos_label = 1\n",
        "neg_label = 0\n",
        "train_labels = [pos_label for i in range (n_of_pos)] + [neg_label for i in range(n_of_neg)]\n",
        "\n",
        "len(train_labels)"
      ],
      "execution_count": 0,
      "outputs": [
        {
          "output_type": "execute_result",
          "data": {
            "text/plain": [
              "25000"
            ]
          },
          "metadata": {
            "tags": []
          },
          "execution_count": 3
        }
      ]
    },
    {
      "cell_type": "code",
      "metadata": {
        "id": "c5ZXB6LIMivG",
        "colab_type": "code",
        "outputId": "5764a08c-75fe-4139-d44b-02f2aaae8596",
        "colab": {
          "base_uri": "https://localhost:8080/",
          "height": 34
        }
      },
      "source": [
        "train_data = []\n",
        "for label in 'pos neg'.split():\n",
        "  for fname in os.listdir('/content/aclImdb/train/{}'.format(label)):\n",
        "    with open ('/content/aclImdb/train/{}/{}'.format(label, fname),\n",
        "               'r', encoding='utf-8') as f:\n",
        "      train_data.append(f.read())\n",
        "\n",
        "len(train_data)"
      ],
      "execution_count": 0,
      "outputs": [
        {
          "output_type": "execute_result",
          "data": {
            "text/plain": [
              "25000"
            ]
          },
          "metadata": {
            "tags": []
          },
          "execution_count": 4
        }
      ]
    },
    {
      "cell_type": "code",
      "metadata": {
        "id": "PqtLRGidZBrb",
        "colab_type": "code",
        "outputId": "afd41a87-2470-444a-aeca-12f5c877d36c",
        "colab": {
          "base_uri": "https://localhost:8080/",
          "height": 34
        }
      },
      "source": [
        "# test labels\n",
        "for paths, dirs, fnames in os.walk('/content/aclImdb/test/pos'):\n",
        "  n_of_pos = len(fnames)\n",
        "for paths, dirs, fnames in os.walk('/content/aclImdb/test/neg'):\n",
        "  n_of_neg = len(fnames)\n",
        "\n",
        "pos_label = 1\n",
        "neg_label = 0\n",
        "test_labels = [pos_label for i in range (n_of_pos)] + [neg_label for i in range(n_of_neg)]\n",
        "\n",
        "len(test_labels)"
      ],
      "execution_count": 0,
      "outputs": [
        {
          "output_type": "execute_result",
          "data": {
            "text/plain": [
              "25000"
            ]
          },
          "metadata": {
            "tags": []
          },
          "execution_count": 5
        }
      ]
    },
    {
      "cell_type": "code",
      "metadata": {
        "id": "jUCyCISuZhZN",
        "colab_type": "code",
        "outputId": "bc6f9452-1b58-435a-9952-3965761ba4b8",
        "colab": {
          "base_uri": "https://localhost:8080/",
          "height": 34
        }
      },
      "source": [
        "test_data = []\n",
        "for label in 'pos neg'.split():\n",
        "  for fname in os.listdir('/content/aclImdb/test/{}'.format(label)):\n",
        "    with open ('/content/aclImdb/test/{}/{}'.format(label, fname),\n",
        "               'r', encoding='utf-8') as f:\n",
        "      test_data.append(f.read())\n",
        "\n",
        "len(test_data)"
      ],
      "execution_count": 0,
      "outputs": [
        {
          "output_type": "execute_result",
          "data": {
            "text/plain": [
              "25000"
            ]
          },
          "metadata": {
            "tags": []
          },
          "execution_count": 6
        }
      ]
    },
    {
      "cell_type": "code",
      "metadata": {
        "colab_type": "code",
        "nbpresent": {
          "id": "c61eae59-38c2-43dc-8b1a-03c2661a8aea"
        },
        "outputId": "373ea5e3-bbf8-42e8-c12b-2e9f63622551",
        "id": "CsCM-TSMnCtj",
        "colab": {
          "base_uri": "https://localhost:8080/",
          "height": 34
        }
      },
      "source": [
        "# count_vect = CountVectorizer()\n",
        "count_vect = TfidfVectorizer()\n",
        "X_train_counts = count_vect.fit_transform(train_data) #Learn the vocabulary dictionary and return term-document matrix.\n",
        "X_train_counts.shape"
      ],
      "execution_count": 0,
      "outputs": [
        {
          "output_type": "execute_result",
          "data": {
            "text/plain": [
              "(25000, 74849)"
            ]
          },
          "metadata": {
            "tags": []
          },
          "execution_count": 7
        }
      ]
    },
    {
      "cell_type": "code",
      "metadata": {
        "id": "S0a8ige-RxuF",
        "colab_type": "code",
        "outputId": "eec1507e-bf0e-4805-8477-3ebb169cf868",
        "colab": {
          "base_uri": "https://localhost:8080/",
          "height": 34
        }
      },
      "source": [
        "X_test = count_vect.transform(test_data) # Extract token counts out of raw text documents using the vocabulary fitted with fit \n",
        "X_test.shape"
      ],
      "execution_count": 0,
      "outputs": [
        {
          "output_type": "execute_result",
          "data": {
            "text/plain": [
              "(25000, 74849)"
            ]
          },
          "metadata": {
            "tags": []
          },
          "execution_count": 8
        }
      ]
    },
    {
      "cell_type": "markdown",
      "metadata": {
        "id": "6_1P1wKlG0w4",
        "colab_type": "text"
      },
      "source": [
        "##Метод ближайшего соседа [Nearest neighbor classifier]"
      ]
    },
    {
      "cell_type": "code",
      "metadata": {
        "colab_type": "code",
        "nbpresent": {
          "id": "94e77975-2978-4bdc-a96b-2715d4c83194"
        },
        "id": "ss_8xgHanCtu",
        "colab": {}
      },
      "source": [
        "from sklearn.neighbors import KNeighborsClassifier\n",
        "clf = KNeighborsClassifier().fit(X_train_counts, train_labels)\n",
        "predicted_labels = clf.predict(X_test)"
      ],
      "execution_count": 0,
      "outputs": []
    },
    {
      "cell_type": "code",
      "metadata": {
        "colab_type": "code",
        "outputId": "d11c02ec-9684-4a3d-b79b-f858784bbd07",
        "id": "RgHk2ouUnCt8",
        "colab": {
          "base_uri": "https://localhost:8080/",
          "height": 279
        }
      },
      "source": [
        "predicted_probs = clf.predict_proba(X_test)\n",
        "fpr, tpr, thresholds = roc_curve(test_labels, predicted_probs[:, 1])\n",
        "\n",
        "pyplot.plot(fpr, tpr, marker='.', label='Test')\n",
        "pyplot.xlabel('False Positive Rate')\n",
        "pyplot.ylabel('True Positive Rate')\n",
        "pyplot.legend()\n",
        "pyplot.show()"
      ],
      "execution_count": 0,
      "outputs": [
        {
          "output_type": "display_data",
          "data": {
            "image/png": "[encoded data removed]",
            "text/plain": [
              "<Figure size 432x288 with 1 Axes>"
            ]
          },
          "metadata": {
            "tags": []
          }
        }
      ]
    },
    {
      "cell_type": "code",
      "metadata": {
        "colab_type": "code",
        "outputId": "36d0c3f1-b7dd-4a13-d750-2ed9a21c954e",
        "id": "ADBWy6XsnCuA",
        "colab": {
          "base_uri": "https://localhost:8080/",
          "height": 34
        }
      },
      "source": [
        "print(roc_auc_score(test_labels, predicted_probs[:, 1])) # TfidfVectorizer\n",
        "# CountVectorizer 0.6649082656"
      ],
      "execution_count": 0,
      "outputs": [
        {
          "output_type": "stream",
          "text": [
            "0.7120614752\n"
          ],
          "name": "stdout"
        }
      ]
    },
    {
      "cell_type": "code",
      "metadata": {
        "colab_type": "code",
        "nbpresent": {
          "id": "2a5a0f46-caf9-4d1c-9fdb-0fa59ec89ccf"
        },
        "outputId": "f1701253-fbc3-4ebf-99d2-acdf517afb46",
        "id": "Xh0ktQGHNhKP",
        "colab": {
          "base_uri": "https://localhost:8080/",
          "height": 85
        }
      },
      "source": [
        "acc = accuracy_score(test_labels, predicted_labels)\n",
        "micro_f1 = f1_score(test_labels, predicted_labels, average = 'micro')\n",
        "micro_p = precision_score(test_labels, predicted_labels, average = 'micro')\n",
        "micro_r = recall_score(test_labels, predicted_labels, average = 'micro')\n",
        "macro_f1 = f1_score(test_labels, predicted_labels, average = 'macro')\n",
        "macro_p = precision_score(test_labels, predicted_labels, average = 'macro')\n",
        "macro_r = recall_score(test_labels, predicted_labels, average = 'macro')\n",
        "print('acc={0:1.4f}'.format(acc))\n",
        "print('micro F1={0:1.4f}, micro P={1:1.4f}, micro R={2:1.4f}'.format(micro_f1, micro_p, micro_r))\n",
        "print('macro F1={0:1.4f}, macro P={1:1.4f}, macro R={2:1.4f}\\n'.format(macro_f1, macro_p, macro_r))"
      ],
      "execution_count": 0,
      "outputs": [
        {
          "output_type": "stream",
          "text": [
            "acc=0.6615\n",
            "micro F1=0.6615, micro P=0.6615, micro R=0.6615\n",
            "macro F1=0.6603, macro P=0.6639, macro R=0.6615\n",
            "\n"
          ],
          "name": "stdout"
        }
      ]
    },
    {
      "cell_type": "code",
      "metadata": {
        "colab_type": "code",
        "nbpresent": {
          "id": "c299e1d2-b14f-4cd9-89af-9ad4c3374247"
        },
        "outputId": "d23d0941-6fa9-454d-8979-bc58de1d9ca0",
        "id": "-XZRLiGENhKX",
        "colab": {
          "base_uri": "https://localhost:8080/",
          "height": 281
        }
      },
      "source": [
        "categories = 'pos neg'.split()\n",
        "sns.heatmap(data=confusion_matrix(test_labels, predicted_labels), \n",
        "            annot=True, fmt='d', cbar=False, xticklabels=categories, yticklabels=categories)\n",
        "plt.title(\"Confusion matrix\")\n",
        "plt.show()"
      ],
      "execution_count": 0,
      "outputs": [
        {
          "output_type": "display_data",
          "data": {
            "image/png": "[encoded data removed]",
            "text/plain": [
              "<Figure size 432x288 with 1 Axes>"
            ]
          },
          "metadata": {
            "tags": []
          }
        }
      ]
    },
    {
      "cell_type": "markdown",
      "metadata": {
        "id": "C9UGNCjGrqKv",
        "colab_type": "text"
      },
      "source": [
        "## Наивный Байес"
      ]
    },
    {
      "cell_type": "code",
      "metadata": {
        "colab_type": "code",
        "id": "tvksPrcZtBUJ",
        "nbpresent": {
          "id": "46282963-7130-438d-8098-6acffc43198c"
        },
        "colab": {}
      },
      "source": [
        "from sklearn.naive_bayes import MultinomialNB\n",
        "clf = MultinomialNB().fit(X_train_counts, train_labels)\n",
        "predicted_labels = clf.predict(X_test)"
      ],
      "execution_count": 0,
      "outputs": []
    },
    {
      "cell_type": "code",
      "metadata": {
        "colab_type": "code",
        "outputId": "c41cee3a-b445-403c-a783-d11783b4ef6e",
        "id": "R8UVQczSsuTO",
        "colab": {
          "base_uri": "https://localhost:8080/",
          "height": 279
        }
      },
      "source": [
        "predicted_probs = clf.predict_proba(X_test)\n",
        "fpr, tpr, thresholds = roc_curve(test_labels, predicted_probs[:, 1])\n",
        "\n",
        "pyplot.plot(fpr, tpr, marker='.', label='Test')\n",
        "pyplot.xlabel('False Positive Rate')\n",
        "pyplot.ylabel('True Positive Rate')\n",
        "pyplot.legend()\n",
        "pyplot.show()"
      ],
      "execution_count": 0,
      "outputs": [
        {
          "output_type": "display_data",
          "data": {
            "image/png": "[encoded data removed]",
            "text/plain": [
              "<Figure size 432x288 with 1 Axes>"
            ]
          },
          "metadata": {
            "tags": []
          }
        }
      ]
    },
    {
      "cell_type": "code",
      "metadata": {
        "colab_type": "code",
        "outputId": "ed8ac7eb-178b-4ab0-f417-a16b11336388",
        "id": "wnZhCs4PsuTV",
        "colab": {
          "base_uri": "https://localhost:8080/",
          "height": 34
        }
      },
      "source": [
        "print(roc_auc_score(test_labels, predicted_probs[:, 1]))"
      ],
      "execution_count": 0,
      "outputs": [
        {
          "output_type": "stream",
          "text": [
            "0.9158317056\n"
          ],
          "name": "stdout"
        }
      ]
    },
    {
      "cell_type": "code",
      "metadata": {
        "colab_type": "code",
        "nbpresent": {
          "id": "2a5a0f46-caf9-4d1c-9fdb-0fa59ec89ccf"
        },
        "outputId": "b999bd6a-d837-4ee3-ba6e-c7a4d43b43a2",
        "id": "VIiC-RfbOqyv",
        "colab": {
          "base_uri": "https://localhost:8080/",
          "height": 85
        }
      },
      "source": [
        "acc = accuracy_score(test_labels, predicted_labels)\n",
        "micro_f1 = f1_score(test_labels, predicted_labels, average = 'micro')\n",
        "micro_p = precision_score(test_labels, predicted_labels, average = 'micro')\n",
        "micro_r = recall_score(test_labels, predicted_labels, average = 'micro')\n",
        "macro_f1 = f1_score(test_labels, predicted_labels, average = 'macro')\n",
        "macro_p = precision_score(test_labels, predicted_labels, average = 'macro')\n",
        "macro_r = recall_score(test_labels, predicted_labels, average = 'macro')\n",
        "print('acc={0:1.4f}'.format(acc))\n",
        "print('micro F1={0:1.4f}, micro P={1:1.4f}, micro R={2:1.4f}'.format(micro_f1, micro_p, micro_r))\n",
        "print('macro F1={0:1.4f}, macro P={1:1.4f}, macro R={2:1.4f}\\n'.format(macro_f1, macro_p, macro_r))"
      ],
      "execution_count": 0,
      "outputs": [
        {
          "output_type": "stream",
          "text": [
            "acc=0.8296\n",
            "micro F1=0.8296, micro P=0.8296, micro R=0.8296\n",
            "macro F1=0.8290, macro P=0.8343, macro R=0.8296\n",
            "\n"
          ],
          "name": "stdout"
        }
      ]
    },
    {
      "cell_type": "code",
      "metadata": {
        "colab_type": "code",
        "nbpresent": {
          "id": "c299e1d2-b14f-4cd9-89af-9ad4c3374247"
        },
        "outputId": "8fa90ace-a3d8-4557-cf73-212f23be1a74",
        "id": "O334vazqs-Wt",
        "colab": {
          "base_uri": "https://localhost:8080/",
          "height": 281
        }
      },
      "source": [
        "categories = 'pos neg'.split()\n",
        "sns.heatmap(data=confusion_matrix(test_labels, predicted_labels), \n",
        "            annot=True, fmt='d', cbar=False, xticklabels=categories, yticklabels=categories)\n",
        "plt.title(\"Confusion matrix\")\n",
        "plt.show()"
      ],
      "execution_count": 0,
      "outputs": [
        {
          "output_type": "display_data",
          "data": {
            "image/png": "[encoded data removed]",
            "text/plain": [
              "<Figure size 432x288 with 1 Axes>"
            ]
          },
          "metadata": {
            "tags": []
          }
        }
      ]
    },
    {
      "cell_type": "markdown",
      "metadata": {
        "id": "yXm4NUb_7ReW",
        "colab_type": "text"
      },
      "source": [
        "## Метод опорных векторов [Support vector machine, SVM] (no ROC-curve)"
      ]
    },
    {
      "cell_type": "code",
      "metadata": {
        "colab_type": "code",
        "nbpresent": {
          "id": "df977cc2-ab45-4767-9ed7-d00bf9a37d21"
        },
        "id": "TidwN_157o81",
        "colab": {}
      },
      "source": [
        "from sklearn.svm import LinearSVC\n",
        "clf = LinearSVC().fit(X_train_counts, train_labels)\n",
        "predicted_labels = clf.predict(X_test)"
      ],
      "execution_count": 0,
      "outputs": []
    },
    {
      "cell_type": "code",
      "metadata": {
        "colab_type": "code",
        "nbpresent": {
          "id": "2a5a0f46-caf9-4d1c-9fdb-0fa59ec89ccf"
        },
        "outputId": "75378452-5b87-49a9-9077-67f7dffe9aac",
        "id": "ZjfTqDF-7o9M",
        "colab": {
          "base_uri": "https://localhost:8080/",
          "height": 85
        }
      },
      "source": [
        "acc = accuracy_score(test_labels, predicted_labels)\n",
        "micro_f1 = f1_score(test_labels, predicted_labels, average = 'micro')\n",
        "micro_p = precision_score(test_labels, predicted_labels, average = 'micro')\n",
        "micro_r = recall_score(test_labels, predicted_labels, average = 'micro')\n",
        "macro_f1 = f1_score(test_labels, predicted_labels, average = 'macro')\n",
        "macro_p = precision_score(test_labels, predicted_labels, average = 'macro')\n",
        "macro_r = recall_score(test_labels, predicted_labels, average = 'macro')\n",
        "print('acc={0:1.4f}'.format(acc))\n",
        "print('micro F1={0:1.4f}, micro P={1:1.4f}, micro R={2:1.4f}'.format(micro_f1, micro_p, micro_r))\n",
        "print('macro F1={0:1.4f}, macro P={1:1.4f}, macro R={2:1.4f}\\n'.format(macro_f1, macro_p, macro_r))"
      ],
      "execution_count": 0,
      "outputs": [
        {
          "output_type": "stream",
          "text": [
            "acc=0.8772\n",
            "micro F1=0.8772, micro P=0.8772, micro R=0.8772\n",
            "macro F1=0.8772, macro P=0.8774, macro R=0.8772\n",
            "\n"
          ],
          "name": "stdout"
        }
      ]
    },
    {
      "cell_type": "code",
      "metadata": {
        "colab_type": "code",
        "nbpresent": {
          "id": "c299e1d2-b14f-4cd9-89af-9ad4c3374247"
        },
        "outputId": "4bb50618-106d-450e-fdd5-9465b39fcbca",
        "id": "MGTVhU8m7o9P",
        "colab": {
          "base_uri": "https://localhost:8080/",
          "height": 281
        }
      },
      "source": [
        "categories = 'pos neg'.split()\n",
        "sns.heatmap(data=confusion_matrix(test_labels, predicted_labels), \n",
        "            annot=True, fmt='d', cbar=False, xticklabels=categories, yticklabels=categories)\n",
        "plt.title(\"Confusion matrix\")\n",
        "plt.show()"
      ],
      "execution_count": 0,
      "outputs": [
        {
          "output_type": "display_data",
          "data": {
            "image/png": "[encoded data removed]",
            "text/plain": [
              "<Figure size 432x288 with 1 Axes>"
            ]
          },
          "metadata": {
            "tags": []
          }
        }
      ]
    },
    {
      "cell_type": "markdown",
      "metadata": {
        "id": "kx8ZOkbB92O3",
        "colab_type": "text"
      },
      "source": [
        "##Деревья решений"
      ]
    },
    {
      "cell_type": "code",
      "metadata": {
        "colab_type": "code",
        "nbpresent": {
          "id": "df977cc2-ab45-4767-9ed7-d00bf9a37d21"
        },
        "id": "4L29KaSb94xe",
        "colab": {}
      },
      "source": [
        "from sklearn.tree import DecisionTreeClassifier\n",
        "clf = DecisionTreeClassifier().fit(X_train_counts, train_labels)\n",
        "predicted_labels = clf.predict(X_test)"
      ],
      "execution_count": 0,
      "outputs": []
    },
    {
      "cell_type": "code",
      "metadata": {
        "colab_type": "code",
        "outputId": "61fa2f33-37a9-469b-a6f7-73dc67fc2dae",
        "id": "BcoifEln94xi",
        "colab": {
          "base_uri": "https://localhost:8080/",
          "height": 279
        }
      },
      "source": [
        "predicted_probs = clf.predict_proba(X_test)\n",
        "fpr, tpr, thresholds = roc_curve(test_labels, predicted_probs[:, 1])\n",
        "\n",
        "pyplot.plot(fpr, tpr, marker='.', label='Test')\n",
        "pyplot.xlabel('False Positive Rate')\n",
        "pyplot.ylabel('True Positive Rate')\n",
        "pyplot.legend()\n",
        "pyplot.show()"
      ],
      "execution_count": 0,
      "outputs": [
        {
          "output_type": "display_data",
          "data": {
            "image/png": "[encoded data removed]",
            "text/plain": [
              "<Figure size 432x288 with 1 Axes>"
            ]
          },
          "metadata": {
            "tags": []
          }
        }
      ]
    },
    {
      "cell_type": "code",
      "metadata": {
        "colab_type": "code",
        "outputId": "6c29ea08-62ca-4549-efa9-a1e317218e55",
        "id": "O4zch4nL94xm",
        "colab": {
          "base_uri": "https://localhost:8080/",
          "height": 34
        }
      },
      "source": [
        "print(roc_auc_score(test_labels, predicted_probs[:, 1]))\n"
      ],
      "execution_count": 0,
      "outputs": [
        {
          "output_type": "stream",
          "text": [
            "0.7029999999999998\n"
          ],
          "name": "stdout"
        }
      ]
    },
    {
      "cell_type": "code",
      "metadata": {
        "colab_type": "code",
        "nbpresent": {
          "id": "2a5a0f46-caf9-4d1c-9fdb-0fa59ec89ccf"
        },
        "outputId": "4484df79-52e9-46fd-f55e-93531a5efabf",
        "id": "YcstMyPX94xp",
        "colab": {
          "base_uri": "https://localhost:8080/",
          "height": 85
        }
      },
      "source": [
        "acc = accuracy_score(test_labels, predicted_labels)\n",
        "micro_f1 = f1_score(test_labels, predicted_labels, average = 'micro')\n",
        "micro_p = precision_score(test_labels, predicted_labels, average = 'micro')\n",
        "micro_r = recall_score(test_labels, predicted_labels, average = 'micro')\n",
        "macro_f1 = f1_score(test_labels, predicted_labels, average = 'macro')\n",
        "macro_p = precision_score(test_labels, predicted_labels, average = 'macro')\n",
        "macro_r = recall_score(test_labels, predicted_labels, average = 'macro')\n",
        "print('acc={0:1.4f}'.format(acc))\n",
        "print('micro F1={0:1.4f}, micro P={1:1.4f}, micro R={2:1.4f}'.format(micro_f1, micro_p, micro_r))\n",
        "print('macro F1={0:1.4f}, macro P={1:1.4f}, macro R={2:1.4f}\\n'.format(macro_f1, macro_p, macro_r))"
      ],
      "execution_count": 0,
      "outputs": [
        {
          "output_type": "stream",
          "text": [
            "acc=0.7030\n",
            "micro F1=0.7030, micro P=0.7030, micro R=0.7030\n",
            "macro F1=0.7030, macro P=0.7030, macro R=0.7030\n",
            "\n"
          ],
          "name": "stdout"
        }
      ]
    },
    {
      "cell_type": "code",
      "metadata": {
        "colab_type": "code",
        "nbpresent": {
          "id": "c299e1d2-b14f-4cd9-89af-9ad4c3374247"
        },
        "outputId": "21e3f9f2-8a66-40fb-e1f9-127385ffab89",
        "id": "BcX4D9ih94xs",
        "colab": {
          "base_uri": "https://localhost:8080/",
          "height": 281
        }
      },
      "source": [
        "categories = 'pos neg'.split()\n",
        "sns.heatmap(data=confusion_matrix(test_labels, predicted_labels), \n",
        "            annot=True, fmt='d', cbar=False, xticklabels=categories, yticklabels=categories)\n",
        "plt.title(\"Confusion matrix\")\n",
        "plt.show()"
      ],
      "execution_count": 0,
      "outputs": [
        {
          "output_type": "display_data",
          "data": {
            "image/png": "[encoded data removed]",
            "text/plain": [
              "<Figure size 432x288 with 1 Axes>"
            ]
          },
          "metadata": {
            "tags": []
          }
        }
      ]
    },
    {
      "cell_type": "markdown",
      "metadata": {
        "id": "xagXYFw00jxW",
        "colab_type": "text"
      },
      "source": [
        "##Регрессия (лучшая)"
      ]
    },
    {
      "cell_type": "code",
      "metadata": {
        "colab_type": "code",
        "id": "-wAmHq1MtBUW",
        "nbpresent": {
          "id": "df977cc2-ab45-4767-9ed7-d00bf9a37d21"
        },
        "colab": {}
      },
      "source": [
        "from sklearn.linear_model import LogisticRegression\n",
        "clf = LogisticRegression().fit(X_train_counts, train_labels)\n",
        "predicted_labels = clf.predict(X_test)"
      ],
      "execution_count": 0,
      "outputs": []
    },
    {
      "cell_type": "code",
      "metadata": {
        "colab_type": "code",
        "outputId": "50f5c7de-7aef-49cd-b3be-7853b7f0feac",
        "id": "m3n_H7jj4cG3",
        "colab": {
          "base_uri": "https://localhost:8080/",
          "height": 279
        }
      },
      "source": [
        "predicted_probs = clf.predict_proba(X_test)\n",
        "fpr, tpr, thresholds = roc_curve(test_labels, predicted_probs[:, 1])\n",
        "\n",
        "pyplot.plot(fpr, tpr, marker='.', label='Test')\n",
        "pyplot.xlabel('False Positive Rate')\n",
        "pyplot.ylabel('True Positive Rate')\n",
        "pyplot.legend()\n",
        "pyplot.show()"
      ],
      "execution_count": 0,
      "outputs": [
        {
          "output_type": "display_data",
          "data": {
            "image/png": "[encoded data removed]",
            "text/plain": [
              "<Figure size 432x288 with 1 Axes>"
            ]
          },
          "metadata": {
            "tags": []
          }
        }
      ]
    },
    {
      "cell_type": "code",
      "metadata": {
        "colab_type": "code",
        "outputId": "d4be1cd5-ff26-4a46-a293-42ec72c4106d",
        "id": "JXy_gNtX4cG8",
        "colab": {
          "base_uri": "https://localhost:8080/",
          "height": 34
        }
      },
      "source": [
        "print(roc_auc_score(test_labels, predicted_probs[:, 1]))"
      ],
      "execution_count": 0,
      "outputs": [
        {
          "output_type": "stream",
          "text": [
            "0.9525368896\n"
          ],
          "name": "stdout"
        }
      ]
    },
    {
      "cell_type": "code",
      "metadata": {
        "colab_type": "code",
        "nbpresent": {
          "id": "2a5a0f46-caf9-4d1c-9fdb-0fa59ec89ccf"
        },
        "outputId": "206fcd93-e49a-4f8e-c931-5ea306e32d51",
        "id": "ymqkl2WJ4cHB",
        "colab": {
          "base_uri": "https://localhost:8080/",
          "height": 85
        }
      },
      "source": [
        "acc = accuracy_score(test_labels, predicted_labels)\n",
        "micro_f1 = f1_score(test_labels, predicted_labels, average = 'micro')\n",
        "micro_p = precision_score(test_labels, predicted_labels, average = 'micro')\n",
        "micro_r = recall_score(test_labels, predicted_labels, average = 'micro')\n",
        "macro_f1 = f1_score(test_labels, predicted_labels, average = 'macro')\n",
        "macro_p = precision_score(test_labels, predicted_labels, average = 'macro')\n",
        "macro_r = recall_score(test_labels, predicted_labels, average = 'macro')\n",
        "print('acc={0:1.4f}'.format(acc))\n",
        "print('micro F1={0:1.4f}, micro P={1:1.4f}, micro R={2:1.4f}'.format(micro_f1, micro_p, micro_r))\n",
        "print('macro F1={0:1.4f}, macro P={1:1.4f}, macro R={2:1.4f}\\n'.format(macro_f1, macro_p, macro_r))"
      ],
      "execution_count": 0,
      "outputs": [
        {
          "output_type": "stream",
          "text": [
            "acc=0.8832\n",
            "micro F1=0.8832, micro P=0.8832, micro R=0.8832\n",
            "macro F1=0.8832, macro P=0.8832, macro R=0.8832\n",
            "\n"
          ],
          "name": "stdout"
        }
      ]
    },
    {
      "cell_type": "code",
      "metadata": {
        "colab_type": "code",
        "nbpresent": {
          "id": "c299e1d2-b14f-4cd9-89af-9ad4c3374247"
        },
        "outputId": "a33cb698-039f-468a-b117-b76bccdc56d9",
        "id": "vtRsUM514cHD",
        "colab": {
          "base_uri": "https://localhost:8080/",
          "height": 281
        }
      },
      "source": [
        "categories = 'pos neg'.split()\n",
        "sns.heatmap(data=confusion_matrix(test_labels, predicted_labels), \n",
        "            annot=True, fmt='d', cbar=False, xticklabels=categories, yticklabels=categories)\n",
        "plt.title(\"Confusion matrix\")\n",
        "plt.show()"
      ],
      "execution_count": 0,
      "outputs": [
        {
          "output_type": "display_data",
          "data": {
            "image/png": "[encoded data removed]",
            "text/plain": [
              "<Figure size 432x288 with 1 Axes>"
            ]
          },
          "metadata": {
            "tags": []
          }
        }
      ]
    },
    {
      "cell_type": "markdown",
      "metadata": {
        "id": "zIhfbdqndreS",
        "colab_type": "text"
      },
      "source": [
        "##Свои функции для расчёта метрик"
      ]
    },
    {
      "cell_type": "code",
      "metadata": {
        "id": "XCz1utjeiJ0d",
        "colab_type": "code",
        "colab": {}
      },
      "source": [
        "def get_count(y_true, y_pred, count):\n",
        "  '''count: str, 'tp' or 'tn' or 'fp' or 'fn' '''\n",
        "  lr_test_df = pd.DataFrame({'y_true':y_true,\n",
        "                           'y_pred':y_pred})\n",
        "  if count == 'tp':\n",
        "    count = len(lr_test_df[(lr_test_df.y_true == 1) & (lr_test_df.y_pred == 1)])\n",
        "  if count == 'tn':\n",
        "    count = len(lr_test_df[(lr_test_df.y_true == 0) & (lr_test_df.y_pred == 0)])\n",
        "  if count == 'fp':\n",
        "    count = len(lr_test_df[(lr_test_df.y_true == 0) & (lr_test_df.y_pred == 1)])\n",
        "  if count == 'fn':\n",
        "    count = len(lr_test_df[(lr_test_df.y_true == 1) & (lr_test_df.y_pred == 0)])\n",
        "  return count\n",
        "\n",
        "def get_metric(y_true, y_pred, metric):\n",
        "  '''metric: str, 'precision' or 'recall' or 'fscore' '''\n",
        "  tp = get_count(y_true, y_pred, 'tp')\n",
        "  tn = get_count(y_true, y_pred, 'tn')\n",
        "  fp = get_count(y_true, y_pred, 'fp')\n",
        "  fn = get_count(y_true, y_pred, 'fn')\n",
        "  if metric == 'precision':\n",
        "    metric = tp/(tp+fp)\n",
        "  if metric == 'recall':\n",
        "    metric = tp/(tp+fn)\n",
        "  if metric == 'fscore':\n",
        "    metric = 2*tp/(tp+fp)*tp/(tp+fn)/(tp/(tp+fp)+tp/(tp+fn))\n",
        "  return metric"
      ],
      "execution_count": 0,
      "outputs": []
    },
    {
      "cell_type": "code",
      "metadata": {
        "id": "vU9_z8PkiEJg",
        "colab_type": "code",
        "outputId": "68e40ec8-e97f-44f9-c400-78c342b2b474",
        "colab": {
          "base_uri": "https://localhost:8080/",
          "height": 136
        }
      },
      "source": [
        "for count in 'tp tn fp fn'.split():\n",
        "  print ('{} = {}'.format(count, get_count(test_labels, predicted_labels, count)))\n",
        "for metric in 'precision recall fscore'.split():\n",
        "  print ('{} = {}'.format(metric, get_metric(test_labels, predicted_labels, metric)))"
      ],
      "execution_count": 0,
      "outputs": [
        {
          "output_type": "stream",
          "text": [
            "tp = 11024\n",
            "tn = 11055\n",
            "fp = 1445\n",
            "fn = 1476\n",
            "precision = 0.8841125992461304\n",
            "recall = 0.88192\n",
            "fscore = 0.8830149385237694\n"
          ],
          "name": "stdout"
        }
      ]
    },
    {
      "cell_type": "markdown",
      "metadata": {
        "id": "mCtR3OODUKnZ",
        "colab_type": "text"
      },
      "source": [
        "#15 самых негативных и самых позитивных рецензий по мнению модели"
      ]
    },
    {
      "cell_type": "code",
      "metadata": {
        "id": "w5cF3t1uUZJf",
        "colab_type": "code",
        "colab": {}
      },
      "source": [
        "lr_predicted_probs_df = pd.DataFrame({'review':test_data, \n",
        "                                      'neg_prob':predicted_probs[:, 0], \n",
        "                                      'pos_prob':predicted_probs[:, 1]})"
      ],
      "execution_count": 0,
      "outputs": []
    },
    {
      "cell_type": "code",
      "metadata": {
        "id": "DJxUU0amWVxy",
        "colab_type": "code",
        "outputId": "1ae2512c-0ef9-4f00-df38-aa4fc55cc897",
        "colab": {
          "base_uri": "https://localhost:8080/",
          "height": 292
        }
      },
      "source": [
        "# 15 most positive reviews\n",
        "for value in lr_predicted_probs_df.nlargest(15, 'pos_prob')['review'].values:\n",
        "  print (value)"
      ],
      "execution_count": 0,
      "outputs": [
        {
          "output_type": "stream",
          "text": [
            "What a wonderful film, filled with eccentric, unique characters who are wonderfully realized by a great ensemble cast. The director also did a great job keeping the story held together, getting those wonderful performances (on not messing with them) and using music (and what wonderful music it is) to great effect. S. Epatha in the lead role is great. I had always heard what a brilliant stage actor she is, and although I have enjoyed her on Law and Order, this really shows what she can do with a filled out, complex role. Macy Gray is terrific, Mos Def, as usual, wonderful. Lou Gossett, great. Jimmy Smits, terrific, and doesn't try to pull focus because he's a star. A true piece of ensemble acting. <br /><br />Rent it, enjoy it, groove to it, and treasure it. Something special.\n",
            "I think this is one of the best tamil movies i've seen in a while. i love the fact that it doesn't revolve around a guy and girl falling in love and they made the movie brilliantly. The cast did a great job and i especially congratulate the litte girl. She was brilliant and really brought out the feeling of an adopted child searching for her real mother. Best of all are the songs, beautiful music and moving lyrics. There are some great songs in this move ya'll! especially 'Kannathil Mutthamittal' and 'Velai Pookal'. Great songs, both of them. I highly recommend this movie to anyone who wants to enjoy a good cry and some great acting (and superb songs! ). Cheers Simran.\n",
            "Wow! Fantastic film in my opinion, i wasn't expecting it to be this good! I was captivated from start to finish- it's a very well made and educational film that really gives us a fascinating insight into the trials Darwin had to go through in order to convey his ideas to the world, chronicling his life as he writes \"Origin of the Species\"; fighting both personal demons as well as the ignorant society of the time in order to do so. He struggles hard with his mind, body and soul as personal matters get to breaking point and even his family seems to slip away...whilst the rest of the world stand against him as he knows that his findings literally shake the very foundations of their lives, culture and meaning of existence. It's a subtle movie (not over-exaggerated in any way in that typical Hollywood way, this is a BBC produced British film) yet thankfully very powerful in meaning and this is thanks to the amazing well directed scenes as well as the superb acting by Bettany. Connelly acts as more of a light supporting role but I did enjoy her in this and she's as good as to be expected as always, her chemistry alongside her husband was definitely strong and endearing, you could feel the connection, and their real-life husband/wife bond definitely shines through their performances. But the star of the show is definitely Bettany and he does a brilliant job, a very touching performance- i both understood and sympathised with him as he battled his own degrading health and impending \"insanity\" to try to understand what he has uncovered and come to terms with what it all really is and means as he found his thinking contradict his feelings, and found himself losing it all including his wife who of course was a firm believer in religion and a strict Christian whilst he was in the realm of science, two worlds which could not see eye to eye, so their relationship was at stake too.<br /><br />Anyway- a really very good, well acted emotional drama and dare I say I did shed a tear during the tragic climax which was truly heartbreaking as well as beautifully poignant and moving. The film is symbolic and very intellectually artistic as well, in fact i can't wait to watch it again as there was a lot to take in first time round which i missed. Easily one of the best films i've seen this year.\n",
            "This is definitely an excellent show. I don't have cable, so I started renting them, because my friend recommended it. I thought it would be a teen soap, you know, who's dating who, that kind of thing. But it was not. It is surprisingly deep. It is also very witty. It moves at a very fast pace, and there are more and more jokes you catch every time you watch it. It is a comedy-drama, which is rare when well done. It is about Rory and Lorelai's relationship. Instead of the classic mother-daughter relationship it is a story of the best friend relationship-- about a mother and daughter. The characters are perfectly cast and all do a superb job. It is definitely the best TV show I have very come across.\n",
            "I absolutely fell in love with \"Living in A Big Way\" when I first saw it! Reason #1 is because I LOVE, ADORE, and am a HUGE fan of GENE KELLY. He was such a wonderful dancer, actor, and choreographer. Not to mention his extremely handsome looks and his sensual personality. I love his role in this movie. He was such a gentleman. This movie showcased his wonderful talent for acting. I enjoyed Marie MacDonald as well. It was my first time of ever seeing or knowing anything about her, and this excellent movie made me a fan of her's as well. Actually, the whole cast in this movie was enjoyable and great. The humor between the butler,\"Everette Hanover Smythe\", and the father, Mr. Morgan; Mrs. Morgan's courtroom humor, and especially grandmother Morgan's immediate attachment to, and concern for \"LEO GOGARTY.\" And GENE'S number \"FIDO AND ME\" is adorable. The opening dance number with GENE and MARIE is very nice too. I would recommend that anyone see this movie. It will truly remain dear to your heart forever. Or at least it has to mine. And you'll fall in love with GENE all over again. I rate it my #2 favorite GENE KELLY MOVIE, and I've seen and own a quite many of his movies. They're a part of my daily routine! So trust me when I tell you, you'll love this movie! Watch it and enjoy!!\n",
            "This movie has it all. Great actors, good dialog, drama, comedy, and excellent writing and directing by Paul Thomas Anderson. I have seen this film several times and enjoy it more each time. It doesn't get old, it is consistently entertaining and stimulating. Easily Burt Reynolds best role, and he does a great job. John C. Reilly and Don Cheadle also give excellent comedic performances. There is not a weak element in this film.\n",
            "I was fortunate enough to record this wonderful drama, both parts, when it originally aired on Masterpiece Theatre. I loved it but lost it. Then one day, while going through old tapes, found it again. I recorded it to DVD and watched and --- WOW! I still love it! The leads are excellent and my only complaint is I wish we had seen more Kester! What a man! And Prue. She's so strong and wonderful ... living in a time and age where her affliction and how she deals with it is seen as unfortunate and evil. Even her own brother tells Prue to her face that he doubts that a man will ever have her. *sigh* Unfortunately my copy is not the greatest, with wear and tear over the years, and I too would absolutely love to own this on professional DVD if it ever happens.\n",
            "Easily one of my favourite dramatic TV films, in many ways beautiful yet sad, heart-warming and thought-provoking, this is a superb dramatisation of a few years in the life of C.S. Lewis and his relationship with Joy Davidman. I found it to be incredibly absorbing with excellent and 'realistic' dialogue and situations. It all seemed very 'real', yet there were also 'magical' moments that almost leave you breathless with delight. Ackland and Bloom as the central characters were excellent, as were the supporting cast. It's one of those dramas that I find hard to criticise, simply because, for me, there is NOTHING to be criticised, it just works so well on so many levels.<br /><br />Very highly recommended.\n",
            "I loved this movie - the actors were wonderful and suited their roles. The story itself was great (and true, the setting was perfect and the message about human response to the war, danger and risk was exceptional. The person who wrote the music score also did the music for Life is Beautiful (another favourite of mine)- his comment was apparently that \"...this was not a like an English movie, it was like an Italian movie.\" I think he's right! Callum Blue is perfect for the part of Eric Newby. I recommend this movie to everyone who wants to watch a story that is true and morally uplifting as well as a beautiful love story.\n",
            "This is one of Bruce's most underrated films in my opinion, its an awesome heartwarming film, with a neat story and an amazing performance from Bruce Willis!. All the characters are great, and I thought Willis and Spencer Breslin were just awesome together, plus Bruce Willis is simply amazing in this!. This is definitely one of Bruce's best comedic performances (The waaaaaaaaaamabulance thing was great) and I thought it was very well written and made as well, plus The finale is especially cool!. It's good natured and it was cool how you can see Russell's (Willis) character change throughout the film! plus the ending was pretty good. I think this should be higher then 6.0 and it's one of the best Disney films I have ever seen! plus it has many surprising moments throughout. All the characters are extremely likable, and it also has a cute love story angle too it as well, plus Bruce and Spencer Breslin both had some really funny lines (Holy Smokes!). This is one of Bruce's most underrated films in my opinion, its an awesome heartwarming film, with a neat story and an an amazing performance from Bruce Willis and I say its a must see!. The Direction is great!. Jon Turteltaub does a great job here with really good camera work, and just keeping the film at a very fast pace. The Acting is excellent!. Bruce Willis is amazing as always and is amazing here, he gives one of his best comedic performances, is hilarious had wonderful chemistry with both Spencer Breslin and Emily Mortimer, had some funny lines, and was dead on throughout the movie, he was one of the main reasons I liked this movie so much! (Willis Rules!!!!!!!). Spencer Breslin is fantastic as the younger version of Russell, he was very funny and didn't get on my nerves once, he is one of the better child actors out there!. Emily Mortimer is good as Amy and was really cute I liked her she had decent chemistry with Bruce too. Lily Tomlin is funny as Janet I liked her quite a bit. Jean Smart is good with what she had to do, which was not much. Rest of the cast do fine. Overall a must see!. **** out pf 5\n",
            "This particular film was one that I wanted to see in theaters, but never got around to it. When I finally rented it in the summer of 2001 I enjoyed it so much that I went out and bought the DVD soon after. Bonnie Hunt and Don Lake did a wonderful job with the screenplay and are wonderful to listen to on the audio commentary that is included on the DVD. They did a great job in creating characters that you really care about. I really felt a whirlwind of emotions watching this film including sadness, anxiety and joy. The film also does a great job in showing the importance of family (a rarity in film today), which is a reflection of the director, Bonnie Hunt, based on the comments she made on the DVD. David Duchovny showed me here that there is life beyond Fox Mulder giving a wonderful performance with some pretty poignant scenes. I highly recommend that you give this movie a viewing. I am really thankful to the creators of this film. They have given me a wonderful piece of cinematic viewing that I will recommend to all my friends. I have seen a lot of movies over the years and it is very rare that I come away with such a feeling of satisfaction after watching a film. I will watch this time and time again for years to come. Return to Me reminds me that there are still moviemakers out there that know how to sincerely please their movie audiences. Thanks!!\n",
            "This is a great German slasher, that's often quite suspenseful, and creative, with a fun story and solid performances. All the characters are cool, and Benno Fürmann is great as the psycho killer, plus Franka Potente gives a fantastic performance as the main lead. It did take a little while to get going, but it was never boring, and it had some good death scenes as well, plus the music is wonderfully creepy. I was lucky enough to get the subtitled version, instead of the dubbed, and I thought all the characters were quite likable, plus it's very well made and written as well. It has some really good plot twists too, and the effects are extremely well done, plus the ending is great. The finale is especially suspenseful, and Franka Potente was the perfect casting choice in my opinion, plus I wish Arndt Schwering-Sohnrey(David) didn't get killed of so soon, because he was a really cool character. There were actually a couple of moments where I felt uncomfortable but in a good way, and I must say this film deserved all it's praise, plus while it does have plot holes, it's not enough to hamper the film. This is a great German slasher, that's often quite suspenseful, and creative, with a fun story, and solid performances, I highly recommend this one!. The Direction is great!. Stefan Ruzowitzky does a great! Job here with excellent camera work, very good angles, great close ups (see the opening sex scene), doing a great job of adding creepy atmosphere, and just keeping the film at a very fast pace.<br /><br />There is quite a bit of blood and gore. We get cadavers cut open,plenty of very gory surgery scenes,lots of bloody stabbings,people are dissected while still being conscious, severed finger, self mutilation, gutting's, bloody slit throat, lots of wicked looking frozen corpses, plenty of blood and more.<br /><br />The Acting is very solid!. Franka Potente is fantastic as the main lead, she was very likable, remained cool under pressure, was vulnerable, easy on the eyes, and we are able to care for her character, the only time she seemed to suffer, was when she had to spurt out some bad dialog here and there, but that wasn't very often, she was wonderful!. Benno Fürmann is excellent as the psycho killer, he was simply chilling, and wonderfully OTT, he really gave me the creeps, and was one effective killer!. Anna Loos played her role very well, as the smart slut, I dug her. Sebastian Blomberg was great here as Caspar, he was quite likable, and had a mysterious character,his chemistry with Potente was also on, and there was a great twists involving him at the end. Holger Speckhahn was good as the Idiot Phil and did his job well. Traugott Buhre is good as Prof. Grombek. Arndt Schwering-Sohnrey was great as David, he had a really cool character, and I wish he didn't get killed of so soon. Rest of the cast do fine.<br /><br />Overall I highly recommend this great German slasher!. ***1/2 out of 5\n",
            "a very surprisingly underrated movie. very realistic. and authentic .with great Dialogue. being Italian, i can definitely relate to the situations and phrases used. I thought Joe Cortese was great. as a crazy mob cowboy type, and pesci and Vincent were great also. I liked the actor Criscuolo who played the boss. He was very authentic. i think the director Ralph devito was on his way to great things , but was cut down too early , maybe because he knew too much. i thought it was great. it deserved more airplay and recognition. it was a sleeper movie. great. very good. it really had good authenticity. it was well done.\n",
            "It's funny how time went by and never saw this movie...'till last week, when i was like under a spell. I saw it twice in a week and it still wasn't enough. It's a great movie and I will love to see it again. The story is great and it really moved me. I would love to live such a story. The actors are great, the music too and you can dream about your own love story. I just hope that someday I will find the opportunity to learn to dance like Johnny and Baby. I feel like dance connects people and brings them together. I think people should learn to dance...it helps a lot, especially in a relationship. It's great to feel the dance in your blood and in your body.\n",
            "This show is awesome! I love all the actors! It has great story lines and characters. It is the perfect drama. James Caan and Josh Duhamel have great dialogue. They both can be really funny.I miss Vanessa Marcil on General Hospital, but she's great on here. James Lesure is great! He can be hilarious. Molly Sims plays a dimwit very well. The writing is awesome!They keep up an excellent pace. The show can really leave you hanging, which is one of my favorite elements of a show. I cannot wait until the new season starts. This show makes it to the top ten of all my shows. I hope this show stays on for a really long time. If people know what good is, it will. I never want the show to end. Ever.\n"
          ],
          "name": "stdout"
        }
      ]
    },
    {
      "cell_type": "code",
      "metadata": {
        "id": "qd67iQgWbRbT",
        "colab_type": "code",
        "outputId": "cc0c446c-fbdc-447a-dd2d-691b8528fe81",
        "colab": {
          "base_uri": "https://localhost:8080/",
          "height": 292
        }
      },
      "source": [
        "# 15 most negative reviews\n",
        "for value in lr_predicted_probs_df.nlargest(15, 'neg_prob')['review'].values:\n",
        "  print (value)"
      ],
      "execution_count": 0,
      "outputs": [
        {
          "output_type": "stream",
          "text": [
            "This was truly horrible. Bad acting, bad writing, bad effects, bad scripting, bad camera shots, bad filming, bad characters, bad music, bad editing, bad casting, bad storyline, bad ... well, you get the idea. It was just, just ... what's the word? Oh yeah ... BAD!\n",
            "As you can tell from the other comments, this movie is just about the WORST film ever made. Let me see how many different words I can use to describe it: Boring, Unbearable, Laughable, Lousy, Stupid, Horrible.....<br /><br />I could go on with such descriptions but you probably get the point.<br /><br />I would have given this a 0, if possible--bad acting, bad directing, bad production, bad plot.<br /><br />This was made in 2001 and it looks more like 1965. Very low budget, boring plot, horrible acting, really bad special effects, etc...<br /><br />I rarely ever see a Sci-Fi film I absolutely think is this bad. I mean this is pure garbage. It has nothing going for it either. As far as a \"B-movie\" this is the very bottom of the lot.<br /><br />I think I would be more entertained by staring at a blank piece of paper for 90 minutes. Junk like this gives good low-budget \"B\" movies a bad name. This makes Ed Wood movies look good.<br /><br />The thing about watching direct-to-video movies is, just when you think you've seen the worst, you see something even worse!<br /><br />DJ Perry is a horrible actor and has no individual characteristics that make him stand out.<br /><br />Avoid this waste at all costs! Oh the humanity!\n",
            "This is just the same old crap that is spewed from amateur idiots who have no clue how to make a movie--gee maybe that's why it is a straight-to-video wanna-be movie!<br /><br />I guess it is my fault for actually spending money to see it (one of the worst decisions I have ever made). What a waste. I usually like B movies, some of them are actually quite good--but this is just too ridiculous and stupid to even be funny.<br /><br />The losers that made this junk deserve to be put out of business for wasting everyone's time and money making a movie that obviously doesn't even deserve to be on film! These so-called movie makers have absolutely NO talent!<br /><br />Stupid plot, horrible acting (especially the drag queens--what sicko would actually find that sexy?!), lame writing (if there even was a script--seems like the kinda bull**** someone just made up on the spot)<br /><br />What is stunning about this movie is its utter lack of anything well-done at all.<br /><br />How much attention to detail would it take to insure that every frame of a film would be so far below any reasonable standards? I don't think it would be possible to make such a bad movie intentionally, and it is inconceivable that sheer bad luck could produce such consistently awful results.<br /><br />Anyway, avoid this stink bomb at all costs!!!!!!!!!!!!!!!!\n",
            "I rented this movie today... worst movie EVER. It was a total waste of time and a horrible story. The acting was horrible, especially by the actress of \"Sai\". She was so bad it was ridiculous. I can't tell if it was her bad acting or because the character was just that stupid in the first place. I can't even get my mind wrapped around just how awful and pointless this whole movie was. I'm surprised someone even thought it was a good idea to FILM this movie and bother to release it.<br /><br />If you're looking for a good Vampire/Horror flick.. this is not the movie for you. Move right along! It's a waste of time and money. Heck, I wouldn't even DOWNLOAD this movie if someone PAID me.<br /><br />This movie is so bad it doesn't even deserve a \"1\". I wish I could give it a \"0\"!\n",
            "This movie is pathetic in every way possible. Bad acting, horrible script (was there one?), terrible editing, lousy cinematography, cheap humor. Just plain horrible.<br /><br />I had seen 'The Wishmaster' a couple weeks before this movie and I thought it was a dead-ringer for worst movie of the year. Then, I saw 'The Pest' and suddenly 'The Wishmaster' didn't seem so bad at all.<br /><br />Bad Bad Bad. Excruciatingly bad.\n",
            "This was a very disappointing movie. I would definitely call this the worst movie of all time.<br /><br />The acting and writing were poor. And the jokes were not funny.<br /><br />I don't see why on earth this piece of crap was even made. I'm not a picky person and I can enjoy stupid things but this is just way too stupid and just plain awful.<br /><br />Avoid this wretched piece of garbage at all costs!\n",
            "This movie was a complete waste of time. The soundtrack was bad, story was lame and predictable, and the acting was terrible. One of the worst 25 movies I have ever seen. After the first ten minutes, the rest of the film was completely obvious.\n",
            "No idea how this is rated as high as it is (5.8 at the time of writing) but this movie was absolutely horrible. The acting wasn't entirely bad but it really had no point whatsoever and the overall quality was poor. Its obviously a B movie (or a C if such a thing exists) and it looks like it was made over a weekend at a friends house or something. Im all for low budget movies and I generally watch any I come across but this one is really really bad. I mean like \"The Fanglys\" bad. I don't know what else to say but trust in this as I have indeed sat thru this horrible horrible movie and I can save you the effort... Don't bother. Seriously... Just don't.\n",
            "For years I hesitated watching this movie. Now, I know why. Not only is it a comedy that fails at being even remotely funny, but there's also just nothing to laugh *at* about the movie. It was even worse than I'd expected. I rented this sucker and still felt cheated out of time more than money. I have never seen a film that annoyed me that much. It is a movie about stupid people that are doing stupid and terrible things. I don't really know either how someone with common sense could actually act in this kind of movie. I have used IMDb for some time but felt obligated to register just to help prevent poor unsuspecting folks from renting or, worse, buying this stinker!! Really a waste of time and money. I must say that the plot line is awful.\n",
            "Woa, talk about awful. Do not waste your time. I wish I had seen the other use comments first. <br /><br />I have to admit, I didn't watch the whole thing. It was just too horrible. The worst, sappiest dialogue... I could go on and on. But what really made it unwatchable was the direction. The poor actors. You can't even tell if they have any talent because they not only have pathetic lines to speak but the director gave them no action. If you check the director's filmography on this site you will see why this film didn't have a chance. <br /><br />This would not even be good as a made for TV flick. <br /><br />Ouch!\n",
            "Predator Island starts as six friends, Eric (Tom Dahl), Chris (Dan Gordon) along with Heather (Iris McQuillan-Grace), Kim (Iana Baker) & Denise (Melissa Roby) get invited to spend sometime on Kevin's (Michael Wrann) father's boat partying in the open sea. What could go wrong with such a super sounding idea? Well for starters a big green meteorite could crash into the sea near your boat & an alien life-force could emerge from it & try to kill all of you, then again that's just a ridiculously stupid idea, isn't it?<br /><br />Co-edited, written & directed by Steven Castle I thought Predator Island was crap & it's a simple & straight forward as that really. The script is of the worst kind, you know the sort of abomination that's full of highly annoying teenage character's who do & say the most stupid things, it's full of clichés & is utterly predictable, it makes next-to-no sense, things just suddenly happen without any build up or explanation, it's boring even at only 70 odd minutes & it has virtually no entertainment value whatsoever, not even unintentional laugh value. The film doesn't really have much of what I would call a plot, there's no explanation given as to why or how this alien creature can take over people's minds or why it can be selective in the sense that one moment the person will be 'normal' the next, when the story calls for it & with no apparent cause, they suddenly get green glowing eyes & a sudden urge to turn cannibal. There's not enough horror in it, the so-called action scenes are pitiful & I really don't want to waste another second thinking about Predator Island let alone wasting my precious energy typing these words...<br /><br />Director Castle doesn't do anything to make this thing watchable & the 'special effects' are absolutely terrible, this alien creature dude wouldn't even get into a 50's sci-fi film. The filmmakers even play some blooper footage over the end credits but this has to be the least funny collection of mistakes ever, I mean they can't even get it wrong right if you know what I mean! Forget about any decent gore as there isn't any, there's a bit of cannibalism & some intestines placed on the unfortunate actors stomach so another unfortunate actor can pick them up & pretend to eat them.<br /><br />With a supposed budget of about $150,000 I have to concede that the filmmakers were working on a seriously low budget, that's still no excuse for making such a poor film. The whole thing looks very cheap & the acting is pretty bad.<br /><br />Predator Island is crap, I'm sorry but that's the way it is & I just fail to see what anyone would get out of it. In my humble opinion this probably one to avoid.\n",
            "I bought this movie sight unseen at a sci-fi convention and I got what I deserved for doing something so silly. Simply put this movie is implausible, boring and unwatchable.<br /><br />I was so bored and disgusted with the lack of plot development that I turned it off to watch a repeat of Mythbusters. I understand that this was a very low budget move, or least it looked like a very low budget move, but that does not excuse the horrible acting, terrible plot and even worse camera work. It looks like something a group of college students did in between classes and getting drunk.<br /><br />Maybe if the villain wasn't so laughable and the plot was something that actually could happen in real life with respect to law enforcement it might become so bad it's funny. This movie isn't funny, it's just bad.\n",
            "There are movies that are so bad, they're good. Then there's movies like Rest Stop that should just never have been made because they are just plain dreadful.<br /><br />Bad acting, unlikable characters, predictable plot and a supposedly supernatural twist that adds nothing to the story are all key failures. Some half decent special effects are about the only thing worthy of note. <br /><br />I can't even bring myself to write a plot outline because all I really want to do here is warn you not to waste your time and money on this movie. Do yourself a favour and don't even bother with this film at all. It's 1.5 hours of your life that you will never get back. <br /><br />1/10\n",
            "OK, I would give this a 1, but I'm gonna give it a two because I laughed while watching this film...First of all, I can make a much better movie than this one...in a week...The special effects made this film look like a joke. One shouldn't make such films with horrible special effects because then people won't take it seriously. The acting and direction was also horrible. The screenplay had many plot holes and the whole film wasn't believable at all. This has to be the worst Indian film ever. The songs were also bad. The acting was bad and artificial. Need I say more. Don't watch this movie unless you are curious to see how bad it is. That's why I watched it. I am going into film and I wanted to see how bad a bad film can get. Trust me, I watched one of the worst films in history if not THE worst film.\n",
            "This film is in a dead tie with the original for worst film ever made. I think this one may be slightly worse, if anything. SPOILER ALERT!!! Here are these survivors on a ship that's been capsized for a long time. Improbable? No - IMPOSSIBLE. The whole premise is so laughable as to not be funny. There are some pretty big names in the film, and even they couldn't save this sorry thing. I find it truly a waste of good celluloid. After seeing this, I also unfortunately decided that it had been a waste of my time. Don't bother with this one. Or the original for that matter! I gave it a 2, mainly because they throw votes of 1 out.\n"
          ],
          "name": "stdout"
        }
      ]
    },
    {
      "cell_type": "markdown",
      "metadata": {
        "id": "RP0clVSw_VAs",
        "colab_type": "text"
      },
      "source": [
        "#Trash"
      ]
    },
    {
      "cell_type": "code",
      "metadata": {
        "colab_type": "code",
        "id": "2clXLgi3tBUw",
        "nbpresent": {
          "id": "b97b5e2f-fdad-43f5-abe7-a6715c42522e"
        },
        "outputId": "8d5ed1c1-3e93-4e60-b5dd-5ba84472d4ac",
        "colab": {
          "base_uri": "https://localhost:8080/",
          "height": 306
        }
      },
      "source": [
        "from sklearn.pipeline import Pipeline\n",
        "from sklearn.feature_extraction.text import TfidfTransformer\n",
        "\n",
        "text_clf = Pipeline([('vect', CountVectorizer(ngram_range = (2,3))), \n",
        "                     ('tfidf', TfidfTransformer()), \n",
        "                     ('clf', MultinomialNB())]) \n",
        "text_clf "
      ],
      "execution_count": 0,
      "outputs": [
        {
          "output_type": "execute_result",
          "data": {
            "text/plain": [
              "Pipeline(memory=None,\n",
              "         steps=[('vect',\n",
              "                 CountVectorizer(analyzer='word', binary=False,\n",
              "                                 decode_error='strict',\n",
              "                                 dtype=<class 'numpy.int64'>, encoding='utf-8',\n",
              "                                 input='content', lowercase=True, max_df=1.0,\n",
              "                                 max_features=None, min_df=1,\n",
              "                                 ngram_range=(2, 3), preprocessor=None,\n",
              "                                 stop_words=None, strip_accents=None,\n",
              "                                 token_pattern='(?u)\\\\b\\\\w\\\\w+\\\\b',\n",
              "                                 tokenizer=None, vocabulary=None)),\n",
              "                ('tfidf',\n",
              "                 TfidfTransformer(norm='l2', smooth_idf=True,\n",
              "                                  sublinear_tf=False, use_idf=True)),\n",
              "                ('clf',\n",
              "                 MultinomialNB(alpha=1.0, class_prior=None, fit_prior=True))],\n",
              "         verbose=False)"
            ]
          },
          "metadata": {
            "tags": []
          },
          "execution_count": 39
        }
      ]
    },
    {
      "cell_type": "code",
      "metadata": {
        "colab_type": "code",
        "nbpresent": {
          "id": "df977cc2-ab45-4767-9ed7-d00bf9a37d21"
        },
        "id": "gntQ2oIQ_466",
        "colab": {}
      },
      "source": [
        "clf=text_clf\n",
        "clf.fit(train_data, train_labels)\n",
        "predicted_labels = clf.predict(test_data)"
      ],
      "execution_count": 0,
      "outputs": []
    },
    {
      "cell_type": "code",
      "metadata": {
        "colab_type": "code",
        "id": "iSHNJ8E4_47G",
        "colab": {}
      },
      "source": [
        "predicted_probs = clf.predict_proba(X_test)\n",
        "fpr, tpr, thresholds = roc_curve(test_labels, predicted_probs[:, 1])\n",
        "\n",
        "pyplot.plot(fpr, tpr, marker='.', label='Test')\n",
        "pyplot.xlabel('False Positive Rate')\n",
        "pyplot.ylabel('True Positive Rate')\n",
        "pyplot.legend()\n",
        "pyplot.show()"
      ],
      "execution_count": 0,
      "outputs": []
    },
    {
      "cell_type": "code",
      "metadata": {
        "colab_type": "code",
        "outputId": "cf5cd85c-f1ed-4a4b-e0d9-a07bdbfcb8af",
        "id": "5ZFW0sWS_47K",
        "colab": {
          "base_uri": "https://localhost:8080/",
          "height": 34
        }
      },
      "source": [
        "print(roc_auc_score(test_labels, predicted_probs[:, 1]))"
      ],
      "execution_count": 0,
      "outputs": [
        {
          "output_type": "stream",
          "text": [
            "0.7028\n"
          ],
          "name": "stdout"
        }
      ]
    },
    {
      "cell_type": "code",
      "metadata": {
        "colab_type": "code",
        "nbpresent": {
          "id": "2a5a0f46-caf9-4d1c-9fdb-0fa59ec89ccf"
        },
        "outputId": "e6926f96-6649-4b37-a79d-2ad44103ef37",
        "id": "UZCd9gci_47R",
        "colab": {
          "base_uri": "https://localhost:8080/",
          "height": 85
        }
      },
      "source": [
        "acc = accuracy_score(test_labels, predicted_labels)\n",
        "micro_f1 = f1_score(test_labels, predicted_labels, average = 'micro')\n",
        "micro_p = precision_score(test_labels, predicted_labels, average = 'micro')\n",
        "micro_r = recall_score(test_labels, predicted_labels, average = 'micro')\n",
        "macro_f1 = f1_score(test_labels, predicted_labels, average = 'macro')\n",
        "macro_p = precision_score(test_labels, predicted_labels, average = 'macro')\n",
        "macro_r = recall_score(test_labels, predicted_labels, average = 'macro')\n",
        "print('acc={0:1.4f}'.format(acc))\n",
        "print('micro F1={0:1.4f}, micro P={1:1.4f}, micro R={2:1.4f}'.format(micro_f1, micro_p, micro_r))\n",
        "print('macro F1={0:1.4f}, macro P={1:1.4f}, macro R={2:1.4f}\\n'.format(macro_f1, macro_p, macro_r))"
      ],
      "execution_count": 0,
      "outputs": [
        {
          "output_type": "stream",
          "text": [
            "acc=0.8820\n",
            "micro F1=0.8820, micro P=0.8820, micro R=0.8820\n",
            "macro F1=0.8818, macro P=0.8841, macro R=0.8820\n",
            "\n"
          ],
          "name": "stdout"
        }
      ]
    },
    {
      "cell_type": "code",
      "metadata": {
        "colab_type": "code",
        "nbpresent": {
          "id": "c299e1d2-b14f-4cd9-89af-9ad4c3374247"
        },
        "outputId": "748cc6c5-4fdb-4b59-bee1-2a0e20cdf985",
        "id": "v1mqeFyw_47Y",
        "colab": {
          "base_uri": "https://localhost:8080/",
          "height": 281
        }
      },
      "source": [
        "categories = 'pos neg'.split()\n",
        "sns.heatmap(data=confusion_matrix(test_labels, predicted_labels), \n",
        "            annot=True, fmt='d', cbar=False, xticklabels=categories, yticklabels=categories)\n",
        "plt.title(\"Confusion matrix\")\n",
        "plt.show()"
      ],
      "execution_count": 0,
      "outputs": [
        {
          "output_type": "display_data",
          "data": {
            "image/png": "[encoded data removed]",
            "text/plain": [
              "<Figure size 432x288 with 1 Axes>"
            ]
          },
          "metadata": {
            "tags": []
          }
        }
      ]
    }
  ]
}
