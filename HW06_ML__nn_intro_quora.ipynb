{
  "nbformat": 4,
  "nbformat_minor": 0,
  "metadata": {
    "colab": {
      "name": "HW06_ML__nn_intro_quora.ipynb",
      "provenance": [],
      "collapsed_sections": [],
      "mount_file_id": "1-ajdmovSaoJejm9S2wIfXUq0dkY-BMpH",
      "authorship_tag": "ABX9TyPwFozNXWJFpUtw62pTq2AW",
      "include_colab_link": true
    },
    "kernelspec": {
      "name": "python3",
      "display_name": "Python 3"
    }
  },
  "cells": [
    {
      "cell_type": "markdown",
      "metadata": {
        "id": "view-in-github",
        "colab_type": "text"
      },
      "source": [
        "<a href=\"https://colab.research.google.com/github/lapythie/ml/blob/master/HW06_ML__nn_intro_quora.ipynb\" target=\"_parent\"><img src=\"https://colab.research.google.com/assets/colab-badge.svg\" alt=\"Open In Colab\"/></a>"
      ]
    },
    {
      "cell_type": "code",
      "metadata": {
        "id": "7mXiMNdANzIN",
        "colab_type": "code",
        "colab": {}
      },
      "source": [
        "import spacy\n",
        "# для лемматизации, делать её будем в последнюю очередь\n",
        "nlp = spacy.load(\"en_core_web_sm\", \\\n",
        "                     disable=['ner', 'parser', 'tagger', 'textcat', 'tokenizer'])"
      ],
      "execution_count": null,
      "outputs": []
    },
    {
      "cell_type": "code",
      "metadata": {
        "id": "mw42mZADVCre",
        "colab_type": "code",
        "colab": {}
      },
      "source": [
        "import tensorflow as tf\n",
        "import pandas as pd\n",
        "import numpy as np\n",
        "import gensim\n",
        "from sklearn.metrics import classification_report\n",
        "from string import punctuation\n",
        "punctuation += '«»—–…“”‘•'\n",
        "from sklearn.model_selection import train_test_split\n",
        "from collections import Counter\n",
        "import matplotlib.pyplot as plt\n",
        "%matplotlib inline"
      ],
      "execution_count": null,
      "outputs": []
    },
    {
      "cell_type": "code",
      "metadata": {
        "id": "EupI4jBrVI9S",
        "colab_type": "code",
        "colab": {}
      },
      "source": [
        "def preprocess(text):\n",
        "    tokens = text.lower().split()\n",
        "    tokens = [token.strip(punctuation) for token in tokens]\n",
        "    return tokens"
      ],
      "execution_count": null,
      "outputs": []
    },
    {
      "cell_type": "code",
      "metadata": {
        "id": "2TRp9Avjf_f4",
        "colab_type": "code",
        "colab": {}
      },
      "source": [
        ""
      ],
      "execution_count": null,
      "outputs": []
    },
    {
      "cell_type": "markdown",
      "metadata": {
        "id": "K5XWIw35InCg",
        "colab_type": "text"
      },
      "source": [
        "Фасттекст и quora"
      ]
    },
    {
      "cell_type": "markdown",
      "metadata": {
        "id": "l4iBsS6gNZ_n",
        "colab_type": "text"
      },
      "source": [
        "Задание: \n",
        "1) На одной из задач сравните, что лучше:\n",
        "\n",
        "а) конкатенировать эмбединги в один большой эмбединг, \n",
        "\n",
        "б) усреднять эмбединги, \n",
        "\n",
        "в) складывать эмбединги. \n",
        "\n",
        "Зафиксируйте разбиение на train_test через random_seed, чтобы обучаться и оцениваться на одних и тех же данных. Параметры нейронок не нужно делать одинаковыми. Просто попробуйте добиться максимума от каждого из подходов."
      ]
    },
    {
      "cell_type": "code",
      "metadata": {
        "id": "AkNKNFYXnBrx",
        "colab_type": "code",
        "colab": {}
      },
      "source": [
        "def lemmatize(text):\n",
        "    tokens = ' '.join([token.strip(punctuation) for token in text.split()])\n",
        "    tokens = [token.lemma_.lower() if token.lemma_ != '-PRON-' else token.lemma_ for token in nlp(tokens)]\n",
        "    return tokens"
      ],
      "execution_count": null,
      "outputs": []
    },
    {
      "cell_type": "code",
      "metadata": {
        "id": "ZgrGa9VXIkSf",
        "colab_type": "code",
        "colab": {}
      },
      "source": [
        "quora = pd.read_csv('/content/drive/My Drive/Colab Notebooks/homework_ml_m1/HW06_ML_NN_INTRO/quora.csv')"
      ],
      "execution_count": null,
      "outputs": []
    },
    {
      "cell_type": "code",
      "metadata": {
        "id": "IzbMP5TiPqvt",
        "colab_type": "code",
        "colab": {}
      },
      "source": [
        "vocab = Counter()\n",
        "\n",
        "for text in quora.question_text:\n",
        "    vocab.update(preprocess(text))\n",
        "\n",
        "# len(vocab)"
      ],
      "execution_count": null,
      "outputs": []
    },
    {
      "cell_type": "code",
      "metadata": {
        "id": "h3Gz8mNdPqrY",
        "colab_type": "code",
        "colab": {}
      },
      "source": [
        "filtered_vocab = set()\n",
        "\n",
        "for word in vocab:\n",
        "    if vocab[word] > 50:\n",
        "        filtered_vocab.add(word)\n",
        "\n",
        "# len(filtered_vocab)"
      ],
      "execution_count": null,
      "outputs": []
    },
    {
      "cell_type": "code",
      "metadata": {
        "id": "km9So1UHPqoA",
        "colab_type": "code",
        "colab": {}
      },
      "source": [
        "word2id = {'UNK':1, 'PAD':0}\n",
        "\n",
        "for word in filtered_vocab:\n",
        "    word2id[word] = len(word2id)\n",
        "\n",
        "id2word = {i:word for word, i in word2id.items()}"
      ],
      "execution_count": null,
      "outputs": []
    },
    {
      "cell_type": "code",
      "metadata": {
        "id": "h_ytJEx5Pqim",
        "colab_type": "code",
        "colab": {
          "base_uri": "https://localhost:8080/",
          "height": 34
        },
        "outputId": "75b2ca8f-7d59-42cb-c716-12841345a8d0"
      },
      "source": [
        "X=[]\n",
        "\n",
        "for text in quora.question_text:\n",
        "    tokens = preprocess(text)\n",
        "    ids = [word2id.get(token, word2id['UNK']) for token in tokens]\n",
        "    X.append(ids)\n",
        "\n",
        "MAX_LEN = max(len(x) for x in X)\n",
        "MAX_LEN"
      ],
      "execution_count": null,
      "outputs": [
        {
          "output_type": "execute_result",
          "data": {
            "text/plain": [
              "134"
            ]
          },
          "metadata": {
            "tags": []
          },
          "execution_count": 8
        }
      ]
    },
    {
      "cell_type": "code",
      "metadata": {
        "id": "nH_RwCLdPqcd",
        "colab_type": "code",
        "colab": {
          "base_uri": "https://localhost:8080/",
          "height": 33
        },
        "outputId": "b754f978-c349-4aee-c602-a71537228338"
      },
      "source": [
        "X = tf.keras.preprocessing.sequence.pad_sequences(X, maxlen=MAX_LEN)\n",
        "X.shape"
      ],
      "execution_count": null,
      "outputs": [
        {
          "output_type": "execute_result",
          "data": {
            "text/plain": [
              "(223549, 512)"
            ]
          },
          "metadata": {
            "tags": []
          },
          "execution_count": 15
        }
      ]
    },
    {
      "cell_type": "code",
      "metadata": {
        "id": "3pT4DD4Nx315",
        "colab_type": "code",
        "colab": {
          "base_uri": "https://localhost:8080/",
          "height": 33
        },
        "outputId": "9798856a-b80c-48d9-a87f-d8f0bb513f58"
      },
      "source": [
        "X_val = tf.keras.preprocessing.sequence.pad_sequences(X_val, maxlen=MAX_LEN)\n",
        "X_val.shape"
      ],
      "execution_count": null,
      "outputs": [
        {
          "output_type": "execute_result",
          "data": {
            "text/plain": [
              "(8000, 512)"
            ]
          },
          "metadata": {
            "tags": []
          },
          "execution_count": 16
        }
      ]
    },
    {
      "cell_type": "code",
      "metadata": {
        "colab_type": "code",
        "id": "zjw9EBH9cX84",
        "colab": {}
      },
      "source": [
        "y = quora.target.values\n",
        "X_train, X_valid, y_train, y_valid = train_test_split(X, y, test_size=0.05, random_state=42)"
      ],
      "execution_count": null,
      "outputs": []
    },
    {
      "cell_type": "markdown",
      "metadata": {
        "colab_type": "text",
        "id": "yhN9fpkzcV26"
      },
      "source": [
        "# *1) На одной из задач сравните, что лучше: а) конкатенировать эмбединги в один большой эмбединг, б) усреднять эмбединги, в) складывать эмбединги.*\n",
        "\n",
        "*Зафиксируйте разбиение на train_test через random_seed, чтобы обучаться и оцениваться на одних и тех же данных. Параметры нейронок не нужно делать одинаковыми. Просто попробуйте добиться максимума от каждого из подходов.*"
      ]
    },
    {
      "cell_type": "markdown",
      "metadata": {
        "id": "MsfsIjLaaLV5",
        "colab_type": "text"
      },
      "source": [
        "## Конкатенация"
      ]
    },
    {
      "cell_type": "code",
      "metadata": {
        "id": "JUDtqP9ZTtQ6",
        "colab_type": "code",
        "colab": {}
      },
      "source": [
        "inputs = tf.keras.layers.Input(shape=(MAX_LEN,))\n",
        "embeddings = tf.keras.layers.Embedding(\n",
        "    input_dim=len(word2id), output_dim=200)(inputs, )\n",
        "mean = tf.keras.layers.Flatten()(embeddings)\n",
        "dense1 = tf.keras.layers.Dense(64, activation='relu')(mean)\n",
        "dense2 = tf.keras.layers.Dense(64, activation='relu')(dense1)\n",
        "dense3 = tf.keras.layers.Dense(64, activation='relu')(dense2)\n",
        "outputs = tf.keras.layers.Dense(1, activation='sigmoid')(dense3)\n",
        "\n",
        "model = tf.keras.Model(inputs=inputs, outputs=outputs)\n",
        "optimizer = tf.keras.optimizers.Adam(learning_rate=0.0001)\n",
        "model.compile(optimizer=optimizer,\n",
        "              loss='binary_crossentropy',\n",
        "              metrics=['accuracy'])"
      ],
      "execution_count": null,
      "outputs": []
    },
    {
      "cell_type": "code",
      "metadata": {
        "id": "02NXInJBTtNz",
        "colab_type": "code",
        "colab": {
          "base_uri": "https://localhost:8080/",
          "height": 410
        },
        "outputId": "d7d7fa85-bca2-4500-d3bd-4e3d5e8f4277"
      },
      "source": [
        "model.fit(X_train, y_train, \n",
        "          validation_data=(X_valid, y_valid),\n",
        "          batch_size=512,\n",
        "          epochs=10)"
      ],
      "execution_count": null,
      "outputs": [
        {
          "output_type": "stream",
          "text": [
            "Epoch 1/10\n",
            "2424/2424 [==============================] - 403s 166ms/step - loss: 0.1430 - accuracy: 0.9479 - val_loss: 0.1141 - val_accuracy: 0.9549\n",
            "Epoch 2/10\n",
            "2424/2424 [==============================] - 410s 169ms/step - loss: 0.1114 - accuracy: 0.9549 - val_loss: 0.1112 - val_accuracy: 0.9559\n",
            "Epoch 3/10\n",
            "2424/2424 [==============================] - 405s 167ms/step - loss: 0.1059 - accuracy: 0.9568 - val_loss: 0.1128 - val_accuracy: 0.9562\n",
            "Epoch 4/10\n",
            "2424/2424 [==============================] - 392s 162ms/step - loss: 0.1008 - accuracy: 0.9586 - val_loss: 0.1139 - val_accuracy: 0.9555\n",
            "Epoch 5/10\n",
            "2424/2424 [==============================] - 406s 167ms/step - loss: 0.0946 - accuracy: 0.9613 - val_loss: 0.1198 - val_accuracy: 0.9548\n",
            "Epoch 6/10\n",
            "2424/2424 [==============================] - 408s 168ms/step - loss: 0.0869 - accuracy: 0.9647 - val_loss: 0.1242 - val_accuracy: 0.9531\n",
            "Epoch 7/10\n",
            "2424/2424 [==============================] - 394s 163ms/step - loss: 0.0786 - accuracy: 0.9688 - val_loss: 0.1309 - val_accuracy: 0.9501\n",
            "Epoch 8/10\n",
            "2424/2424 [==============================] - 388s 160ms/step - loss: 0.0707 - accuracy: 0.9724 - val_loss: 0.1419 - val_accuracy: 0.9504\n",
            "Epoch 9/10\n",
            "2424/2424 [==============================] - 409s 169ms/step - loss: 0.0636 - accuracy: 0.9757 - val_loss: 0.1541 - val_accuracy: 0.9493\n",
            "Epoch 10/10\n",
            "2424/2424 [==============================] - 410s 169ms/step - loss: 0.0573 - accuracy: 0.9785 - val_loss: 0.1625 - val_accuracy: 0.9489\n"
          ],
          "name": "stdout"
        },
        {
          "output_type": "execute_result",
          "data": {
            "text/plain": [
              "<tensorflow.python.keras.callbacks.History at 0x7f5d54cede80>"
            ]
          },
          "metadata": {
            "tags": []
          },
          "execution_count": 30
        }
      ]
    },
    {
      "cell_type": "code",
      "metadata": {
        "id": "sEyGGigrTtEq",
        "colab_type": "code",
        "colab": {
          "base_uri": "https://localhost:8080/",
          "height": 312
        },
        "outputId": "e71d7535-3f8e-4c51-f399-576d5a9e2bad"
      },
      "source": [
        "print(model.history.history.keys())\n",
        "# summarize history for accuracy\n",
        "plt.plot(model.history.history['accuracy'])\n",
        "plt.plot(model.history.history['val_accuracy'])\n",
        "plt.title('model accuracy')\n",
        "plt.ylabel('accuracy')\n",
        "plt.xlabel('epoch')\n",
        "plt.legend(['train', 'val'], loc='upper left')\n",
        "plt.show()"
      ],
      "execution_count": null,
      "outputs": [
        {
          "output_type": "stream",
          "text": [
            "dict_keys(['loss', 'accuracy', 'val_loss', 'val_accuracy'])\n"
          ],
          "name": "stdout"
        },
        {
          "output_type": "display_data",
          "data": {
            "image/png": "[encoded data removed]",
            "text/plain": [
              "<Figure size 432x288 with 1 Axes>"
            ]
          },
          "metadata": {
            "tags": [],
            "needs_background": "light"
          }
        }
      ]
    },
    {
      "cell_type": "code",
      "metadata": {
        "id": "5eW7zCAFTs6N",
        "colab_type": "code",
        "colab": {}
      },
      "source": [
        ""
      ],
      "execution_count": null,
      "outputs": []
    },
    {
      "cell_type": "code",
      "metadata": {
        "id": "j6b5o5JDTsvQ",
        "colab_type": "code",
        "colab": {}
      },
      "source": [
        "preds = model.predict(X_valid).reshape(-1)"
      ],
      "execution_count": null,
      "outputs": []
    },
    {
      "cell_type": "code",
      "metadata": {
        "id": "P_9brJwCTskJ",
        "colab_type": "code",
        "colab": {
          "base_uri": "https://localhost:8080/",
          "height": 176
        },
        "outputId": "4a288c79-c181-44b9-fffd-cde9e0572787"
      },
      "source": [
        "print(classification_report(y_valid, (preds > 0.5).astype(int)))"
      ],
      "execution_count": null,
      "outputs": [
        {
          "output_type": "stream",
          "text": [
            "              precision    recall  f1-score   support\n",
            "\n",
            "           0       0.97      0.98      0.97     61365\n",
            "           1       0.60      0.47      0.52      3942\n",
            "\n",
            "    accuracy                           0.95     65307\n",
            "   macro avg       0.78      0.72      0.75     65307\n",
            "weighted avg       0.94      0.95      0.95     65307\n",
            "\n"
          ],
          "name": "stdout"
        }
      ]
    },
    {
      "cell_type": "markdown",
      "metadata": {
        "id": "fQ4ayY5Eh4vz",
        "colab_type": "text"
      },
      "source": [
        "## Усреднение"
      ]
    },
    {
      "cell_type": "code",
      "metadata": {
        "id": "JRvWxsSxh359",
        "colab_type": "code",
        "colab": {}
      },
      "source": [
        "inputs = tf.keras.layers.Input(shape=(MAX_LEN,))\n",
        "embeddings = tf.keras.layers.Embedding(\n",
        "    input_dim=len(word2id), output_dim=200)(inputs, )\n",
        "# mean = tf.keras.layers.Flatten()(embeddings) \n",
        "mean = tf.keras.layers.Lambda(lambda x: tf.keras.backend.mean(x, axis=1))(embeddings)\n",
        "dense1 = tf.keras.layers.Dense(64, activation='relu')(mean)\n",
        "dense2 = tf.keras.layers.Dense(64, activation='relu')(dense1)\n",
        "dense3 = tf.keras.layers.Dense(64, activation='relu')(dense2)\n",
        "outputs = tf.keras.layers.Dense(1, activation='sigmoid')(dense3)\n",
        "\n",
        "model = tf.keras.Model(inputs=inputs, outputs=outputs)\n",
        "optimizer = tf.keras.optimizers.Adam(learning_rate=0.0001)\n",
        "model.compile(optimizer=optimizer,\n",
        "              loss='binary_crossentropy',\n",
        "              metrics=['accuracy'])"
      ],
      "execution_count": null,
      "outputs": []
    },
    {
      "cell_type": "code",
      "metadata": {
        "id": "7PVBTKt9jG4X",
        "colab_type": "code",
        "colab": {
          "base_uri": "https://localhost:8080/",
          "height": 410
        },
        "outputId": "f2d53804-736b-4f44-c4f6-20797bfc02da"
      },
      "source": [
        "model.fit(X_train, y_train, \n",
        "          validation_data=(X_valid, y_valid),\n",
        "          batch_size=512,\n",
        "          epochs=10)"
      ],
      "execution_count": null,
      "outputs": [
        {
          "output_type": "stream",
          "text": [
            "Epoch 1/10\n",
            "2424/2424 [==============================] - 184s 76ms/step - loss: 0.2226 - accuracy: 0.9376 - val_loss: 0.1375 - val_accuracy: 0.9489\n",
            "Epoch 2/10\n",
            "2424/2424 [==============================] - 183s 75ms/step - loss: 0.1297 - accuracy: 0.9498 - val_loss: 0.1198 - val_accuracy: 0.9532\n",
            "Epoch 3/10\n",
            "2424/2424 [==============================] - 182s 75ms/step - loss: 0.1189 - accuracy: 0.9525 - val_loss: 0.1151 - val_accuracy: 0.9543\n",
            "Epoch 4/10\n",
            "2424/2424 [==============================] - 166s 68ms/step - loss: 0.1145 - accuracy: 0.9539 - val_loss: 0.1134 - val_accuracy: 0.9548\n",
            "Epoch 5/10\n",
            "2424/2424 [==============================] - 166s 68ms/step - loss: 0.1121 - accuracy: 0.9546 - val_loss: 0.1126 - val_accuracy: 0.9550\n",
            "Epoch 6/10\n",
            "2424/2424 [==============================] - 167s 69ms/step - loss: 0.1104 - accuracy: 0.9552 - val_loss: 0.1126 - val_accuracy: 0.9555\n",
            "Epoch 7/10\n",
            "2424/2424 [==============================] - 166s 68ms/step - loss: 0.1092 - accuracy: 0.9556 - val_loss: 0.1124 - val_accuracy: 0.9559\n",
            "Epoch 8/10\n",
            "2424/2424 [==============================] - 164s 68ms/step - loss: 0.1083 - accuracy: 0.9559 - val_loss: 0.1120 - val_accuracy: 0.9557\n",
            "Epoch 9/10\n",
            "2424/2424 [==============================] - 163s 67ms/step - loss: 0.1076 - accuracy: 0.9561 - val_loss: 0.1120 - val_accuracy: 0.9560\n",
            "Epoch 10/10\n",
            "2424/2424 [==============================] - 164s 68ms/step - loss: 0.1069 - accuracy: 0.9564 - val_loss: 0.1124 - val_accuracy: 0.9559\n"
          ],
          "name": "stdout"
        },
        {
          "output_type": "execute_result",
          "data": {
            "text/plain": [
              "<tensorflow.python.keras.callbacks.History at 0x7f5d478bc748>"
            ]
          },
          "metadata": {
            "tags": []
          },
          "execution_count": 36
        }
      ]
    },
    {
      "cell_type": "code",
      "metadata": {
        "id": "BQqIQPcwh3ym",
        "colab_type": "code",
        "colab": {
          "base_uri": "https://localhost:8080/",
          "height": 312
        },
        "outputId": "196a4598-ad01-4b10-dc21-6ad6b7e59052"
      },
      "source": [
        "print(model.history.history.keys())\n",
        "# summarize history for accuracy\n",
        "plt.plot(model.history.history['accuracy'])\n",
        "plt.plot(model.history.history['val_accuracy'])\n",
        "plt.title('model accuracy')\n",
        "plt.ylabel('accuracy')\n",
        "plt.xlabel('epoch')\n",
        "plt.legend(['train', 'val'], loc='upper left')\n",
        "plt.show()"
      ],
      "execution_count": null,
      "outputs": [
        {
          "output_type": "stream",
          "text": [
            "dict_keys(['loss', 'accuracy', 'val_loss', 'val_accuracy'])\n"
          ],
          "name": "stdout"
        },
        {
          "output_type": "display_data",
          "data": {
            "image/png": "[encoded data removed]",
            "text/plain": [
              "<Figure size 432x288 with 1 Axes>"
            ]
          },
          "metadata": {
            "tags": [],
            "needs_background": "light"
          }
        }
      ]
    },
    {
      "cell_type": "code",
      "metadata": {
        "id": "FkloaYmIh3uQ",
        "colab_type": "code",
        "colab": {}
      },
      "source": [
        "preds = model.predict(X_valid).reshape(-1)"
      ],
      "execution_count": null,
      "outputs": []
    },
    {
      "cell_type": "code",
      "metadata": {
        "id": "xOLnw7Ghh3kF",
        "colab_type": "code",
        "colab": {
          "base_uri": "https://localhost:8080/",
          "height": 176
        },
        "outputId": "bc5aa0a0-b01f-4373-8905-85de10e12ea1"
      },
      "source": [
        "print(classification_report(y_valid, (preds > 0.5).astype(int)))"
      ],
      "execution_count": null,
      "outputs": [
        {
          "output_type": "stream",
          "text": [
            "              precision    recall  f1-score   support\n",
            "\n",
            "           0       0.97      0.98      0.98     61365\n",
            "           1       0.68      0.51      0.58      3942\n",
            "\n",
            "    accuracy                           0.96     65307\n",
            "   macro avg       0.82      0.75      0.78     65307\n",
            "weighted avg       0.95      0.96      0.95     65307\n",
            "\n"
          ],
          "name": "stdout"
        }
      ]
    },
    {
      "cell_type": "markdown",
      "metadata": {
        "id": "aw9Vc346jOoW",
        "colab_type": "text"
      },
      "source": [
        "## Суммирование"
      ]
    },
    {
      "cell_type": "code",
      "metadata": {
        "id": "6myntHFXh3ZX",
        "colab_type": "code",
        "colab": {}
      },
      "source": [
        ""
      ],
      "execution_count": null,
      "outputs": []
    },
    {
      "cell_type": "code",
      "metadata": {
        "id": "BYduxn8tkWgQ",
        "colab_type": "code",
        "colab": {}
      },
      "source": [
        "inputs = tf.keras.layers.Input(shape=(MAX_LEN,))\n",
        "embeddings = tf.keras.layers.Embedding(\n",
        "    input_dim=len(word2id), output_dim=200)(inputs, )\n",
        "# mean = tf.keras.layers.Flatten()(embeddings) \n",
        "# mean = tf.keras.layers.Lambda(lambda x: tf.keras.backend.mean(x, axis=1))(embeddings)\n",
        "mean = tf.keras.layers.Lambda(lambda x: tf.keras.backend.sum(x, axis=1))(embeddings)\n",
        "dense1 = tf.keras.layers.Dense(64, activation='relu')(mean)\n",
        "dense2 = tf.keras.layers.Dense(64, activation='relu')(dense1)\n",
        "dense3 = tf.keras.layers.Dense(64, activation='relu')(dense2)\n",
        "outputs = tf.keras.layers.Dense(1, activation='sigmoid')(dense3)\n",
        "\n",
        "model = tf.keras.Model(inputs=inputs, outputs=outputs)\n",
        "optimizer = tf.keras.optimizers.Adam(learning_rate=0.0001)\n",
        "model.compile(optimizer=optimizer,\n",
        "              loss='binary_crossentropy',\n",
        "              metrics=['accuracy'])"
      ],
      "execution_count": null,
      "outputs": []
    },
    {
      "cell_type": "code",
      "metadata": {
        "id": "k6tGaVmlkWWl",
        "colab_type": "code",
        "colab": {
          "base_uri": "https://localhost:8080/",
          "height": 410
        },
        "outputId": "b9801fa0-745d-4f23-ddbb-1ec316a287f6"
      },
      "source": [
        "model.fit(X_train, y_train, \n",
        "          validation_data=(X_valid, y_valid),\n",
        "          batch_size=512,\n",
        "          epochs=10)"
      ],
      "execution_count": null,
      "outputs": [
        {
          "output_type": "stream",
          "text": [
            "Epoch 1/10\n",
            "2424/2424 [==============================] - 159s 66ms/step - loss: 0.1421 - accuracy: 0.9486 - val_loss: 0.1158 - val_accuracy: 0.9548\n",
            "Epoch 2/10\n",
            "2424/2424 [==============================] - 159s 65ms/step - loss: 0.1143 - accuracy: 0.9545 - val_loss: 0.1138 - val_accuracy: 0.9560\n",
            "Epoch 3/10\n",
            "2424/2424 [==============================] - 158s 65ms/step - loss: 0.1101 - accuracy: 0.9559 - val_loss: 0.1157 - val_accuracy: 0.9555\n",
            "Epoch 4/10\n",
            "2424/2424 [==============================] - 157s 65ms/step - loss: 0.1071 - accuracy: 0.9571 - val_loss: 0.1124 - val_accuracy: 0.9552\n",
            "Epoch 5/10\n",
            "2424/2424 [==============================] - 159s 66ms/step - loss: 0.1045 - accuracy: 0.9580 - val_loss: 0.1109 - val_accuracy: 0.9565\n",
            "Epoch 6/10\n",
            "2424/2424 [==============================] - 161s 67ms/step - loss: 0.1022 - accuracy: 0.9590 - val_loss: 0.1133 - val_accuracy: 0.9567\n",
            "Epoch 7/10\n",
            "2424/2424 [==============================] - 163s 67ms/step - loss: 0.0998 - accuracy: 0.9598 - val_loss: 0.1129 - val_accuracy: 0.9553\n",
            "Epoch 8/10\n",
            "2424/2424 [==============================] - 159s 66ms/step - loss: 0.0976 - accuracy: 0.9609 - val_loss: 0.1132 - val_accuracy: 0.9555\n",
            "Epoch 9/10\n",
            "2424/2424 [==============================] - 159s 66ms/step - loss: 0.0953 - accuracy: 0.9619 - val_loss: 0.1135 - val_accuracy: 0.9552\n",
            "Epoch 10/10\n",
            "2424/2424 [==============================] - 159s 66ms/step - loss: 0.0930 - accuracy: 0.9630 - val_loss: 0.1142 - val_accuracy: 0.9554\n"
          ],
          "name": "stdout"
        },
        {
          "output_type": "execute_result",
          "data": {
            "text/plain": [
              "<tensorflow.python.keras.callbacks.History at 0x7f55aeef31d0>"
            ]
          },
          "metadata": {
            "tags": []
          },
          "execution_count": 11
        }
      ]
    },
    {
      "cell_type": "code",
      "metadata": {
        "id": "LmSVlNb8kWL6",
        "colab_type": "code",
        "colab": {
          "base_uri": "https://localhost:8080/",
          "height": 312
        },
        "outputId": "0ba11203-0a69-4e4f-b5b5-290149148c49"
      },
      "source": [
        "print(model.history.history.keys())\n",
        "# summarize history for accuracy\n",
        "plt.plot(model.history.history['accuracy'])\n",
        "plt.plot(model.history.history['val_accuracy'])\n",
        "plt.title('model accuracy')\n",
        "plt.ylabel('accuracy')\n",
        "plt.xlabel('epoch')\n",
        "plt.legend(['train', 'val'], loc='upper left')\n",
        "plt.show()"
      ],
      "execution_count": null,
      "outputs": [
        {
          "output_type": "stream",
          "text": [
            "dict_keys(['loss', 'accuracy', 'val_loss', 'val_accuracy'])\n"
          ],
          "name": "stdout"
        },
        {
          "output_type": "display_data",
          "data": {
            "image/png": "[encoded data removed]",
            "text/plain": [
              "<Figure size 432x288 with 1 Axes>"
            ]
          },
          "metadata": {
            "tags": [],
            "needs_background": "light"
          }
        }
      ]
    },
    {
      "cell_type": "code",
      "metadata": {
        "id": "vaSEZp7Gkm90",
        "colab_type": "code",
        "colab": {}
      },
      "source": [
        "preds = model.predict(X_valid).reshape(-1)"
      ],
      "execution_count": null,
      "outputs": []
    },
    {
      "cell_type": "code",
      "metadata": {
        "id": "Sd12Xfs2km50",
        "colab_type": "code",
        "colab": {
          "base_uri": "https://localhost:8080/",
          "height": 176
        },
        "outputId": "f2e4ec9f-c9a7-445f-a3e7-b2480e623c61"
      },
      "source": [
        "print(classification_report(y_valid, (preds > 0.5).astype(int)))"
      ],
      "execution_count": null,
      "outputs": [
        {
          "output_type": "stream",
          "text": [
            "              precision    recall  f1-score   support\n",
            "\n",
            "           0       0.97      0.98      0.98     61365\n",
            "           1       0.65      0.57      0.61      3942\n",
            "\n",
            "    accuracy                           0.96     65307\n",
            "   macro avg       0.81      0.78      0.79     65307\n",
            "weighted avg       0.95      0.96      0.95     65307\n",
            "\n"
          ],
          "name": "stdout"
        }
      ]
    },
    {
      "cell_type": "markdown",
      "metadata": {
        "id": "gNVW9-59FnlC",
        "colab_type": "text"
      },
      "source": [
        "**Кажется, что суммирование работает лучше всего.**"
      ]
    },
    {
      "cell_type": "markdown",
      "metadata": {
        "id": "DAB6mHkOZTa-",
        "colab_type": "text"
      },
      "source": [
        "# *2) В одной из задач используйте сразу две предобученные эмбединг модели (можно фастекст и ворд2век, а можно просто 2 фастекста с разными параметрами) в одной нейронке.*\n",
        "\n",
        "*Попробуйте усреднять эмбединги и конкатенировать (общие эмбединги потом в один вектор собирайте любым способом - например, тем который оказался лучше в первой задаче).*\n",
        "\n",
        "*Подсказка: используйте functional api, сделайте два Embedding слоя и к их выходам примените слой Concatenate([emb1, emb2)) или Average([emb1, emb2))*\n",
        "\n",
        "*Бонусный балл можно получить за эксперименты с параметрами в Embbeding, Dense (поизучайте другие существующие параметры и попробуйте комбинировать несколько слоев с разным активациями) слоях, а также за эксперименты с улучшением нормализации.*"
      ]
    },
    {
      "cell_type": "markdown",
      "metadata": {
        "id": "WuCeauxiGg1l",
        "colab_type": "text"
      },
      "source": [
        "## Первый фасттекст, почти дефолтный"
      ]
    },
    {
      "cell_type": "code",
      "metadata": {
        "id": "_Y--G71CPUsq",
        "colab_type": "code",
        "colab": {}
      },
      "source": [
        "texts = quora.question_text.apply(preprocess).tolist()"
      ],
      "execution_count": null,
      "outputs": []
    },
    {
      "cell_type": "code",
      "metadata": {
        "id": "Yq5bpqpmOcfI",
        "colab_type": "code",
        "colab": {
          "base_uri": "https://localhost:8080/",
          "height": 52
        },
        "outputId": "560320a6-2a0f-4ae0-a1eb-000594bab99b"
      },
      "source": [
        "%%time\n",
        "ft = gensim.models.FastText(texts, size=200, iter=2)"
      ],
      "execution_count": null,
      "outputs": [
        {
          "output_type": "stream",
          "text": [
            "CPU times: user 6min 51s, sys: 3.2 s, total: 6min 54s\n",
            "Wall time: 3min 47s\n"
          ],
          "name": "stdout"
        }
      ]
    },
    {
      "cell_type": "code",
      "metadata": {
        "id": "tgIwPA8JbBdw",
        "colab_type": "code",
        "colab": {
          "base_uri": "https://localhost:8080/",
          "height": 285
        },
        "outputId": "3694a9ec-6c2f-4680-9840-5ad6ce6da4b3"
      },
      "source": [
        "ft.most_similar('xcfghjedfgbnjk')"
      ],
      "execution_count": null,
      "outputs": [
        {
          "output_type": "stream",
          "text": [
            "/usr/local/lib/python3.6/dist-packages/ipykernel_launcher.py:1: DeprecationWarning: Call to deprecated `most_similar` (Method will be removed in 4.0.0, use self.wv.most_similar() instead).\n",
            "  \"\"\"Entry point for launching an IPython kernel.\n",
            "/usr/local/lib/python3.6/dist-packages/gensim/matutils.py:737: FutureWarning: Conversion of the second argument of issubdtype from `int` to `np.signedinteger` is deprecated. In future, it will be treated as `np.int64 == np.dtype(int).type`.\n",
            "  if np.issubdtype(vec.dtype, np.int):\n"
          ],
          "name": "stderr"
        },
        {
          "output_type": "execute_result",
          "data": {
            "text/plain": [
              "[('yu', 0.8668746948242188),\n",
              " ('ao', 0.8360617160797119),\n",
              " ('az', 0.834072470664978),\n",
              " ('ez', 0.8272629976272583),\n",
              " ('zhao', 0.8266050815582275),\n",
              " ('zayn', 0.8249717950820923),\n",
              " ('kuei', 0.8245311975479126),\n",
              " ('zuko', 0.8212680220603943),\n",
              " ('j.k', 0.8212662935256958),\n",
              " ('f.c', 0.8169491291046143)]"
            ]
          },
          "metadata": {
            "tags": []
          },
          "execution_count": 30
        }
      ]
    },
    {
      "cell_type": "code",
      "metadata": {
        "id": "U6arEerqbVAD",
        "colab_type": "code",
        "colab": {
          "base_uri": "https://localhost:8080/",
          "height": 143
        },
        "outputId": "b0e7b819-1369-47ed-a93f-057852996bd4"
      },
      "source": [
        "weights = np.zeros((len(word2id), 200))\n",
        "for word, i in word2id.items():\n",
        "    if word == 'PAD':\n",
        "        continue\n",
        "    if word == 'UNK':\n",
        "        weights[i] = ft['cmurrvntbcmirbycw']\n",
        "    \n",
        "    try:\n",
        "        weights[i] = ft[word]\n",
        "    except KeyError:\n",
        "        weights[i] = ft['xcfghjedfgbnjk']"
      ],
      "execution_count": null,
      "outputs": [
        {
          "output_type": "stream",
          "text": [
            "/usr/local/lib/python3.6/dist-packages/ipykernel_launcher.py:6: DeprecationWarning: Call to deprecated `__getitem__` (Method will be removed in 4.0.0, use self.wv.__getitem__() instead).\n",
            "  \n",
            "/usr/local/lib/python3.6/dist-packages/ipykernel_launcher.py:9: DeprecationWarning: Call to deprecated `__getitem__` (Method will be removed in 4.0.0, use self.wv.__getitem__() instead).\n",
            "  if __name__ == '__main__':\n",
            "/usr/local/lib/python3.6/dist-packages/ipykernel_launcher.py:11: DeprecationWarning: Call to deprecated `__getitem__` (Method will be removed in 4.0.0, use self.wv.__getitem__() instead).\n",
            "  # This is added back by InteractiveShellApp.init_path()\n"
          ],
          "name": "stderr"
        }
      ]
    },
    {
      "cell_type": "markdown",
      "metadata": {
        "id": "uFOEzbiBguIv",
        "colab_type": "text"
      },
      "source": [
        "Второй фасттекст"
      ]
    },
    {
      "cell_type": "code",
      "metadata": {
        "id": "CLgsn7BHgyUb",
        "colab_type": "code",
        "colab": {
          "base_uri": "https://localhost:8080/",
          "height": 52
        },
        "outputId": "e4b833a1-9f97-4966-e867-fe478709dbc0"
      },
      "source": [
        "%%time\n",
        "ft2 = gensim.models.FastText(texts, size=200, window=10, min_count=2, iter=10)"
      ],
      "execution_count": null,
      "outputs": [
        {
          "output_type": "stream",
          "text": [
            "CPU times: user 40min 11s, sys: 5.33 s, total: 40min 16s\n",
            "Wall time: 20min 54s\n"
          ],
          "name": "stdout"
        }
      ]
    },
    {
      "cell_type": "code",
      "metadata": {
        "id": "kshuO2SchgYl",
        "colab_type": "code",
        "colab": {
          "base_uri": "https://localhost:8080/",
          "height": 285
        },
        "outputId": "e5b88914-59b1-42a6-bd0f-6a382327754b"
      },
      "source": [
        "ft2.most_similar('abortion')"
      ],
      "execution_count": null,
      "outputs": [
        {
          "output_type": "stream",
          "text": [
            "/usr/local/lib/python3.6/dist-packages/ipykernel_launcher.py:1: DeprecationWarning: Call to deprecated `most_similar` (Method will be removed in 4.0.0, use self.wv.most_similar() instead).\n",
            "  \"\"\"Entry point for launching an IPython kernel.\n",
            "/usr/local/lib/python3.6/dist-packages/gensim/matutils.py:737: FutureWarning: Conversion of the second argument of issubdtype from `int` to `np.signedinteger` is deprecated. In future, it will be treated as `np.int64 == np.dtype(int).type`.\n",
            "  if np.issubdtype(vec.dtype, np.int):\n"
          ],
          "name": "stderr"
        },
        {
          "output_type": "execute_result",
          "data": {
            "text/plain": [
              "[('pro-abortion', 0.951040506362915),\n",
              " ('anti-abortion', 0.9148094654083252),\n",
              " ('abortions', 0.9044116139411926),\n",
              " ('abortive', 0.8647822141647339),\n",
              " ('extortion', 0.8437422513961792),\n",
              " ('anti-abortionist', 0.8307942152023315),\n",
              " ('aborting', 0.8239808082580566),\n",
              " ('abort', 0.81410813331604),\n",
              " ('aborts', 0.8089629411697388),\n",
              " ('contortion', 0.7909154891967773)]"
            ]
          },
          "metadata": {
            "tags": []
          },
          "execution_count": 36
        }
      ]
    },
    {
      "cell_type": "code",
      "metadata": {
        "id": "ABVjyDpOh6nq",
        "colab_type": "code",
        "colab": {
          "base_uri": "https://localhost:8080/",
          "height": 143
        },
        "outputId": "d72e8255-f1f4-4f4f-80c4-818aa134bde5"
      },
      "source": [
        "weights2 = np.zeros((len(word2id), 200))\n",
        "for word, i in word2id.items():\n",
        "    if word == 'PAD':\n",
        "        continue\n",
        "    if word == 'UNK':\n",
        "        weights2[i] = ft2['qzowozmixwm']\n",
        "    \n",
        "    try:\n",
        "        weights2[i] = ft2[word]\n",
        "    except KeyError:\n",
        "        weights2[i] = ft2['fhslhdslfhgdku']"
      ],
      "execution_count": null,
      "outputs": [
        {
          "output_type": "stream",
          "text": [
            "/usr/local/lib/python3.6/dist-packages/ipykernel_launcher.py:6: DeprecationWarning: Call to deprecated `__getitem__` (Method will be removed in 4.0.0, use self.wv.__getitem__() instead).\n",
            "  \n",
            "/usr/local/lib/python3.6/dist-packages/ipykernel_launcher.py:9: DeprecationWarning: Call to deprecated `__getitem__` (Method will be removed in 4.0.0, use self.wv.__getitem__() instead).\n",
            "  if __name__ == '__main__':\n",
            "/usr/local/lib/python3.6/dist-packages/ipykernel_launcher.py:11: DeprecationWarning: Call to deprecated `__getitem__` (Method will be removed in 4.0.0, use self.wv.__getitem__() instead).\n",
            "  # This is added back by InteractiveShellApp.init_path()\n"
          ],
          "name": "stderr"
        }
      ]
    },
    {
      "cell_type": "markdown",
      "metadata": {
        "id": "Zc8cf524G9VV",
        "colab_type": "text"
      },
      "source": [
        "## Обучение"
      ]
    },
    {
      "cell_type": "markdown",
      "metadata": {
        "id": "TyctQ03THIVN",
        "colab_type": "text"
      },
      "source": [
        "## Усреднять, а потом суммировать"
      ]
    },
    {
      "cell_type": "code",
      "metadata": {
        "id": "M-vXQi6TerCA",
        "colab_type": "code",
        "colab": {}
      },
      "source": [
        "inputs = tf.keras.layers.Input(shape=(MAX_LEN,))\n",
        "\n",
        "embeddings = tf.keras.layers.Embedding(input_dim=len(word2id), output_dim=200,\n",
        "                                       trainable=False, weights=[weights])(inputs)\n",
        "embeddings2 = tf.keras.layers.Embedding(input_dim=len(word2id), output_dim=200,\n",
        "                                        trainable=False, weights=[weights2])(inputs)\n",
        "emb = tf.keras.layers.Average()([embeddings, embeddings2])\n",
        "mean = tf.keras.layers.Lambda(lambda x: tf.keras.backend.sum(x, axis=1))(emb)\n",
        "dense1 = tf.keras.layers.Dense(64, activation='relu')(mean)\n",
        "dense2 = tf.keras.layers.Dense(64, activation='relu')(dense1)\n",
        "dense3 = tf.keras.layers.Dense(64, activation='relu')(dense2)\n",
        "outputs = tf.keras.layers.Dense(1, activation='sigmoid')(dense3)\n",
        "\n",
        "model = tf.keras.Model(inputs=inputs, outputs=outputs)\n",
        "optimizer = tf.keras.optimizers.Adam(learning_rate=0.0001)\n",
        "model.compile(optimizer=optimizer,\n",
        "              loss='binary_crossentropy',\n",
        "              metrics=['accuracy'])"
      ],
      "execution_count": null,
      "outputs": []
    },
    {
      "cell_type": "code",
      "metadata": {
        "id": "bk4344tflWVk",
        "colab_type": "code",
        "colab": {
          "base_uri": "https://localhost:8080/",
          "height": 1000
        },
        "outputId": "ccee2850-b70e-4d65-89d0-c6e5efcd3fb2"
      },
      "source": [
        "model.fit(X_train, y_train, \n",
        "          validation_data=(X_valid, y_valid),\n",
        "          batch_size=512,\n",
        "          epochs=30)"
      ],
      "execution_count": null,
      "outputs": [
        {
          "output_type": "stream",
          "text": [
            "Epoch 1/30\n",
            "2424/2424 [==============================] - 113s 47ms/step - loss: 0.1704 - accuracy: 0.9408 - val_loss: 0.1422 - val_accuracy: 0.9475\n",
            "Epoch 2/30\n",
            "2424/2424 [==============================] - 109s 45ms/step - loss: 0.1414 - accuracy: 0.9467 - val_loss: 0.1339 - val_accuracy: 0.9493\n",
            "Epoch 3/30\n",
            "2424/2424 [==============================] - 109s 45ms/step - loss: 0.1349 - accuracy: 0.9482 - val_loss: 0.1308 - val_accuracy: 0.9497\n",
            "Epoch 4/30\n",
            "2424/2424 [==============================] - 109s 45ms/step - loss: 0.1315 - accuracy: 0.9490 - val_loss: 0.1290 - val_accuracy: 0.9506\n",
            "Epoch 5/30\n",
            "2424/2424 [==============================] - 108s 45ms/step - loss: 0.1293 - accuracy: 0.9496 - val_loss: 0.1265 - val_accuracy: 0.9512\n",
            "Epoch 6/30\n",
            "2424/2424 [==============================] - 106s 44ms/step - loss: 0.1277 - accuracy: 0.9501 - val_loss: 0.1259 - val_accuracy: 0.9511\n",
            "Epoch 7/30\n",
            "2424/2424 [==============================] - 106s 44ms/step - loss: 0.1265 - accuracy: 0.9504 - val_loss: 0.1247 - val_accuracy: 0.9517\n",
            "Epoch 8/30\n",
            "2424/2424 [==============================] - 103s 43ms/step - loss: 0.1255 - accuracy: 0.9508 - val_loss: 0.1242 - val_accuracy: 0.9514\n",
            "Epoch 9/30\n",
            "2424/2424 [==============================] - 105s 43ms/step - loss: 0.1246 - accuracy: 0.9510 - val_loss: 0.1232 - val_accuracy: 0.9517\n",
            "Epoch 10/30\n",
            "2424/2424 [==============================] - 105s 43ms/step - loss: 0.1238 - accuracy: 0.9514 - val_loss: 0.1235 - val_accuracy: 0.9522\n",
            "Epoch 11/30\n",
            "2424/2424 [==============================] - 104s 43ms/step - loss: 0.1231 - accuracy: 0.9516 - val_loss: 0.1225 - val_accuracy: 0.9520\n",
            "Epoch 12/30\n",
            "2424/2424 [==============================] - 104s 43ms/step - loss: 0.1225 - accuracy: 0.9518 - val_loss: 0.1223 - val_accuracy: 0.9521\n",
            "Epoch 13/30\n",
            "2424/2424 [==============================] - 106s 44ms/step - loss: 0.1219 - accuracy: 0.9521 - val_loss: 0.1216 - val_accuracy: 0.9523\n",
            "Epoch 14/30\n",
            "2424/2424 [==============================] - 104s 43ms/step - loss: 0.1213 - accuracy: 0.9522 - val_loss: 0.1218 - val_accuracy: 0.9520\n",
            "Epoch 15/30\n",
            "2424/2424 [==============================] - 103s 43ms/step - loss: 0.1209 - accuracy: 0.9525 - val_loss: 0.1218 - val_accuracy: 0.9518\n",
            "Epoch 16/30\n",
            "2424/2424 [==============================] - 103s 43ms/step - loss: 0.1205 - accuracy: 0.9526 - val_loss: 0.1219 - val_accuracy: 0.9525\n",
            "Epoch 17/30\n",
            "2424/2424 [==============================] - 103s 42ms/step - loss: 0.1200 - accuracy: 0.9527 - val_loss: 0.1214 - val_accuracy: 0.9527\n",
            "Epoch 18/30\n",
            "2424/2424 [==============================] - 106s 44ms/step - loss: 0.1195 - accuracy: 0.9529 - val_loss: 0.1208 - val_accuracy: 0.9528\n",
            "Epoch 19/30\n",
            "2424/2424 [==============================] - 104s 43ms/step - loss: 0.1192 - accuracy: 0.9530 - val_loss: 0.1206 - val_accuracy: 0.9528\n",
            "Epoch 20/30\n",
            "2424/2424 [==============================] - 103s 43ms/step - loss: 0.1188 - accuracy: 0.9531 - val_loss: 0.1202 - val_accuracy: 0.9527\n",
            "Epoch 21/30\n",
            "2424/2424 [==============================] - 105s 43ms/step - loss: 0.1185 - accuracy: 0.9532 - val_loss: 0.1203 - val_accuracy: 0.9529\n",
            "Epoch 22/30\n",
            "2424/2424 [==============================] - 105s 43ms/step - loss: 0.1181 - accuracy: 0.9533 - val_loss: 0.1203 - val_accuracy: 0.9525\n",
            "Epoch 23/30\n",
            "2424/2424 [==============================] - 103s 42ms/step - loss: 0.1178 - accuracy: 0.9535 - val_loss: 0.1209 - val_accuracy: 0.9526\n",
            "Epoch 24/30\n",
            "2424/2424 [==============================] - 104s 43ms/step - loss: 0.1175 - accuracy: 0.9536 - val_loss: 0.1198 - val_accuracy: 0.9533\n",
            "Epoch 25/30\n",
            "2424/2424 [==============================] - 105s 43ms/step - loss: 0.1172 - accuracy: 0.9537 - val_loss: 0.1197 - val_accuracy: 0.9529\n",
            "Epoch 26/30\n",
            "2424/2424 [==============================] - 104s 43ms/step - loss: 0.1169 - accuracy: 0.9538 - val_loss: 0.1206 - val_accuracy: 0.9526\n",
            "Epoch 27/30\n",
            "2424/2424 [==============================] - 105s 43ms/step - loss: 0.1167 - accuracy: 0.9539 - val_loss: 0.1197 - val_accuracy: 0.9528\n",
            "Epoch 28/30\n",
            "2424/2424 [==============================] - 103s 43ms/step - loss: 0.1163 - accuracy: 0.9539 - val_loss: 0.1199 - val_accuracy: 0.9527\n",
            "Epoch 29/30\n",
            "2424/2424 [==============================] - 103s 43ms/step - loss: 0.1161 - accuracy: 0.9540 - val_loss: 0.1192 - val_accuracy: 0.9529\n",
            "Epoch 30/30\n",
            "2424/2424 [==============================] - 105s 43ms/step - loss: 0.1159 - accuracy: 0.9541 - val_loss: 0.1194 - val_accuracy: 0.9530\n"
          ],
          "name": "stdout"
        },
        {
          "output_type": "execute_result",
          "data": {
            "text/plain": [
              "<tensorflow.python.keras.callbacks.History at 0x7fac0a20d278>"
            ]
          },
          "metadata": {
            "tags": []
          },
          "execution_count": 45
        }
      ]
    },
    {
      "cell_type": "code",
      "metadata": {
        "colab_type": "code",
        "id": "E8VoENlSkpjo",
        "colab": {}
      },
      "source": [
        "print(model.history.history.keys())\n",
        "# summarize history for accuracy\n",
        "plt.plot(model.history.history['accuracy'])\n",
        "plt.plot(model.history.history['val_accuracy'])\n",
        "plt.title('model accuracy')\n",
        "plt.ylabel('accuracy')\n",
        "plt.xlabel('epoch')\n",
        "plt.legend(['train', 'val'], loc='upper left')\n",
        "plt.show()"
      ],
      "execution_count": null,
      "outputs": []
    },
    {
      "cell_type": "code",
      "metadata": {
        "colab_type": "code",
        "id": "7IzCvODZkpjv",
        "colab": {}
      },
      "source": [
        "preds = model.predict(X_valid).reshape(-1)"
      ],
      "execution_count": null,
      "outputs": []
    },
    {
      "cell_type": "code",
      "metadata": {
        "colab_type": "code",
        "id": "Nvh029Cqkpjz",
        "colab": {
          "base_uri": "https://localhost:8080/",
          "height": 176
        },
        "outputId": "2daff4c4-4f77-485b-d805-37fb01fce7b1"
      },
      "source": [
        "print(classification_report(y_valid, (preds > 0.5).astype(int)))"
      ],
      "execution_count": null,
      "outputs": [
        {
          "output_type": "stream",
          "text": [
            "              precision    recall  f1-score   support\n",
            "\n",
            "           0       0.96      0.99      0.98     61365\n",
            "           1       0.68      0.42      0.52      3942\n",
            "\n",
            "    accuracy                           0.95     65307\n",
            "   macro avg       0.82      0.71      0.75     65307\n",
            "weighted avg       0.95      0.95      0.95     65307\n",
            "\n"
          ],
          "name": "stdout"
        }
      ]
    },
    {
      "cell_type": "markdown",
      "metadata": {
        "id": "2S817zaFoG0K",
        "colab_type": "text"
      },
      "source": [
        "## Конкатенировать, а потом суммировать"
      ]
    },
    {
      "cell_type": "code",
      "metadata": {
        "colab_type": "code",
        "id": "v_QhGnjnoOY0",
        "colab": {}
      },
      "source": [
        "inputs = tf.keras.layers.Input(shape=(MAX_LEN,))\n",
        "\n",
        "embeddings = tf.keras.layers.Embedding(input_dim=len(word2id), output_dim=200,\n",
        "                                       trainable=False, weights=[weights])(inputs)\n",
        "embeddings2 = tf.keras.layers.Embedding(input_dim=len(word2id), output_dim=200,\n",
        "                                        trainable=False, weights=[weights2])(inputs)\n",
        "emb = tf.keras.layers.Concatenate()([embeddings, embeddings2])\n",
        "mean = tf.keras.layers.Lambda(lambda x: tf.keras.backend.sum(x, axis=1))(emb)\n",
        "dense1 = tf.keras.layers.Dense(64, activation='relu')(mean)\n",
        "dense2 = tf.keras.layers.Dense(64, activation='relu')(dense1)\n",
        "dense3 = tf.keras.layers.Dense(64, activation='relu')(dense2)\n",
        "outputs = tf.keras.layers.Dense(1, activation='sigmoid')(dense3)\n",
        "\n",
        "model = tf.keras.Model(inputs=inputs, outputs=outputs)\n",
        "optimizer = tf.keras.optimizers.Adam(learning_rate=0.0001)\n",
        "model.compile(optimizer=optimizer,\n",
        "              loss='binary_crossentropy',\n",
        "              metrics=['accuracy'])"
      ],
      "execution_count": null,
      "outputs": []
    },
    {
      "cell_type": "code",
      "metadata": {
        "colab_type": "code",
        "id": "HnFC3LGUoOY5",
        "colab": {
          "base_uri": "https://localhost:8080/",
          "height": 1000
        },
        "outputId": "e1c1f39a-8277-4ed2-b63f-cce69d7cf9c5"
      },
      "source": [
        "model.fit(X_train, y_train, \n",
        "          validation_data=(X_valid, y_valid),\n",
        "          batch_size=512,\n",
        "          epochs=30)"
      ],
      "execution_count": null,
      "outputs": [
        {
          "output_type": "stream",
          "text": [
            "Epoch 1/30\n",
            "2424/2424 [==============================] - 149s 61ms/step - loss: 0.2225 - accuracy: 0.9313 - val_loss: 0.1462 - val_accuracy: 0.9474\n",
            "Epoch 2/30\n",
            "2424/2424 [==============================] - 149s 62ms/step - loss: 0.1431 - accuracy: 0.9466 - val_loss: 0.1340 - val_accuracy: 0.9502\n",
            "Epoch 3/30\n",
            "2424/2424 [==============================] - 152s 63ms/step - loss: 0.1344 - accuracy: 0.9488 - val_loss: 0.1286 - val_accuracy: 0.9509\n",
            "Epoch 4/30\n",
            "2424/2424 [==============================] - 156s 64ms/step - loss: 0.1299 - accuracy: 0.9498 - val_loss: 0.1252 - val_accuracy: 0.9520\n",
            "Epoch 5/30\n",
            "2424/2424 [==============================] - 155s 64ms/step - loss: 0.1273 - accuracy: 0.9504 - val_loss: 0.1243 - val_accuracy: 0.9513\n",
            "Epoch 6/30\n",
            "2424/2424 [==============================] - 154s 63ms/step - loss: 0.1253 - accuracy: 0.9510 - val_loss: 0.1249 - val_accuracy: 0.9515\n",
            "Epoch 7/30\n",
            "2424/2424 [==============================] - 151s 62ms/step - loss: 0.1238 - accuracy: 0.9514 - val_loss: 0.1209 - val_accuracy: 0.9527\n",
            "Epoch 8/30\n",
            "2424/2424 [==============================] - 150s 62ms/step - loss: 0.1225 - accuracy: 0.9519 - val_loss: 0.1206 - val_accuracy: 0.9529\n",
            "Epoch 9/30\n",
            "2424/2424 [==============================] - 149s 62ms/step - loss: 0.1216 - accuracy: 0.9519 - val_loss: 0.1205 - val_accuracy: 0.9532\n",
            "Epoch 10/30\n",
            "2424/2424 [==============================] - 151s 62ms/step - loss: 0.1206 - accuracy: 0.9524 - val_loss: 0.1193 - val_accuracy: 0.9531\n",
            "Epoch 11/30\n",
            "2424/2424 [==============================] - 150s 62ms/step - loss: 0.1199 - accuracy: 0.9526 - val_loss: 0.1189 - val_accuracy: 0.9535\n",
            "Epoch 12/30\n",
            "2424/2424 [==============================] - 150s 62ms/step - loss: 0.1192 - accuracy: 0.9529 - val_loss: 0.1183 - val_accuracy: 0.9532\n",
            "Epoch 13/30\n",
            "2424/2424 [==============================] - 149s 62ms/step - loss: 0.1186 - accuracy: 0.9531 - val_loss: 0.1186 - val_accuracy: 0.9532\n",
            "Epoch 14/30\n",
            "2424/2424 [==============================] - 150s 62ms/step - loss: 0.1180 - accuracy: 0.9532 - val_loss: 0.1185 - val_accuracy: 0.9535\n",
            "Epoch 15/30\n",
            "2424/2424 [==============================] - 151s 62ms/step - loss: 0.1174 - accuracy: 0.9533 - val_loss: 0.1180 - val_accuracy: 0.9540\n",
            "Epoch 16/30\n",
            "2424/2424 [==============================] - 152s 63ms/step - loss: 0.1170 - accuracy: 0.9536 - val_loss: 0.1182 - val_accuracy: 0.9537\n",
            "Epoch 17/30\n",
            "2424/2424 [==============================] - 151s 62ms/step - loss: 0.1165 - accuracy: 0.9538 - val_loss: 0.1173 - val_accuracy: 0.9542\n",
            "Epoch 18/30\n",
            "2424/2424 [==============================] - 151s 62ms/step - loss: 0.1161 - accuracy: 0.9539 - val_loss: 0.1180 - val_accuracy: 0.9535\n",
            "Epoch 19/30\n",
            "2424/2424 [==============================] - 151s 62ms/step - loss: 0.1157 - accuracy: 0.9540 - val_loss: 0.1176 - val_accuracy: 0.9539\n",
            "Epoch 20/30\n",
            "2424/2424 [==============================] - 152s 63ms/step - loss: 0.1153 - accuracy: 0.9543 - val_loss: 0.1175 - val_accuracy: 0.9534\n",
            "Epoch 21/30\n",
            "2424/2424 [==============================] - 151s 62ms/step - loss: 0.1150 - accuracy: 0.9542 - val_loss: 0.1174 - val_accuracy: 0.9538\n",
            "Epoch 22/30\n",
            "2424/2424 [==============================] - 151s 62ms/step - loss: 0.1145 - accuracy: 0.9543 - val_loss: 0.1183 - val_accuracy: 0.9536\n",
            "Epoch 23/30\n",
            "2424/2424 [==============================] - 152s 63ms/step - loss: 0.1143 - accuracy: 0.9545 - val_loss: 0.1182 - val_accuracy: 0.9532\n",
            "Epoch 24/30\n",
            "2424/2424 [==============================] - 153s 63ms/step - loss: 0.1139 - accuracy: 0.9546 - val_loss: 0.1185 - val_accuracy: 0.9533\n",
            "Epoch 25/30\n",
            "2424/2424 [==============================] - 152s 63ms/step - loss: 0.1136 - accuracy: 0.9547 - val_loss: 0.1174 - val_accuracy: 0.9541\n",
            "Epoch 26/30\n",
            "2424/2424 [==============================] - 152s 63ms/step - loss: 0.1133 - accuracy: 0.9548 - val_loss: 0.1168 - val_accuracy: 0.9536\n",
            "Epoch 27/30\n",
            "2424/2424 [==============================] - 155s 64ms/step - loss: 0.1131 - accuracy: 0.9548 - val_loss: 0.1171 - val_accuracy: 0.9540\n",
            "Epoch 28/30\n",
            "2424/2424 [==============================] - 156s 65ms/step - loss: 0.1127 - accuracy: 0.9550 - val_loss: 0.1169 - val_accuracy: 0.9538\n",
            "Epoch 29/30\n",
            "2424/2424 [==============================] - 156s 64ms/step - loss: 0.1125 - accuracy: 0.9550 - val_loss: 0.1168 - val_accuracy: 0.9540\n",
            "Epoch 30/30\n",
            "2424/2424 [==============================] - 155s 64ms/step - loss: 0.1122 - accuracy: 0.9550 - val_loss: 0.1174 - val_accuracy: 0.9544\n"
          ],
          "name": "stdout"
        },
        {
          "output_type": "execute_result",
          "data": {
            "text/plain": [
              "<tensorflow.python.keras.callbacks.History at 0x7fac09f4b128>"
            ]
          },
          "metadata": {
            "tags": []
          },
          "execution_count": 50
        }
      ]
    },
    {
      "cell_type": "code",
      "metadata": {
        "colab_type": "code",
        "id": "p8ltBiJmoOY8",
        "colab": {
          "base_uri": "https://localhost:8080/",
          "height": 312
        },
        "outputId": "a43d3eba-3031-4bbd-935b-b762d1005f40"
      },
      "source": [
        "print(model.history.history.keys())\n",
        "# summarize history for accuracy\n",
        "plt.plot(model.history.history['accuracy'])\n",
        "plt.plot(model.history.history['val_accuracy'])\n",
        "plt.title('model accuracy')\n",
        "plt.ylabel('accuracy')\n",
        "plt.xlabel('epoch')\n",
        "plt.legend(['train', 'val'], loc='upper left')\n",
        "plt.show()"
      ],
      "execution_count": null,
      "outputs": [
        {
          "output_type": "stream",
          "text": [
            "dict_keys(['loss', 'accuracy', 'val_loss', 'val_accuracy'])\n"
          ],
          "name": "stdout"
        },
        {
          "output_type": "display_data",
          "data": {
            "image/png": "[encoded data removed]",
            "text/plain": [
              "<Figure size 432x288 with 1 Axes>"
            ]
          },
          "metadata": {
            "tags": [],
            "needs_background": "light"
          }
        }
      ]
    },
    {
      "cell_type": "code",
      "metadata": {
        "colab_type": "code",
        "id": "cVQmZA3poOY_",
        "colab": {}
      },
      "source": [
        "preds = model.predict(X_valid).reshape(-1)"
      ],
      "execution_count": null,
      "outputs": []
    },
    {
      "cell_type": "code",
      "metadata": {
        "colab_type": "code",
        "id": "Xz0edPbdoOZD",
        "colab": {
          "base_uri": "https://localhost:8080/",
          "height": 176
        },
        "outputId": "d999b172-0072-4d56-d80e-c0d6f03d2da0"
      },
      "source": [
        "print(classification_report(y_valid, (preds > 0.5).astype(int)))"
      ],
      "execution_count": null,
      "outputs": [
        {
          "output_type": "stream",
          "text": [
            "              precision    recall  f1-score   support\n",
            "\n",
            "           0       0.97      0.98      0.98     61365\n",
            "           1       0.66      0.50      0.57      3942\n",
            "\n",
            "    accuracy                           0.95     65307\n",
            "   macro avg       0.82      0.74      0.77     65307\n",
            "weighted avg       0.95      0.95      0.95     65307\n",
            "\n"
          ],
          "name": "stdout"
        }
      ]
    },
    {
      "cell_type": "markdown",
      "metadata": {
        "id": "ZcQyBdq1HdSM",
        "colab_type": "text"
      },
      "source": [
        "**Кажется, что последний вариант с конкатенацией и суммированием сработал получше**"
      ]
    },
    {
      "cell_type": "markdown",
      "metadata": {
        "id": "e9TMHXYjtf6j",
        "colab_type": "text"
      },
      "source": [
        "# Эксперименты с параметрами и нормализацией. Лемматизация"
      ]
    },
    {
      "cell_type": "markdown",
      "metadata": {
        "id": "XllQHLdcNZ5V",
        "colab_type": "text"
      },
      "source": [
        "Лемматизировала со spacy"
      ]
    },
    {
      "cell_type": "code",
      "metadata": {
        "colab_type": "code",
        "id": "584at4V5tjOd",
        "colab": {
          "base_uri": "https://localhost:8080/",
          "height": 52
        },
        "outputId": "f51867a8-029e-4c69-f06c-ef3b3ad1d9c1"
      },
      "source": [
        "%%time\n",
        "vocab = Counter()\n",
        "\n",
        "for text in quora.question_text:\n",
        "    vocab.update(lemmatize(text))\n",
        "\n",
        "len(vocab)"
      ],
      "execution_count": null,
      "outputs": [
        {
          "output_type": "stream",
          "text": [
            "CPU times: user 3min 18s, sys: 400 ms, total: 3min 19s\n",
            "Wall time: 3min 19s\n"
          ],
          "name": "stdout"
        }
      ]
    },
    {
      "cell_type": "code",
      "metadata": {
        "colab_type": "code",
        "id": "mgKmLdgHtjOj",
        "colab": {
          "base_uri": "https://localhost:8080/",
          "height": 34
        },
        "outputId": "c6a8d955-fd6e-4c63-b216-a88146f54043"
      },
      "source": [
        "filtered_vocab = set()\n",
        "\n",
        "for word in vocab:\n",
        "    if vocab[word] > 10:\n",
        "        filtered_vocab.add(word)\n",
        "\n",
        "len(filtered_vocab)"
      ],
      "execution_count": null,
      "outputs": [
        {
          "output_type": "execute_result",
          "data": {
            "text/plain": [
              "26457"
            ]
          },
          "metadata": {
            "tags": []
          },
          "execution_count": 7
        }
      ]
    },
    {
      "cell_type": "code",
      "metadata": {
        "colab_type": "code",
        "id": "uJ0ZjDY9tjOl",
        "colab": {}
      },
      "source": [
        "word2id = {'UNK':1, 'PAD':0}\n",
        "\n",
        "for word in filtered_vocab:\n",
        "    word2id[word] = len(word2id)\n",
        "\n",
        "id2word = {i:word for word, i in word2id.items()}"
      ],
      "execution_count": null,
      "outputs": []
    },
    {
      "cell_type": "code",
      "metadata": {
        "colab_type": "code",
        "id": "iqqcreRftjOo",
        "colab": {
          "base_uri": "https://localhost:8080/",
          "height": 34
        },
        "outputId": "70489c6d-031f-4b24-fb6f-19ab63e123f9"
      },
      "source": [
        "X=[]\n",
        "\n",
        "for text in quora.question_text:\n",
        "    tokens = lemmatize(text)\n",
        "    ids = [word2id.get(token, word2id['UNK']) for token in tokens]\n",
        "    X.append(ids)\n",
        "\n",
        "MAX_LEN = max(len(x) for x in X)\n",
        "MAX_LEN\n",
        "#spacy разбивает сокращения, поэтому MAX_LEN увеличилась"
      ],
      "execution_count": null,
      "outputs": [
        {
          "output_type": "execute_result",
          "data": {
            "text/plain": [
              "138"
            ]
          },
          "metadata": {
            "tags": []
          },
          "execution_count": 9
        }
      ]
    },
    {
      "cell_type": "code",
      "metadata": {
        "colab_type": "code",
        "id": "9iBDVvgXtjOq",
        "colab": {
          "base_uri": "https://localhost:8080/",
          "height": 34
        },
        "outputId": "f5b6bb7d-9abf-4c6e-d192-201144f42eb4"
      },
      "source": [
        "X = tf.keras.preprocessing.sequence.pad_sequences(X, maxlen=MAX_LEN)\n",
        "X.shape"
      ],
      "execution_count": null,
      "outputs": [
        {
          "output_type": "execute_result",
          "data": {
            "text/plain": [
              "(1306122, 138)"
            ]
          },
          "metadata": {
            "tags": []
          },
          "execution_count": 10
        }
      ]
    },
    {
      "cell_type": "code",
      "metadata": {
        "colab_type": "code",
        "id": "MPyIuRXatjOu",
        "colab": {}
      },
      "source": [
        "y = quora.target.values\n",
        "X_train, X_valid, y_train, y_valid = train_test_split(X, y, test_size=0.05, random_state=42)"
      ],
      "execution_count": null,
      "outputs": []
    },
    {
      "cell_type": "markdown",
      "metadata": {
        "id": "EKNLJYW0vOZr",
        "colab_type": "text"
      },
      "source": [
        "##Эмбеддинги"
      ]
    },
    {
      "cell_type": "code",
      "metadata": {
        "colab_type": "code",
        "id": "LOZyQn2mvS-n",
        "colab": {}
      },
      "source": [
        "texts = quora.question_text.apply(lemmatize).tolist()"
      ],
      "execution_count": null,
      "outputs": []
    },
    {
      "cell_type": "markdown",
      "metadata": {
        "id": "E97-wxHNyD9x",
        "colab_type": "text"
      },
      "source": [
        "Word2Vec"
      ]
    },
    {
      "cell_type": "code",
      "metadata": {
        "id": "DOLGCKfwvNks",
        "colab_type": "code",
        "colab": {
          "base_uri": "https://localhost:8080/",
          "height": 52
        },
        "outputId": "1342ce08-f04b-4ebd-8b9f-1ebd05f30510"
      },
      "source": [
        "%%time\n",
        "sg = gensim.models.Word2Vec(texts, size=200, window=10, min_count=10, sg=0, iter=2)"
      ],
      "execution_count": null,
      "outputs": [
        {
          "output_type": "stream",
          "text": [
            "CPU times: user 1min 49s, sys: 386 ms, total: 1min 50s\n",
            "Wall time: 1min 1s\n"
          ],
          "name": "stdout"
        }
      ]
    },
    {
      "cell_type": "code",
      "metadata": {
        "id": "9JZMbBLXovMg",
        "colab_type": "code",
        "colab": {
          "base_uri": "https://localhost:8080/",
          "height": 285
        },
        "outputId": "497d8260-d925-438e-a2af-a6eca373795b"
      },
      "source": [
        "sg.most_similar('abortion')\n",
        "# хмммммм"
      ],
      "execution_count": null,
      "outputs": [
        {
          "output_type": "stream",
          "text": [
            "/usr/local/lib/python3.6/dist-packages/ipykernel_launcher.py:1: DeprecationWarning: Call to deprecated `most_similar` (Method will be removed in 4.0.0, use self.wv.most_similar() instead).\n",
            "  \"\"\"Entry point for launching an IPython kernel.\n",
            "/usr/local/lib/python3.6/dist-packages/gensim/matutils.py:737: FutureWarning: Conversion of the second argument of issubdtype from `int` to `np.signedinteger` is deprecated. In future, it will be treated as `np.int64 == np.dtype(int).type`.\n",
            "  if np.issubdtype(vec.dtype, np.int):\n"
          ],
          "name": "stderr"
        },
        {
          "output_type": "execute_result",
          "data": {
            "text/plain": [
              "[('homosexuality', 0.7007968425750732),\n",
              " ('rape', 0.6971375942230225),\n",
              " ('homosexual', 0.6882847547531128),\n",
              " ('violence', 0.6670286655426025),\n",
              " ('rapist', 0.6596417427062988),\n",
              " ('murder', 0.6408506035804749),\n",
              " ('feminist', 0.6400958299636841),\n",
              " ('fetus', 0.632003903388977),\n",
              " ('accusation', 0.6220125555992126),\n",
              " ('pedophile', 0.6205482482910156)]"
            ]
          },
          "metadata": {
            "tags": []
          },
          "execution_count": 41
        }
      ]
    },
    {
      "cell_type": "code",
      "metadata": {
        "id": "gnGqzOIPpbLl",
        "colab_type": "code",
        "colab": {
          "base_uri": "https://localhost:8080/",
          "height": 52
        },
        "outputId": "5223dc31-915e-424d-f401-6094e3e4bc7d"
      },
      "source": [
        "%%time\n",
        "sg1 = gensim.models.Word2Vec(texts, size=200, window=10, min_count=10, sg=1, iter=10)\n"
      ],
      "execution_count": null,
      "outputs": [
        {
          "output_type": "stream",
          "text": [
            "CPU times: user 30min 21s, sys: 2.51 s, total: 30min 23s\n",
            "Wall time: 15min 30s\n"
          ],
          "name": "stdout"
        }
      ]
    },
    {
      "cell_type": "code",
      "metadata": {
        "id": "l7-kAQdWqx4g",
        "colab_type": "code",
        "colab": {
          "base_uri": "https://localhost:8080/",
          "height": 285
        },
        "outputId": "c3f3ce09-8897-447e-9215-4b21ff029a9c"
      },
      "source": [
        "# sg1.most_similar('abortion')\n",
        "sg1.most_similar('feminism')"
      ],
      "execution_count": null,
      "outputs": [
        {
          "output_type": "stream",
          "text": [
            "/usr/local/lib/python3.6/dist-packages/ipykernel_launcher.py:1: DeprecationWarning: Call to deprecated `most_similar` (Method will be removed in 4.0.0, use self.wv.most_similar() instead).\n",
            "  \"\"\"Entry point for launching an IPython kernel.\n",
            "/usr/local/lib/python3.6/dist-packages/gensim/matutils.py:737: FutureWarning: Conversion of the second argument of issubdtype from `int` to `np.signedinteger` is deprecated. In future, it will be treated as `np.int64 == np.dtype(int).type`.\n",
            "  if np.issubdtype(vec.dtype, np.int):\n"
          ],
          "name": "stderr"
        },
        {
          "output_type": "execute_result",
          "data": {
            "text/plain": [
              "[('feminist', 0.6941753625869751),\n",
              " ('equality', 0.6894516944885254),\n",
              " ('misandry', 0.6790188550949097),\n",
              " ('feminazi', 0.6295152306556702),\n",
              " ('misandrist', 0.627777099609375),\n",
              " ('patriarchy', 0.6254380941390991),\n",
              " ('masculinity', 0.6093608140945435),\n",
              " ('feminazis', 0.6076981425285339),\n",
              " ('egalitarianism', 0.6066161394119263),\n",
              " ('chivalry', 0.5996068120002747)]"
            ]
          },
          "metadata": {
            "tags": []
          },
          "execution_count": 14
        }
      ]
    },
    {
      "cell_type": "code",
      "metadata": {
        "id": "iHvc62Wl2TDf",
        "colab_type": "code",
        "colab": {}
      },
      "source": [
        "import numpy as np\n",
        "# генерируем рандомные вектора\n",
        "unk_vec = np.random.random(200)\n",
        "oov_vec = np.random.random(200)"
      ],
      "execution_count": null,
      "outputs": []
    },
    {
      "cell_type": "code",
      "metadata": {
        "colab_type": "code",
        "id": "dtTIUF85vS-v",
        "colab": {
          "base_uri": "https://localhost:8080/",
          "height": 72
        },
        "outputId": "d589b7ec-5e7b-4608-cf6d-9f8728e42be7"
      },
      "source": [
        "weights_sg1 = np.zeros((len(word2id), 200))\n",
        "for word, i in word2id.items():\n",
        "    if word == 'PAD':\n",
        "        continue\n",
        "    if word == 'UNK':\n",
        "        weights_sg1[i] = unk_vec\n",
        "    \n",
        "    try:\n",
        "        weights_sg1[i] = sg1[word]\n",
        "    except KeyError:\n",
        "        weights_sg1[i] = oov_vec"
      ],
      "execution_count": null,
      "outputs": [
        {
          "output_type": "stream",
          "text": [
            "/usr/local/lib/python3.6/dist-packages/ipykernel_launcher.py:9: DeprecationWarning: Call to deprecated `__getitem__` (Method will be removed in 4.0.0, use self.wv.__getitem__() instead).\n",
            "  if __name__ == '__main__':\n"
          ],
          "name": "stderr"
        }
      ]
    },
    {
      "cell_type": "markdown",
      "metadata": {
        "id": "0bUuUrUaHyND",
        "colab_type": "text"
      },
      "source": [
        "Fasttext"
      ]
    },
    {
      "cell_type": "code",
      "metadata": {
        "colab_type": "code",
        "id": "89a_VjisvS-y",
        "colab": {
          "base_uri": "https://localhost:8080/",
          "height": 52
        },
        "outputId": "697f54a0-2da2-43f6-fee2-dc85bf396dac"
      },
      "source": [
        "%%time\n",
        "ft2 = gensim.models.FastText(texts, size=200, window=10, min_count=10, iter=10)"
      ],
      "execution_count": null,
      "outputs": [
        {
          "output_type": "stream",
          "text": [
            "CPU times: user 34min 55s, sys: 3.95 s, total: 34min 59s\n",
            "Wall time: 17min 56s\n"
          ],
          "name": "stdout"
        }
      ]
    },
    {
      "cell_type": "code",
      "metadata": {
        "colab_type": "code",
        "id": "cbqLIRknvS-1",
        "colab": {
          "base_uri": "https://localhost:8080/",
          "height": 285
        },
        "outputId": "3940c827-0e73-494f-bf2b-aa94f056a74d"
      },
      "source": [
        "ft2.most_similar('abortion')"
      ],
      "execution_count": null,
      "outputs": [
        {
          "output_type": "stream",
          "text": [
            "/usr/local/lib/python3.6/dist-packages/ipykernel_launcher.py:1: DeprecationWarning: Call to deprecated `most_similar` (Method will be removed in 4.0.0, use self.wv.most_similar() instead).\n",
            "  \"\"\"Entry point for launching an IPython kernel.\n",
            "/usr/local/lib/python3.6/dist-packages/gensim/matutils.py:737: FutureWarning: Conversion of the second argument of issubdtype from `int` to `np.signedinteger` is deprecated. In future, it will be treated as `np.int64 == np.dtype(int).type`.\n",
            "  if np.issubdtype(vec.dtype, np.int):\n"
          ],
          "name": "stderr"
        },
        {
          "output_type": "execute_result",
          "data": {
            "text/plain": [
              "[('extortion', 0.8099675178527832),\n",
              " ('abort', 0.8073110580444336),\n",
              " ('conservation', 0.714391827583313),\n",
              " ('vaccination', 0.7136491537094116),\n",
              " ('distortion', 0.7116754055023193),\n",
              " ('abolition', 0.7032406330108643),\n",
              " ('miscegenation', 0.7027961015701294),\n",
              " ('consensus', 0.6999878287315369),\n",
              " ('abomination', 0.6987444162368774),\n",
              " ('homosexuality', 0.6971116662025452)]"
            ]
          },
          "metadata": {
            "tags": []
          },
          "execution_count": 18
        }
      ]
    },
    {
      "cell_type": "code",
      "metadata": {
        "colab_type": "code",
        "id": "-76m9WUqvS-4",
        "colab": {
          "base_uri": "https://localhost:8080/",
          "height": 143
        },
        "outputId": "3a93d37f-2d1a-47d4-9943-183ec4289f13"
      },
      "source": [
        "weights2 = np.zeros((len(word2id), 200))\n",
        "for word, i in word2id.items():\n",
        "    if word == 'PAD':\n",
        "        continue\n",
        "    if word == 'UNK':\n",
        "        weights2[i] = ft2['qzowozmixwm']\n",
        "    \n",
        "    try:\n",
        "        weights2[i] = ft2[word]\n",
        "    except KeyError:\n",
        "        weights2[i] = ft2['fhslhdslfhgdku']"
      ],
      "execution_count": null,
      "outputs": [
        {
          "output_type": "stream",
          "text": [
            "/usr/local/lib/python3.6/dist-packages/ipykernel_launcher.py:6: DeprecationWarning: Call to deprecated `__getitem__` (Method will be removed in 4.0.0, use self.wv.__getitem__() instead).\n",
            "  \n",
            "/usr/local/lib/python3.6/dist-packages/ipykernel_launcher.py:9: DeprecationWarning: Call to deprecated `__getitem__` (Method will be removed in 4.0.0, use self.wv.__getitem__() instead).\n",
            "  if __name__ == '__main__':\n",
            "/usr/local/lib/python3.6/dist-packages/ipykernel_launcher.py:11: DeprecationWarning: Call to deprecated `__getitem__` (Method will be removed in 4.0.0, use self.wv.__getitem__() instead).\n",
            "  # This is added back by InteractiveShellApp.init_path()\n"
          ],
          "name": "stderr"
        }
      ]
    },
    {
      "cell_type": "code",
      "metadata": {
        "id": "omfttUmbvNuj",
        "colab_type": "code",
        "colab": {}
      },
      "source": [
        ""
      ],
      "execution_count": null,
      "outputs": []
    },
    {
      "cell_type": "code",
      "metadata": {
        "id": "iPzar4mdvM7s",
        "colab_type": "code",
        "colab": {}
      },
      "source": [
        ""
      ],
      "execution_count": null,
      "outputs": []
    },
    {
      "cell_type": "code",
      "metadata": {
        "colab_type": "code",
        "id": "IS8hzqsGu_NP",
        "colab": {}
      },
      "source": [
        "inputs = tf.keras.layers.Input(shape=(MAX_LEN,))\n",
        "\n",
        "embeddings = tf.keras.layers.Embedding(input_dim=len(word2id), output_dim=200,\n",
        "                                       trainable=False, weights=[weights_sg1])(inputs)\n",
        "embeddings2 = tf.keras.layers.Embedding(input_dim=len(word2id), output_dim=200,\n",
        "                                        trainable=False, weights=[weights2])(inputs)\n",
        "emb = tf.keras.layers.Concatenate()([embeddings, embeddings2])\n",
        "# сумма\n",
        "mean = tf.keras.layers.Lambda(lambda x: tf.keras.backend.sum(x, axis=1))(emb)\n",
        "# всякие функции активации\n",
        "dense1 = tf.keras.layers.Dense(64, activation='relu')(mean)\n",
        "dense2 = tf.keras.layers.Dense(128, activation='tanh')(dense1)\n",
        "# LeakyReLU мне не понравилась\n",
        "dense3 = tf.keras.layers.Dense(64, activation=tf.keras.layers.LeakyReLU(alpha=0.3))(dense2)\n",
        "outputs = tf.keras.layers.Dense(1, activation='sigmoid')(dense3)\n",
        "\n",
        "model = tf.keras.Model(inputs=inputs, outputs=outputs)\n",
        "optimizer = tf.keras.optimizers.Adam(learning_rate=0.0001)\n",
        "model.compile(optimizer=optimizer,\n",
        "              loss='binary_crossentropy',\n",
        "              metrics=['accuracy'])\n",
        "\n"
      ],
      "execution_count": null,
      "outputs": []
    },
    {
      "cell_type": "code",
      "metadata": {
        "colab_type": "code",
        "id": "6K7QTnqCu_NY",
        "colab": {
          "base_uri": "https://localhost:8080/",
          "height": 390
        },
        "outputId": "6f7329ee-21f3-4677-f458-ad5dd24eaa8a"
      },
      "source": [
        "model.fit(X_train, y_train, \n",
        "          validation_data=(X_valid, y_valid),\n",
        "          batch_size=512,\n",
        "          epochs=10)"
      ],
      "execution_count": null,
      "outputs": [
        {
          "output_type": "stream",
          "text": [
            "Epoch 1/10\n",
            "2424/2424 [==============================] - 153s 63ms/step - loss: 0.1466 - accuracy: 0.9444 - val_loss: 0.1272 - val_accuracy: 0.9495\n",
            "Epoch 2/10\n",
            "2424/2424 [==============================] - 155s 64ms/step - loss: 0.1262 - accuracy: 0.9496 - val_loss: 0.1215 - val_accuracy: 0.9507\n",
            "Epoch 3/10\n",
            "2424/2424 [==============================] - 154s 64ms/step - loss: 0.1217 - accuracy: 0.9512 - val_loss: 0.1205 - val_accuracy: 0.9509\n",
            "Epoch 4/10\n",
            "2424/2424 [==============================] - 155s 64ms/step - loss: 0.1190 - accuracy: 0.9521 - val_loss: 0.1175 - val_accuracy: 0.9520\n",
            "Epoch 5/10\n",
            "2424/2424 [==============================] - 155s 64ms/step - loss: 0.1171 - accuracy: 0.9527 - val_loss: 0.1161 - val_accuracy: 0.9528\n",
            "Epoch 6/10\n",
            "2424/2424 [==============================] - 158s 65ms/step - loss: 0.1154 - accuracy: 0.9534 - val_loss: 0.1152 - val_accuracy: 0.9528\n",
            "Epoch 7/10\n",
            "2424/2424 [==============================] - 156s 65ms/step - loss: 0.1141 - accuracy: 0.9538 - val_loss: 0.1140 - val_accuracy: 0.9533\n",
            "Epoch 8/10\n",
            "2424/2424 [==============================] - 157s 65ms/step - loss: 0.1130 - accuracy: 0.9543 - val_loss: 0.1141 - val_accuracy: 0.9533\n",
            "Epoch 9/10\n",
            "2424/2424 [==============================] - 156s 64ms/step - loss: 0.1121 - accuracy: 0.9547 - val_loss: 0.1127 - val_accuracy: 0.9538\n",
            "Epoch 10/10\n",
            "2424/2424 [==============================] - 159s 65ms/step - loss: 0.1111 - accuracy: 0.9551 - val_loss: 0.1129 - val_accuracy: 0.9541\n"
          ],
          "name": "stdout"
        },
        {
          "output_type": "execute_result",
          "data": {
            "text/plain": [
              "<tensorflow.python.keras.callbacks.History at 0x7f8aac586278>"
            ]
          },
          "metadata": {
            "tags": []
          },
          "execution_count": 58
        }
      ]
    },
    {
      "cell_type": "code",
      "metadata": {
        "colab_type": "code",
        "id": "amRm_V56u_Ne",
        "colab": {
          "base_uri": "https://localhost:8080/",
          "height": 312
        },
        "outputId": "fa010311-b5c2-4bf7-80fd-e6f962d0b120"
      },
      "source": [
        "print(model.history.history.keys())\n",
        "# summarize history for accuracy\n",
        "plt.plot(model.history.history['accuracy'])\n",
        "plt.plot(model.history.history['val_accuracy'])\n",
        "plt.title('model accuracy')\n",
        "plt.ylabel('accuracy')\n",
        "plt.xlabel('epoch')\n",
        "plt.legend(['train', 'val'], loc='upper left')\n",
        "plt.show()"
      ],
      "execution_count": null,
      "outputs": [
        {
          "output_type": "stream",
          "text": [
            "dict_keys(['loss', 'accuracy', 'val_loss', 'val_accuracy'])\n"
          ],
          "name": "stdout"
        },
        {
          "output_type": "display_data",
          "data": {
            "image/png": "[encoded data removed]",
            "text/plain": [
              "<Figure size 432x288 with 1 Axes>"
            ]
          },
          "metadata": {
            "tags": [],
            "needs_background": "light"
          }
        }
      ]
    },
    {
      "cell_type": "code",
      "metadata": {
        "colab_type": "code",
        "id": "FJvZx1Kju_Nj",
        "colab": {}
      },
      "source": [
        "preds = model.predict(X_valid).reshape(-1)"
      ],
      "execution_count": null,
      "outputs": []
    },
    {
      "cell_type": "code",
      "metadata": {
        "colab_type": "code",
        "id": "GVkZmBfgu_No",
        "colab": {
          "base_uri": "https://localhost:8080/",
          "height": 176
        },
        "outputId": "dbdd0ca6-b72d-4065-b6b9-d6a761057c4c"
      },
      "source": [
        "print(classification_report(y_valid, (preds > 0.5).astype(int)))"
      ],
      "execution_count": null,
      "outputs": [
        {
          "output_type": "stream",
          "text": [
            "              precision    recall  f1-score   support\n",
            "\n",
            "           0       0.97      0.98      0.98     61365\n",
            "           1       0.65      0.53      0.58      3942\n",
            "\n",
            "    accuracy                           0.95     65307\n",
            "   macro avg       0.81      0.75      0.78     65307\n",
            "weighted avg       0.95      0.95      0.95     65307\n",
            "\n"
          ],
          "name": "stdout"
        }
      ]
    },
    {
      "cell_type": "markdown",
      "metadata": {
        "id": "47G0CjTL_wDQ",
        "colab_type": "text"
      },
      "source": [
        "Mean instead of sum - раньше мы суммировали эмбеддинги "
      ]
    },
    {
      "cell_type": "code",
      "metadata": {
        "colab_type": "code",
        "id": "IiwbQXGT_zNe",
        "colab": {}
      },
      "source": [
        "inputs = tf.keras.layers.Input(shape=(MAX_LEN,))\n",
        "\n",
        "embeddings = tf.keras.layers.Embedding(input_dim=len(word2id), output_dim=200,\n",
        "                                       trainable=False, weights=[weights_sg1])(inputs)\n",
        "embeddings2 = tf.keras.layers.Embedding(input_dim=len(word2id), output_dim=200,\n",
        "                                        trainable=False, weights=[weights2])(inputs)\n",
        "emb = tf.keras.layers.Concatenate()([embeddings, embeddings2])\n",
        "mean = tf.keras.layers.Lambda(lambda x: tf.keras.backend.mean(x, axis=1))(emb)\n",
        "dense1 = tf.keras.layers.Dense(64, activation='relu')(mean)\n",
        "dense2 = tf.keras.layers.Dense(128, activation='tanh')(dense1)\n",
        "dense3 = tf.keras.layers.Dense(64, activation=tf.keras.layers.LeakyReLU(alpha=0.3))(dense2)\n",
        "outputs = tf.keras.layers.Dense(1, activation='sigmoid')(dense3)\n",
        "\n",
        "model = tf.keras.Model(inputs=inputs, outputs=outputs)\n",
        "optimizer = tf.keras.optimizers.Adam(learning_rate=0.0001)\n",
        "model.compile(optimizer=optimizer,\n",
        "              loss='binary_crossentropy',\n",
        "              metrics=['accuracy'])"
      ],
      "execution_count": null,
      "outputs": []
    },
    {
      "cell_type": "code",
      "metadata": {
        "colab_type": "code",
        "id": "TJtsVYG3_zNn",
        "colab": {
          "base_uri": "https://localhost:8080/",
          "height": 390
        },
        "outputId": "8411d6f9-15bd-443e-c8f9-b43dbede50bf"
      },
      "source": [
        "model.fit(X_train, y_train, \n",
        "          validation_data=(X_valid, y_valid),\n",
        "          batch_size=512,\n",
        "          epochs=10)"
      ],
      "execution_count": null,
      "outputs": [
        {
          "output_type": "stream",
          "text": [
            "Epoch 1/10\n",
            "2424/2424 [==============================] - 159s 66ms/step - loss: 0.1641 - accuracy: 0.9444 - val_loss: 0.1249 - val_accuracy: 0.9506\n",
            "Epoch 2/10\n",
            "2424/2424 [==============================] - 156s 64ms/step - loss: 0.1240 - accuracy: 0.9504 - val_loss: 0.1191 - val_accuracy: 0.9520\n",
            "Epoch 3/10\n",
            "2424/2424 [==============================] - 156s 64ms/step - loss: 0.1202 - accuracy: 0.9518 - val_loss: 0.1171 - val_accuracy: 0.9526\n",
            "Epoch 4/10\n",
            "2424/2424 [==============================] - 155s 64ms/step - loss: 0.1181 - accuracy: 0.9526 - val_loss: 0.1150 - val_accuracy: 0.9534\n",
            "Epoch 5/10\n",
            "2424/2424 [==============================] - 156s 64ms/step - loss: 0.1165 - accuracy: 0.9530 - val_loss: 0.1140 - val_accuracy: 0.9540\n",
            "Epoch 6/10\n",
            "2424/2424 [==============================] - 154s 64ms/step - loss: 0.1152 - accuracy: 0.9536 - val_loss: 0.1129 - val_accuracy: 0.9544\n",
            "Epoch 7/10\n",
            "2424/2424 [==============================] - 153s 63ms/step - loss: 0.1141 - accuracy: 0.9541 - val_loss: 0.1126 - val_accuracy: 0.9545\n",
            "Epoch 8/10\n",
            "2424/2424 [==============================] - 154s 63ms/step - loss: 0.1133 - accuracy: 0.9543 - val_loss: 0.1115 - val_accuracy: 0.9546\n",
            "Epoch 9/10\n",
            "2424/2424 [==============================] - 155s 64ms/step - loss: 0.1124 - accuracy: 0.9545 - val_loss: 0.1114 - val_accuracy: 0.9548\n",
            "Epoch 10/10\n",
            "2424/2424 [==============================] - 155s 64ms/step - loss: 0.1118 - accuracy: 0.9549 - val_loss: 0.1105 - val_accuracy: 0.9549\n"
          ],
          "name": "stdout"
        },
        {
          "output_type": "execute_result",
          "data": {
            "text/plain": [
              "<tensorflow.python.keras.callbacks.History at 0x7f8aa51d1160>"
            ]
          },
          "metadata": {
            "tags": []
          },
          "execution_count": 63
        }
      ]
    },
    {
      "cell_type": "code",
      "metadata": {
        "colab_type": "code",
        "id": "y2J18y8T_zNs",
        "colab": {
          "base_uri": "https://localhost:8080/",
          "height": 312
        },
        "outputId": "224d8419-39ec-48a6-e950-e33ec462fbd0"
      },
      "source": [
        "print(model.history.history.keys())\n",
        "# summarize history for accuracy\n",
        "plt.plot(model.history.history['accuracy'])\n",
        "plt.plot(model.history.history['val_accuracy'])\n",
        "plt.title('model accuracy')\n",
        "plt.ylabel('accuracy')\n",
        "plt.xlabel('epoch')\n",
        "plt.legend(['train', 'val'], loc='upper left')\n",
        "plt.show()"
      ],
      "execution_count": null,
      "outputs": [
        {
          "output_type": "stream",
          "text": [
            "dict_keys(['loss', 'accuracy', 'val_loss', 'val_accuracy'])\n"
          ],
          "name": "stdout"
        },
        {
          "output_type": "display_data",
          "data": {
            "image/png": "[encoded data removed]",
            "text/plain": [
              "<Figure size 432x288 with 1 Axes>"
            ]
          },
          "metadata": {
            "tags": [],
            "needs_background": "light"
          }
        }
      ]
    },
    {
      "cell_type": "code",
      "metadata": {
        "colab_type": "code",
        "id": "do34YF19_zNx",
        "colab": {}
      },
      "source": [
        "preds = model.predict(X_valid).reshape(-1)"
      ],
      "execution_count": null,
      "outputs": []
    },
    {
      "cell_type": "code",
      "metadata": {
        "colab_type": "code",
        "id": "9D-MkMyr_zN3",
        "colab": {
          "base_uri": "https://localhost:8080/",
          "height": 176
        },
        "outputId": "3756e017-a962-45ac-ce35-9be9dbe22bfe"
      },
      "source": [
        "print(classification_report(y_valid, (preds > 0.5).astype(int)))"
      ],
      "execution_count": null,
      "outputs": [
        {
          "output_type": "stream",
          "text": [
            "              precision    recall  f1-score   support\n",
            "\n",
            "           0       0.97      0.98      0.98     61365\n",
            "           1       0.67      0.50      0.57      3942\n",
            "\n",
            "    accuracy                           0.95     65307\n",
            "   macro avg       0.82      0.74      0.77     65307\n",
            "weighted avg       0.95      0.95      0.95     65307\n",
            "\n"
          ],
          "name": "stdout"
        }
      ]
    },
    {
      "cell_type": "code",
      "metadata": {
        "id": "g64LSk9tKFu-",
        "colab_type": "code",
        "colab": {}
      },
      "source": [
        ""
      ],
      "execution_count": null,
      "outputs": []
    },
    {
      "cell_type": "markdown",
      "metadata": {
        "id": "a01cygF3KHCA",
        "colab_type": "text"
      },
      "source": [
        "Вообще я делала эту домашку очень давно, но в тогда я сделала вывод, что *average of embeddings brings down toxic class recall.*. Имеется в виду в сравнении с их суммированием."
      ]
    },
    {
      "cell_type": "code",
      "metadata": {
        "id": "wTw9LBJVKI3k",
        "colab_type": "code",
        "colab": {}
      },
      "source": [
        ""
      ],
      "execution_count": null,
      "outputs": []
    },
    {
      "cell_type": "code",
      "metadata": {
        "colab_type": "code",
        "id": "a8CbIDpWKJLC",
        "colab": {}
      },
      "source": [
        "inputs = tf.keras.layers.Input(shape=(MAX_LEN,))\n",
        "\n",
        "embeddings = tf.keras.layers.Embedding(input_dim=len(word2id), output_dim=200,\n",
        "                                       trainable=False, weights=[weights_sg1])(inputs)\n",
        "embeddings2 = tf.keras.layers.Embedding(input_dim=len(word2id), output_dim=200,\n",
        "                                        trainable=False, weights=[weights2])(inputs)\n",
        "emb = tf.keras.layers.Concatenate()([embeddings, embeddings2])\n",
        "mean = tf.keras.layers.Lambda(lambda x: tf.keras.backend.sum(x, axis=1))(emb)\n",
        "dense0 = tf.keras.layers.Dense(64, activation='relu')(mean)\n",
        "dense1 = tf.keras.layers.Dense(128, activation='relu')(dense0)\n",
        "dense2 = tf.keras.layers.Dense(256, activation='relu')(dense1)\n",
        "dense3 = tf.keras.layers.Dense(128, activation='relu')(dense2)\n",
        "dense4 = tf.keras.layers.Dense(64, activation='relu')(dense3)\n",
        "outputs = tf.keras.layers.Dense(1, activation='sigmoid')(dense4)\n",
        "\n",
        "model = tf.keras.Model(inputs=inputs, outputs=outputs)\n",
        "optimizer = tf.keras.optimizers.Adam(learning_rate=0.0001)\n",
        "model.compile(optimizer=optimizer,\n",
        "              loss='binary_crossentropy',\n",
        "              metrics=['accuracy'])"
      ],
      "execution_count": null,
      "outputs": []
    },
    {
      "cell_type": "code",
      "metadata": {
        "colab_type": "code",
        "id": "qkv7fpFpKJLG",
        "colab": {
          "base_uri": "https://localhost:8080/",
          "height": 1000
        },
        "outputId": "32577e79-ef63-491f-ac0c-65ef5b9d3dec"
      },
      "source": [
        "model.fit(X_train, y_train, \n",
        "          validation_data=(X_valid, y_valid),\n",
        "          batch_size=512,\n",
        "          epochs=30)"
      ],
      "execution_count": null,
      "outputs": [
        {
          "output_type": "stream",
          "text": [
            "Epoch 1/30\n",
            "2424/2424 [==============================] - 164s 68ms/step - loss: 0.1482 - accuracy: 0.9456 - val_loss: 0.1265 - val_accuracy: 0.9510\n",
            "Epoch 2/30\n",
            "2424/2424 [==============================] - 163s 67ms/step - loss: 0.1261 - accuracy: 0.9502 - val_loss: 0.1208 - val_accuracy: 0.9521\n",
            "Epoch 3/30\n",
            "2424/2424 [==============================] - 163s 67ms/step - loss: 0.1208 - accuracy: 0.9517 - val_loss: 0.1187 - val_accuracy: 0.9532\n",
            "Epoch 4/30\n",
            "2424/2424 [==============================] - 163s 67ms/step - loss: 0.1176 - accuracy: 0.9528 - val_loss: 0.1175 - val_accuracy: 0.9525\n",
            "Epoch 5/30\n",
            "2424/2424 [==============================] - 164s 68ms/step - loss: 0.1153 - accuracy: 0.9534 - val_loss: 0.1147 - val_accuracy: 0.9534\n",
            "Epoch 6/30\n",
            "2424/2424 [==============================] - 162s 67ms/step - loss: 0.1135 - accuracy: 0.9539 - val_loss: 0.1148 - val_accuracy: 0.9536\n",
            "Epoch 7/30\n",
            "2424/2424 [==============================] - 163s 67ms/step - loss: 0.1119 - accuracy: 0.9545 - val_loss: 0.1127 - val_accuracy: 0.9542\n",
            "Epoch 8/30\n",
            "2424/2424 [==============================] - 162s 67ms/step - loss: 0.1107 - accuracy: 0.9550 - val_loss: 0.1124 - val_accuracy: 0.9544\n",
            "Epoch 9/30\n",
            "2424/2424 [==============================] - 163s 67ms/step - loss: 0.1093 - accuracy: 0.9553 - val_loss: 0.1120 - val_accuracy: 0.9544\n",
            "Epoch 10/30\n",
            "2424/2424 [==============================] - 162s 67ms/step - loss: 0.1082 - accuracy: 0.9557 - val_loss: 0.1114 - val_accuracy: 0.9544\n",
            "Epoch 11/30\n",
            "2424/2424 [==============================] - 163s 67ms/step - loss: 0.1071 - accuracy: 0.9562 - val_loss: 0.1113 - val_accuracy: 0.9545\n",
            "Epoch 12/30\n",
            "2424/2424 [==============================] - 163s 67ms/step - loss: 0.1060 - accuracy: 0.9566 - val_loss: 0.1117 - val_accuracy: 0.9539\n",
            "Epoch 13/30\n",
            "2424/2424 [==============================] - 165s 68ms/step - loss: 0.1051 - accuracy: 0.9567 - val_loss: 0.1113 - val_accuracy: 0.9550\n",
            "Epoch 14/30\n",
            "2424/2424 [==============================] - 163s 67ms/step - loss: 0.1041 - accuracy: 0.9572 - val_loss: 0.1117 - val_accuracy: 0.9552\n",
            "Epoch 15/30\n",
            "2424/2424 [==============================] - 163s 67ms/step - loss: 0.1031 - accuracy: 0.9575 - val_loss: 0.1118 - val_accuracy: 0.9549\n",
            "Epoch 16/30\n",
            "2424/2424 [==============================] - 165s 68ms/step - loss: 0.1022 - accuracy: 0.9578 - val_loss: 0.1119 - val_accuracy: 0.9542\n",
            "Epoch 17/30\n",
            "2424/2424 [==============================] - 163s 67ms/step - loss: 0.1012 - accuracy: 0.9582 - val_loss: 0.1116 - val_accuracy: 0.9543\n",
            "Epoch 18/30\n",
            "2424/2424 [==============================] - 163s 67ms/step - loss: 0.1004 - accuracy: 0.9584 - val_loss: 0.1120 - val_accuracy: 0.9550\n",
            "Epoch 19/30\n",
            "2424/2424 [==============================] - 163s 67ms/step - loss: 0.0995 - accuracy: 0.9588 - val_loss: 0.1138 - val_accuracy: 0.9533\n",
            "Epoch 20/30\n",
            "2424/2424 [==============================] - 164s 68ms/step - loss: 0.0985 - accuracy: 0.9591 - val_loss: 0.1148 - val_accuracy: 0.9551\n",
            "Epoch 21/30\n",
            "2424/2424 [==============================] - 162s 67ms/step - loss: 0.0978 - accuracy: 0.9593 - val_loss: 0.1136 - val_accuracy: 0.9540\n",
            "Epoch 22/30\n",
            "2424/2424 [==============================] - 163s 67ms/step - loss: 0.0970 - accuracy: 0.9596 - val_loss: 0.1144 - val_accuracy: 0.9539\n",
            "Epoch 23/30\n",
            "2424/2424 [==============================] - 162s 67ms/step - loss: 0.0960 - accuracy: 0.9599 - val_loss: 0.1163 - val_accuracy: 0.9543\n",
            "Epoch 24/30\n",
            "2424/2424 [==============================] - 164s 68ms/step - loss: 0.0951 - accuracy: 0.9602 - val_loss: 0.1144 - val_accuracy: 0.9537\n",
            "Epoch 25/30\n",
            "2424/2424 [==============================] - 163s 67ms/step - loss: 0.0943 - accuracy: 0.9603 - val_loss: 0.1159 - val_accuracy: 0.9540\n",
            "Epoch 26/30\n",
            "2424/2424 [==============================] - 163s 67ms/step - loss: 0.0935 - accuracy: 0.9607 - val_loss: 0.1168 - val_accuracy: 0.9532\n",
            "Epoch 27/30\n",
            "2424/2424 [==============================] - 162s 67ms/step - loss: 0.0927 - accuracy: 0.9609 - val_loss: 0.1171 - val_accuracy: 0.9544\n",
            "Epoch 28/30\n",
            "2424/2424 [==============================] - 164s 68ms/step - loss: 0.0919 - accuracy: 0.9614 - val_loss: 0.1182 - val_accuracy: 0.9544\n",
            "Epoch 29/30\n",
            "2424/2424 [==============================] - 163s 67ms/step - loss: 0.0911 - accuracy: 0.9616 - val_loss: 0.1178 - val_accuracy: 0.9539\n",
            "Epoch 30/30\n",
            "2424/2424 [==============================] - 167s 69ms/step - loss: 0.0902 - accuracy: 0.9619 - val_loss: 0.1208 - val_accuracy: 0.9538\n"
          ],
          "name": "stdout"
        },
        {
          "output_type": "execute_result",
          "data": {
            "text/plain": [
              "<tensorflow.python.keras.callbacks.History at 0x7f5711f0e160>"
            ]
          },
          "metadata": {
            "tags": []
          },
          "execution_count": 21
        }
      ]
    },
    {
      "cell_type": "markdown",
      "metadata": {
        "id": "dLFzJz49KzMO",
        "colab_type": "text"
      },
      "source": [
        "**Последнюю сеть я обучила два раза, батчами по 512 и по 1024.**\n",
        "\n",
        "Вот какая вышла разница:"
      ]
    },
    {
      "cell_type": "markdown",
      "metadata": {
        "id": "ULv70wA1LZrU",
        "colab_type": "text"
      },
      "source": [
        "Картинка красивее для батча побольше, но, глядя на метрики для токсичного класса, можно сказать, что батч меньшего размера дал результат получше."
      ]
    },
    {
      "cell_type": "code",
      "metadata": {
        "id": "ifkxdBW8tDxa",
        "colab_type": "code",
        "colab": {
          "base_uri": "https://localhost:8080/",
          "height": 312
        },
        "outputId": "560e135d-ef02-4d06-f603-5031b2971913"
      },
      "source": [
        "print(model.history.history.keys())\n",
        "# summarize history for accuracy\n",
        "plt.plot(model.history.history['accuracy'])\n",
        "plt.plot(model.history.history['val_accuracy'])\n",
        "plt.title('model accuracy')\n",
        "plt.ylabel('accuracy')\n",
        "plt.xlabel('epoch')\n",
        "plt.legend(['train', 'val'], loc='upper left')\n",
        "plt.show()"
      ],
      "execution_count": null,
      "outputs": [
        {
          "output_type": "stream",
          "text": [
            "dict_keys(['loss', 'accuracy', 'val_loss', 'val_accuracy'])\n"
          ],
          "name": "stdout"
        },
        {
          "output_type": "display_data",
          "data": {
            "image/png": "[encoded data removed]",
            "text/plain": [
              "<Figure size 432x288 with 1 Axes>"
            ]
          },
          "metadata": {
            "tags": [],
            "needs_background": "light"
          }
        }
      ]
    },
    {
      "cell_type": "code",
      "metadata": {
        "colab_type": "code",
        "id": "oSatextfKJLM",
        "colab": {}
      },
      "source": [
        "preds = model.predict(X_valid).reshape(-1)"
      ],
      "execution_count": null,
      "outputs": []
    },
    {
      "cell_type": "code",
      "metadata": {
        "id": "8288G3WNtG84",
        "colab_type": "code",
        "colab": {
          "base_uri": "https://localhost:8080/",
          "height": 176
        },
        "outputId": "6353aac8-bf0a-4540-f913-e7d252287c2e"
      },
      "source": [
        "print(classification_report(y_valid, (preds > 0.3).astype(int)))"
      ],
      "execution_count": null,
      "outputs": [
        {
          "output_type": "stream",
          "text": [
            "              precision    recall  f1-score   support\n",
            "\n",
            "           0       0.98      0.97      0.97     61365\n",
            "           1       0.56      0.67      0.61      3942\n",
            "\n",
            "    accuracy                           0.95     65307\n",
            "   macro avg       0.77      0.82      0.79     65307\n",
            "weighted avg       0.95      0.95      0.95     65307\n",
            "\n"
          ],
          "name": "stdout"
        }
      ]
    },
    {
      "cell_type": "code",
      "metadata": {
        "id": "-kjToDXwlvtH",
        "colab_type": "code",
        "colab": {
          "base_uri": "https://localhost:8080/",
          "height": 312
        },
        "outputId": "b5f22504-538b-4aad-bd6d-bfb938d14cc5"
      },
      "source": [
        "# 1024 batch\n",
        "print(model.history.history.keys())\n",
        "# summarize history for accuracy\n",
        "plt.plot(model.history.history['accuracy'])\n",
        "plt.plot(model.history.history['val_accuracy'])\n",
        "plt.title('model accuracy')\n",
        "plt.ylabel('accuracy')\n",
        "plt.xlabel('epoch')\n",
        "plt.legend(['train', 'val'], loc='upper left')\n",
        "plt.show()"
      ],
      "execution_count": null,
      "outputs": [
        {
          "output_type": "stream",
          "text": [
            "dict_keys(['loss', 'accuracy', 'val_loss', 'val_accuracy'])\n"
          ],
          "name": "stdout"
        },
        {
          "output_type": "display_data",
          "data": {
            "image/png": "[encoded data removed]",
            "text/plain": [
              "<Figure size 432x288 with 1 Axes>"
            ]
          },
          "metadata": {
            "tags": [],
            "needs_background": "light"
          }
        }
      ]
    },
    {
      "cell_type": "code",
      "metadata": {
        "colab_type": "code",
        "id": "bqkrP8HzLFxa",
        "colab": {}
      },
      "source": [
        "preds = model.predict(X_valid).reshape(-1)"
      ],
      "execution_count": null,
      "outputs": []
    },
    {
      "cell_type": "code",
      "metadata": {
        "id": "3PwtAVh4l-Nj",
        "colab_type": "code",
        "colab": {
          "base_uri": "https://localhost:8080/",
          "height": 176
        },
        "outputId": "a7d3c8ce-8cce-43a3-d2a3-8c3a46c4cf15"
      },
      "source": [
        "print(classification_report(y_valid, (preds > 0.3).astype(int)))\n",
        "# 1024 batch"
      ],
      "execution_count": null,
      "outputs": [
        {
          "output_type": "stream",
          "text": [
            "              precision    recall  f1-score   support\n",
            "\n",
            "           0       0.98      0.97      0.97     61365\n",
            "           1       0.55      0.65      0.60      3942\n",
            "\n",
            "    accuracy                           0.95     65307\n",
            "   macro avg       0.76      0.81      0.78     65307\n",
            "weighted avg       0.95      0.95      0.95     65307\n",
            "\n"
          ],
          "name": "stdout"
        }
      ]
    }
  ]
}