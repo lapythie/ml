{
  "nbformat": 4,
  "nbformat_minor": 0,
  "metadata": {
    "kernelspec": {
      "display_name": "Python 3",
      "language": "python",
      "name": "python3"
    },
    "language_info": {
      "codemirror_mode": {
        "name": "ipython",
        "version": 3
      },
      "file_extension": ".py",
      "mimetype": "text/x-python",
      "name": "python",
      "nbconvert_exporter": "python",
      "pygments_lexer": "ipython3",
      "version": "3.6.3"
    },
    "colab": {
      "name": "HW01_ML_pandas_regression.ipynb",
      "provenance": [],
      "collapsed_sections": [
        "3J92zYYwo3Cb",
        "WWWc6Rc17o--",
        "U6ubnHJw-b_w",
        "36AXXjoupXnd",
        "IQWNbPvA7TOd",
        "1GNfak6Z5UEF",
        "6W_PGExIgO_R",
        "feyOQoMSzQyj",
        "dVK6XpcJgfvc",
        "bRQIE2n57TR6"
      ],
      "include_colab_link": true
    }
  },
  "cells": [
    {
      "cell_type": "markdown",
      "metadata": {
        "id": "view-in-github",
        "colab_type": "text"
      },
      "source": [
        "<a href=\"https://colab.research.google.com/github/lapythie/ml/blob/master/HW01_ML_pandas_regression.ipynb\" target=\"_parent\"><img src=\"https://colab.research.google.com/assets/colab-badge.svg\" alt=\"Open In Colab\"/></a>"
      ]
    },
    {
      "cell_type": "code",
      "metadata": {
        "id": "TleZB7Ae7TMl",
        "colab_type": "code",
        "colab": {}
      },
      "source": [
        "%%capture\n",
        "!pip install pymorphy2[fast]\n",
        "\n",
        "import pandas as pd\n",
        "import numpy as np\n",
        "from collections import Counter\n",
        "import nltk\n",
        "nltk.download('punkt')\n",
        "from nltk import sent_tokenize\n",
        "from nltk.tokenize import word_tokenize, wordpunct_tokenize\n",
        "from pymorphy2 import MorphAnalyzer\n",
        "from string import punctuation\n",
        "punctuation += '«»—–…“”' #добавила среднее тире\n",
        "morph = MorphAnalyzer()\n",
        "\n",
        "from sklearn.feature_extraction.text import CountVectorizer, TfidfVectorizer\n",
        "from sklearn.linear_model import LinearRegression, Ridge, Lasso, SGDRegressor\n",
        "from sklearn.svm import LinearSVR\n",
        "from sklearn.model_selection import train_test_split\n",
        "from sklearn.metrics import mean_absolute_error, mean_squared_error\n",
        "from sklearn.preprocessing import StandardScaler\n",
        "\n",
        "def normalize (text):\n",
        "  normalized_text = [word.strip(punctuation) for word \n",
        "                     in text.lower().split() if word.strip(punctuation)]\n",
        "  return normalized_text"
      ],
      "execution_count": null,
      "outputs": []
    },
    {
      "cell_type": "code",
      "metadata": {
        "id": "1RC1OqzF7TMq",
        "colab_type": "code",
        "colab": {}
      },
      "source": [
        "weather_hist = pd.read_csv('weatherHistory.csv')"
      ],
      "execution_count": null,
      "outputs": []
    },
    {
      "cell_type": "markdown",
      "metadata": {
        "colab_type": "text",
        "id": "36AXXjoupXnd"
      },
      "source": [
        "###Предобработка (копипаст из семинара)"
      ]
    },
    {
      "cell_type": "code",
      "metadata": {
        "id": "w0v6ud5H7TNA",
        "colab_type": "code",
        "colab": {}
      },
      "source": [
        "weather_hist.rename({'Formatted Date':'date', 'Temperature (C)':'temp', 'Apparent Temperature (C)':'temp_app',\n",
        "                    'Precip Type':'weather_type', 'Wind Speed (km/h)':'wind_speed', 'Humidity':'humidity',\n",
        "                    'Daily Summary':'summary'}, \n",
        "                    axis=1, inplace=True)"
      ],
      "execution_count": null,
      "outputs": []
    },
    {
      "cell_type": "code",
      "metadata": {
        "id": "RTFp_ntw7TND",
        "colab_type": "code",
        "colab": {}
      },
      "source": [
        "weather_hist['visibility'] = weather_hist['Visibility (km)']\n",
        "weather_hist['wind_bearing'] = weather_hist['Wind Bearing (degrees)']\n",
        "weather_hist['pressure'] = weather_hist['Pressure (millibars)']\n",
        "weather_hist.drop(['Visibility (km)', 'Wind Bearing (degrees)', 'Pressure (millibars)'], axis=1, inplace=True)\n",
        "#axis=0 for rows"
      ],
      "execution_count": null,
      "outputs": []
    },
    {
      "cell_type": "code",
      "metadata": {
        "id": "Imjj3En17TNN",
        "colab_type": "code",
        "colab": {}
      },
      "source": [
        "weather_hist.drop(['Loud Cover'], axis=1, inplace=True)"
      ],
      "execution_count": null,
      "outputs": []
    },
    {
      "cell_type": "code",
      "metadata": {
        "id": "TpEqcqQp7TOL",
        "colab_type": "code",
        "colab": {}
      },
      "source": [
        "weather_hist = weather_hist[weather_hist['pressure'] > 100]"
      ],
      "execution_count": null,
      "outputs": []
    },
    {
      "cell_type": "code",
      "metadata": {
        "id": "0oo6-FBnYIGB",
        "colab_type": "code",
        "colab": {}
      },
      "source": [
        "weather_hist[weather_hist['pressure'] < 100]['pressure'] = weather_hist['pressure'].mean()"
      ],
      "execution_count": null,
      "outputs": []
    },
    {
      "cell_type": "markdown",
      "metadata": {
        "id": "NjofK8Yw-oY4",
        "colab_type": "text"
      },
      "source": [
        "### Дз, часть 1"
      ]
    },
    {
      "cell_type": "markdown",
      "metadata": {
        "id": "2z1jZawRkW3J",
        "colab_type": "text"
      },
      "source": [
        "\n",
        "*Проанализируйте данные и найдите самый холодный и самый ветренный дни в Сегеде за всю имеющуюся историю.*"
      ]
    },
    {
      "cell_type": "code",
      "metadata": {
        "id": "N-nrhr4dPJ1B",
        "colab_type": "code",
        "colab": {}
      },
      "source": [
        "weather_hist['date'] = pd.to_datetime(weather_hist['date'], utc=True)"
      ],
      "execution_count": null,
      "outputs": []
    },
    {
      "cell_type": "code",
      "metadata": {
        "id": "4fzKdzoiXF26",
        "colab_type": "code",
        "colab": {
          "base_uri": "https://localhost:8080/",
          "height": 34
        },
        "outputId": "46da40fe-44d9-4a1b-bba8-ee11421f3b68"
      },
      "source": [
        "weather_hist.dtypes['date']"
      ],
      "execution_count": null,
      "outputs": [
        {
          "output_type": "execute_result",
          "data": {
            "text/plain": [
              "datetime64[ns, UTC]"
            ]
          },
          "metadata": {
            "tags": []
          },
          "execution_count": 11
        }
      ]
    },
    {
      "cell_type": "markdown",
      "metadata": {
        "id": "kCMh_zfHky4X",
        "colab_type": "text"
      },
      "source": [
        "Непонятно, как определять холодность дня - по минимальной температуре или по средней температуре за день. На всякий случай нашла и то, и то. То же самое с самым ветреным днём."
      ]
    },
    {
      "cell_type": "code",
      "metadata": {
        "id": "DX2a7EvmVj5B",
        "colab_type": "code",
        "colab": {
          "base_uri": "https://localhost:8080/",
          "height": 34
        },
        "outputId": "ec182805-6f49-4ac0-d3b6-99b4f0d7d1d4"
      },
      "source": [
        "# самый холодный день за всю историю наблюдений\n",
        "groups = [weather_hist.date.dt.year\n",
        "          , weather_hist.date.dt.month\n",
        "          , weather_hist.date.dt.day\n",
        "          ]\n",
        "weather_hist.groupby(by=groups, sort=False).agg('mean').idxmin()['temp']"
      ],
      "execution_count": null,
      "outputs": [
        {
          "output_type": "execute_result",
          "data": {
            "text/plain": [
              "(2012, 2, 10)"
            ]
          },
          "metadata": {
            "tags": []
          },
          "execution_count": 12
        }
      ]
    },
    {
      "cell_type": "code",
      "metadata": {
        "id": "y4f9S56aq9aV",
        "colab_type": "code",
        "colab": {
          "base_uri": "https://localhost:8080/",
          "height": 52
        },
        "outputId": "37bbfcb5-b78b-4b3c-8de4-cba7f61d6566"
      },
      "source": [
        "#день, когда был зафиксирован температурный минимум\n",
        "weather_hist.nsmallest(1, 'temp').date"
      ],
      "execution_count": null,
      "outputs": [
        {
          "output_type": "execute_result",
          "data": {
            "text/plain": [
              "54847   2012-02-10 06:00:00+00:00\n",
              "Name: date, dtype: datetime64[ns, UTC]"
            ]
          },
          "metadata": {
            "tags": []
          },
          "execution_count": 15
        }
      ]
    },
    {
      "cell_type": "markdown",
      "metadata": {
        "id": "rLx940lY7Cif",
        "colab_type": "text"
      },
      "source": [
        "Самый холодный по средней температуре день оказался одновременно и днём с температурным минимумом.\n",
        "\n",
        "То же самое для скорости ветра:"
      ]
    },
    {
      "cell_type": "code",
      "metadata": {
        "id": "rSvDxrg2c9LM",
        "colab_type": "code",
        "colab": {
          "base_uri": "https://localhost:8080/",
          "height": 34
        },
        "outputId": "28108505-05d0-4fd0-e0be-04392012ef71"
      },
      "source": [
        "# самый ветреный день за всю историю наблюдений\n",
        "groups = [weather_hist.date.dt.year\n",
        "          , weather_hist.date.dt.month\n",
        "          , weather_hist.date.dt.day\n",
        "          ]\n",
        "weather_hist.groupby(by=groups, sort=False).agg('mean').idxmax()['wind_speed']"
      ],
      "execution_count": null,
      "outputs": [
        {
          "output_type": "execute_result",
          "data": {
            "text/plain": [
              "(2008, 1, 27)"
            ]
          },
          "metadata": {
            "tags": []
          },
          "execution_count": 16
        }
      ]
    },
    {
      "cell_type": "code",
      "metadata": {
        "id": "Se79NmrMtSkK",
        "colab_type": "code",
        "colab": {
          "base_uri": "https://localhost:8080/",
          "height": 52
        },
        "outputId": "568ae378-9c13-4822-ec74-2c2743751eef"
      },
      "source": [
        "#день, когда был зафиксирован максимум по скорости ветра\n",
        "weather_hist.nlargest(1, 'wind_speed').date.dt.date"
      ],
      "execution_count": null,
      "outputs": [
        {
          "output_type": "execute_result",
          "data": {
            "text/plain": [
              "12181    2007-01-29\n",
              "Name: date, dtype: object"
            ]
          },
          "metadata": {
            "tags": []
          },
          "execution_count": 18
        }
      ]
    },
    {
      "cell_type": "markdown",
      "metadata": {
        "id": "zSY9Fc60nyPx",
        "colab_type": "text"
      },
      "source": [
        "Сколько раз шёл дождь летом 2014 года? Всегда. Один сплошной раз:"
      ]
    },
    {
      "cell_type": "code",
      "metadata": {
        "id": "rEycsqBAAFl7",
        "colab_type": "code",
        "colab": {
          "base_uri": "https://localhost:8080/",
          "height": 34
        },
        "outputId": "7f162159-a926-4ef7-fd16-13a33494553c"
      },
      "source": [
        "len(weather_hist[(weather_hist.date.dt.year == 2014)\n",
        "              & (weather_hist.date.dt.month.between(6,8))\n",
        "                 ].groupby(weather_hist.date.dt.dayofyear, sort=False))\n",
        "# weather_hist['Summary'].value_counts()"
      ],
      "execution_count": null,
      "outputs": [
        {
          "output_type": "execute_result",
          "data": {
            "text/plain": [
              "92"
            ]
          },
          "metadata": {
            "tags": []
          },
          "execution_count": 19
        }
      ]
    },
    {
      "cell_type": "code",
      "metadata": {
        "id": "sQni0hXQQPAI",
        "colab_type": "code",
        "colab": {
          "base_uri": "https://localhost:8080/",
          "height": 34
        },
        "outputId": "6c098081-1a34-4e68-afad-bafad20c27d2"
      },
      "source": [
        "# самый ветреный месяц в году\n",
        "weather_hist.groupby(weather_hist.date.dt.month, sort=False\n",
        "                     ).agg('mean').idxmax()['wind_speed']"
      ],
      "execution_count": null,
      "outputs": [
        {
          "output_type": "execute_result",
          "data": {
            "text/plain": [
              "3"
            ]
          },
          "metadata": {
            "tags": []
          },
          "execution_count": 20
        }
      ]
    },
    {
      "cell_type": "code",
      "metadata": {
        "id": "AhmcxpKe8pK3",
        "colab_type": "code",
        "colab": {
          "base_uri": "https://localhost:8080/",
          "height": 34
        },
        "outputId": "ea18f78f-d9dc-4cb8-ff66-9ab2ceceeaca"
      },
      "source": [
        "# самый ветреный месяц за всю историю наблюдений\n",
        "groups = [weather_hist.date.dt.year\n",
        "          , weather_hist.date.dt.month\n",
        "          ]\n",
        "weather_hist.groupby(by=groups, sort=False\n",
        "                     ).agg('nunique').idxmax()['Summary']"
      ],
      "execution_count": null,
      "outputs": [
        {
          "output_type": "execute_result",
          "data": {
            "text/plain": [
              "(2012, 3)"
            ]
          },
          "metadata": {
            "tags": []
          },
          "execution_count": 23
        }
      ]
    },
    {
      "cell_type": "code",
      "metadata": {
        "id": "a338FABWN87X",
        "colab_type": "code",
        "colab": {
          "base_uri": "https://localhost:8080/",
          "height": 34
        },
        "outputId": "185e5da5-b23c-44d2-bc60-6fc3ffb4a01c"
      },
      "source": [
        "# самый влажный год за всю историю наблюдений\n",
        "weather_hist.groupby(weather_hist.date.dt.year, sort=False\n",
        "                     ).agg('mean').idxmax()['humidity']"
      ],
      "execution_count": null,
      "outputs": [
        {
          "output_type": "execute_result",
          "data": {
            "text/plain": [
              "2005"
            ]
          },
          "metadata": {
            "tags": []
          },
          "execution_count": 25
        }
      ]
    },
    {
      "cell_type": "markdown",
      "metadata": {
        "id": "IgQpDpBHy5Zd",
        "colab_type": "text"
      },
      "source": [
        "Но за 2005 год есть только одна запись, нельзя по ней делать выводы:"
      ]
    },
    {
      "cell_type": "code",
      "metadata": {
        "id": "O6FGyMEPq1fV",
        "colab_type": "code",
        "colab": {
          "base_uri": "https://localhost:8080/",
          "height": 110
        },
        "outputId": "adbaa68a-8099-43b9-85b6-d34d281ce890"
      },
      "source": [
        "weather_hist.groupby(weather_hist.date.dt.year\n",
        "                     ).agg('nunique').head(1)"
      ],
      "execution_count": null,
      "outputs": [
        {
          "output_type": "execute_result",
          "data": {
            "text/html": [
              "<div>\n",
              "<style scoped>\n",
              "    .dataframe tbody tr th:only-of-type {\n",
              "        vertical-align: middle;\n",
              "    }\n",
              "\n",
              "    .dataframe tbody tr th {\n",
              "        vertical-align: top;\n",
              "    }\n",
              "\n",
              "    .dataframe thead th {\n",
              "        text-align: right;\n",
              "    }\n",
              "</style>\n",
              "<table border=\"1\" class=\"dataframe\">\n",
              "  <thead>\n",
              "    <tr style=\"text-align: right;\">\n",
              "      <th></th>\n",
              "      <th>date</th>\n",
              "      <th>Summary</th>\n",
              "      <th>weather_type</th>\n",
              "      <th>temp</th>\n",
              "      <th>temp_app</th>\n",
              "      <th>humidity</th>\n",
              "      <th>wind_speed</th>\n",
              "      <th>summary</th>\n",
              "      <th>visibility</th>\n",
              "      <th>wind_bearing</th>\n",
              "      <th>pressure</th>\n",
              "    </tr>\n",
              "    <tr>\n",
              "      <th>date</th>\n",
              "      <th></th>\n",
              "      <th></th>\n",
              "      <th></th>\n",
              "      <th></th>\n",
              "      <th></th>\n",
              "      <th></th>\n",
              "      <th></th>\n",
              "      <th></th>\n",
              "      <th></th>\n",
              "      <th></th>\n",
              "      <th></th>\n",
              "    </tr>\n",
              "  </thead>\n",
              "  <tbody>\n",
              "    <tr>\n",
              "      <th>2005</th>\n",
              "      <td>1</td>\n",
              "      <td>1</td>\n",
              "      <td>1</td>\n",
              "      <td>1</td>\n",
              "      <td>1</td>\n",
              "      <td>1</td>\n",
              "      <td>1</td>\n",
              "      <td>1</td>\n",
              "      <td>1</td>\n",
              "      <td>1</td>\n",
              "      <td>1</td>\n",
              "    </tr>\n",
              "  </tbody>\n",
              "</table>\n",
              "</div>"
            ],
            "text/plain": [
              "      date  Summary  weather_type  ...  visibility  wind_bearing  pressure\n",
              "date                               ...                                    \n",
              "2005     1        1             1  ...           1             1         1\n",
              "\n",
              "[1 rows x 11 columns]"
            ]
          },
          "metadata": {
            "tags": []
          },
          "execution_count": 31
        }
      ]
    },
    {
      "cell_type": "markdown",
      "metadata": {
        "id": "MHrNYEH27hiF",
        "colab_type": "text"
      },
      "source": [
        "Значит, на самом деле самый влажный год - 2010:"
      ]
    },
    {
      "cell_type": "code",
      "metadata": {
        "id": "OQSonbT4zMLP",
        "colab_type": "code",
        "colab": {
          "base_uri": "https://localhost:8080/",
          "height": 172
        },
        "outputId": "4362d6b2-51ee-4975-b610-cb752e682da4"
      },
      "source": [
        "weather_hist.groupby(weather_hist.date.dt.year\n",
        "                     ).agg('mean').sort_values(by=['humidity'], \n",
        "                                               ascending=False).head(3)"
      ],
      "execution_count": null,
      "outputs": [
        {
          "output_type": "execute_result",
          "data": {
            "text/html": [
              "<div>\n",
              "<style scoped>\n",
              "    .dataframe tbody tr th:only-of-type {\n",
              "        vertical-align: middle;\n",
              "    }\n",
              "\n",
              "    .dataframe tbody tr th {\n",
              "        vertical-align: top;\n",
              "    }\n",
              "\n",
              "    .dataframe thead th {\n",
              "        text-align: right;\n",
              "    }\n",
              "</style>\n",
              "<table border=\"1\" class=\"dataframe\">\n",
              "  <thead>\n",
              "    <tr style=\"text-align: right;\">\n",
              "      <th></th>\n",
              "      <th>temp</th>\n",
              "      <th>temp_app</th>\n",
              "      <th>humidity</th>\n",
              "      <th>wind_speed</th>\n",
              "      <th>visibility</th>\n",
              "      <th>wind_bearing</th>\n",
              "      <th>pressure</th>\n",
              "    </tr>\n",
              "    <tr>\n",
              "      <th>date</th>\n",
              "      <th></th>\n",
              "      <th></th>\n",
              "      <th></th>\n",
              "      <th></th>\n",
              "      <th></th>\n",
              "      <th></th>\n",
              "      <th></th>\n",
              "    </tr>\n",
              "  </thead>\n",
              "  <tbody>\n",
              "    <tr>\n",
              "      <th>2005</th>\n",
              "      <td>0.577778</td>\n",
              "      <td>-4.050000</td>\n",
              "      <td>0.890000</td>\n",
              "      <td>17.114300</td>\n",
              "      <td>9.982000</td>\n",
              "      <td>140.000000</td>\n",
              "      <td>1016.660000</td>\n",
              "    </tr>\n",
              "    <tr>\n",
              "      <th>2010</th>\n",
              "      <td>11.177522</td>\n",
              "      <td>10.073168</td>\n",
              "      <td>0.796993</td>\n",
              "      <td>11.005474</td>\n",
              "      <td>9.129442</td>\n",
              "      <td>192.116856</td>\n",
              "      <td>1014.167393</td>\n",
              "    </tr>\n",
              "    <tr>\n",
              "      <th>2006</th>\n",
              "      <td>11.104832</td>\n",
              "      <td>10.034645</td>\n",
              "      <td>0.768657</td>\n",
              "      <td>10.146414</td>\n",
              "      <td>9.765750</td>\n",
              "      <td>188.889410</td>\n",
              "      <td>1018.591666</td>\n",
              "    </tr>\n",
              "  </tbody>\n",
              "</table>\n",
              "</div>"
            ],
            "text/plain": [
              "           temp   temp_app  humidity  ...  visibility  wind_bearing     pressure\n",
              "date                                  ...                                       \n",
              "2005   0.577778  -4.050000  0.890000  ...    9.982000    140.000000  1016.660000\n",
              "2010  11.177522  10.073168  0.796993  ...    9.129442    192.116856  1014.167393\n",
              "2006  11.104832  10.034645  0.768657  ...    9.765750    188.889410  1018.591666\n",
              "\n",
              "[3 rows x 7 columns]"
            ]
          },
          "metadata": {
            "tags": []
          },
          "execution_count": 26
        }
      ]
    },
    {
      "cell_type": "code",
      "metadata": {
        "id": "7yZPkk1WWpF_",
        "colab_type": "code",
        "colab": {
          "base_uri": "https://localhost:8080/",
          "height": 34
        },
        "outputId": "9338e6f2-115e-40f6-ce00-8eacaf8ef585"
      },
      "source": [
        "# неделя с самой переменчивой погодой\n",
        "groups = [weather_hist.date.dt.year\n",
        "          , weather_hist.date.dt.weekofyear\n",
        "          ]\n",
        "weather_hist.groupby(by=groups, sort=False).agg('nunique').idxmax()['Summary']\n"
      ],
      "execution_count": null,
      "outputs": [
        {
          "output_type": "execute_result",
          "data": {
            "text/plain": [
              "(2007, 5)"
            ]
          },
          "metadata": {
            "tags": []
          },
          "execution_count": 32
        }
      ]
    },
    {
      "cell_type": "markdown",
      "metadata": {
        "id": "wELoYSx47TPq",
        "colab_type": "text"
      },
      "source": [
        "## Дз, часть 2"
      ]
    },
    {
      "cell_type": "markdown",
      "metadata": {
        "id": "yaTUq-frltLT",
        "colab_type": "text"
      },
      "source": [
        "*Попробуйте придумать признаки (как минимум 5), которые можно извлечь из текста, помимо тех 4, которые мы уже использовали. Обучите модель на них и проверьте, улучашается ли качество. Опишите признаки, которое придумали и почему считаете, что они должны показывать вероятность покупки.*\n",
        "\n",
        "*Побробуйте подобрать параметры векторизатора (TfidfVectorizer или CountVectorizer, или обоих) и параметры алгоритма так, чтобы качество, которое у нас получилось (0.248) улучшилось. Опишите то, что попробовали.*"
      ]
    },
    {
      "cell_type": "code",
      "metadata": {
        "scrolled": true,
        "id": "DgSH8pzT7TPt",
        "colab_type": "code",
        "colab": {}
      },
      "source": [
        "# data = pd.read_csv('train.csv.zip')\n",
        "# так выкидываются строчки с пропусками в колонке description\n",
        "# data.dropna(subset=['description'], inplace=True)\n",
        "# data = data.sample(frac=0.1)\n",
        "# data.to_csv('data.csv', index=None)"
      ],
      "execution_count": null,
      "outputs": []
    },
    {
      "cell_type": "code",
      "metadata": {
        "id": "z51woJmz7TP3",
        "colab_type": "code",
        "colab": {}
      },
      "source": [
        "data = pd.read_csv('data.csv')"
      ],
      "execution_count": null,
      "outputs": []
    },
    {
      "cell_type": "code",
      "metadata": {
        "id": "x9stF_QY7TP8",
        "colab_type": "code",
        "colab": {
          "base_uri": "https://localhost:8080/",
          "height": 34
        },
        "outputId": "868930eb-e2e9-4e12-dc72-ad797f118445"
      },
      "source": [
        "data.shape"
      ],
      "execution_count": null,
      "outputs": [
        {
          "output_type": "execute_result",
          "data": {
            "text/plain": [
              "(138715, 18)"
            ]
          },
          "metadata": {
            "tags": []
          },
          "execution_count": 14
        }
      ]
    },
    {
      "cell_type": "code",
      "metadata": {
        "id": "PtNNkuq4eWdC",
        "colab_type": "code",
        "colab": {
          "base_uri": "https://localhost:8080/",
          "height": 34
        },
        "outputId": "7ee5c9a7-a63e-42af-fd7c-4a4816937137"
      },
      "source": [
        "data.groupby(['category_name']).mean().idxmax()['deal_probability']\n",
        "# категория в которой чаще совершаются сделки или типа того?"
      ],
      "execution_count": null,
      "outputs": [
        {
          "output_type": "execute_result",
          "data": {
            "text/plain": [
              "'Предложение услуг'"
            ]
          },
          "metadata": {
            "tags": []
          },
          "execution_count": 15
        }
      ]
    },
    {
      "cell_type": "code",
      "metadata": {
        "id": "Ks-opkZHgIB4",
        "colab_type": "code",
        "colab": {
          "base_uri": "https://localhost:8080/",
          "height": 51
        },
        "outputId": "d90eb702-81f2-489a-89a3-c95ce542b3b9"
      },
      "source": [
        "%%time\n",
        "description_words = Counter()\n",
        "# частотник слов из объявлений с высокой deal_probability\n",
        "# не знаю, зачем; смысла у этого нет\n",
        "for row in data[data.deal_probability == 1].itertuples():\n",
        "    for word2lemmatize in normalize(row.description):\n",
        "      lemma = morph.parse(word2lemmatize)[0].normal_form\n",
        "      description_words += Counter({lemma})"
      ],
      "execution_count": null,
      "outputs": [
        {
          "output_type": "stream",
          "text": [
            "CPU times: user 8.07 s, sys: 2.32 ms, total: 8.07 s\n",
            "Wall time: 8.09 s\n"
          ],
          "name": "stdout"
        }
      ]
    },
    {
      "cell_type": "code",
      "metadata": {
        "id": "r28m4AxN9q-_",
        "colab_type": "code",
        "colab": {}
      },
      "source": [
        "counter_df = pd.DataFrame.from_dict(description_words, orient='index').reset_index()\n",
        "counter_df.rename({'index':'word', 0:'count'}, \n",
        "                    axis=1, inplace=True)"
      ],
      "execution_count": null,
      "outputs": []
    },
    {
      "cell_type": "code",
      "metadata": {
        "id": "3cextDz1C-4D",
        "colab_type": "code",
        "colab": {}
      },
      "source": [
        "counter_df['word_len'] = counter_df['word'].apply(len)"
      ],
      "execution_count": null,
      "outputs": []
    },
    {
      "cell_type": "code",
      "metadata": {
        "id": "seTI5lCQENIs",
        "colab_type": "code",
        "colab": {}
      },
      "source": [
        "counter_df['pos'] = counter_df['word'].apply(lambda x: morph.parse(x)[0].tag.POS)"
      ],
      "execution_count": null,
      "outputs": []
    },
    {
      "cell_type": "code",
      "metadata": {
        "id": "B-splK1o-I52",
        "colab_type": "code",
        "colab": {
          "base_uri": "https://localhost:8080/",
          "height": 204
        },
        "outputId": "e24d762d-00da-4eef-c913-1fabc5b2ebee"
      },
      "source": [
        "counter_df[(counter_df['pos'].isnull())\n",
        "           & (counter_df['count'] == 1)\n",
        "           & (counter_df['word_len'] < 3)\n",
        "           ].sort_values(by='count',\n",
        "                         ascending=False).head(5)"
      ],
      "execution_count": null,
      "outputs": [
        {
          "output_type": "execute_result",
          "data": {
            "text/html": [
              "<div>\n",
              "<style scoped>\n",
              "    .dataframe tbody tr th:only-of-type {\n",
              "        vertical-align: middle;\n",
              "    }\n",
              "\n",
              "    .dataframe tbody tr th {\n",
              "        vertical-align: top;\n",
              "    }\n",
              "\n",
              "    .dataframe thead th {\n",
              "        text-align: right;\n",
              "    }\n",
              "</style>\n",
              "<table border=\"1\" class=\"dataframe\">\n",
              "  <thead>\n",
              "    <tr style=\"text-align: right;\">\n",
              "      <th></th>\n",
              "      <th>word</th>\n",
              "      <th>count</th>\n",
              "      <th>word_len</th>\n",
              "      <th>pos</th>\n",
              "    </tr>\n",
              "  </thead>\n",
              "  <tbody>\n",
              "    <tr>\n",
              "      <th>302</th>\n",
              "      <td>цо</td>\n",
              "      <td>1</td>\n",
              "      <td>2</td>\n",
              "      <td>None</td>\n",
              "    </tr>\n",
              "    <tr>\n",
              "      <th>5573</th>\n",
              "      <td>гп</td>\n",
              "      <td>1</td>\n",
              "      <td>2</td>\n",
              "      <td>None</td>\n",
              "    </tr>\n",
              "    <tr>\n",
              "      <th>4549</th>\n",
              "      <td>ца</td>\n",
              "      <td>1</td>\n",
              "      <td>2</td>\n",
              "      <td>None</td>\n",
              "    </tr>\n",
              "    <tr>\n",
              "      <th>4585</th>\n",
              "      <td>2д</td>\n",
              "      <td>1</td>\n",
              "      <td>2</td>\n",
              "      <td>None</td>\n",
              "    </tr>\n",
              "    <tr>\n",
              "      <th>4587</th>\n",
              "      <td>4д</td>\n",
              "      <td>1</td>\n",
              "      <td>2</td>\n",
              "      <td>None</td>\n",
              "    </tr>\n",
              "  </tbody>\n",
              "</table>\n",
              "</div>"
            ],
            "text/plain": [
              "     word  count  word_len   pos\n",
              "302    цо      1         2  None\n",
              "5573   гп      1         2  None\n",
              "4549   ца      1         2  None\n",
              "4585   2д      1         2  None\n",
              "4587   4д      1         2  None"
            ]
          },
          "metadata": {
            "tags": []
          },
          "execution_count": 24
        }
      ]
    },
    {
      "cell_type": "code",
      "metadata": {
        "id": "j_-ucSDuHmye",
        "colab_type": "code",
        "colab": {}
      },
      "source": [
        "# dropping rare and meaningless tokens\n",
        "\n",
        "# indexNames = counter_df[(counter_df['pos'].isnull())\n",
        "#            & (counter_df['count'] == 1)\n",
        "#            & (counter_df['word_len'] < 3)].index\n",
        "\n",
        "# counter_df.drop(indexNames , inplace=True)"
      ],
      "execution_count": null,
      "outputs": []
    },
    {
      "cell_type": "code",
      "metadata": {
        "id": "343TAkGlxrq4",
        "colab_type": "code",
        "colab": {}
      },
      "source": [
        "counter_df[(counter_df['pos'] == 'NOUN')\n",
        "           & (counter_df['word_len'] > 3)\n",
        "           ].sort_values(['count'], ascending=False).head(50)"
      ],
      "execution_count": null,
      "outputs": []
    },
    {
      "cell_type": "markdown",
      "metadata": {
        "id": "6dVB3t7wKeNg",
        "colab_type": "text"
      },
      "source": [
        "### Тут смотрю корреляцию вероятности сделки со всякими бессмысленными признаками"
      ]
    },
    {
      "cell_type": "markdown",
      "metadata": {
        "id": "LNEzvsKjKgNE",
        "colab_type": "text"
      },
      "source": [
        "Можно сразу переходить к ctrl-f, **Попытки предсказать вероятность сделки по тексту описания**"
      ]
    },
    {
      "cell_type": "markdown",
      "metadata": {
        "id": "1GNfak6Z5UEF",
        "colab_type": "text"
      },
      "source": [
        "#### Частые глаголы"
      ]
    },
    {
      "cell_type": "code",
      "metadata": {
        "colab_type": "code",
        "id": "rJpKq4me6QJM",
        "colab": {}
      },
      "source": [
        "freq_infinitives = []\n",
        "\n",
        "for row in counter_df[\n",
        "           (counter_df['pos'] == ('INFN' or 'VERB'))\n",
        "           & \n",
        "           (counter_df['word_len'] > 3)\n",
        "           &\n",
        "           (counter_df['count'] > 10)\n",
        "].itertuples():\n",
        "    freq_infinitives.append(row.word)\n",
        "\n",
        "freq_infinitives"
      ],
      "execution_count": null,
      "outputs": []
    },
    {
      "cell_type": "code",
      "metadata": {
        "colab_type": "code",
        "id": "M0IuIygu6QJT",
        "colab": {}
      },
      "source": [
        "# выбрала самые добрые\n",
        "freq_infinitives = [\n",
        " 'звонить',\n",
        " 'договориться',\n",
        " 'помочь',\n",
        " 'входить',\n",
        " 'гарантировать',\n",
        " 'приглашать',\n",
        " ]"
      ],
      "execution_count": null,
      "outputs": []
    },
    {
      "cell_type": "code",
      "metadata": {
        "colab_type": "code",
        "id": "w3ZqJ9926QJW",
        "colab": {}
      },
      "source": [
        "data['n_verbs'] = data['description'].apply(lambda x: len([word for word in normalize(x) if morph.parse(word)[0].normal_form in freq_infinitives]))"
      ],
      "execution_count": null,
      "outputs": []
    },
    {
      "cell_type": "code",
      "metadata": {
        "colab_type": "code",
        "id": "rcXXsWHL6QJc",
        "colab": {
          "base_uri": "https://localhost:8080/",
          "height": 317
        },
        "outputId": "99df69a4-c6bb-4d2f-b642-cfabe6373361"
      },
      "source": [
        "data.groupby(data['n_verbs']).mean()"
      ],
      "execution_count": null,
      "outputs": [
        {
          "output_type": "execute_result",
          "data": {
            "text/html": [
              "<div>\n",
              "<style scoped>\n",
              "    .dataframe tbody tr th:only-of-type {\n",
              "        vertical-align: middle;\n",
              "    }\n",
              "\n",
              "    .dataframe tbody tr th {\n",
              "        vertical-align: top;\n",
              "    }\n",
              "\n",
              "    .dataframe thead th {\n",
              "        text-align: right;\n",
              "    }\n",
              "</style>\n",
              "<table border=\"1\" class=\"dataframe\">\n",
              "  <thead>\n",
              "    <tr style=\"text-align: right;\">\n",
              "      <th></th>\n",
              "      <th>price</th>\n",
              "      <th>item_seq_number</th>\n",
              "      <th>image_top_1</th>\n",
              "      <th>deal_probability</th>\n",
              "      <th>text_len</th>\n",
              "      <th>text_len_tokens</th>\n",
              "      <th>number_of_caps</th>\n",
              "      <th>number_of_nonalphanum</th>\n",
              "      <th>n_adverbs</th>\n",
              "      <th>8_adverbs</th>\n",
              "      <th>n_nouns</th>\n",
              "      <th>n_verbs</th>\n",
              "    </tr>\n",
              "    <tr>\n",
              "      <th>n_verbs</th>\n",
              "      <th></th>\n",
              "      <th></th>\n",
              "      <th></th>\n",
              "      <th></th>\n",
              "      <th></th>\n",
              "      <th></th>\n",
              "      <th></th>\n",
              "      <th></th>\n",
              "      <th></th>\n",
              "      <th></th>\n",
              "      <th></th>\n",
              "      <th></th>\n",
              "    </tr>\n",
              "  </thead>\n",
              "  <tbody>\n",
              "    <tr>\n",
              "      <th>0</th>\n",
              "      <td>248036.411704</td>\n",
              "      <td>674.705211</td>\n",
              "      <td>1240.887874</td>\n",
              "      <td>0.144945</td>\n",
              "      <td>167.938271</td>\n",
              "      <td>23.714178</td>\n",
              "      <td>7.463546</td>\n",
              "      <td>33.948595</td>\n",
              "      <td>0.035429</td>\n",
              "      <td>0.047619</td>\n",
              "      <td>0.107552</td>\n",
              "      <td>0.0</td>\n",
              "    </tr>\n",
              "    <tr>\n",
              "      <th>1</th>\n",
              "      <td>633575.552195</td>\n",
              "      <td>2291.494479</td>\n",
              "      <td>1604.371033</td>\n",
              "      <td>0.155384</td>\n",
              "      <td>494.705166</td>\n",
              "      <td>69.534332</td>\n",
              "      <td>26.133266</td>\n",
              "      <td>111.490925</td>\n",
              "      <td>0.158903</td>\n",
              "      <td>0.216398</td>\n",
              "      <td>0.575073</td>\n",
              "      <td>1.0</td>\n",
              "    </tr>\n",
              "    <tr>\n",
              "      <th>2</th>\n",
              "      <td>484811.504294</td>\n",
              "      <td>2139.740385</td>\n",
              "      <td>1712.034965</td>\n",
              "      <td>0.163324</td>\n",
              "      <td>878.385684</td>\n",
              "      <td>124.810897</td>\n",
              "      <td>55.261752</td>\n",
              "      <td>199.076923</td>\n",
              "      <td>0.308761</td>\n",
              "      <td>0.469017</td>\n",
              "      <td>1.013889</td>\n",
              "      <td>2.0</td>\n",
              "    </tr>\n",
              "    <tr>\n",
              "      <th>3</th>\n",
              "      <td>275240.017857</td>\n",
              "      <td>2064.766667</td>\n",
              "      <td>1683.348837</td>\n",
              "      <td>0.131699</td>\n",
              "      <td>1443.500000</td>\n",
              "      <td>212.577778</td>\n",
              "      <td>97.472222</td>\n",
              "      <td>384.727778</td>\n",
              "      <td>0.661111</td>\n",
              "      <td>0.900000</td>\n",
              "      <td>1.416667</td>\n",
              "      <td>3.0</td>\n",
              "    </tr>\n",
              "    <tr>\n",
              "      <th>4</th>\n",
              "      <td>598320.562500</td>\n",
              "      <td>1298.500000</td>\n",
              "      <td>1832.812500</td>\n",
              "      <td>0.246768</td>\n",
              "      <td>1852.500000</td>\n",
              "      <td>281.937500</td>\n",
              "      <td>113.812500</td>\n",
              "      <td>451.750000</td>\n",
              "      <td>0.562500</td>\n",
              "      <td>0.625000</td>\n",
              "      <td>1.312500</td>\n",
              "      <td>4.0</td>\n",
              "    </tr>\n",
              "    <tr>\n",
              "      <th>5</th>\n",
              "      <td>2195.000000</td>\n",
              "      <td>938.333333</td>\n",
              "      <td>1849.000000</td>\n",
              "      <td>0.066667</td>\n",
              "      <td>1212.333333</td>\n",
              "      <td>185.333333</td>\n",
              "      <td>76.666667</td>\n",
              "      <td>304.666667</td>\n",
              "      <td>0.500000</td>\n",
              "      <td>0.500000</td>\n",
              "      <td>1.166667</td>\n",
              "      <td>5.0</td>\n",
              "    </tr>\n",
              "    <tr>\n",
              "      <th>6</th>\n",
              "      <td>2500.000000</td>\n",
              "      <td>292.000000</td>\n",
              "      <td>1987.500000</td>\n",
              "      <td>0.432600</td>\n",
              "      <td>1556.000000</td>\n",
              "      <td>211.000000</td>\n",
              "      <td>39.500000</td>\n",
              "      <td>372.500000</td>\n",
              "      <td>0.000000</td>\n",
              "      <td>0.000000</td>\n",
              "      <td>0.000000</td>\n",
              "      <td>6.0</td>\n",
              "    </tr>\n",
              "  </tbody>\n",
              "</table>\n",
              "</div>"
            ],
            "text/plain": [
              "                 price  item_seq_number  ...   n_nouns  n_verbs\n",
              "n_verbs                                  ...                   \n",
              "0        248036.411704       674.705211  ...  0.107552      0.0\n",
              "1        633575.552195      2291.494479  ...  0.575073      1.0\n",
              "2        484811.504294      2139.740385  ...  1.013889      2.0\n",
              "3        275240.017857      2064.766667  ...  1.416667      3.0\n",
              "4        598320.562500      1298.500000  ...  1.312500      4.0\n",
              "5          2195.000000       938.333333  ...  1.166667      5.0\n",
              "6          2500.000000       292.000000  ...  0.000000      6.0\n",
              "\n",
              "[7 rows x 12 columns]"
            ]
          },
          "metadata": {
            "tags": []
          },
          "execution_count": 392
        }
      ]
    },
    {
      "cell_type": "code",
      "metadata": {
        "colab_type": "code",
        "id": "w-I63agf6QJg",
        "colab": {}
      },
      "source": [
        "data['n_verbs'].corr(data['deal_probability'])\n",
        "# 0.0030058545646154534"
      ],
      "execution_count": null,
      "outputs": []
    },
    {
      "cell_type": "code",
      "metadata": {
        "colab_type": "code",
        "id": "I_Jqug8E6QJj",
        "colab": {}
      },
      "source": [
        "# data.loc[data['n_verbs'] > 3, 'n_verbs'] = 0"
      ],
      "execution_count": null,
      "outputs": []
    },
    {
      "cell_type": "markdown",
      "metadata": {
        "id": "6W_PGExIgO_R",
        "colab_type": "text"
      },
      "source": [
        "#### Четыре частых существительных"
      ]
    },
    {
      "cell_type": "code",
      "metadata": {
        "id": "taVa5wGFzdM-",
        "colab_type": "code",
        "colab": {}
      },
      "source": [
        "freq_nouns = []\n",
        "\n",
        "for row in counter_df[\n",
        "           (counter_df['pos'] == 'NOUN')\n",
        "           & \n",
        "           (counter_df['word_len'] > 3)\n",
        "           &\n",
        "           (counter_df['count'] > 40)\n",
        "].itertuples():\n",
        "    freq_nouns.append(row.word)\n",
        "\n",
        "freq_nouns"
      ],
      "execution_count": null,
      "outputs": []
    },
    {
      "cell_type": "code",
      "metadata": {
        "id": "d5D9MBQk0F84",
        "colab_type": "code",
        "colab": {}
      },
      "source": [
        "# выбрала самые добрые\n",
        "# люба это любой, видимо\n",
        "freq_nouns = [\n",
        " 'опыт',\n",
        " 'гарантия',\n",
        " 'любой',\n",
        " 'люба',\n",
        " 'качество',\n",
        " 'скидка',\n",
        " 'помощь'\n",
        " ]"
      ],
      "execution_count": null,
      "outputs": []
    },
    {
      "cell_type": "code",
      "metadata": {
        "colab_type": "code",
        "id": "OrQR2KSS0ujF",
        "colab": {}
      },
      "source": [
        "data['n_nouns'] = data['description'].apply(lambda x: len([word for word in normalize(x) if morph.parse(word)[0].normal_form in freq_nouns]))"
      ],
      "execution_count": null,
      "outputs": []
    },
    {
      "cell_type": "code",
      "metadata": {
        "colab_type": "code",
        "id": "z4ctwGMQ0ujM",
        "colab": {
          "base_uri": "https://localhost:8080/",
          "height": 472
        },
        "outputId": "c068b874-d07c-4107-aab4-27a14f0f931f"
      },
      "source": [
        "data.groupby(data['n_nouns']).mean()"
      ],
      "execution_count": null,
      "outputs": [
        {
          "output_type": "execute_result",
          "data": {
            "text/html": [
              "<div>\n",
              "<style scoped>\n",
              "    .dataframe tbody tr th:only-of-type {\n",
              "        vertical-align: middle;\n",
              "    }\n",
              "\n",
              "    .dataframe tbody tr th {\n",
              "        vertical-align: top;\n",
              "    }\n",
              "\n",
              "    .dataframe thead th {\n",
              "        text-align: right;\n",
              "    }\n",
              "</style>\n",
              "<table border=\"1\" class=\"dataframe\">\n",
              "  <thead>\n",
              "    <tr style=\"text-align: right;\">\n",
              "      <th></th>\n",
              "      <th>price</th>\n",
              "      <th>item_seq_number</th>\n",
              "      <th>image_top_1</th>\n",
              "      <th>deal_probability</th>\n",
              "      <th>text_len</th>\n",
              "      <th>text_len_tokens</th>\n",
              "      <th>number_of_caps</th>\n",
              "      <th>number_of_nonalphanum</th>\n",
              "      <th>n_adverbs</th>\n",
              "      <th>8_adverbs</th>\n",
              "    </tr>\n",
              "    <tr>\n",
              "      <th>n_nouns</th>\n",
              "      <th></th>\n",
              "      <th></th>\n",
              "      <th></th>\n",
              "      <th></th>\n",
              "      <th></th>\n",
              "      <th></th>\n",
              "      <th></th>\n",
              "      <th></th>\n",
              "      <th></th>\n",
              "      <th></th>\n",
              "    </tr>\n",
              "  </thead>\n",
              "  <tbody>\n",
              "    <tr>\n",
              "      <th>0</th>\n",
              "      <td>2.626589e+05</td>\n",
              "      <td>618.677627</td>\n",
              "      <td>1226.808386</td>\n",
              "      <td>0.144907</td>\n",
              "      <td>152.477186</td>\n",
              "      <td>21.635093</td>\n",
              "      <td>6.532870</td>\n",
              "      <td>30.271697</td>\n",
              "      <td>0.027446</td>\n",
              "      <td>0.037163</td>\n",
              "    </tr>\n",
              "    <tr>\n",
              "      <th>1</th>\n",
              "      <td>3.852756e+05</td>\n",
              "      <td>2144.884867</td>\n",
              "      <td>1539.621865</td>\n",
              "      <td>0.152561</td>\n",
              "      <td>403.124478</td>\n",
              "      <td>56.088278</td>\n",
              "      <td>20.533478</td>\n",
              "      <td>88.757848</td>\n",
              "      <td>0.125658</td>\n",
              "      <td>0.176828</td>\n",
              "    </tr>\n",
              "    <tr>\n",
              "      <th>2</th>\n",
              "      <td>2.432406e+05</td>\n",
              "      <td>1970.779960</td>\n",
              "      <td>1680.806479</td>\n",
              "      <td>0.158967</td>\n",
              "      <td>730.768337</td>\n",
              "      <td>103.007615</td>\n",
              "      <td>41.331864</td>\n",
              "      <td>166.691784</td>\n",
              "      <td>0.289379</td>\n",
              "      <td>0.391182</td>\n",
              "    </tr>\n",
              "    <tr>\n",
              "      <th>3</th>\n",
              "      <td>1.273543e+05</td>\n",
              "      <td>2030.425481</td>\n",
              "      <td>1744.949559</td>\n",
              "      <td>0.145216</td>\n",
              "      <td>997.110577</td>\n",
              "      <td>140.068510</td>\n",
              "      <td>59.442308</td>\n",
              "      <td>231.921875</td>\n",
              "      <td>0.486779</td>\n",
              "      <td>0.625000</td>\n",
              "    </tr>\n",
              "    <tr>\n",
              "      <th>4</th>\n",
              "      <td>1.855503e+05</td>\n",
              "      <td>2350.913621</td>\n",
              "      <td>1777.374570</td>\n",
              "      <td>0.133074</td>\n",
              "      <td>1299.285714</td>\n",
              "      <td>183.395349</td>\n",
              "      <td>79.126246</td>\n",
              "      <td>315.790698</td>\n",
              "      <td>0.604651</td>\n",
              "      <td>0.797342</td>\n",
              "    </tr>\n",
              "    <tr>\n",
              "      <th>5</th>\n",
              "      <td>2.002918e+05</td>\n",
              "      <td>1961.315152</td>\n",
              "      <td>1452.615854</td>\n",
              "      <td>0.083991</td>\n",
              "      <td>1634.290909</td>\n",
              "      <td>216.309091</td>\n",
              "      <td>123.800000</td>\n",
              "      <td>477.242424</td>\n",
              "      <td>0.551515</td>\n",
              "      <td>0.666667</td>\n",
              "    </tr>\n",
              "    <tr>\n",
              "      <th>6</th>\n",
              "      <td>7.700917e+04</td>\n",
              "      <td>1575.400000</td>\n",
              "      <td>1762.617647</td>\n",
              "      <td>0.149125</td>\n",
              "      <td>1580.142857</td>\n",
              "      <td>228.942857</td>\n",
              "      <td>135.314286</td>\n",
              "      <td>349.085714</td>\n",
              "      <td>0.800000</td>\n",
              "      <td>0.971429</td>\n",
              "    </tr>\n",
              "    <tr>\n",
              "      <th>7</th>\n",
              "      <td>2.156483e+05</td>\n",
              "      <td>417.076923</td>\n",
              "      <td>1820.256410</td>\n",
              "      <td>0.112027</td>\n",
              "      <td>1814.692308</td>\n",
              "      <td>253.538462</td>\n",
              "      <td>179.358974</td>\n",
              "      <td>404.102564</td>\n",
              "      <td>1.025641</td>\n",
              "      <td>1.153846</td>\n",
              "    </tr>\n",
              "    <tr>\n",
              "      <th>8</th>\n",
              "      <td>1.074135e+05</td>\n",
              "      <td>100.400000</td>\n",
              "      <td>1345.100000</td>\n",
              "      <td>0.163842</td>\n",
              "      <td>1833.400000</td>\n",
              "      <td>259.300000</td>\n",
              "      <td>78.800000</td>\n",
              "      <td>420.400000</td>\n",
              "      <td>0.800000</td>\n",
              "      <td>1.100000</td>\n",
              "    </tr>\n",
              "    <tr>\n",
              "      <th>9</th>\n",
              "      <td>1.514475e+06</td>\n",
              "      <td>1622.800000</td>\n",
              "      <td>2178.250000</td>\n",
              "      <td>0.000000</td>\n",
              "      <td>2308.000000</td>\n",
              "      <td>289.600000</td>\n",
              "      <td>99.000000</td>\n",
              "      <td>557.600000</td>\n",
              "      <td>1.000000</td>\n",
              "      <td>1.200000</td>\n",
              "    </tr>\n",
              "    <tr>\n",
              "      <th>10</th>\n",
              "      <td>3.250000e+03</td>\n",
              "      <td>1682.500000</td>\n",
              "      <td>2906.500000</td>\n",
              "      <td>0.137490</td>\n",
              "      <td>2780.000000</td>\n",
              "      <td>388.500000</td>\n",
              "      <td>126.500000</td>\n",
              "      <td>763.500000</td>\n",
              "      <td>1.000000</td>\n",
              "      <td>1.000000</td>\n",
              "    </tr>\n",
              "    <tr>\n",
              "      <th>11</th>\n",
              "      <td>8.975000e+03</td>\n",
              "      <td>1807.500000</td>\n",
              "      <td>2062.000000</td>\n",
              "      <td>0.000000</td>\n",
              "      <td>2315.000000</td>\n",
              "      <td>346.500000</td>\n",
              "      <td>150.500000</td>\n",
              "      <td>767.500000</td>\n",
              "      <td>0.500000</td>\n",
              "      <td>0.500000</td>\n",
              "    </tr>\n",
              "  </tbody>\n",
              "</table>\n",
              "</div>"
            ],
            "text/plain": [
              "                price  item_seq_number  ...  n_adverbs  8_adverbs\n",
              "n_nouns                                 ...                      \n",
              "0        2.626589e+05       618.677627  ...   0.027446   0.037163\n",
              "1        3.852756e+05      2144.884867  ...   0.125658   0.176828\n",
              "2        2.432406e+05      1970.779960  ...   0.289379   0.391182\n",
              "3        1.273543e+05      2030.425481  ...   0.486779   0.625000\n",
              "4        1.855503e+05      2350.913621  ...   0.604651   0.797342\n",
              "5        2.002918e+05      1961.315152  ...   0.551515   0.666667\n",
              "6        7.700917e+04      1575.400000  ...   0.800000   0.971429\n",
              "7        2.156483e+05       417.076923  ...   1.025641   1.153846\n",
              "8        1.074135e+05       100.400000  ...   0.800000   1.100000\n",
              "9        1.514475e+06      1622.800000  ...   1.000000   1.200000\n",
              "10       3.250000e+03      1682.500000  ...   1.000000   1.000000\n",
              "11       8.975000e+03      1807.500000  ...   0.500000   0.500000\n",
              "\n",
              "[12 rows x 10 columns]"
            ]
          },
          "metadata": {
            "tags": []
          },
          "execution_count": 381
        }
      ]
    },
    {
      "cell_type": "code",
      "metadata": {
        "colab_type": "code",
        "id": "xx-i70ot1ziJ",
        "colab": {
          "base_uri": "https://localhost:8080/",
          "height": 34
        },
        "outputId": "e7687fc0-013a-4f42-e36c-8ef6df001cf3"
      },
      "source": [
        "data['n_nouns'].corr(data['deal_probability'])\n",
        "# 0.0030058545646154534 - глаголы"
      ],
      "execution_count": null,
      "outputs": [
        {
          "output_type": "execute_result",
          "data": {
            "text/plain": [
              "0.007326306359846318"
            ]
          },
          "metadata": {
            "tags": []
          },
          "execution_count": 384
        }
      ]
    },
    {
      "cell_type": "code",
      "metadata": {
        "colab_type": "code",
        "id": "U5Lk616T1ziN",
        "colab": {}
      },
      "source": [
        "data.loc[data['n_nouns'] > 4, 'n_nouns'] = 0"
      ],
      "execution_count": null,
      "outputs": []
    },
    {
      "cell_type": "code",
      "metadata": {
        "colab_type": "code",
        "id": "2NMXew-z1ziS",
        "colab": {
          "base_uri": "https://localhost:8080/",
          "height": 224
        },
        "outputId": "2187fc4f-71e1-4831-c32f-00f6f936ca6e"
      },
      "source": [
        "data.groupby(data['n_adverbs']).mean()"
      ],
      "execution_count": null,
      "outputs": [
        {
          "output_type": "execute_result",
          "data": {
            "text/html": [
              "<div>\n",
              "<style scoped>\n",
              "    .dataframe tbody tr th:only-of-type {\n",
              "        vertical-align: middle;\n",
              "    }\n",
              "\n",
              "    .dataframe tbody tr th {\n",
              "        vertical-align: top;\n",
              "    }\n",
              "\n",
              "    .dataframe thead th {\n",
              "        text-align: right;\n",
              "    }\n",
              "</style>\n",
              "<table border=\"1\" class=\"dataframe\">\n",
              "  <thead>\n",
              "    <tr style=\"text-align: right;\">\n",
              "      <th></th>\n",
              "      <th>price</th>\n",
              "      <th>item_seq_number</th>\n",
              "      <th>image_top_1</th>\n",
              "      <th>deal_probability</th>\n",
              "      <th>text_len</th>\n",
              "      <th>text_len_tokens</th>\n",
              "      <th>number_of_caps</th>\n",
              "      <th>number_of_nonalphanum</th>\n",
              "    </tr>\n",
              "    <tr>\n",
              "      <th>n_adverbs</th>\n",
              "      <th></th>\n",
              "      <th></th>\n",
              "      <th></th>\n",
              "      <th></th>\n",
              "      <th></th>\n",
              "      <th></th>\n",
              "      <th></th>\n",
              "      <th></th>\n",
              "    </tr>\n",
              "  </thead>\n",
              "  <tbody>\n",
              "    <tr>\n",
              "      <th>0</th>\n",
              "      <td>264491.128292</td>\n",
              "      <td>738.455382</td>\n",
              "      <td>1253.905449</td>\n",
              "      <td>0.144329</td>\n",
              "      <td>175.786463</td>\n",
              "      <td>24.847430</td>\n",
              "      <td>8.049753</td>\n",
              "      <td>36.035371</td>\n",
              "    </tr>\n",
              "    <tr>\n",
              "      <th>1</th>\n",
              "      <td>514518.027108</td>\n",
              "      <td>1906.457442</td>\n",
              "      <td>1545.193886</td>\n",
              "      <td>0.174220</td>\n",
              "      <td>585.253685</td>\n",
              "      <td>81.677366</td>\n",
              "      <td>27.532573</td>\n",
              "      <td>126.203281</td>\n",
              "    </tr>\n",
              "    <tr>\n",
              "      <th>2</th>\n",
              "      <td>163338.309630</td>\n",
              "      <td>1360.743462</td>\n",
              "      <td>1693.048295</td>\n",
              "      <td>0.196908</td>\n",
              "      <td>847.513076</td>\n",
              "      <td>120.383562</td>\n",
              "      <td>57.027397</td>\n",
              "      <td>203.742217</td>\n",
              "    </tr>\n",
              "    <tr>\n",
              "      <th>3</th>\n",
              "      <td>75675.977011</td>\n",
              "      <td>1296.642512</td>\n",
              "      <td>1410.118280</td>\n",
              "      <td>0.223429</td>\n",
              "      <td>924.067633</td>\n",
              "      <td>131.966184</td>\n",
              "      <td>44.913043</td>\n",
              "      <td>201.545894</td>\n",
              "    </tr>\n",
              "  </tbody>\n",
              "</table>\n",
              "</div>"
            ],
            "text/plain": [
              "                   price  ...  number_of_nonalphanum\n",
              "n_adverbs                 ...                       \n",
              "0          264491.128292  ...              36.035371\n",
              "1          514518.027108  ...             126.203281\n",
              "2          163338.309630  ...             203.742217\n",
              "3           75675.977011  ...             201.545894\n",
              "\n",
              "[4 rows x 8 columns]"
            ]
          },
          "metadata": {
            "tags": []
          },
          "execution_count": 337
        }
      ]
    },
    {
      "cell_type": "code",
      "metadata": {
        "colab_type": "code",
        "id": "3z1iKjBK1ziV",
        "colab": {
          "base_uri": "https://localhost:8080/",
          "height": 348
        },
        "outputId": "3a170bcb-71fe-4311-b78f-1d79579a4ec5"
      },
      "source": [
        "data[data.n_adverbs < 4].corr()"
      ],
      "execution_count": null,
      "outputs": [
        {
          "output_type": "execute_result",
          "data": {
            "text/html": [
              "<div>\n",
              "<style scoped>\n",
              "    .dataframe tbody tr th:only-of-type {\n",
              "        vertical-align: middle;\n",
              "    }\n",
              "\n",
              "    .dataframe tbody tr th {\n",
              "        vertical-align: top;\n",
              "    }\n",
              "\n",
              "    .dataframe thead th {\n",
              "        text-align: right;\n",
              "    }\n",
              "</style>\n",
              "<table border=\"1\" class=\"dataframe\">\n",
              "  <thead>\n",
              "    <tr style=\"text-align: right;\">\n",
              "      <th></th>\n",
              "      <th>price</th>\n",
              "      <th>item_seq_number</th>\n",
              "      <th>image_top_1</th>\n",
              "      <th>deal_probability</th>\n",
              "      <th>text_len</th>\n",
              "      <th>text_len_tokens</th>\n",
              "      <th>number_of_caps</th>\n",
              "      <th>number_of_nonalphanum</th>\n",
              "      <th>n_adverbs</th>\n",
              "    </tr>\n",
              "  </thead>\n",
              "  <tbody>\n",
              "    <tr>\n",
              "      <th>price</th>\n",
              "      <td>1.000000</td>\n",
              "      <td>0.077973</td>\n",
              "      <td>0.046540</td>\n",
              "      <td>-0.015032</td>\n",
              "      <td>0.070124</td>\n",
              "      <td>0.066481</td>\n",
              "      <td>0.017722</td>\n",
              "      <td>0.056030</td>\n",
              "      <td>0.006224</td>\n",
              "    </tr>\n",
              "    <tr>\n",
              "      <th>item_seq_number</th>\n",
              "      <td>0.077973</td>\n",
              "      <td>1.000000</td>\n",
              "      <td>0.093411</td>\n",
              "      <td>-0.038196</td>\n",
              "      <td>0.117144</td>\n",
              "      <td>0.112789</td>\n",
              "      <td>0.079725</td>\n",
              "      <td>0.127046</td>\n",
              "      <td>0.029837</td>\n",
              "    </tr>\n",
              "    <tr>\n",
              "      <th>image_top_1</th>\n",
              "      <td>0.046540</td>\n",
              "      <td>0.093411</td>\n",
              "      <td>1.000000</td>\n",
              "      <td>0.185397</td>\n",
              "      <td>0.184829</td>\n",
              "      <td>0.182593</td>\n",
              "      <td>0.150551</td>\n",
              "      <td>0.174994</td>\n",
              "      <td>0.056400</td>\n",
              "    </tr>\n",
              "    <tr>\n",
              "      <th>deal_probability</th>\n",
              "      <td>-0.015032</td>\n",
              "      <td>-0.038196</td>\n",
              "      <td>0.185397</td>\n",
              "      <td>1.000000</td>\n",
              "      <td>-0.009304</td>\n",
              "      <td>-0.013111</td>\n",
              "      <td>-0.012485</td>\n",
              "      <td>-0.023144</td>\n",
              "      <td>0.026812</td>\n",
              "    </tr>\n",
              "    <tr>\n",
              "      <th>text_len</th>\n",
              "      <td>0.070124</td>\n",
              "      <td>0.117144</td>\n",
              "      <td>0.184829</td>\n",
              "      <td>-0.009304</td>\n",
              "      <td>1.000000</td>\n",
              "      <td>0.989847</td>\n",
              "      <td>0.612836</td>\n",
              "      <td>0.944754</td>\n",
              "      <td>0.303412</td>\n",
              "    </tr>\n",
              "    <tr>\n",
              "      <th>text_len_tokens</th>\n",
              "      <td>0.066481</td>\n",
              "      <td>0.112789</td>\n",
              "      <td>0.182593</td>\n",
              "      <td>-0.013111</td>\n",
              "      <td>0.989847</td>\n",
              "      <td>1.000000</td>\n",
              "      <td>0.618434</td>\n",
              "      <td>0.938101</td>\n",
              "      <td>0.304664</td>\n",
              "    </tr>\n",
              "    <tr>\n",
              "      <th>number_of_caps</th>\n",
              "      <td>0.017722</td>\n",
              "      <td>0.079725</td>\n",
              "      <td>0.150551</td>\n",
              "      <td>-0.012485</td>\n",
              "      <td>0.612836</td>\n",
              "      <td>0.618434</td>\n",
              "      <td>1.000000</td>\n",
              "      <td>0.628858</td>\n",
              "      <td>0.191720</td>\n",
              "    </tr>\n",
              "    <tr>\n",
              "      <th>number_of_nonalphanum</th>\n",
              "      <td>0.056030</td>\n",
              "      <td>0.127046</td>\n",
              "      <td>0.174994</td>\n",
              "      <td>-0.023144</td>\n",
              "      <td>0.944754</td>\n",
              "      <td>0.938101</td>\n",
              "      <td>0.628858</td>\n",
              "      <td>1.000000</td>\n",
              "      <td>0.290123</td>\n",
              "    </tr>\n",
              "    <tr>\n",
              "      <th>n_adverbs</th>\n",
              "      <td>0.006224</td>\n",
              "      <td>0.029837</td>\n",
              "      <td>0.056400</td>\n",
              "      <td>0.026812</td>\n",
              "      <td>0.303412</td>\n",
              "      <td>0.304664</td>\n",
              "      <td>0.191720</td>\n",
              "      <td>0.290123</td>\n",
              "      <td>1.000000</td>\n",
              "    </tr>\n",
              "  </tbody>\n",
              "</table>\n",
              "</div>"
            ],
            "text/plain": [
              "                          price  ...  n_adverbs\n",
              "price                  1.000000  ...   0.006224\n",
              "item_seq_number        0.077973  ...   0.029837\n",
              "image_top_1            0.046540  ...   0.056400\n",
              "deal_probability      -0.015032  ...   0.026812\n",
              "text_len               0.070124  ...   0.303412\n",
              "text_len_tokens        0.066481  ...   0.304664\n",
              "number_of_caps         0.017722  ...   0.191720\n",
              "number_of_nonalphanum  0.056030  ...   0.290123\n",
              "n_adverbs              0.006224  ...   1.000000\n",
              "\n",
              "[9 rows x 9 columns]"
            ]
          },
          "metadata": {
            "tags": []
          },
          "execution_count": 342
        }
      ]
    },
    {
      "cell_type": "markdown",
      "metadata": {
        "colab_type": "text",
        "id": "feyOQoMSzQyj"
      },
      "source": [
        "#### Пять частых наречий"
      ]
    },
    {
      "cell_type": "code",
      "metadata": {
        "id": "LzLMBIc_Ap4J",
        "colab_type": "code",
        "colab": {}
      },
      "source": [
        "freq_adverbs = []\n",
        "\n",
        "for row in counter_df[\n",
        "           (counter_df['pos'] == 'ADVB')\n",
        "           & \n",
        "           (counter_df['word_len'] > 3)\n",
        "           &\n",
        "           (counter_df['count'] > 28)\n",
        "].itertuples():\n",
        "    freq_adverbs.append(row.word)\n",
        "\n",
        "freq_adverbs"
      ],
      "execution_count": null,
      "outputs": []
    },
    {
      "cell_type": "code",
      "metadata": {
        "id": "G9AsXUuOJEkw",
        "colab_type": "code",
        "colab": {}
      },
      "source": [
        "data['n_adverbs'] = data['description'].apply(lambda x: len([word for word in normalize(x) if morph.parse(word)[0].normal_form in freq_adverbs]))"
      ],
      "execution_count": null,
      "outputs": []
    },
    {
      "cell_type": "code",
      "metadata": {
        "id": "FGuu1oDLYosp",
        "colab_type": "code",
        "colab": {
          "base_uri": "https://localhost:8080/",
          "height": 379
        },
        "outputId": "cc86c424-76ca-43d4-b994-b61261beaf89"
      },
      "source": [
        "data.groupby(data['n_adverbs']).mean()"
      ],
      "execution_count": null,
      "outputs": [
        {
          "output_type": "execute_result",
          "data": {
            "text/html": [
              "<div>\n",
              "<style scoped>\n",
              "    .dataframe tbody tr th:only-of-type {\n",
              "        vertical-align: middle;\n",
              "    }\n",
              "\n",
              "    .dataframe tbody tr th {\n",
              "        vertical-align: top;\n",
              "    }\n",
              "\n",
              "    .dataframe thead th {\n",
              "        text-align: right;\n",
              "    }\n",
              "</style>\n",
              "<table border=\"1\" class=\"dataframe\">\n",
              "  <thead>\n",
              "    <tr style=\"text-align: right;\">\n",
              "      <th></th>\n",
              "      <th>price</th>\n",
              "      <th>item_seq_number</th>\n",
              "      <th>image_top_1</th>\n",
              "      <th>deal_probability</th>\n",
              "      <th>text_len</th>\n",
              "      <th>text_len_tokens</th>\n",
              "      <th>number_of_caps</th>\n",
              "      <th>number_of_nonalphanum</th>\n",
              "    </tr>\n",
              "    <tr>\n",
              "      <th>n_adverbs</th>\n",
              "      <th></th>\n",
              "      <th></th>\n",
              "      <th></th>\n",
              "      <th></th>\n",
              "      <th></th>\n",
              "      <th></th>\n",
              "      <th></th>\n",
              "      <th></th>\n",
              "    </tr>\n",
              "  </thead>\n",
              "  <tbody>\n",
              "    <tr>\n",
              "      <th>0</th>\n",
              "      <td>264533.528401</td>\n",
              "      <td>738.233180</td>\n",
              "      <td>1253.661254</td>\n",
              "      <td>0.144329</td>\n",
              "      <td>175.241806</td>\n",
              "      <td>24.770259</td>\n",
              "      <td>8.018884</td>\n",
              "      <td>35.904126</td>\n",
              "    </tr>\n",
              "    <tr>\n",
              "      <th>1</th>\n",
              "      <td>514518.027108</td>\n",
              "      <td>1906.457442</td>\n",
              "      <td>1545.193886</td>\n",
              "      <td>0.174220</td>\n",
              "      <td>585.253685</td>\n",
              "      <td>81.677366</td>\n",
              "      <td>27.532573</td>\n",
              "      <td>126.203281</td>\n",
              "    </tr>\n",
              "    <tr>\n",
              "      <th>2</th>\n",
              "      <td>163338.309630</td>\n",
              "      <td>1360.743462</td>\n",
              "      <td>1693.048295</td>\n",
              "      <td>0.196908</td>\n",
              "      <td>847.513076</td>\n",
              "      <td>120.383562</td>\n",
              "      <td>57.027397</td>\n",
              "      <td>203.742217</td>\n",
              "    </tr>\n",
              "    <tr>\n",
              "      <th>3</th>\n",
              "      <td>75675.977011</td>\n",
              "      <td>1296.642512</td>\n",
              "      <td>1410.118280</td>\n",
              "      <td>0.223429</td>\n",
              "      <td>924.067633</td>\n",
              "      <td>131.966184</td>\n",
              "      <td>44.913043</td>\n",
              "      <td>201.545894</td>\n",
              "    </tr>\n",
              "    <tr>\n",
              "      <th>4</th>\n",
              "      <td>209832.000000</td>\n",
              "      <td>1489.184211</td>\n",
              "      <td>1914.540541</td>\n",
              "      <td>0.113502</td>\n",
              "      <td>1461.500000</td>\n",
              "      <td>204.763158</td>\n",
              "      <td>83.710526</td>\n",
              "      <td>352.342105</td>\n",
              "    </tr>\n",
              "    <tr>\n",
              "      <th>5</th>\n",
              "      <td>2488.800000</td>\n",
              "      <td>842.454545</td>\n",
              "      <td>1815.636364</td>\n",
              "      <td>0.303793</td>\n",
              "      <td>1529.000000</td>\n",
              "      <td>228.090909</td>\n",
              "      <td>94.454545</td>\n",
              "      <td>349.363636</td>\n",
              "    </tr>\n",
              "    <tr>\n",
              "      <th>7</th>\n",
              "      <td>190.000000</td>\n",
              "      <td>1221.500000</td>\n",
              "      <td>1200.000000</td>\n",
              "      <td>0.000000</td>\n",
              "      <td>2351.500000</td>\n",
              "      <td>335.500000</td>\n",
              "      <td>127.500000</td>\n",
              "      <td>591.500000</td>\n",
              "    </tr>\n",
              "    <tr>\n",
              "      <th>17</th>\n",
              "      <td>21100.000000</td>\n",
              "      <td>241.000000</td>\n",
              "      <td>1152.000000</td>\n",
              "      <td>0.000000</td>\n",
              "      <td>2335.000000</td>\n",
              "      <td>320.000000</td>\n",
              "      <td>37.000000</td>\n",
              "      <td>480.000000</td>\n",
              "    </tr>\n",
              "    <tr>\n",
              "      <th>35</th>\n",
              "      <td>23500.000000</td>\n",
              "      <td>250.000000</td>\n",
              "      <td>901.000000</td>\n",
              "      <td>0.000000</td>\n",
              "      <td>2605.000000</td>\n",
              "      <td>334.000000</td>\n",
              "      <td>34.000000</td>\n",
              "      <td>529.000000</td>\n",
              "    </tr>\n",
              "  </tbody>\n",
              "</table>\n",
              "</div>"
            ],
            "text/plain": [
              "                   price  ...  number_of_nonalphanum\n",
              "n_adverbs                 ...                       \n",
              "0          264533.528401  ...              35.904126\n",
              "1          514518.027108  ...             126.203281\n",
              "2          163338.309630  ...             203.742217\n",
              "3           75675.977011  ...             201.545894\n",
              "4          209832.000000  ...             352.342105\n",
              "5            2488.800000  ...             349.363636\n",
              "7             190.000000  ...             591.500000\n",
              "17          21100.000000  ...             480.000000\n",
              "35          23500.000000  ...             529.000000\n",
              "\n",
              "[9 rows x 8 columns]"
            ]
          },
          "metadata": {
            "tags": []
          },
          "execution_count": 332
        }
      ]
    },
    {
      "cell_type": "code",
      "metadata": {
        "id": "pimhCB1ZcZlG",
        "colab_type": "code",
        "colab": {
          "base_uri": "https://localhost:8080/",
          "height": 34
        },
        "outputId": "ce1d22d1-a9ac-4447-94d1-1ea47fa465a4"
      },
      "source": [
        "data['n_adverbs'].corr(data['deal_probability'])"
      ],
      "execution_count": null,
      "outputs": [
        {
          "output_type": "execute_result",
          "data": {
            "text/plain": [
              "0.023196750093905243"
            ]
          },
          "metadata": {
            "tags": []
          },
          "execution_count": 333
        }
      ]
    },
    {
      "cell_type": "code",
      "metadata": {
        "id": "yRFe0bxac5GM",
        "colab_type": "code",
        "colab": {}
      },
      "source": [
        "data.loc[data['n_adverbs'] > 3, 'n_adverbs'] = 0"
      ],
      "execution_count": null,
      "outputs": []
    },
    {
      "cell_type": "code",
      "metadata": {
        "id": "01WlNnCJe-Sg",
        "colab_type": "code",
        "colab": {
          "base_uri": "https://localhost:8080/",
          "height": 224
        },
        "outputId": "2187fc4f-71e1-4831-c32f-00f6f936ca6e"
      },
      "source": [
        "data.groupby(data['n_adverbs']).mean()"
      ],
      "execution_count": null,
      "outputs": [
        {
          "output_type": "execute_result",
          "data": {
            "text/html": [
              "<div>\n",
              "<style scoped>\n",
              "    .dataframe tbody tr th:only-of-type {\n",
              "        vertical-align: middle;\n",
              "    }\n",
              "\n",
              "    .dataframe tbody tr th {\n",
              "        vertical-align: top;\n",
              "    }\n",
              "\n",
              "    .dataframe thead th {\n",
              "        text-align: right;\n",
              "    }\n",
              "</style>\n",
              "<table border=\"1\" class=\"dataframe\">\n",
              "  <thead>\n",
              "    <tr style=\"text-align: right;\">\n",
              "      <th></th>\n",
              "      <th>price</th>\n",
              "      <th>item_seq_number</th>\n",
              "      <th>image_top_1</th>\n",
              "      <th>deal_probability</th>\n",
              "      <th>text_len</th>\n",
              "      <th>text_len_tokens</th>\n",
              "      <th>number_of_caps</th>\n",
              "      <th>number_of_nonalphanum</th>\n",
              "    </tr>\n",
              "    <tr>\n",
              "      <th>n_adverbs</th>\n",
              "      <th></th>\n",
              "      <th></th>\n",
              "      <th></th>\n",
              "      <th></th>\n",
              "      <th></th>\n",
              "      <th></th>\n",
              "      <th></th>\n",
              "      <th></th>\n",
              "    </tr>\n",
              "  </thead>\n",
              "  <tbody>\n",
              "    <tr>\n",
              "      <th>0</th>\n",
              "      <td>264491.128292</td>\n",
              "      <td>738.455382</td>\n",
              "      <td>1253.905449</td>\n",
              "      <td>0.144329</td>\n",
              "      <td>175.786463</td>\n",
              "      <td>24.847430</td>\n",
              "      <td>8.049753</td>\n",
              "      <td>36.035371</td>\n",
              "    </tr>\n",
              "    <tr>\n",
              "      <th>1</th>\n",
              "      <td>514518.027108</td>\n",
              "      <td>1906.457442</td>\n",
              "      <td>1545.193886</td>\n",
              "      <td>0.174220</td>\n",
              "      <td>585.253685</td>\n",
              "      <td>81.677366</td>\n",
              "      <td>27.532573</td>\n",
              "      <td>126.203281</td>\n",
              "    </tr>\n",
              "    <tr>\n",
              "      <th>2</th>\n",
              "      <td>163338.309630</td>\n",
              "      <td>1360.743462</td>\n",
              "      <td>1693.048295</td>\n",
              "      <td>0.196908</td>\n",
              "      <td>847.513076</td>\n",
              "      <td>120.383562</td>\n",
              "      <td>57.027397</td>\n",
              "      <td>203.742217</td>\n",
              "    </tr>\n",
              "    <tr>\n",
              "      <th>3</th>\n",
              "      <td>75675.977011</td>\n",
              "      <td>1296.642512</td>\n",
              "      <td>1410.118280</td>\n",
              "      <td>0.223429</td>\n",
              "      <td>924.067633</td>\n",
              "      <td>131.966184</td>\n",
              "      <td>44.913043</td>\n",
              "      <td>201.545894</td>\n",
              "    </tr>\n",
              "  </tbody>\n",
              "</table>\n",
              "</div>"
            ],
            "text/plain": [
              "                   price  ...  number_of_nonalphanum\n",
              "n_adverbs                 ...                       \n",
              "0          264491.128292  ...              36.035371\n",
              "1          514518.027108  ...             126.203281\n",
              "2          163338.309630  ...             203.742217\n",
              "3           75675.977011  ...             201.545894\n",
              "\n",
              "[4 rows x 8 columns]"
            ]
          },
          "metadata": {
            "tags": []
          },
          "execution_count": 337
        }
      ]
    },
    {
      "cell_type": "code",
      "metadata": {
        "id": "w8GB9byifDi5",
        "colab_type": "code",
        "colab": {
          "base_uri": "https://localhost:8080/",
          "height": 348
        },
        "outputId": "3a170bcb-71fe-4311-b78f-1d79579a4ec5"
      },
      "source": [
        "data[data.n_adverbs < 4].corr()"
      ],
      "execution_count": null,
      "outputs": [
        {
          "output_type": "execute_result",
          "data": {
            "text/html": [
              "<div>\n",
              "<style scoped>\n",
              "    .dataframe tbody tr th:only-of-type {\n",
              "        vertical-align: middle;\n",
              "    }\n",
              "\n",
              "    .dataframe tbody tr th {\n",
              "        vertical-align: top;\n",
              "    }\n",
              "\n",
              "    .dataframe thead th {\n",
              "        text-align: right;\n",
              "    }\n",
              "</style>\n",
              "<table border=\"1\" class=\"dataframe\">\n",
              "  <thead>\n",
              "    <tr style=\"text-align: right;\">\n",
              "      <th></th>\n",
              "      <th>price</th>\n",
              "      <th>item_seq_number</th>\n",
              "      <th>image_top_1</th>\n",
              "      <th>deal_probability</th>\n",
              "      <th>text_len</th>\n",
              "      <th>text_len_tokens</th>\n",
              "      <th>number_of_caps</th>\n",
              "      <th>number_of_nonalphanum</th>\n",
              "      <th>n_adverbs</th>\n",
              "    </tr>\n",
              "  </thead>\n",
              "  <tbody>\n",
              "    <tr>\n",
              "      <th>price</th>\n",
              "      <td>1.000000</td>\n",
              "      <td>0.077973</td>\n",
              "      <td>0.046540</td>\n",
              "      <td>-0.015032</td>\n",
              "      <td>0.070124</td>\n",
              "      <td>0.066481</td>\n",
              "      <td>0.017722</td>\n",
              "      <td>0.056030</td>\n",
              "      <td>0.006224</td>\n",
              "    </tr>\n",
              "    <tr>\n",
              "      <th>item_seq_number</th>\n",
              "      <td>0.077973</td>\n",
              "      <td>1.000000</td>\n",
              "      <td>0.093411</td>\n",
              "      <td>-0.038196</td>\n",
              "      <td>0.117144</td>\n",
              "      <td>0.112789</td>\n",
              "      <td>0.079725</td>\n",
              "      <td>0.127046</td>\n",
              "      <td>0.029837</td>\n",
              "    </tr>\n",
              "    <tr>\n",
              "      <th>image_top_1</th>\n",
              "      <td>0.046540</td>\n",
              "      <td>0.093411</td>\n",
              "      <td>1.000000</td>\n",
              "      <td>0.185397</td>\n",
              "      <td>0.184829</td>\n",
              "      <td>0.182593</td>\n",
              "      <td>0.150551</td>\n",
              "      <td>0.174994</td>\n",
              "      <td>0.056400</td>\n",
              "    </tr>\n",
              "    <tr>\n",
              "      <th>deal_probability</th>\n",
              "      <td>-0.015032</td>\n",
              "      <td>-0.038196</td>\n",
              "      <td>0.185397</td>\n",
              "      <td>1.000000</td>\n",
              "      <td>-0.009304</td>\n",
              "      <td>-0.013111</td>\n",
              "      <td>-0.012485</td>\n",
              "      <td>-0.023144</td>\n",
              "      <td>0.026812</td>\n",
              "    </tr>\n",
              "    <tr>\n",
              "      <th>text_len</th>\n",
              "      <td>0.070124</td>\n",
              "      <td>0.117144</td>\n",
              "      <td>0.184829</td>\n",
              "      <td>-0.009304</td>\n",
              "      <td>1.000000</td>\n",
              "      <td>0.989847</td>\n",
              "      <td>0.612836</td>\n",
              "      <td>0.944754</td>\n",
              "      <td>0.303412</td>\n",
              "    </tr>\n",
              "    <tr>\n",
              "      <th>text_len_tokens</th>\n",
              "      <td>0.066481</td>\n",
              "      <td>0.112789</td>\n",
              "      <td>0.182593</td>\n",
              "      <td>-0.013111</td>\n",
              "      <td>0.989847</td>\n",
              "      <td>1.000000</td>\n",
              "      <td>0.618434</td>\n",
              "      <td>0.938101</td>\n",
              "      <td>0.304664</td>\n",
              "    </tr>\n",
              "    <tr>\n",
              "      <th>number_of_caps</th>\n",
              "      <td>0.017722</td>\n",
              "      <td>0.079725</td>\n",
              "      <td>0.150551</td>\n",
              "      <td>-0.012485</td>\n",
              "      <td>0.612836</td>\n",
              "      <td>0.618434</td>\n",
              "      <td>1.000000</td>\n",
              "      <td>0.628858</td>\n",
              "      <td>0.191720</td>\n",
              "    </tr>\n",
              "    <tr>\n",
              "      <th>number_of_nonalphanum</th>\n",
              "      <td>0.056030</td>\n",
              "      <td>0.127046</td>\n",
              "      <td>0.174994</td>\n",
              "      <td>-0.023144</td>\n",
              "      <td>0.944754</td>\n",
              "      <td>0.938101</td>\n",
              "      <td>0.628858</td>\n",
              "      <td>1.000000</td>\n",
              "      <td>0.290123</td>\n",
              "    </tr>\n",
              "    <tr>\n",
              "      <th>n_adverbs</th>\n",
              "      <td>0.006224</td>\n",
              "      <td>0.029837</td>\n",
              "      <td>0.056400</td>\n",
              "      <td>0.026812</td>\n",
              "      <td>0.303412</td>\n",
              "      <td>0.304664</td>\n",
              "      <td>0.191720</td>\n",
              "      <td>0.290123</td>\n",
              "      <td>1.000000</td>\n",
              "    </tr>\n",
              "  </tbody>\n",
              "</table>\n",
              "</div>"
            ],
            "text/plain": [
              "                          price  ...  n_adverbs\n",
              "price                  1.000000  ...   0.006224\n",
              "item_seq_number        0.077973  ...   0.029837\n",
              "image_top_1            0.046540  ...   0.056400\n",
              "deal_probability      -0.015032  ...   0.026812\n",
              "text_len               0.070124  ...   0.303412\n",
              "text_len_tokens        0.066481  ...   0.304664\n",
              "number_of_caps         0.017722  ...   0.191720\n",
              "number_of_nonalphanum  0.056030  ...   0.290123\n",
              "n_adverbs              0.006224  ...   1.000000\n",
              "\n",
              "[9 rows x 9 columns]"
            ]
          },
          "metadata": {
            "tags": []
          },
          "execution_count": 342
        }
      ]
    },
    {
      "cell_type": "markdown",
      "metadata": {
        "colab_type": "text",
        "id": "dVK6XpcJgfvc"
      },
      "source": [
        "#### Восемь частых наречий"
      ]
    },
    {
      "cell_type": "code",
      "metadata": {
        "colab_type": "code",
        "id": "wZErU9Tfg38y",
        "colab": {
          "base_uri": "https://localhost:8080/",
          "height": 153
        },
        "outputId": "881f7c35-be1e-4cc6-ef11-3a0102a96080"
      },
      "source": [
        "freq_adverbs = []\n",
        "# они и так самые добрые, вручную не стала выбирать\n",
        "for row in counter_df[\n",
        "           (counter_df['pos'] == 'ADVB')\n",
        "           & \n",
        "           (counter_df['word_len'] > 3)\n",
        "           &\n",
        "           (counter_df['count'] > 15)\n",
        "].itertuples():\n",
        "    freq_adverbs.append(row.word)\n",
        "\n",
        "freq_adverbs"
      ],
      "execution_count": null,
      "outputs": [
        {
          "output_type": "execute_result",
          "data": {
            "text/plain": [
              "['бесплатно',\n",
              " 'более',\n",
              " 'качественно',\n",
              " 'дорого',\n",
              " 'круглосуточно',\n",
              " 'быстро',\n",
              " 'всегда',\n",
              " 'недорого']"
            ]
          },
          "metadata": {
            "tags": []
          },
          "execution_count": 345
        }
      ]
    },
    {
      "cell_type": "code",
      "metadata": {
        "colab_type": "code",
        "id": "f_3u8kH7g385",
        "colab": {}
      },
      "source": [
        "data['8_adverbs'] = data['description'].apply(lambda x: len([word for word in normalize(x) if morph.parse(word)[0].normal_form in freq_adverbs]))"
      ],
      "execution_count": null,
      "outputs": []
    },
    {
      "cell_type": "code",
      "metadata": {
        "colab_type": "code",
        "id": "P81mvoJDg38_",
        "colab": {
          "base_uri": "https://localhost:8080/",
          "height": 410
        },
        "outputId": "b9a9edbe-2bd4-4003-fa86-339fcd52cd24"
      },
      "source": [
        "data.groupby(data['8_adverbs']).mean()"
      ],
      "execution_count": null,
      "outputs": [
        {
          "output_type": "execute_result",
          "data": {
            "text/html": [
              "<div>\n",
              "<style scoped>\n",
              "    .dataframe tbody tr th:only-of-type {\n",
              "        vertical-align: middle;\n",
              "    }\n",
              "\n",
              "    .dataframe tbody tr th {\n",
              "        vertical-align: top;\n",
              "    }\n",
              "\n",
              "    .dataframe thead th {\n",
              "        text-align: right;\n",
              "    }\n",
              "</style>\n",
              "<table border=\"1\" class=\"dataframe\">\n",
              "  <thead>\n",
              "    <tr style=\"text-align: right;\">\n",
              "      <th></th>\n",
              "      <th>price</th>\n",
              "      <th>item_seq_number</th>\n",
              "      <th>image_top_1</th>\n",
              "      <th>deal_probability</th>\n",
              "      <th>text_len</th>\n",
              "      <th>text_len_tokens</th>\n",
              "      <th>number_of_caps</th>\n",
              "      <th>number_of_nonalphanum</th>\n",
              "      <th>n_adverbs</th>\n",
              "      <th>8_adverbs</th>\n",
              "    </tr>\n",
              "    <tr>\n",
              "      <th>8_adverbs</th>\n",
              "      <th></th>\n",
              "      <th></th>\n",
              "      <th></th>\n",
              "      <th></th>\n",
              "      <th></th>\n",
              "      <th></th>\n",
              "      <th></th>\n",
              "      <th></th>\n",
              "      <th></th>\n",
              "      <th></th>\n",
              "    </tr>\n",
              "  </thead>\n",
              "  <tbody>\n",
              "    <tr>\n",
              "      <th>0</th>\n",
              "      <td>261300.896916</td>\n",
              "      <td>678.910080</td>\n",
              "      <td>1247.966579</td>\n",
              "      <td>0.144233</td>\n",
              "      <td>170.310058</td>\n",
              "      <td>24.080617</td>\n",
              "      <td>7.652658</td>\n",
              "      <td>34.585595</td>\n",
              "      <td>0.000000</td>\n",
              "      <td>0.0</td>\n",
              "    </tr>\n",
              "    <tr>\n",
              "      <th>1</th>\n",
              "      <td>519935.794877</td>\n",
              "      <td>2791.475567</td>\n",
              "      <td>1575.380627</td>\n",
              "      <td>0.168767</td>\n",
              "      <td>539.740550</td>\n",
              "      <td>75.317536</td>\n",
              "      <td>27.587682</td>\n",
              "      <td>119.715656</td>\n",
              "      <td>0.714549</td>\n",
              "      <td>1.0</td>\n",
              "    </tr>\n",
              "    <tr>\n",
              "      <th>2</th>\n",
              "      <td>318540.951351</td>\n",
              "      <td>2562.752984</td>\n",
              "      <td>1680.642558</td>\n",
              "      <td>0.184938</td>\n",
              "      <td>869.218549</td>\n",
              "      <td>122.458219</td>\n",
              "      <td>53.489440</td>\n",
              "      <td>209.057851</td>\n",
              "      <td>1.516070</td>\n",
              "      <td>2.0</td>\n",
              "    </tr>\n",
              "    <tr>\n",
              "      <th>3</th>\n",
              "      <td>115951.817121</td>\n",
              "      <td>1258.848993</td>\n",
              "      <td>1504.749064</td>\n",
              "      <td>0.232307</td>\n",
              "      <td>967.862416</td>\n",
              "      <td>138.124161</td>\n",
              "      <td>53.392617</td>\n",
              "      <td>217.087248</td>\n",
              "      <td>2.486577</td>\n",
              "      <td>3.0</td>\n",
              "    </tr>\n",
              "    <tr>\n",
              "      <th>4</th>\n",
              "      <td>129772.200000</td>\n",
              "      <td>1581.222222</td>\n",
              "      <td>2039.309278</td>\n",
              "      <td>0.087359</td>\n",
              "      <td>1367.151515</td>\n",
              "      <td>201.777778</td>\n",
              "      <td>95.808081</td>\n",
              "      <td>316.282828</td>\n",
              "      <td>1.585859</td>\n",
              "      <td>4.0</td>\n",
              "    </tr>\n",
              "    <tr>\n",
              "      <th>5</th>\n",
              "      <td>3565.294118</td>\n",
              "      <td>1933.611111</td>\n",
              "      <td>1763.666667</td>\n",
              "      <td>0.205311</td>\n",
              "      <td>1725.333333</td>\n",
              "      <td>241.111111</td>\n",
              "      <td>118.388889</td>\n",
              "      <td>512.000000</td>\n",
              "      <td>0.388889</td>\n",
              "      <td>5.0</td>\n",
              "    </tr>\n",
              "    <tr>\n",
              "      <th>6</th>\n",
              "      <td>27563.636364</td>\n",
              "      <td>244.250000</td>\n",
              "      <td>2607.000000</td>\n",
              "      <td>0.066667</td>\n",
              "      <td>1714.166667</td>\n",
              "      <td>239.166667</td>\n",
              "      <td>117.416667</td>\n",
              "      <td>426.250000</td>\n",
              "      <td>0.166667</td>\n",
              "      <td>6.0</td>\n",
              "    </tr>\n",
              "    <tr>\n",
              "      <th>7</th>\n",
              "      <td>190.000000</td>\n",
              "      <td>1221.500000</td>\n",
              "      <td>1200.000000</td>\n",
              "      <td>0.000000</td>\n",
              "      <td>2351.500000</td>\n",
              "      <td>335.500000</td>\n",
              "      <td>127.500000</td>\n",
              "      <td>591.500000</td>\n",
              "      <td>0.000000</td>\n",
              "      <td>7.0</td>\n",
              "    </tr>\n",
              "    <tr>\n",
              "      <th>17</th>\n",
              "      <td>21100.000000</td>\n",
              "      <td>241.000000</td>\n",
              "      <td>1152.000000</td>\n",
              "      <td>0.000000</td>\n",
              "      <td>2335.000000</td>\n",
              "      <td>320.000000</td>\n",
              "      <td>37.000000</td>\n",
              "      <td>480.000000</td>\n",
              "      <td>0.000000</td>\n",
              "      <td>17.0</td>\n",
              "    </tr>\n",
              "    <tr>\n",
              "      <th>36</th>\n",
              "      <td>23500.000000</td>\n",
              "      <td>250.000000</td>\n",
              "      <td>901.000000</td>\n",
              "      <td>0.000000</td>\n",
              "      <td>2605.000000</td>\n",
              "      <td>334.000000</td>\n",
              "      <td>34.000000</td>\n",
              "      <td>529.000000</td>\n",
              "      <td>0.000000</td>\n",
              "      <td>36.0</td>\n",
              "    </tr>\n",
              "  </tbody>\n",
              "</table>\n",
              "</div>"
            ],
            "text/plain": [
              "                   price  item_seq_number  ...  n_adverbs  8_adverbs\n",
              "8_adverbs                                  ...                      \n",
              "0          261300.896916       678.910080  ...   0.000000        0.0\n",
              "1          519935.794877      2791.475567  ...   0.714549        1.0\n",
              "2          318540.951351      2562.752984  ...   1.516070        2.0\n",
              "3          115951.817121      1258.848993  ...   2.486577        3.0\n",
              "4          129772.200000      1581.222222  ...   1.585859        4.0\n",
              "5            3565.294118      1933.611111  ...   0.388889        5.0\n",
              "6           27563.636364       244.250000  ...   0.166667        6.0\n",
              "7             190.000000      1221.500000  ...   0.000000        7.0\n",
              "17          21100.000000       241.000000  ...   0.000000       17.0\n",
              "36          23500.000000       250.000000  ...   0.000000       36.0\n",
              "\n",
              "[10 rows x 10 columns]"
            ]
          },
          "metadata": {
            "tags": []
          },
          "execution_count": 347
        }
      ]
    },
    {
      "cell_type": "code",
      "metadata": {
        "colab_type": "code",
        "id": "PkSDRmVxg39E",
        "colab": {
          "base_uri": "https://localhost:8080/",
          "height": 34
        },
        "outputId": "5d81493e-124a-48f4-d373-824b5692803f"
      },
      "source": [
        "data['8_adverbs'].corr(data['deal_probability'])"
      ],
      "execution_count": null,
      "outputs": [
        {
          "output_type": "execute_result",
          "data": {
            "text/plain": [
              "0.020438750639709086"
            ]
          },
          "metadata": {
            "tags": []
          },
          "execution_count": 349
        }
      ]
    },
    {
      "cell_type": "code",
      "metadata": {
        "colab_type": "code",
        "id": "oHCh3WJ_g39K",
        "colab": {}
      },
      "source": [
        "data.loc[data['8_adverbs'] > 3, '8_adverbs'] = 0"
      ],
      "execution_count": null,
      "outputs": []
    },
    {
      "cell_type": "code",
      "metadata": {
        "colab_type": "code",
        "id": "T8J_httEg39N",
        "colab": {
          "base_uri": "https://localhost:8080/",
          "height": 224
        },
        "outputId": "189e42ae-a582-4786-f806-8582ea822df4"
      },
      "source": [
        "data.groupby(data['8_adverbs']).mean()"
      ],
      "execution_count": null,
      "outputs": [
        {
          "output_type": "execute_result",
          "data": {
            "text/html": [
              "<div>\n",
              "<style scoped>\n",
              "    .dataframe tbody tr th:only-of-type {\n",
              "        vertical-align: middle;\n",
              "    }\n",
              "\n",
              "    .dataframe tbody tr th {\n",
              "        vertical-align: top;\n",
              "    }\n",
              "\n",
              "    .dataframe thead th {\n",
              "        text-align: right;\n",
              "    }\n",
              "</style>\n",
              "<table border=\"1\" class=\"dataframe\">\n",
              "  <thead>\n",
              "    <tr style=\"text-align: right;\">\n",
              "      <th></th>\n",
              "      <th>price</th>\n",
              "      <th>item_seq_number</th>\n",
              "      <th>image_top_1</th>\n",
              "      <th>deal_probability</th>\n",
              "      <th>text_len</th>\n",
              "      <th>text_len_tokens</th>\n",
              "      <th>number_of_caps</th>\n",
              "      <th>number_of_nonalphanum</th>\n",
              "      <th>n_adverbs</th>\n",
              "    </tr>\n",
              "    <tr>\n",
              "      <th>8_adverbs</th>\n",
              "      <th></th>\n",
              "      <th></th>\n",
              "      <th></th>\n",
              "      <th></th>\n",
              "      <th></th>\n",
              "      <th></th>\n",
              "      <th></th>\n",
              "      <th></th>\n",
              "      <th></th>\n",
              "    </tr>\n",
              "  </thead>\n",
              "  <tbody>\n",
              "    <tr>\n",
              "      <th>0</th>\n",
              "      <td>261138.703203</td>\n",
              "      <td>679.720632</td>\n",
              "      <td>1248.803370</td>\n",
              "      <td>0.144187</td>\n",
              "      <td>171.628930</td>\n",
              "      <td>24.272484</td>\n",
              "      <td>7.746158</td>\n",
              "      <td>34.913369</td>\n",
              "      <td>0.000000</td>\n",
              "    </tr>\n",
              "    <tr>\n",
              "      <th>1</th>\n",
              "      <td>519935.794877</td>\n",
              "      <td>2791.475567</td>\n",
              "      <td>1575.380627</td>\n",
              "      <td>0.168767</td>\n",
              "      <td>539.740550</td>\n",
              "      <td>75.317536</td>\n",
              "      <td>27.587682</td>\n",
              "      <td>119.715656</td>\n",
              "      <td>0.714549</td>\n",
              "    </tr>\n",
              "    <tr>\n",
              "      <th>2</th>\n",
              "      <td>318540.951351</td>\n",
              "      <td>2562.752984</td>\n",
              "      <td>1680.642558</td>\n",
              "      <td>0.184938</td>\n",
              "      <td>869.218549</td>\n",
              "      <td>122.458219</td>\n",
              "      <td>53.489440</td>\n",
              "      <td>209.057851</td>\n",
              "      <td>1.516070</td>\n",
              "    </tr>\n",
              "    <tr>\n",
              "      <th>3</th>\n",
              "      <td>115951.817121</td>\n",
              "      <td>1258.848993</td>\n",
              "      <td>1504.749064</td>\n",
              "      <td>0.232307</td>\n",
              "      <td>967.862416</td>\n",
              "      <td>138.124161</td>\n",
              "      <td>53.392617</td>\n",
              "      <td>217.087248</td>\n",
              "      <td>2.486577</td>\n",
              "    </tr>\n",
              "  </tbody>\n",
              "</table>\n",
              "</div>"
            ],
            "text/plain": [
              "                   price  item_seq_number  ...  number_of_nonalphanum  n_adverbs\n",
              "8_adverbs                                  ...                                  \n",
              "0          261138.703203       679.720632  ...              34.913369   0.000000\n",
              "1          519935.794877      2791.475567  ...             119.715656   0.714549\n",
              "2          318540.951351      2562.752984  ...             209.057851   1.516070\n",
              "3          115951.817121      1258.848993  ...             217.087248   2.486577\n",
              "\n",
              "[4 rows x 9 columns]"
            ]
          },
          "metadata": {
            "tags": []
          },
          "execution_count": 355
        }
      ]
    },
    {
      "cell_type": "code",
      "metadata": {
        "colab_type": "code",
        "id": "7tp-4YXSiEe7",
        "colab": {
          "base_uri": "https://localhost:8080/",
          "height": 34
        },
        "outputId": "7788028a-93dd-4783-f6bb-769d1c9061f3"
      },
      "source": [
        "data['8_adverbs'].corr(data['deal_probability'])"
      ],
      "execution_count": null,
      "outputs": [
        {
          "output_type": "execute_result",
          "data": {
            "text/plain": [
              "0.02674262531307089"
            ]
          },
          "metadata": {
            "tags": []
          },
          "execution_count": 356
        }
      ]
    },
    {
      "cell_type": "markdown",
      "metadata": {
        "id": "LtH5j18IHyIw",
        "colab_type": "text"
      },
      "source": [
        "## Попытки предсказать вероятность сделки по тексту описания"
      ]
    },
    {
      "cell_type": "code",
      "metadata": {
        "id": "pLZCkwzlafim",
        "colab_type": "code",
        "colab": {}
      },
      "source": [
        "# data.loc[0:,'normal_punct_count':].to_pickle('10_new_columns.pkl')  # where to save it, usually as a .pkl\n",
        "# new_columns_df = pd.read_pickle('10_new_columns.pkl')\n",
        "# data = pd.concat([data,new_columns_df], axis=1)"
      ],
      "execution_count": null,
      "outputs": []
    },
    {
      "cell_type": "code",
      "metadata": {
        "id": "0KMxHOhY7TQt",
        "colab_type": "code",
        "colab": {}
      },
      "source": [
        "# из семинара\n",
        "data['text_len'] = data['description'].apply(len)\n",
        "data['text_len_tokens'] = data['description'].apply(lambda x: len(x.split()))\n",
        "data['number_of_caps'] = data['description'].apply(lambda x: len([ch for ch in x if ch.isupper()]))\n",
        "data['number_of_nonalphanum'] = data['description'].apply(lambda x: len([ch for ch in x if not ch.isalnum()]))"
      ],
      "execution_count": null,
      "outputs": []
    },
    {
      "cell_type": "markdown",
      "metadata": {
        "id": "PlleIU5UJ6D1",
        "colab_type": "text"
      },
      "source": [
        "### 5 моих признаков"
      ]
    },
    {
      "cell_type": "code",
      "metadata": {
        "id": "hM_-m67rWgu1",
        "colab_type": "code",
        "colab": {}
      },
      "source": [
        "# количество слов на латинице к общему количеству слов\n",
        "data['latin_count'] = data['\\\n",
        "description'].apply(lambda x: len([word for word in normalize(x) if 'LATN' \\\n",
        "                                   in morph.parse(word)[0].tag]))\n",
        "\n",
        "# количество уникальных слов\n",
        "data['rare_words_count'] = data['description'].apply(\n",
        "    lambda x: len([word for word in normalize(x) \n",
        "    if len(counter_df[\n",
        "                      (counter_df['word'] == \n",
        "                       morph.parse(word)[0].normal_form)\n",
        "                       & (counter_df['count'] == 1)\n",
        "                       ]\n",
        "           ) == 1]))\n",
        "# # нормированное количество уникальных слов\n",
        "data['norm_rare_words_count'] = data.apply(lambda x: x['rare_words_count']\\\n",
        "                                           /x['text_len_tokens'], axis=1)\n",
        "\n",
        "# # количество прилагательных\n",
        "data['adjectives_count'] = data['\\\n",
        "description'].apply(lambda x: len([word for word in normalize(x) \\\n",
        "                                   if morph.parse(word)[0].tag.POS == ('ADJF' or 'ADJS')]))\n",
        "\n",
        "# # количество знаков препинания, нормированное на длину текста\n",
        "data['normal_punct_count'] = data['\\\n",
        "description'].apply(lambda x: len([ch for ch in x \\\n",
        "                                   if ch in punctuation])/len(x))\n",
        "\n",
        "# # средняя длина предложения в токенах\n",
        "data['sent_len'] = data['\\\n",
        "description'].apply(lambda x: sum([len(normalize(sent)) for sent \\\n",
        "                                   in sent_tokenize(x)])/len(sent_tokenize(x)))"
      ],
      "execution_count": null,
      "outputs": []
    },
    {
      "cell_type": "code",
      "metadata": {
        "colab_type": "code",
        "id": "Q-fNHPQXMvUH",
        "colab": {}
      },
      "source": [
        "# col_names = ['text_len', 'text_len_tokens', 'number_of_caps', 'number_of_nonalphanum']\n",
        "# for col_name in col_names:\n",
        "#   print (col_name, data[col_name].corr(data['deal_probability']))"
      ],
      "execution_count": null,
      "outputs": []
    },
    {
      "cell_type": "code",
      "metadata": {
        "id": "YK_mDQ1N7TQx",
        "colab_type": "code",
        "colab": {
          "base_uri": "https://localhost:8080/",
          "height": 33
        },
        "outputId": "0696b056-a194-4238-9524-01d9ad3697cd"
      },
      "source": [
        "col_names = 'latin_count norm_rare_words_count \\\n",
        "adjectives_count normal_punct_count sent_len'.split()\n",
        "for col in ['text_len', 'text_len_tokens', \n",
        "            'number_of_caps', 'number_of_nonalphanum']:\n",
        "  col_names.append(col)\n",
        "X = data[col_names].values\n",
        "y = data.deal_probability.values\n",
        "X.shape"
      ],
      "execution_count": null,
      "outputs": [
        {
          "output_type": "execute_result",
          "data": {
            "text/plain": [
              "(138715, 9)"
            ]
          },
          "metadata": {
            "tags": []
          },
          "execution_count": 170
        }
      ]
    },
    {
      "cell_type": "markdown",
      "metadata": {
        "id": "FxaNq5nOGicz",
        "colab_type": "text"
      },
      "source": [
        "Обучение на 5 новых колонках и на 5 колонках с семинара:"
      ]
    },
    {
      "cell_type": "code",
      "metadata": {
        "id": "6GlutZLr7TQ2",
        "colab_type": "code",
        "colab": {}
      },
      "source": [
        "X_train, X_test, y_train, y_test = train_test_split(X, y, random_state=42)"
      ],
      "execution_count": null,
      "outputs": []
    },
    {
      "cell_type": "code",
      "metadata": {
        "id": "Fgj3F72q7TQ4",
        "colab_type": "code",
        "colab": {
          "base_uri": "https://localhost:8080/",
          "height": 33
        },
        "outputId": "7aa62375-53c1-4b0a-f0c9-ade0e1e47926"
      },
      "source": [
        "regressor = Ridge(alpha=1)\n",
        "regressor.fit(X_train, y_train)\n",
        "preds = regressor.predict(X_test)\n",
        "np.sqrt(mean_squared_error(y_test, preds))"
      ],
      "execution_count": null,
      "outputs": [
        {
          "output_type": "execute_result",
          "data": {
            "text/plain": [
              "0.26302796466849976"
            ]
          },
          "metadata": {
            "tags": []
          },
          "execution_count": 172
        }
      ]
    },
    {
      "cell_type": "code",
      "metadata": {
        "colab_type": "code",
        "id": "vrGmfRp0I4hx",
        "colab": {
          "base_uri": "https://localhost:8080/",
          "height": 33
        },
        "outputId": "a3a5c19d-7276-4870-f954-b04cddf7732d"
      },
      "source": [
        "regressor = Lasso(alpha=1)\n",
        "regressor.fit(X_train, y_train)\n",
        "preds = regressor.predict(X_test)\n",
        "mean_absolute_error(y_test, preds)"
      ],
      "execution_count": null,
      "outputs": [
        {
          "output_type": "execute_result",
          "data": {
            "text/plain": [
              "0.1956687769437188"
            ]
          },
          "metadata": {
            "tags": []
          },
          "execution_count": 173
        }
      ]
    },
    {
      "cell_type": "markdown",
      "metadata": {
        "id": "8Q2BMdyE7TQ7",
        "colab_type": "text"
      },
      "source": [
        "*Побробуйте подобрать параметры векторизатора (TfidfVectorizer или CountVectorizer, или обоих) и параметры алгоритма так, чтобы качество, которое у нас получилось (0.248) улучшилось. Опишите то, что попробовали.*"
      ]
    },
    {
      "cell_type": "code",
      "metadata": {
        "id": "cNqUA9Sk7TQ-",
        "colab_type": "code",
        "colab": {}
      },
      "source": [
        "cv = CountVectorizer(max_features=2000, min_df=20, max_df=0.4, ngram_range=(1,1))\n",
        "X = cv.fit_transform(data.description)\n",
        "y = data.deal_probability.values"
      ],
      "execution_count": null,
      "outputs": []
    },
    {
      "cell_type": "code",
      "metadata": {
        "id": "ErPXl2wzsi1m",
        "colab_type": "code",
        "colab": {}
      },
      "source": [
        "# cv.get_feature_names()"
      ],
      "execution_count": null,
      "outputs": []
    },
    {
      "cell_type": "code",
      "metadata": {
        "id": "rH-5wN8T7TRE",
        "colab_type": "code",
        "colab": {}
      },
      "source": [
        "X_train, X_test, y_train, y_test = train_test_split(X, y, random_state=42)"
      ],
      "execution_count": null,
      "outputs": []
    },
    {
      "cell_type": "code",
      "metadata": {
        "id": "2XIZQzg87TRG",
        "colab_type": "code",
        "colab": {
          "base_uri": "https://localhost:8080/",
          "height": 34
        },
        "outputId": "2c2da641-9548-4675-cfc3-f88abed74da1"
      },
      "source": [
        "regressor = Ridge(alpha=10)\n",
        "regressor.fit(X_train, y_train)\n",
        "preds = regressor.predict(X_test)\n",
        "np.sqrt(mean_squared_error(y_test, preds))\n",
        "\n",
        "# ngram_range=(1,2)\n",
        "# CountVectorizer(max_features=1000 - 0.2512515450632489\n",
        "# CountVectorizer(max_features=2000 - 0.25090102061975766\n",
        "# CountVectorizer(max_features=3000 - 0.25091653581703155\n",
        "\n",
        "# ngram_range=(2,3)\n",
        "# CountVectorizer(max_features=3000 - 0.2548935910465992\n",
        "# CountVectorizer(max_features=2000 - 0.25493479345179293\n",
        "\n",
        "# ngram_range=(1,1) - 0.2507790649081902\n",
        "# max_features=2000\n",
        "\n",
        "# ngram_range=(1,1)\n",
        "# max_features=2000\n",
        "# min_df=20 - 0.25077530130898984"
      ],
      "execution_count": null,
      "outputs": [
        {
          "output_type": "execute_result",
          "data": {
            "text/plain": [
              "0.25077530130898984"
            ]
          },
          "metadata": {
            "tags": []
          },
          "execution_count": 69
        }
      ]
    },
    {
      "cell_type": "code",
      "metadata": {
        "id": "RFg2Qu-97TRO",
        "colab_type": "code",
        "colab": {}
      },
      "source": [
        "cv = TfidfVectorizer(max_features=1500, min_df=5, max_df=0.4)\n",
        "X = cv.fit_transform(data.description)\n",
        "y = data.deal_probability.values\n",
        "\n",
        "# 0.24837197234438146 alpha=1 1000 features\n",
        "# 0.24808644386195344 alpha=11 1000 features"
      ],
      "execution_count": null,
      "outputs": []
    },
    {
      "cell_type": "code",
      "metadata": {
        "id": "9fXEm3MW7TRQ",
        "colab_type": "code",
        "colab": {}
      },
      "source": [
        "X_train, X_test, y_train, y_test = train_test_split(X, y, random_state=42)"
      ],
      "execution_count": null,
      "outputs": []
    },
    {
      "cell_type": "code",
      "metadata": {
        "id": "92VmA2el7TRT",
        "colab_type": "code",
        "colab": {
          "base_uri": "https://localhost:8080/",
          "height": 34
        },
        "outputId": "3774ed61-f0c4-4f94-8075-f51c67de01db"
      },
      "source": [
        "regressor = Ridge(alpha=11) #1\n",
        "regressor.fit(X_train, y_train)\n",
        "preds = regressor.predict(X_test)\n",
        "np.sqrt(mean_squared_error(y_test, preds))"
      ],
      "execution_count": null,
      "outputs": [
        {
          "output_type": "execute_result",
          "data": {
            "text/plain": [
              "0.24808644386195344"
            ]
          },
          "metadata": {
            "tags": []
          },
          "execution_count": 15
        }
      ]
    },
    {
      "cell_type": "code",
      "metadata": {
        "id": "zRc7xHP57TRb",
        "colab_type": "code",
        "colab": {
          "base_uri": "https://localhost:8080/",
          "height": 34
        },
        "outputId": "4dd379cb-3c07-478b-fc27-4516075dfb61"
      },
      "source": [
        "regressor = SGDRegressor(max_iter=100, alpha=0.00001)\n",
        "regressor.fit(X_train, y_train)\n",
        "preds = regressor.predict(X_test)\n",
        "np.sqrt(mean_squared_error(y_test, preds))\n",
        "#max_iter=10"
      ],
      "execution_count": null,
      "outputs": [
        {
          "output_type": "execute_result",
          "data": {
            "text/plain": [
              "0.2524151319031154"
            ]
          },
          "metadata": {
            "tags": []
          },
          "execution_count": 153
        }
      ]
    },
    {
      "cell_type": "markdown",
      "metadata": {
        "id": "WDWIkhYcHk3o",
        "colab_type": "text"
      },
      "source": [
        "### Описание того, что попробовала"
      ]
    },
    {
      "cell_type": "markdown",
      "metadata": {
        "id": "p_KLYSQVJvkw",
        "colab_type": "text"
      },
      "source": [
        "Взяла все объявления с deal_probability равным единице. Сделала частотник их словаря.\n",
        "\n",
        "Придумала признаки:\n",
        "\n",
        "\n",
        "1.   количество токенов на латинице - тег LATN в пайморфи.\n",
        "\n",
        "2.   доля редких слов - счётчик слова равен единице\n",
        "\n",
        "3.   количество прилагательных - теги ADJF и ADJS в пайморфи\n",
        "\n",
        "4.   доля символов, которые относятся к пунктуации\n",
        "\n",
        "5.   средняя длина предложения в токенах\n",
        "\n",
        "**Я не считаю, что эти признаки должны показывать вероятность покупки. Но всё равно попробую это доказать:**\n",
        "\n",
        "1.   Большое количество токенов на латинице должно смутить потенциального покупателя - лет ми спик фром май харт, не всем людям такие токены что-то говорят. Или, по-другому: токены на латинице (при условии, что они имеют отношение к товару и услуге) говорят о том, что продавец ответственно подошёл к описанию. Например, указал модель кухонной техники. Так, более понятным и заслуживающим доверия, чем просто \"чайник\", может выглядеть объявление \"чайник Melissa\".\n",
        "2.   Доля редких слов может указывать либо на то, продавец добавил в описание лишнюю информацию. Редкие несловарные слова могут появиться из-за нарушений правил правописания, что могло бы уменьшить вероятность сделки с привередливым покупателем.\n",
        "3.   Количество прилагательных, возможно, говорит о том, насколько продавец постарался расхвалить товар. ОТЛИЧНЫЙ КОМПАКТНЫЙ МОЩНЫЙ КРАСИВЫЙ ЧАЙНИК, предположительно, увеличит вероятность сделки с доверчивым покупателем.\n",
        "4.   Доля пунктуационных знаков может говорить о том, насколько корректно продавец использует пунктуацию. Объявление из 1000 символов, в котором нет ни одной точки или запятой, настораживает. С другой стороны, большая доля пунктуации может свидетельствовать лишь о любви продавца к восклицательным знакам!!!!!!!!!!!!!!!!\n",
        "5.   Средняя длина предложения в токенах также, предположительно, может что-то говорить о том, как построен текст. Если предложения очень длинные, такой текст может быть сложен для понимания, и тем самым, возможно, отпугнёт занятого покупателя, который хотел бы быстро узнать всё необходимое о товаре.\n",
        "\n",
        "Качество модели, обученной по этим пяти признакам, незначительно хуже качества модели, обученной по исходным четырём."
      ]
    },
    {
      "cell_type": "markdown",
      "metadata": {
        "id": "1uLoSD_tjz6A",
        "colab_type": "text"
      },
      "source": [
        "# Trash"
      ]
    },
    {
      "cell_type": "code",
      "metadata": {
        "id": "V5uh0UGnCc4w",
        "colab_type": "code",
        "colab": {
          "base_uri": "https://localhost:8080/",
          "height": 77
        },
        "outputId": "b3dd0cb0-9d02-415e-a634-63b8561055dc"
      },
      "source": [
        "weather_hist.loc[:0, :'temp']"
      ],
      "execution_count": null,
      "outputs": [
        {
          "output_type": "execute_result",
          "data": {
            "text/html": [
              "<div>\n",
              "<style scoped>\n",
              "    .dataframe tbody tr th:only-of-type {\n",
              "        vertical-align: middle;\n",
              "    }\n",
              "\n",
              "    .dataframe tbody tr th {\n",
              "        vertical-align: top;\n",
              "    }\n",
              "\n",
              "    .dataframe thead th {\n",
              "        text-align: right;\n",
              "    }\n",
              "</style>\n",
              "<table border=\"1\" class=\"dataframe\">\n",
              "  <thead>\n",
              "    <tr style=\"text-align: right;\">\n",
              "      <th></th>\n",
              "      <th>date</th>\n",
              "      <th>Summary</th>\n",
              "      <th>weather_type</th>\n",
              "      <th>temp</th>\n",
              "    </tr>\n",
              "  </thead>\n",
              "  <tbody>\n",
              "    <tr>\n",
              "      <th>0</th>\n",
              "      <td>2006-03-31 22:00:00+00:00</td>\n",
              "      <td>Partly Cloudy</td>\n",
              "      <td>rain</td>\n",
              "      <td>9.472222</td>\n",
              "    </tr>\n",
              "  </tbody>\n",
              "</table>\n",
              "</div>"
            ],
            "text/plain": [
              "                       date        Summary weather_type      temp\n",
              "0 2006-03-31 22:00:00+00:00  Partly Cloudy         rain  9.472222"
            ]
          },
          "metadata": {
            "tags": []
          },
          "execution_count": 93
        }
      ]
    },
    {
      "cell_type": "code",
      "metadata": {
        "id": "6ELmYZPwCo8U",
        "colab_type": "code",
        "colab": {
          "base_uri": "https://localhost:8080/",
          "height": 94
        },
        "outputId": "1362967c-62b4-40c8-89e8-1bfab0adabed"
      },
      "source": [
        "weather_hist.iloc[0:1, 1:]"
      ],
      "execution_count": null,
      "outputs": [
        {
          "output_type": "execute_result",
          "data": {
            "text/html": [
              "<div>\n",
              "<style scoped>\n",
              "    .dataframe tbody tr th:only-of-type {\n",
              "        vertical-align: middle;\n",
              "    }\n",
              "\n",
              "    .dataframe tbody tr th {\n",
              "        vertical-align: top;\n",
              "    }\n",
              "\n",
              "    .dataframe thead th {\n",
              "        text-align: right;\n",
              "    }\n",
              "</style>\n",
              "<table border=\"1\" class=\"dataframe\">\n",
              "  <thead>\n",
              "    <tr style=\"text-align: right;\">\n",
              "      <th></th>\n",
              "      <th>Summary</th>\n",
              "      <th>weather_type</th>\n",
              "      <th>temp</th>\n",
              "      <th>temp_app</th>\n",
              "      <th>humidity</th>\n",
              "      <th>wind_speed</th>\n",
              "      <th>summary</th>\n",
              "      <th>visibility</th>\n",
              "      <th>wind_bearing</th>\n",
              "      <th>pressure</th>\n",
              "    </tr>\n",
              "  </thead>\n",
              "  <tbody>\n",
              "    <tr>\n",
              "      <th>0</th>\n",
              "      <td>Partly Cloudy</td>\n",
              "      <td>rain</td>\n",
              "      <td>9.472222</td>\n",
              "      <td>7.388889</td>\n",
              "      <td>0.89</td>\n",
              "      <td>14.1197</td>\n",
              "      <td>Partly cloudy throughout the day.</td>\n",
              "      <td>15.8263</td>\n",
              "      <td>251.0</td>\n",
              "      <td>1015.13</td>\n",
              "    </tr>\n",
              "  </tbody>\n",
              "</table>\n",
              "</div>"
            ],
            "text/plain": [
              "         Summary weather_type      temp  ...  visibility  wind_bearing  pressure\n",
              "0  Partly Cloudy         rain  9.472222  ...     15.8263         251.0   1015.13\n",
              "\n",
              "[1 rows x 10 columns]"
            ]
          },
          "metadata": {
            "tags": []
          },
          "execution_count": 91
        }
      ]
    },
    {
      "cell_type": "markdown",
      "metadata": {
        "id": "U6ubnHJw-b_w",
        "colab_type": "text"
      },
      "source": [
        "###Статистики с семинара"
      ]
    },
    {
      "cell_type": "markdown",
      "metadata": {
        "id": "Ew7Q5qNm7TM8",
        "colab_type": "text"
      },
      "source": [
        "Посмотреть все колонки датасета можно вот так"
      ]
    },
    {
      "cell_type": "code",
      "metadata": {
        "id": "5qZ2QMdx4XBW",
        "colab_type": "code",
        "colab": {}
      },
      "source": [
        "weather_hist.describe(include=['object'])\n",
        "weather_hist.info()\n",
        "weather_hist['date'].value_counts()\n",
        "# метод corr считает корреляцию всех колонок со всеми (острожнее, если у вас большой датасет)\n",
        "weather_hist.corr()"
      ],
      "execution_count": null,
      "outputs": []
    },
    {
      "cell_type": "markdown",
      "metadata": {
        "id": "msj1IIBK7TNp",
        "colab_type": "text"
      },
      "source": [
        "Для наглядности можно нарисовать тепловую карту."
      ]
    },
    {
      "cell_type": "code",
      "metadata": {
        "id": "cNIe3LR67TNv",
        "colab_type": "code",
        "colab": {}
      },
      "source": [
        "import seaborn as sns\n",
        "import matplotlib.pyplot as plt\n",
        "%matplotlib inline"
      ],
      "execution_count": null,
      "outputs": []
    },
    {
      "cell_type": "code",
      "metadata": {
        "id": "-XpGGk1K7TN3",
        "colab_type": "code",
        "colab": {
          "base_uri": "https://localhost:8080/",
          "height": 337
        },
        "outputId": "7ab3ac8f-7b5e-4205-82c5-0296995ff2f0"
      },
      "source": [
        "\n",
        "fig, ax = plt.subplots(figsize=(10,5))\n",
        "sns.heatmap(data=weather_hist.corr(), \n",
        "            annot=True, ax=ax)\n",
        "plt.title(\"Корреляция\")\n",
        "plt.show()"
      ],
      "execution_count": null,
      "outputs": [
        {
          "output_type": "display_data",
          "data": {
            "image/png": "[encoded data removed]",
            "text/plain": [
              "<Figure size 720x360 with 2 Axes>"
            ]
          },
          "metadata": {
            "tags": []
          }
        }
      ]
    },
    {
      "cell_type": "markdown",
      "metadata": {
        "id": "ts5--JpY7TN7",
        "colab_type": "text"
      },
      "source": [
        "Ещё можно нарисовать ящик с усами для каждой из колонок, чтобы посмотреть, нет ли в данных выбросов:"
      ]
    },
    {
      "cell_type": "code",
      "metadata": {
        "id": "wxtz-m967TN7",
        "colab_type": "code",
        "colab": {
          "base_uri": "https://localhost:8080/",
          "height": 266
        },
        "outputId": "19842bf5-3fba-4f0b-88bb-0117ef8f9fb8"
      },
      "source": [
        "ax = sns.boxplot(data=weather_hist[['temp', 'temp_app']])"
      ],
      "execution_count": null,
      "outputs": [
        {
          "output_type": "display_data",
          "data": {
            "image/png": "[encoded data removed]",
            "text/plain": [
              "<Figure size 432x288 with 1 Axes>"
            ]
          },
          "metadata": {
            "tags": []
          }
        }
      ]
    }
  ]
}